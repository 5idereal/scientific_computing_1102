{
 "cells": [
  {
   "cell_type": "markdown",
   "id": "3f3e932f",
   "metadata": {
    "id": "wmD19iyJeY-l",
    "papermill": {
     "duration": 0.179918,
     "end_time": "2022-06-16T02:05:40.480091",
     "exception": false,
     "start_time": "2022-06-16T02:05:40.300173",
     "status": "completed"
    },
    "tags": []
   },
   "source": [
    "# 3/3"
   ]
  },
  {
   "cell_type": "code",
   "execution_count": 1,
   "id": "57e9de2c",
   "metadata": {
    "execution": {
     "iopub.execute_input": "2022-06-16T02:05:40.843258Z",
     "iopub.status.busy": "2022-06-16T02:05:40.841960Z",
     "iopub.status.idle": "2022-06-16T02:05:40.845770Z",
     "shell.execute_reply": "2022-06-16T02:05:40.846269Z",
     "shell.execute_reply.started": "2022-06-16T01:20:51.012084Z"
    },
    "papermill": {
     "duration": 0.185716,
     "end_time": "2022-06-16T02:05:40.846535",
     "exception": false,
     "start_time": "2022-06-16T02:05:40.660819",
     "status": "completed"
    },
    "tags": []
   },
   "outputs": [],
   "source": [
    "# fstring"
   ]
  },
  {
   "cell_type": "code",
   "execution_count": 2,
   "id": "db1facee",
   "metadata": {
    "execution": {
     "iopub.execute_input": "2022-06-16T02:05:41.201371Z",
     "iopub.status.busy": "2022-06-16T02:05:41.200690Z",
     "iopub.status.idle": "2022-06-16T02:05:41.209077Z",
     "shell.execute_reply": "2022-06-16T02:05:41.209560Z",
     "shell.execute_reply.started": "2022-06-16T01:20:51.030170Z"
    },
    "id": "fTD_SRljVuOY",
    "papermill": {
     "duration": 0.187017,
     "end_time": "2022-06-16T02:05:41.209741",
     "exception": false,
     "start_time": "2022-06-16T02:05:41.022724",
     "status": "completed"
    },
    "tags": []
   },
   "outputs": [],
   "source": [
    "def cal_price_cost(k_cost):\n",
    "  rate = 0.03    # 其實是1 韓圓 等於0.023 新臺幣\n",
    "  nt_cost = k_cost * rate\n",
    "  inc = 0.2    # 定價高於成本的比例\n",
    "  nt_price = nt_cost * (1 + inc)\n",
    "  return {'k_cost': k_cost, 'nt_cost':nt_cost, 'nt_price':nt_price}"
   ]
  },
  {
   "cell_type": "code",
   "execution_count": 3,
   "id": "7d006a47",
   "metadata": {
    "execution": {
     "iopub.execute_input": "2022-06-16T02:05:41.557986Z",
     "iopub.status.busy": "2022-06-16T02:05:41.557346Z",
     "iopub.status.idle": "2022-06-16T02:05:41.563356Z",
     "shell.execute_reply": "2022-06-16T02:05:41.562915Z",
     "shell.execute_reply.started": "2022-06-16T01:20:51.047425Z"
    },
    "id": "kFGr1DBPdArm",
    "outputId": "9f116d81-c624-4f89-852e-837dbcf6572d",
    "papermill": {
     "duration": 0.182607,
     "end_time": "2022-06-16T02:05:41.563472",
     "exception": false,
     "start_time": "2022-06-16T02:05:41.380865",
     "status": "completed"
    },
    "tags": []
   },
   "outputs": [
    {
     "name": "stdout",
     "output_type": "stream",
     "text": [
      "[{'k_cost': 30000, 'nt_cost': 900.0, 'nt_price': 1080.0}, {'k_cost': 45000, 'nt_cost': 1350.0, 'nt_price': 1620.0}, {'k_cost': 50000, 'nt_cost': 1500.0, 'nt_price': 1800.0}]\n"
     ]
    }
   ],
   "source": [
    "list_k_cost = [30000,500,45000,50000]\n",
    "list_results = []\n",
    "for k_cost in list_k_cost:\n",
    "  if k_cost > 10000:\n",
    "    data = cal_price_cost(k_cost)\n",
    "    list_results.append(data)\n",
    "print(list_results)\n"
   ]
  },
  {
   "cell_type": "code",
   "execution_count": 4,
   "id": "a333f036",
   "metadata": {
    "execution": {
     "iopub.execute_input": "2022-06-16T02:05:41.918836Z",
     "iopub.status.busy": "2022-06-16T02:05:41.918187Z",
     "iopub.status.idle": "2022-06-16T02:05:41.924380Z",
     "shell.execute_reply": "2022-06-16T02:05:41.924965Z",
     "shell.execute_reply.started": "2022-06-16T01:20:51.065476Z"
    },
    "id": "DUlUy2CPeRle",
    "outputId": "b40aa57e-7495-4b73-ee22-4c5a3f6ef68f",
    "papermill": {
     "duration": 0.18588,
     "end_time": "2022-06-16T02:05:41.925125",
     "exception": false,
     "start_time": "2022-06-16T02:05:41.739245",
     "status": "completed"
    },
    "tags": []
   },
   "outputs": [
    {
     "data": {
      "text/plain": [
       "[{'k_cost': 30000, 'nt_cost': 900.0, 'nt_price': 1080.0},\n",
       " {'k_cost': 45000, 'nt_cost': 1350.0, 'nt_price': 1620.0},\n",
       " {'k_cost': 50000, 'nt_cost': 1500.0, 'nt_price': 1800.0}]"
      ]
     },
     "execution_count": 4,
     "metadata": {},
     "output_type": "execute_result"
    }
   ],
   "source": [
    "list_results"
   ]
  },
  {
   "cell_type": "markdown",
   "id": "6188a338",
   "metadata": {
    "id": "R6jUQczn6IGp",
    "papermill": {
     "duration": 0.175451,
     "end_time": "2022-06-16T02:05:42.277412",
     "exception": false,
     "start_time": "2022-06-16T02:05:42.101961",
     "status": "completed"
    },
    "tags": []
   },
   "source": [
    "# 3/8"
   ]
  },
  {
   "cell_type": "code",
   "execution_count": 5,
   "id": "693d5095",
   "metadata": {
    "execution": {
     "iopub.execute_input": "2022-06-16T02:05:42.629286Z",
     "iopub.status.busy": "2022-06-16T02:05:42.628693Z",
     "iopub.status.idle": "2022-06-16T02:05:42.646108Z",
     "shell.execute_reply": "2022-06-16T02:05:42.646738Z",
     "shell.execute_reply.started": "2022-06-16T01:20:51.083712Z"
    },
    "id": "sYfPvNWX6Vio",
    "outputId": "54502a5b-5bae-431e-f377-739765d119e1",
    "papermill": {
     "duration": 0.195052,
     "end_time": "2022-06-16T02:05:42.646908",
     "exception": false,
     "start_time": "2022-06-16T02:05:42.451856",
     "status": "completed"
    },
    "tags": []
   },
   "outputs": [
    {
     "data": {
      "text/html": [
       "<div>\n",
       "<style scoped>\n",
       "    .dataframe tbody tr th:only-of-type {\n",
       "        vertical-align: middle;\n",
       "    }\n",
       "\n",
       "    .dataframe tbody tr th {\n",
       "        vertical-align: top;\n",
       "    }\n",
       "\n",
       "    .dataframe thead th {\n",
       "        text-align: right;\n",
       "    }\n",
       "</style>\n",
       "<table border=\"1\" class=\"dataframe\">\n",
       "  <thead>\n",
       "    <tr style=\"text-align: right;\">\n",
       "      <th></th>\n",
       "      <th>Math</th>\n",
       "      <th>English</th>\n",
       "      <th>Chemistry</th>\n",
       "    </tr>\n",
       "  </thead>\n",
       "  <tbody>\n",
       "    <tr>\n",
       "      <th>0</th>\n",
       "      <td>88</td>\n",
       "      <td>76</td>\n",
       "      <td>71</td>\n",
       "    </tr>\n",
       "    <tr>\n",
       "      <th>1</th>\n",
       "      <td>66</td>\n",
       "      <td>84</td>\n",
       "      <td>64</td>\n",
       "    </tr>\n",
       "    <tr>\n",
       "      <th>2</th>\n",
       "      <td>77</td>\n",
       "      <td>91</td>\n",
       "      <td>48</td>\n",
       "    </tr>\n",
       "    <tr>\n",
       "      <th>3</th>\n",
       "      <td>100</td>\n",
       "      <td>100</td>\n",
       "      <td>100</td>\n",
       "    </tr>\n",
       "  </tbody>\n",
       "</table>\n",
       "</div>"
      ],
      "text/plain": [
       "   Math  English  Chemistry\n",
       "0    88       76         71\n",
       "1    66       84         64\n",
       "2    77       91         48\n",
       "3   100      100        100"
      ]
     },
     "execution_count": 5,
     "metadata": {},
     "output_type": "execute_result"
    }
   ],
   "source": [
    "import pandas as pd\n",
    "scores = {'Math': [88,66,77,100],'English':[76,84,91,100],'Chemistry':[71,64,48,100]}\n",
    "df = pd.DataFrame(scores)\n",
    "df"
   ]
  },
  {
   "cell_type": "code",
   "execution_count": 6,
   "id": "ad70cfb1",
   "metadata": {
    "execution": {
     "iopub.execute_input": "2022-06-16T02:05:43.004345Z",
     "iopub.status.busy": "2022-06-16T02:05:43.003757Z",
     "iopub.status.idle": "2022-06-16T02:05:43.011956Z",
     "shell.execute_reply": "2022-06-16T02:05:43.012441Z",
     "shell.execute_reply.started": "2022-06-16T01:20:51.123499Z"
    },
    "id": "mOIFydPiCA1f",
    "outputId": "0eb3a255-f2c5-452b-bb3c-a26082582284",
    "papermill": {
     "duration": 0.190375,
     "end_time": "2022-06-16T02:05:43.012615",
     "exception": false,
     "start_time": "2022-06-16T02:05:42.822240",
     "status": "completed"
    },
    "tags": []
   },
   "outputs": [
    {
     "name": "stdout",
     "output_type": "stream",
     "text": [
      "0     88\n",
      "1     66\n",
      "2     77\n",
      "3    100\n",
      "Name: Math, dtype: int64\n",
      "<class 'pandas.core.series.Series'>\n"
     ]
    }
   ],
   "source": [
    "print(df['Math'])\n",
    "print(type(df['Math']))"
   ]
  },
  {
   "cell_type": "code",
   "execution_count": 7,
   "id": "628570d8",
   "metadata": {
    "execution": {
     "iopub.execute_input": "2022-06-16T02:05:43.362652Z",
     "iopub.status.busy": "2022-06-16T02:05:43.362006Z",
     "iopub.status.idle": "2022-06-16T02:05:43.369913Z",
     "shell.execute_reply": "2022-06-16T02:05:43.370423Z",
     "shell.execute_reply.started": "2022-06-16T01:20:51.141694Z"
    },
    "id": "WYDTWotICHcH",
    "outputId": "5204c763-37f4-461b-e879-d6015990aa57",
    "papermill": {
     "duration": 0.184219,
     "end_time": "2022-06-16T02:05:43.370607",
     "exception": false,
     "start_time": "2022-06-16T02:05:43.186388",
     "status": "completed"
    },
    "tags": []
   },
   "outputs": [
    {
     "data": {
      "text/html": [
       "<div>\n",
       "<style scoped>\n",
       "    .dataframe tbody tr th:only-of-type {\n",
       "        vertical-align: middle;\n",
       "    }\n",
       "\n",
       "    .dataframe tbody tr th {\n",
       "        vertical-align: top;\n",
       "    }\n",
       "\n",
       "    .dataframe thead th {\n",
       "        text-align: right;\n",
       "    }\n",
       "</style>\n",
       "<table border=\"1\" class=\"dataframe\">\n",
       "  <thead>\n",
       "    <tr style=\"text-align: right;\">\n",
       "      <th></th>\n",
       "      <th>Math</th>\n",
       "      <th>English</th>\n",
       "      <th>Chemistry</th>\n",
       "    </tr>\n",
       "  </thead>\n",
       "  <tbody>\n",
       "    <tr>\n",
       "      <th>May</th>\n",
       "      <td>88</td>\n",
       "      <td>76</td>\n",
       "      <td>71</td>\n",
       "    </tr>\n",
       "    <tr>\n",
       "      <th>John</th>\n",
       "      <td>66</td>\n",
       "      <td>84</td>\n",
       "      <td>64</td>\n",
       "    </tr>\n",
       "    <tr>\n",
       "      <th>Tom</th>\n",
       "      <td>77</td>\n",
       "      <td>91</td>\n",
       "      <td>48</td>\n",
       "    </tr>\n",
       "    <tr>\n",
       "      <th>Alice</th>\n",
       "      <td>100</td>\n",
       "      <td>100</td>\n",
       "      <td>100</td>\n",
       "    </tr>\n",
       "  </tbody>\n",
       "</table>\n",
       "</div>"
      ],
      "text/plain": [
       "       Math  English  Chemistry\n",
       "May      88       76         71\n",
       "John     66       84         64\n",
       "Tom      77       91         48\n",
       "Alice   100      100        100"
      ]
     },
     "execution_count": 7,
     "metadata": {},
     "output_type": "execute_result"
    }
   ],
   "source": [
    "df.index = ['May','John','Tom','Alice']\n",
    "df"
   ]
  },
  {
   "cell_type": "code",
   "execution_count": 8,
   "id": "dc43139a",
   "metadata": {
    "execution": {
     "iopub.execute_input": "2022-06-16T02:05:43.717249Z",
     "iopub.status.busy": "2022-06-16T02:05:43.716702Z",
     "iopub.status.idle": "2022-06-16T02:05:43.720314Z",
     "shell.execute_reply": "2022-06-16T02:05:43.720921Z",
     "shell.execute_reply.started": "2022-06-16T01:20:51.162711Z"
    },
    "id": "BRnL8nSBCYM4",
    "outputId": "d0435810-e1fd-4e7f-ef62-16806e857d91",
    "papermill": {
     "duration": 0.177991,
     "end_time": "2022-06-16T02:05:43.721065",
     "exception": false,
     "start_time": "2022-06-16T02:05:43.543074",
     "status": "completed"
    },
    "tags": []
   },
   "outputs": [],
   "source": [
    "scores2 = {'Math': [88,66,77,100],'English':[76,84,91,100],'Chemistry':[71,64,48,100]}"
   ]
  },
  {
   "cell_type": "markdown",
   "id": "07a4ea5e",
   "metadata": {
    "id": "mFqmFStaCAlg",
    "papermill": {
     "duration": 0.177311,
     "end_time": "2022-06-16T02:05:44.071751",
     "exception": false,
     "start_time": "2022-06-16T02:05:43.894440",
     "status": "completed"
    },
    "tags": []
   },
   "source": []
  },
  {
   "cell_type": "markdown",
   "id": "f16c96d6",
   "metadata": {
    "id": "mmULOPlqegKF",
    "papermill": {
     "duration": 0.174139,
     "end_time": "2022-06-16T02:05:44.419883",
     "exception": false,
     "start_time": "2022-06-16T02:05:44.245744",
     "status": "completed"
    },
    "tags": []
   },
   "source": [
    "# 3/10"
   ]
  },
  {
   "cell_type": "code",
   "execution_count": 9,
   "id": "1693c03d",
   "metadata": {
    "execution": {
     "iopub.execute_input": "2022-06-16T02:05:44.770756Z",
     "iopub.status.busy": "2022-06-16T02:05:44.770123Z",
     "iopub.status.idle": "2022-06-16T02:05:44.774282Z",
     "shell.execute_reply": "2022-06-16T02:05:44.774856Z",
     "shell.execute_reply.started": "2022-06-16T01:20:51.178433Z"
    },
    "id": "noUt6Ge0MaZh",
    "outputId": "63f07a6a-642d-4fa6-93b3-707991bdb7f8",
    "papermill": {
     "duration": 0.180516,
     "end_time": "2022-06-16T02:05:44.775016",
     "exception": false,
     "start_time": "2022-06-16T02:05:44.594500",
     "status": "completed"
    },
    "tags": []
   },
   "outputs": [
    {
     "data": {
      "text/plain": [
       "3"
      ]
     },
     "execution_count": 9,
     "metadata": {},
     "output_type": "execute_result"
    }
   ],
   "source": [
    "len(df.columns)"
   ]
  },
  {
   "cell_type": "code",
   "execution_count": 10,
   "id": "0300c4ad",
   "metadata": {
    "execution": {
     "iopub.execute_input": "2022-06-16T02:05:45.135820Z",
     "iopub.status.busy": "2022-06-16T02:05:45.135184Z",
     "iopub.status.idle": "2022-06-16T02:05:45.140053Z",
     "shell.execute_reply": "2022-06-16T02:05:45.140577Z",
     "shell.execute_reply.started": "2022-06-16T01:20:51.199628Z"
    },
    "id": "7biZwA9yQU3w",
    "outputId": "4ee24521-4904-4e14-b416-73dc71fbdb5b",
    "papermill": {
     "duration": 0.186093,
     "end_time": "2022-06-16T02:05:45.140765",
     "exception": false,
     "start_time": "2022-06-16T02:05:44.954672",
     "status": "completed"
    },
    "tags": []
   },
   "outputs": [
    {
     "data": {
      "text/plain": [
       "12"
      ]
     },
     "execution_count": 10,
     "metadata": {},
     "output_type": "execute_result"
    }
   ],
   "source": [
    "df.size"
   ]
  },
  {
   "cell_type": "code",
   "execution_count": 11,
   "id": "e6dadb4a",
   "metadata": {
    "execution": {
     "iopub.execute_input": "2022-06-16T02:05:45.500095Z",
     "iopub.status.busy": "2022-06-16T02:05:45.499447Z",
     "iopub.status.idle": "2022-06-16T02:05:45.504537Z",
     "shell.execute_reply": "2022-06-16T02:05:45.505126Z",
     "shell.execute_reply.started": "2022-06-16T01:20:51.210367Z"
    },
    "id": "WySsq8HFQWsg",
    "outputId": "66384d55-698b-492a-dbab-7ef4949bd2ef",
    "papermill": {
     "duration": 0.187291,
     "end_time": "2022-06-16T02:05:45.505294",
     "exception": false,
     "start_time": "2022-06-16T02:05:45.318003",
     "status": "completed"
    },
    "tags": []
   },
   "outputs": [
    {
     "data": {
      "text/plain": [
       "(4, 3)"
      ]
     },
     "execution_count": 11,
     "metadata": {},
     "output_type": "execute_result"
    }
   ],
   "source": [
    "df.shape"
   ]
  },
  {
   "cell_type": "code",
   "execution_count": 12,
   "id": "671606df",
   "metadata": {
    "execution": {
     "iopub.execute_input": "2022-06-16T02:05:45.862379Z",
     "iopub.status.busy": "2022-06-16T02:05:45.861821Z",
     "iopub.status.idle": "2022-06-16T02:05:45.867540Z",
     "shell.execute_reply": "2022-06-16T02:05:45.868170Z",
     "shell.execute_reply.started": "2022-06-16T01:20:51.225326Z"
    },
    "id": "3KAXnS6zSkpX",
    "outputId": "356574c9-22b1-4728-a70a-79bbaedfa58c",
    "papermill": {
     "duration": 0.184221,
     "end_time": "2022-06-16T02:05:45.868335",
     "exception": false,
     "start_time": "2022-06-16T02:05:45.684114",
     "status": "completed"
    },
    "tags": []
   },
   "outputs": [
    {
     "data": {
      "text/plain": [
       "0    1\n",
       "1    2\n",
       "2    3\n",
       "dtype: int64"
      ]
     },
     "execution_count": 12,
     "metadata": {},
     "output_type": "execute_result"
    }
   ],
   "source": [
    "s=pd.Series([1,2,3])\n",
    "s"
   ]
  },
  {
   "cell_type": "code",
   "execution_count": 13,
   "id": "d9ae9480",
   "metadata": {
    "execution": {
     "iopub.execute_input": "2022-06-16T02:05:46.226178Z",
     "iopub.status.busy": "2022-06-16T02:05:46.225575Z",
     "iopub.status.idle": "2022-06-16T02:05:46.229913Z",
     "shell.execute_reply": "2022-06-16T02:05:46.230470Z",
     "shell.execute_reply.started": "2022-06-16T01:20:51.239931Z"
    },
    "id": "CQcwcjZFSqNv",
    "outputId": "d9b979f8-8358-4edb-d576-cd65b6ad3c77",
    "papermill": {
     "duration": 0.184957,
     "end_time": "2022-06-16T02:05:46.230660",
     "exception": false,
     "start_time": "2022-06-16T02:05:46.045703",
     "status": "completed"
    },
    "tags": []
   },
   "outputs": [
    {
     "data": {
      "text/plain": [
       "(3,)"
      ]
     },
     "execution_count": 13,
     "metadata": {},
     "output_type": "execute_result"
    }
   ],
   "source": [
    "s.shape"
   ]
  },
  {
   "cell_type": "code",
   "execution_count": 14,
   "id": "76d0fa51",
   "metadata": {
    "execution": {
     "iopub.execute_input": "2022-06-16T02:05:46.593485Z",
     "iopub.status.busy": "2022-06-16T02:05:46.592889Z",
     "iopub.status.idle": "2022-06-16T02:05:46.597963Z",
     "shell.execute_reply": "2022-06-16T02:05:46.598509Z",
     "shell.execute_reply.started": "2022-06-16T01:20:51.256552Z"
    },
    "id": "1HtogZzXUu1v",
    "outputId": "4af5b532-2cc9-4697-94b8-7ba54fecd85e",
    "papermill": {
     "duration": 0.187862,
     "end_time": "2022-06-16T02:05:46.598715",
     "exception": false,
     "start_time": "2022-06-16T02:05:46.410853",
     "status": "completed"
    },
    "tags": []
   },
   "outputs": [
    {
     "data": {
      "text/plain": [
       "(3, 1)"
      ]
     },
     "execution_count": 14,
     "metadata": {},
     "output_type": "execute_result"
    }
   ],
   "source": [
    "df = pd.DataFrame(s)\n",
    "df.shape"
   ]
  },
  {
   "cell_type": "code",
   "execution_count": 15,
   "id": "63b1597d",
   "metadata": {
    "execution": {
     "iopub.execute_input": "2022-06-16T02:05:46.969873Z",
     "iopub.status.busy": "2022-06-16T02:05:46.969211Z",
     "iopub.status.idle": "2022-06-16T02:05:46.974024Z",
     "shell.execute_reply": "2022-06-16T02:05:46.974593Z",
     "shell.execute_reply.started": "2022-06-16T01:20:51.270783Z"
    },
    "id": "l6-X6d-XU_aQ",
    "outputId": "d0e0d261-5648-483d-cb57-4f01170e8ac1",
    "papermill": {
     "duration": 0.18924,
     "end_time": "2022-06-16T02:05:46.974764",
     "exception": false,
     "start_time": "2022-06-16T02:05:46.785524",
     "status": "completed"
    },
    "tags": []
   },
   "outputs": [
    {
     "data": {
      "text/plain": [
       "(1, 3)"
      ]
     },
     "execution_count": 15,
     "metadata": {},
     "output_type": "execute_result"
    }
   ],
   "source": [
    "df2 = df.T\n",
    "df2.shape"
   ]
  },
  {
   "cell_type": "code",
   "execution_count": 16,
   "id": "f66e1768",
   "metadata": {
    "execution": {
     "iopub.execute_input": "2022-06-16T02:05:47.341880Z",
     "iopub.status.busy": "2022-06-16T02:05:47.341279Z",
     "iopub.status.idle": "2022-06-16T02:05:47.344556Z",
     "shell.execute_reply": "2022-06-16T02:05:47.345138Z",
     "shell.execute_reply.started": "2022-06-16T01:20:51.285346Z"
    },
    "id": "ynV91aHaauu_",
    "papermill": {
     "duration": 0.187711,
     "end_time": "2022-06-16T02:05:47.345287",
     "exception": false,
     "start_time": "2022-06-16T02:05:47.157576",
     "status": "completed"
    },
    "tags": []
   },
   "outputs": [],
   "source": [
    "import numpy as np\n",
    "\n",
    "np_a = np.array([1,2,3])          "
   ]
  },
  {
   "cell_type": "code",
   "execution_count": 17,
   "id": "83fb86f7",
   "metadata": {
    "execution": {
     "iopub.execute_input": "2022-06-16T02:05:47.752349Z",
     "iopub.status.busy": "2022-06-16T02:05:47.751618Z",
     "iopub.status.idle": "2022-06-16T02:05:47.754713Z",
     "shell.execute_reply": "2022-06-16T02:05:47.755440Z",
     "shell.execute_reply.started": "2022-06-16T01:20:51.295814Z"
    },
    "id": "_LuO8F2Geji3",
    "outputId": "0f6045de-ca05-4fe1-fead-35b414d1e80f",
    "papermill": {
     "duration": 0.213282,
     "end_time": "2022-06-16T02:05:47.755674",
     "exception": false,
     "start_time": "2022-06-16T02:05:47.542392",
     "status": "completed"
    },
    "tags": []
   },
   "outputs": [
    {
     "data": {
      "text/plain": [
       "(3,)"
      ]
     },
     "execution_count": 17,
     "metadata": {},
     "output_type": "execute_result"
    }
   ],
   "source": [
    "np_a.shape"
   ]
  },
  {
   "cell_type": "code",
   "execution_count": 18,
   "id": "2b12e1d8",
   "metadata": {
    "execution": {
     "iopub.execute_input": "2022-06-16T02:05:48.151990Z",
     "iopub.status.busy": "2022-06-16T02:05:48.151037Z",
     "iopub.status.idle": "2022-06-16T02:05:48.156338Z",
     "shell.execute_reply": "2022-06-16T02:05:48.156935Z",
     "shell.execute_reply.started": "2022-06-16T01:20:51.312201Z"
    },
    "id": "Kjb0RFD6ek3x",
    "outputId": "9e925b67-bf1f-4def-9a3a-28bd4964c76a",
    "papermill": {
     "duration": 0.191924,
     "end_time": "2022-06-16T02:05:48.157091",
     "exception": false,
     "start_time": "2022-06-16T02:05:47.965167",
     "status": "completed"
    },
    "tags": []
   },
   "outputs": [
    {
     "data": {
      "text/plain": [
       "array([[1],\n",
       "       [2],\n",
       "       [3]])"
      ]
     },
     "execution_count": 18,
     "metadata": {},
     "output_type": "execute_result"
    }
   ],
   "source": [
    "np_b = np_a.reshape(3,1)\n",
    "np_b"
   ]
  },
  {
   "cell_type": "code",
   "execution_count": 19,
   "id": "e63f329a",
   "metadata": {
    "execution": {
     "iopub.execute_input": "2022-06-16T02:05:48.526261Z",
     "iopub.status.busy": "2022-06-16T02:05:48.525343Z",
     "iopub.status.idle": "2022-06-16T02:05:48.530198Z",
     "shell.execute_reply": "2022-06-16T02:05:48.530765Z",
     "shell.execute_reply.started": "2022-06-16T01:20:51.328567Z"
    },
    "id": "HCXkIIANelBB",
    "outputId": "02978add-e332-477b-fda2-85fab3a8995e",
    "papermill": {
     "duration": 0.191828,
     "end_time": "2022-06-16T02:05:48.530940",
     "exception": false,
     "start_time": "2022-06-16T02:05:48.339112",
     "status": "completed"
    },
    "tags": []
   },
   "outputs": [
    {
     "data": {
      "text/plain": [
       "(3, 1)"
      ]
     },
     "execution_count": 19,
     "metadata": {},
     "output_type": "execute_result"
    }
   ],
   "source": [
    "np_b.shape"
   ]
  },
  {
   "cell_type": "code",
   "execution_count": 20,
   "id": "532f4db7",
   "metadata": {
    "execution": {
     "iopub.execute_input": "2022-06-16T02:05:48.904347Z",
     "iopub.status.busy": "2022-06-16T02:05:48.903422Z",
     "iopub.status.idle": "2022-06-16T02:05:48.909510Z",
     "shell.execute_reply": "2022-06-16T02:05:48.910125Z",
     "shell.execute_reply.started": "2022-06-16T01:20:51.341976Z"
    },
    "id": "hKJ-qCL_elEZ",
    "outputId": "4f33df25-fd3f-4be8-9700-dc23c9fd89e2",
    "papermill": {
     "duration": 0.197622,
     "end_time": "2022-06-16T02:05:48.910286",
     "exception": false,
     "start_time": "2022-06-16T02:05:48.712664",
     "status": "completed"
    },
    "tags": []
   },
   "outputs": [
    {
     "data": {
      "text/plain": [
       "array([[1, 2, 3]])"
      ]
     },
     "execution_count": 20,
     "metadata": {},
     "output_type": "execute_result"
    }
   ],
   "source": [
    "np_t = np_b.reshape(1,-1)\n",
    "np_t"
   ]
  },
  {
   "cell_type": "code",
   "execution_count": 21,
   "id": "9d3d7172",
   "metadata": {
    "execution": {
     "iopub.execute_input": "2022-06-16T02:05:49.282581Z",
     "iopub.status.busy": "2022-06-16T02:05:49.281566Z",
     "iopub.status.idle": "2022-06-16T02:05:49.286934Z",
     "shell.execute_reply": "2022-06-16T02:05:49.287508Z",
     "shell.execute_reply.started": "2022-06-16T01:20:51.362749Z"
    },
    "id": "fx0k-KxJewgg",
    "outputId": "8c544dcf-0138-44aa-e2fd-963c3847af11",
    "papermill": {
     "duration": 0.193345,
     "end_time": "2022-06-16T02:05:49.287692",
     "exception": false,
     "start_time": "2022-06-16T02:05:49.094347",
     "status": "completed"
    },
    "tags": []
   },
   "outputs": [
    {
     "data": {
      "text/plain": [
       "(1, 3)"
      ]
     },
     "execution_count": 21,
     "metadata": {},
     "output_type": "execute_result"
    }
   ],
   "source": [
    "np_t.shape"
   ]
  },
  {
   "cell_type": "markdown",
   "id": "f5f740fb",
   "metadata": {
    "id": "wViskNl9i9Vf",
    "papermill": {
     "duration": 0.182195,
     "end_time": "2022-06-16T02:05:49.653887",
     "exception": false,
     "start_time": "2022-06-16T02:05:49.471692",
     "status": "completed"
    },
    "tags": []
   },
   "source": [
    "*Ita*\n",
    "\n",
    "**Bold**\n",
    "\n",
    "***Bold+Ita***\n",
    "\n",
    "> This is a QUOTE\n",
    "\n",
    "* 1\n",
    "* 2\n",
    "* 3\n"
   ]
  },
  {
   "cell_type": "markdown",
   "id": "301ce2a6",
   "metadata": {
    "id": "UBUUZimOU7Vp",
    "papermill": {
     "duration": 0.190143,
     "end_time": "2022-06-16T02:05:50.028630",
     "exception": false,
     "start_time": "2022-06-16T02:05:49.838487",
     "status": "completed"
    },
    "tags": []
   },
   "source": [
    "# 3/15"
   ]
  },
  {
   "cell_type": "code",
   "execution_count": 22,
   "id": "691f57ea",
   "metadata": {
    "execution": {
     "iopub.execute_input": "2022-06-16T02:05:50.399480Z",
     "iopub.status.busy": "2022-06-16T02:05:50.398630Z",
     "iopub.status.idle": "2022-06-16T02:05:50.404608Z",
     "shell.execute_reply": "2022-06-16T02:05:50.405172Z",
     "shell.execute_reply.started": "2022-06-16T01:20:51.378929Z"
    },
    "id": "ADAAPrNv8fjL",
    "outputId": "ce888f82-39be-4e3b-d471-210cc2c2cfb7",
    "papermill": {
     "duration": 0.192635,
     "end_time": "2022-06-16T02:05:50.405342",
     "exception": false,
     "start_time": "2022-06-16T02:05:50.212707",
     "status": "completed"
    },
    "tags": []
   },
   "outputs": [
    {
     "data": {
      "text/plain": [
       "array([[2345,  245,  224],\n",
       "       [  43, 3434,    1]])"
      ]
     },
     "execution_count": 22,
     "metadata": {},
     "output_type": "execute_result"
    }
   ],
   "source": [
    "import numpy as np\n",
    "np_c = np.array([[2345,245,224],[43,3434,1]])\n",
    "np_c"
   ]
  },
  {
   "cell_type": "code",
   "execution_count": 23,
   "id": "ce09ea60",
   "metadata": {
    "execution": {
     "iopub.execute_input": "2022-06-16T02:05:50.781225Z",
     "iopub.status.busy": "2022-06-16T02:05:50.780440Z",
     "iopub.status.idle": "2022-06-16T02:05:50.783617Z",
     "shell.execute_reply": "2022-06-16T02:05:50.784105Z",
     "shell.execute_reply.started": "2022-06-16T01:20:51.394981Z"
    },
    "id": "E3rvFjta-Iu6",
    "outputId": "560634dc-457d-4442-872c-3744efef1045",
    "papermill": {
     "duration": 0.194334,
     "end_time": "2022-06-16T02:05:50.784264",
     "exception": false,
     "start_time": "2022-06-16T02:05:50.589930",
     "status": "completed"
    },
    "tags": []
   },
   "outputs": [
    {
     "data": {
      "text/plain": [
       "array([2345,  245,  224,   43, 3434,    1])"
      ]
     },
     "execution_count": 23,
     "metadata": {},
     "output_type": "execute_result"
    }
   ],
   "source": [
    "np_c.reshape(-1)"
   ]
  },
  {
   "cell_type": "code",
   "execution_count": 24,
   "id": "68b1bc33",
   "metadata": {
    "execution": {
     "iopub.execute_input": "2022-06-16T02:05:51.182590Z",
     "iopub.status.busy": "2022-06-16T02:05:51.181993Z",
     "iopub.status.idle": "2022-06-16T02:05:51.186687Z",
     "shell.execute_reply": "2022-06-16T02:05:51.187228Z",
     "shell.execute_reply.started": "2022-06-16T01:20:51.408819Z"
    },
    "id": "eHpNx6cu-LVK",
    "outputId": "96de4f23-c463-410e-d9d0-8976c6fea636",
    "papermill": {
     "duration": 0.192174,
     "end_time": "2022-06-16T02:05:51.187375",
     "exception": false,
     "start_time": "2022-06-16T02:05:50.995201",
     "status": "completed"
    },
    "tags": []
   },
   "outputs": [
    {
     "data": {
      "text/plain": [
       "(6,)"
      ]
     },
     "execution_count": 24,
     "metadata": {},
     "output_type": "execute_result"
    }
   ],
   "source": [
    "np_c.reshape(-1).shape"
   ]
  },
  {
   "cell_type": "code",
   "execution_count": 25,
   "id": "589d0569",
   "metadata": {
    "execution": {
     "iopub.execute_input": "2022-06-16T02:05:51.553356Z",
     "iopub.status.busy": "2022-06-16T02:05:51.552774Z",
     "iopub.status.idle": "2022-06-16T02:05:51.557375Z",
     "shell.execute_reply": "2022-06-16T02:05:51.557929Z",
     "shell.execute_reply.started": "2022-06-16T01:20:51.424146Z"
    },
    "id": "34voP90E-Toj",
    "outputId": "be7c8a69-b6a7-4883-fb22-28d7668518e5",
    "papermill": {
     "duration": 0.190335,
     "end_time": "2022-06-16T02:05:51.558078",
     "exception": false,
     "start_time": "2022-06-16T02:05:51.367743",
     "status": "completed"
    },
    "tags": []
   },
   "outputs": [
    {
     "data": {
      "text/plain": [
       "array([[2345,  245,  224],\n",
       "       [  43, 3434,    1]])"
      ]
     },
     "execution_count": 25,
     "metadata": {},
     "output_type": "execute_result"
    }
   ],
   "source": [
    "np_c"
   ]
  },
  {
   "cell_type": "code",
   "execution_count": 26,
   "id": "34943e44",
   "metadata": {
    "execution": {
     "iopub.execute_input": "2022-06-16T02:05:51.930836Z",
     "iopub.status.busy": "2022-06-16T02:05:51.930208Z",
     "iopub.status.idle": "2022-06-16T02:05:51.934385Z",
     "shell.execute_reply": "2022-06-16T02:05:51.934914Z",
     "shell.execute_reply.started": "2022-06-16T01:20:51.438084Z"
    },
    "id": "foG2aMgr-Rbj",
    "outputId": "66cad63e-fb32-4359-ead1-47e7f949112e",
    "papermill": {
     "duration": 0.190615,
     "end_time": "2022-06-16T02:05:51.935090",
     "exception": false,
     "start_time": "2022-06-16T02:05:51.744475",
     "status": "completed"
    },
    "tags": []
   },
   "outputs": [
    {
     "data": {
      "text/plain": [
       "array([2345,  245,  224,   43, 3434,    1])"
      ]
     },
     "execution_count": 26,
     "metadata": {},
     "output_type": "execute_result"
    }
   ],
   "source": [
    "np_c.ravel()"
   ]
  },
  {
   "cell_type": "code",
   "execution_count": 27,
   "id": "422412e3",
   "metadata": {
    "execution": {
     "iopub.execute_input": "2022-06-16T02:05:52.316068Z",
     "iopub.status.busy": "2022-06-16T02:05:52.315377Z",
     "iopub.status.idle": "2022-06-16T02:05:52.317953Z",
     "shell.execute_reply": "2022-06-16T02:05:52.318419Z",
     "shell.execute_reply.started": "2022-06-16T01:20:51.453167Z"
    },
    "id": "N13chpd4-iVL",
    "outputId": "38fc6371-6417-4c7b-c64b-5dfa35b906fc",
    "papermill": {
     "duration": 0.194287,
     "end_time": "2022-06-16T02:05:52.318704",
     "exception": false,
     "start_time": "2022-06-16T02:05:52.124417",
     "status": "completed"
    },
    "tags": []
   },
   "outputs": [
    {
     "data": {
      "text/plain": [
       "(6,)"
      ]
     },
     "execution_count": 27,
     "metadata": {},
     "output_type": "execute_result"
    }
   ],
   "source": [
    "np_c.ravel().shape"
   ]
  },
  {
   "cell_type": "code",
   "execution_count": 28,
   "id": "9035d56d",
   "metadata": {
    "execution": {
     "iopub.execute_input": "2022-06-16T02:05:52.701424Z",
     "iopub.status.busy": "2022-06-16T02:05:52.691690Z",
     "iopub.status.idle": "2022-06-16T02:05:52.704268Z",
     "shell.execute_reply": "2022-06-16T02:05:52.704882Z",
     "shell.execute_reply.started": "2022-06-16T01:20:51.474255Z"
    },
    "id": "7rVKpyNSBZeQ",
    "outputId": "258095c2-4b8f-4681-be85-b7bbb4810d3e",
    "papermill": {
     "duration": 0.201246,
     "end_time": "2022-06-16T02:05:52.705060",
     "exception": false,
     "start_time": "2022-06-16T02:05:52.503814",
     "status": "completed"
    },
    "tags": []
   },
   "outputs": [
    {
     "data": {
      "text/html": [
       "<div>\n",
       "<style scoped>\n",
       "    .dataframe tbody tr th:only-of-type {\n",
       "        vertical-align: middle;\n",
       "    }\n",
       "\n",
       "    .dataframe tbody tr th {\n",
       "        vertical-align: top;\n",
       "    }\n",
       "\n",
       "    .dataframe thead th {\n",
       "        text-align: right;\n",
       "    }\n",
       "</style>\n",
       "<table border=\"1\" class=\"dataframe\">\n",
       "  <thead>\n",
       "    <tr style=\"text-align: right;\">\n",
       "      <th></th>\n",
       "      <th>Math</th>\n",
       "      <th>English</th>\n",
       "      <th>Chemistry</th>\n",
       "    </tr>\n",
       "  </thead>\n",
       "  <tbody>\n",
       "    <tr>\n",
       "      <th>May</th>\n",
       "      <td>8.0</td>\n",
       "      <td>76</td>\n",
       "      <td>71</td>\n",
       "    </tr>\n",
       "    <tr>\n",
       "      <th>John</th>\n",
       "      <td>NaN</td>\n",
       "      <td>84</td>\n",
       "      <td>64</td>\n",
       "    </tr>\n",
       "    <tr>\n",
       "      <th>Tom</th>\n",
       "      <td>77.0</td>\n",
       "      <td>91</td>\n",
       "      <td>48</td>\n",
       "    </tr>\n",
       "    <tr>\n",
       "      <th>Alice</th>\n",
       "      <td>100.0</td>\n",
       "      <td>100</td>\n",
       "      <td>100</td>\n",
       "    </tr>\n",
       "  </tbody>\n",
       "</table>\n",
       "</div>"
      ],
      "text/plain": [
       "        Math  English  Chemistry\n",
       "May      8.0       76         71\n",
       "John     NaN       84         64\n",
       "Tom     77.0       91         48\n",
       "Alice  100.0      100        100"
      ]
     },
     "execution_count": 28,
     "metadata": {},
     "output_type": "execute_result"
    }
   ],
   "source": [
    "import pandas as pd\n",
    "df = pd.DataFrame({'Math': [8,np.nan,77,100],'English':[76,84,91,100],'Chemistry':[71,64,48,100]})\n",
    "df.index = ['May','John','Tom','Alice']\n",
    "df"
   ]
  },
  {
   "cell_type": "code",
   "execution_count": 29,
   "id": "c7020d48",
   "metadata": {
    "execution": {
     "iopub.execute_input": "2022-06-16T02:05:53.082709Z",
     "iopub.status.busy": "2022-06-16T02:05:53.081783Z",
     "iopub.status.idle": "2022-06-16T02:05:53.091344Z",
     "shell.execute_reply": "2022-06-16T02:05:53.091952Z",
     "shell.execute_reply.started": "2022-06-16T01:20:51.493303Z"
    },
    "id": "uK3_s7p6CJIA",
    "outputId": "fe60ecea-4490-4b74-8031-9e233f089fca",
    "papermill": {
     "duration": 0.199905,
     "end_time": "2022-06-16T02:05:53.092126",
     "exception": false,
     "start_time": "2022-06-16T02:05:52.892221",
     "status": "completed"
    },
    "tags": []
   },
   "outputs": [
    {
     "data": {
      "text/html": [
       "<div>\n",
       "<style scoped>\n",
       "    .dataframe tbody tr th:only-of-type {\n",
       "        vertical-align: middle;\n",
       "    }\n",
       "\n",
       "    .dataframe tbody tr th {\n",
       "        vertical-align: top;\n",
       "    }\n",
       "\n",
       "    .dataframe thead th {\n",
       "        text-align: right;\n",
       "    }\n",
       "</style>\n",
       "<table border=\"1\" class=\"dataframe\">\n",
       "  <thead>\n",
       "    <tr style=\"text-align: right;\">\n",
       "      <th></th>\n",
       "      <th>Math</th>\n",
       "      <th>English</th>\n",
       "      <th>Chemistry</th>\n",
       "    </tr>\n",
       "  </thead>\n",
       "  <tbody>\n",
       "    <tr>\n",
       "      <th>May</th>\n",
       "      <td>False</td>\n",
       "      <td>False</td>\n",
       "      <td>False</td>\n",
       "    </tr>\n",
       "    <tr>\n",
       "      <th>John</th>\n",
       "      <td>True</td>\n",
       "      <td>False</td>\n",
       "      <td>False</td>\n",
       "    </tr>\n",
       "    <tr>\n",
       "      <th>Tom</th>\n",
       "      <td>False</td>\n",
       "      <td>False</td>\n",
       "      <td>False</td>\n",
       "    </tr>\n",
       "    <tr>\n",
       "      <th>Alice</th>\n",
       "      <td>False</td>\n",
       "      <td>False</td>\n",
       "      <td>False</td>\n",
       "    </tr>\n",
       "  </tbody>\n",
       "</table>\n",
       "</div>"
      ],
      "text/plain": [
       "        Math  English  Chemistry\n",
       "May    False    False      False\n",
       "John    True    False      False\n",
       "Tom    False    False      False\n",
       "Alice  False    False      False"
      ]
     },
     "execution_count": 29,
     "metadata": {},
     "output_type": "execute_result"
    }
   ],
   "source": [
    "df.isnull()"
   ]
  },
  {
   "cell_type": "code",
   "execution_count": 30,
   "id": "bf91c4a5",
   "metadata": {
    "execution": {
     "iopub.execute_input": "2022-06-16T02:05:53.468416Z",
     "iopub.status.busy": "2022-06-16T02:05:53.467473Z",
     "iopub.status.idle": "2022-06-16T02:05:53.474836Z",
     "shell.execute_reply": "2022-06-16T02:05:53.475380Z",
     "shell.execute_reply.started": "2022-06-16T01:20:51.519729Z"
    },
    "id": "FjWNpnfbCMEI",
    "outputId": "7a0af440-9c2a-4b06-ec48-54536b281ad3",
    "papermill": {
     "duration": 0.196315,
     "end_time": "2022-06-16T02:05:53.475544",
     "exception": false,
     "start_time": "2022-06-16T02:05:53.279229",
     "status": "completed"
    },
    "tags": []
   },
   "outputs": [
    {
     "data": {
      "text/plain": [
       "Math         1\n",
       "English      0\n",
       "Chemistry    0\n",
       "dtype: int64"
      ]
     },
     "execution_count": 30,
     "metadata": {},
     "output_type": "execute_result"
    }
   ],
   "source": [
    "df.isnull().sum()"
   ]
  },
  {
   "cell_type": "code",
   "execution_count": 31,
   "id": "3cdbf53d",
   "metadata": {
    "execution": {
     "iopub.execute_input": "2022-06-16T02:05:53.851711Z",
     "iopub.status.busy": "2022-06-16T02:05:53.850765Z",
     "iopub.status.idle": "2022-06-16T02:05:53.857447Z",
     "shell.execute_reply": "2022-06-16T02:05:53.857972Z",
     "shell.execute_reply.started": "2022-06-16T01:20:51.536414Z"
    },
    "id": "6XKULOIBCOz3",
    "outputId": "10acded1-c8f3-431e-af55-8a1af831c963",
    "papermill": {
     "duration": 0.195677,
     "end_time": "2022-06-16T02:05:53.858123",
     "exception": false,
     "start_time": "2022-06-16T02:05:53.662446",
     "status": "completed"
    },
    "tags": []
   },
   "outputs": [
    {
     "data": {
      "text/plain": [
       "1"
      ]
     },
     "execution_count": 31,
     "metadata": {},
     "output_type": "execute_result"
    }
   ],
   "source": [
    "df.isnull().sum().sum()"
   ]
  },
  {
   "cell_type": "code",
   "execution_count": 32,
   "id": "149fa557",
   "metadata": {
    "execution": {
     "iopub.execute_input": "2022-06-16T02:05:54.237238Z",
     "iopub.status.busy": "2022-06-16T02:05:54.236307Z",
     "iopub.status.idle": "2022-06-16T02:05:54.243218Z",
     "shell.execute_reply": "2022-06-16T02:05:54.243751Z",
     "shell.execute_reply.started": "2022-06-16T01:20:51.548074Z"
    },
    "id": "BqVSm1LlDLst",
    "outputId": "0232e862-719c-4b79-bd79-5fb769efd311",
    "papermill": {
     "duration": 0.198072,
     "end_time": "2022-06-16T02:05:54.243908",
     "exception": false,
     "start_time": "2022-06-16T02:05:54.045836",
     "status": "completed"
    },
    "tags": []
   },
   "outputs": [
    {
     "data": {
      "text/plain": [
       "May      False\n",
       "John      True\n",
       "Tom      False\n",
       "Alice    False\n",
       "dtype: bool"
      ]
     },
     "execution_count": 32,
     "metadata": {},
     "output_type": "execute_result"
    }
   ],
   "source": [
    "df.isnull().any(axis=1)"
   ]
  },
  {
   "cell_type": "code",
   "execution_count": 33,
   "id": "bf46311d",
   "metadata": {
    "execution": {
     "iopub.execute_input": "2022-06-16T02:05:54.620304Z",
     "iopub.status.busy": "2022-06-16T02:05:54.619396Z",
     "iopub.status.idle": "2022-06-16T02:05:54.631702Z",
     "shell.execute_reply": "2022-06-16T02:05:54.632289Z",
     "shell.execute_reply.started": "2022-06-16T01:20:51.567829Z"
    },
    "id": "Wpldsr5fFdbP",
    "outputId": "07ce4d9a-0deb-4d32-89af-2910bd3017c6",
    "papermill": {
     "duration": 0.203751,
     "end_time": "2022-06-16T02:05:54.632471",
     "exception": false,
     "start_time": "2022-06-16T02:05:54.428720",
     "status": "completed"
    },
    "tags": []
   },
   "outputs": [
    {
     "data": {
      "text/html": [
       "<div>\n",
       "<style scoped>\n",
       "    .dataframe tbody tr th:only-of-type {\n",
       "        vertical-align: middle;\n",
       "    }\n",
       "\n",
       "    .dataframe tbody tr th {\n",
       "        vertical-align: top;\n",
       "    }\n",
       "\n",
       "    .dataframe thead th {\n",
       "        text-align: right;\n",
       "    }\n",
       "</style>\n",
       "<table border=\"1\" class=\"dataframe\">\n",
       "  <thead>\n",
       "    <tr style=\"text-align: right;\">\n",
       "      <th></th>\n",
       "      <th>Math</th>\n",
       "      <th>English</th>\n",
       "      <th>Chemistry</th>\n",
       "    </tr>\n",
       "  </thead>\n",
       "  <tbody>\n",
       "    <tr>\n",
       "      <th>John</th>\n",
       "      <td>NaN</td>\n",
       "      <td>84</td>\n",
       "      <td>64</td>\n",
       "    </tr>\n",
       "  </tbody>\n",
       "</table>\n",
       "</div>"
      ],
      "text/plain": [
       "      Math  English  Chemistry\n",
       "John   NaN       84         64"
      ]
     },
     "execution_count": 33,
     "metadata": {},
     "output_type": "execute_result"
    }
   ],
   "source": [
    "df[df.isnull().any(axis=1)]\n"
   ]
  },
  {
   "cell_type": "code",
   "execution_count": 34,
   "id": "260052ed",
   "metadata": {
    "execution": {
     "iopub.execute_input": "2022-06-16T02:05:55.012703Z",
     "iopub.status.busy": "2022-06-16T02:05:55.012070Z",
     "iopub.status.idle": "2022-06-16T02:05:55.014731Z",
     "shell.execute_reply": "2022-06-16T02:05:55.015225Z",
     "shell.execute_reply.started": "2022-06-16T01:20:51.585764Z"
    },
    "id": "UVbjjilZFkVW",
    "papermill": {
     "duration": 0.195997,
     "end_time": "2022-06-16T02:05:55.015395",
     "exception": false,
     "start_time": "2022-06-16T02:05:54.819398",
     "status": "completed"
    },
    "tags": []
   },
   "outputs": [
    {
     "data": {
      "text/plain": [
       "May       76\n",
       "John      84\n",
       "Tom       91\n",
       "Alice    100\n",
       "Name: English, dtype: int64"
      ]
     },
     "execution_count": 34,
     "metadata": {},
     "output_type": "execute_result"
    }
   ],
   "source": [
    "df.English"
   ]
  },
  {
   "cell_type": "code",
   "execution_count": 35,
   "id": "51ce0f79",
   "metadata": {
    "execution": {
     "iopub.execute_input": "2022-06-16T02:05:55.393192Z",
     "iopub.status.busy": "2022-06-16T02:05:55.392620Z",
     "iopub.status.idle": "2022-06-16T02:05:55.403739Z",
     "shell.execute_reply": "2022-06-16T02:05:55.404179Z",
     "shell.execute_reply.started": "2022-06-16T01:20:51.601625Z"
    },
    "id": "vU3G9gsTFhm2",
    "outputId": "4d55f5f1-5a78-42c1-d55a-9a831b3b2bb1",
    "papermill": {
     "duration": 0.201005,
     "end_time": "2022-06-16T02:05:55.404342",
     "exception": false,
     "start_time": "2022-06-16T02:05:55.203337",
     "status": "completed"
    },
    "tags": []
   },
   "outputs": [
    {
     "data": {
      "text/html": [
       "<div>\n",
       "<style scoped>\n",
       "    .dataframe tbody tr th:only-of-type {\n",
       "        vertical-align: middle;\n",
       "    }\n",
       "\n",
       "    .dataframe tbody tr th {\n",
       "        vertical-align: top;\n",
       "    }\n",
       "\n",
       "    .dataframe thead th {\n",
       "        text-align: right;\n",
       "    }\n",
       "</style>\n",
       "<table border=\"1\" class=\"dataframe\">\n",
       "  <thead>\n",
       "    <tr style=\"text-align: right;\">\n",
       "      <th></th>\n",
       "      <th>English</th>\n",
       "      <th>Math</th>\n",
       "    </tr>\n",
       "  </thead>\n",
       "  <tbody>\n",
       "    <tr>\n",
       "      <th>May</th>\n",
       "      <td>76</td>\n",
       "      <td>8.0</td>\n",
       "    </tr>\n",
       "    <tr>\n",
       "      <th>John</th>\n",
       "      <td>84</td>\n",
       "      <td>NaN</td>\n",
       "    </tr>\n",
       "    <tr>\n",
       "      <th>Tom</th>\n",
       "      <td>91</td>\n",
       "      <td>77.0</td>\n",
       "    </tr>\n",
       "    <tr>\n",
       "      <th>Alice</th>\n",
       "      <td>100</td>\n",
       "      <td>100.0</td>\n",
       "    </tr>\n",
       "  </tbody>\n",
       "</table>\n",
       "</div>"
      ],
      "text/plain": [
       "       English   Math\n",
       "May         76    8.0\n",
       "John        84    NaN\n",
       "Tom         91   77.0\n",
       "Alice      100  100.0"
      ]
     },
     "execution_count": 35,
     "metadata": {},
     "output_type": "execute_result"
    }
   ],
   "source": [
    "df[['English','Math']]"
   ]
  },
  {
   "cell_type": "markdown",
   "id": "4e3c545b",
   "metadata": {
    "id": "Zgogz0J3CUax",
    "papermill": {
     "duration": 0.189659,
     "end_time": "2022-06-16T02:05:55.782495",
     "exception": false,
     "start_time": "2022-06-16T02:05:55.592836",
     "status": "completed"
    },
    "tags": []
   },
   "source": [
    "# 3/17"
   ]
  },
  {
   "cell_type": "code",
   "execution_count": 36,
   "id": "7c5bf986",
   "metadata": {
    "execution": {
     "iopub.execute_input": "2022-06-16T02:05:56.161384Z",
     "iopub.status.busy": "2022-06-16T02:05:56.160452Z",
     "iopub.status.idle": "2022-06-16T02:05:56.169474Z",
     "shell.execute_reply": "2022-06-16T02:05:56.169958Z",
     "shell.execute_reply.started": "2022-06-16T01:20:51.623246Z"
    },
    "id": "hdY-VfH7R7es",
    "outputId": "9bcc5692-89d2-41c5-8346-9e7b70fb755c",
    "papermill": {
     "duration": 0.200278,
     "end_time": "2022-06-16T02:05:56.170116",
     "exception": false,
     "start_time": "2022-06-16T02:05:55.969838",
     "status": "completed"
    },
    "tags": []
   },
   "outputs": [
    {
     "data": {
      "text/html": [
       "<div>\n",
       "<style scoped>\n",
       "    .dataframe tbody tr th:only-of-type {\n",
       "        vertical-align: middle;\n",
       "    }\n",
       "\n",
       "    .dataframe tbody tr th {\n",
       "        vertical-align: top;\n",
       "    }\n",
       "\n",
       "    .dataframe thead th {\n",
       "        text-align: right;\n",
       "    }\n",
       "</style>\n",
       "<table border=\"1\" class=\"dataframe\">\n",
       "  <thead>\n",
       "    <tr style=\"text-align: right;\">\n",
       "      <th></th>\n",
       "      <th>Math</th>\n",
       "      <th>English</th>\n",
       "      <th>Chemistry</th>\n",
       "    </tr>\n",
       "  </thead>\n",
       "  <tbody>\n",
       "    <tr>\n",
       "      <th>May</th>\n",
       "      <td>8.0</td>\n",
       "      <td>76</td>\n",
       "      <td>71</td>\n",
       "    </tr>\n",
       "    <tr>\n",
       "      <th>John</th>\n",
       "      <td>NaN</td>\n",
       "      <td>84</td>\n",
       "      <td>64</td>\n",
       "    </tr>\n",
       "  </tbody>\n",
       "</table>\n",
       "</div>"
      ],
      "text/plain": [
       "      Math  English  Chemistry\n",
       "May    8.0       76         71\n",
       "John   NaN       84         64"
      ]
     },
     "execution_count": 36,
     "metadata": {},
     "output_type": "execute_result"
    }
   ],
   "source": [
    "df.iloc[:2]\n",
    "# 從頭"
   ]
  },
  {
   "cell_type": "code",
   "execution_count": 37,
   "id": "453247d7",
   "metadata": {
    "execution": {
     "iopub.execute_input": "2022-06-16T02:05:56.550018Z",
     "iopub.status.busy": "2022-06-16T02:05:56.549284Z",
     "iopub.status.idle": "2022-06-16T02:05:56.557441Z",
     "shell.execute_reply": "2022-06-16T02:05:56.558053Z",
     "shell.execute_reply.started": "2022-06-16T01:20:51.641935Z"
    },
    "id": "uOxBJTWJU1lv",
    "papermill": {
     "duration": 0.199654,
     "end_time": "2022-06-16T02:05:56.558209",
     "exception": false,
     "start_time": "2022-06-16T02:05:56.358555",
     "status": "completed"
    },
    "tags": []
   },
   "outputs": [
    {
     "data": {
      "text/html": [
       "<div>\n",
       "<style scoped>\n",
       "    .dataframe tbody tr th:only-of-type {\n",
       "        vertical-align: middle;\n",
       "    }\n",
       "\n",
       "    .dataframe tbody tr th {\n",
       "        vertical-align: top;\n",
       "    }\n",
       "\n",
       "    .dataframe thead th {\n",
       "        text-align: right;\n",
       "    }\n",
       "</style>\n",
       "<table border=\"1\" class=\"dataframe\">\n",
       "  <thead>\n",
       "    <tr style=\"text-align: right;\">\n",
       "      <th></th>\n",
       "      <th>Math</th>\n",
       "      <th>English</th>\n",
       "      <th>Chemistry</th>\n",
       "    </tr>\n",
       "  </thead>\n",
       "  <tbody>\n",
       "    <tr>\n",
       "      <th>Tom</th>\n",
       "      <td>77.0</td>\n",
       "      <td>91</td>\n",
       "      <td>48</td>\n",
       "    </tr>\n",
       "    <tr>\n",
       "      <th>Alice</th>\n",
       "      <td>100.0</td>\n",
       "      <td>100</td>\n",
       "      <td>100</td>\n",
       "    </tr>\n",
       "  </tbody>\n",
       "</table>\n",
       "</div>"
      ],
      "text/plain": [
       "        Math  English  Chemistry\n",
       "Tom     77.0       91         48\n",
       "Alice  100.0      100        100"
      ]
     },
     "execution_count": 37,
     "metadata": {},
     "output_type": "execute_result"
    }
   ],
   "source": [
    "df.iloc[-2:]\n",
    "# 倒數"
   ]
  },
  {
   "cell_type": "code",
   "execution_count": 38,
   "id": "318e9800",
   "metadata": {
    "execution": {
     "iopub.execute_input": "2022-06-16T02:05:56.937117Z",
     "iopub.status.busy": "2022-06-16T02:05:56.936477Z",
     "iopub.status.idle": "2022-06-16T02:05:56.944562Z",
     "shell.execute_reply": "2022-06-16T02:05:56.945147Z",
     "shell.execute_reply.started": "2022-06-16T01:20:51.665845Z"
    },
    "id": "wmgeGxtiU7ot",
    "outputId": "1f5cb9f0-b81e-4166-8fe8-e7d4f282c34f",
    "papermill": {
     "duration": 0.200931,
     "end_time": "2022-06-16T02:05:56.945299",
     "exception": false,
     "start_time": "2022-06-16T02:05:56.744368",
     "status": "completed"
    },
    "tags": []
   },
   "outputs": [
    {
     "data": {
      "text/html": [
       "<div>\n",
       "<style scoped>\n",
       "    .dataframe tbody tr th:only-of-type {\n",
       "        vertical-align: middle;\n",
       "    }\n",
       "\n",
       "    .dataframe tbody tr th {\n",
       "        vertical-align: top;\n",
       "    }\n",
       "\n",
       "    .dataframe thead th {\n",
       "        text-align: right;\n",
       "    }\n",
       "</style>\n",
       "<table border=\"1\" class=\"dataframe\">\n",
       "  <thead>\n",
       "    <tr style=\"text-align: right;\">\n",
       "      <th></th>\n",
       "      <th>Math</th>\n",
       "      <th>English</th>\n",
       "      <th>Chemistry</th>\n",
       "    </tr>\n",
       "  </thead>\n",
       "  <tbody>\n",
       "    <tr>\n",
       "      <th>May</th>\n",
       "      <td>8.0</td>\n",
       "      <td>76</td>\n",
       "      <td>71</td>\n",
       "    </tr>\n",
       "    <tr>\n",
       "      <th>John</th>\n",
       "      <td>NaN</td>\n",
       "      <td>84</td>\n",
       "      <td>64</td>\n",
       "    </tr>\n",
       "  </tbody>\n",
       "</table>\n",
       "</div>"
      ],
      "text/plain": [
       "      Math  English  Chemistry\n",
       "May    8.0       76         71\n",
       "John   NaN       84         64"
      ]
     },
     "execution_count": 38,
     "metadata": {},
     "output_type": "execute_result"
    }
   ],
   "source": [
    "df.iloc[0:2]"
   ]
  },
  {
   "cell_type": "markdown",
   "id": "a3abd477",
   "metadata": {
    "id": "OGlCMGwNCVOY",
    "papermill": {
     "duration": 0.18912,
     "end_time": "2022-06-16T02:05:57.323654",
     "exception": false,
     "start_time": "2022-06-16T02:05:57.134534",
     "status": "completed"
    },
    "tags": []
   },
   "source": [
    "# 3/22"
   ]
  },
  {
   "cell_type": "code",
   "execution_count": 39,
   "id": "0f8ce648",
   "metadata": {
    "execution": {
     "iopub.execute_input": "2022-06-16T02:05:57.757633Z",
     "iopub.status.busy": "2022-06-16T02:05:57.757051Z",
     "iopub.status.idle": "2022-06-16T02:05:57.768502Z",
     "shell.execute_reply": "2022-06-16T02:05:57.769104Z",
     "shell.execute_reply.started": "2022-06-16T01:20:51.681900Z"
    },
    "id": "Tpkc4gD_CDKm",
    "outputId": "b1749f60-d7ec-40f4-91fb-daca8f8c51c6",
    "papermill": {
     "duration": 0.203136,
     "end_time": "2022-06-16T02:05:57.769269",
     "exception": false,
     "start_time": "2022-06-16T02:05:57.566133",
     "status": "completed"
    },
    "tags": []
   },
   "outputs": [
    {
     "data": {
      "text/html": [
       "<div>\n",
       "<style scoped>\n",
       "    .dataframe tbody tr th:only-of-type {\n",
       "        vertical-align: middle;\n",
       "    }\n",
       "\n",
       "    .dataframe tbody tr th {\n",
       "        vertical-align: top;\n",
       "    }\n",
       "\n",
       "    .dataframe thead th {\n",
       "        text-align: right;\n",
       "    }\n",
       "</style>\n",
       "<table border=\"1\" class=\"dataframe\">\n",
       "  <thead>\n",
       "    <tr style=\"text-align: right;\">\n",
       "      <th></th>\n",
       "      <th>Math</th>\n",
       "      <th>English</th>\n",
       "      <th>History</th>\n",
       "    </tr>\n",
       "  </thead>\n",
       "  <tbody>\n",
       "    <tr>\n",
       "      <th>Simon</th>\n",
       "      <td>80</td>\n",
       "      <td>24</td>\n",
       "      <td>33.0</td>\n",
       "    </tr>\n",
       "    <tr>\n",
       "      <th>Alex</th>\n",
       "      <td>70</td>\n",
       "      <td>88</td>\n",
       "      <td>NaN</td>\n",
       "    </tr>\n",
       "    <tr>\n",
       "      <th>May</th>\n",
       "      <td>50</td>\n",
       "      <td>54</td>\n",
       "      <td>NaN</td>\n",
       "    </tr>\n",
       "    <tr>\n",
       "      <th>Ken</th>\n",
       "      <td>45</td>\n",
       "      <td>80</td>\n",
       "      <td>100.0</td>\n",
       "    </tr>\n",
       "  </tbody>\n",
       "</table>\n",
       "</div>"
      ],
      "text/plain": [
       "       Math  English  History\n",
       "Simon    80       24     33.0\n",
       "Alex     70       88      NaN\n",
       "May      50       54      NaN\n",
       "Ken      45       80    100.0"
      ]
     },
     "execution_count": 39,
     "metadata": {},
     "output_type": "execute_result"
    }
   ],
   "source": [
    "import numpy as np\n",
    "import pandas as pd\n",
    "scores = {'Math':[80,70,50,45],'English':[24,88,54,80],'History':[33,np.nan,np.nan,100]}\n",
    "df = pd.DataFrame(scores,index=['Simon','Alex','May','Ken'])\n",
    "df"
   ]
  },
  {
   "cell_type": "code",
   "execution_count": 40,
   "id": "4fe455e8",
   "metadata": {
    "execution": {
     "iopub.execute_input": "2022-06-16T02:05:58.151280Z",
     "iopub.status.busy": "2022-06-16T02:05:58.150745Z",
     "iopub.status.idle": "2022-06-16T02:05:58.159428Z",
     "shell.execute_reply": "2022-06-16T02:05:58.160081Z",
     "shell.execute_reply.started": "2022-06-16T01:20:51.703674Z"
    },
    "id": "Wi-0YsuXCaiU",
    "outputId": "d46b71f1-fd4d-41a4-d45e-65b71aa93236",
    "papermill": {
     "duration": 0.201184,
     "end_time": "2022-06-16T02:05:58.160294",
     "exception": false,
     "start_time": "2022-06-16T02:05:57.959110",
     "status": "completed"
    },
    "tags": []
   },
   "outputs": [
    {
     "data": {
      "text/html": [
       "<div>\n",
       "<style scoped>\n",
       "    .dataframe tbody tr th:only-of-type {\n",
       "        vertical-align: middle;\n",
       "    }\n",
       "\n",
       "    .dataframe tbody tr th {\n",
       "        vertical-align: top;\n",
       "    }\n",
       "\n",
       "    .dataframe thead th {\n",
       "        text-align: right;\n",
       "    }\n",
       "</style>\n",
       "<table border=\"1\" class=\"dataframe\">\n",
       "  <thead>\n",
       "    <tr style=\"text-align: right;\">\n",
       "      <th></th>\n",
       "      <th>Math</th>\n",
       "      <th>English</th>\n",
       "      <th>History</th>\n",
       "    </tr>\n",
       "  </thead>\n",
       "  <tbody>\n",
       "    <tr>\n",
       "      <th>Simon</th>\n",
       "      <td>80</td>\n",
       "      <td>24</td>\n",
       "      <td>33.0</td>\n",
       "    </tr>\n",
       "    <tr>\n",
       "      <th>Alex</th>\n",
       "      <td>70</td>\n",
       "      <td>88</td>\n",
       "      <td>NaN</td>\n",
       "    </tr>\n",
       "  </tbody>\n",
       "</table>\n",
       "</div>"
      ],
      "text/plain": [
       "       Math  English  History\n",
       "Simon    80       24     33.0\n",
       "Alex     70       88      NaN"
      ]
     },
     "execution_count": 40,
     "metadata": {},
     "output_type": "execute_result"
    }
   ],
   "source": [
    "bool_v = [True, True, False, False]\n",
    "df[bool_v]"
   ]
  },
  {
   "cell_type": "code",
   "execution_count": 41,
   "id": "0402b235",
   "metadata": {
    "execution": {
     "iopub.execute_input": "2022-06-16T02:05:58.554790Z",
     "iopub.status.busy": "2022-06-16T02:05:58.554189Z",
     "iopub.status.idle": "2022-06-16T02:05:58.559912Z",
     "shell.execute_reply": "2022-06-16T02:05:58.560443Z",
     "shell.execute_reply.started": "2022-06-16T01:20:51.723479Z"
    },
    "id": "q2DT_tn4CpUU",
    "outputId": "294d0afe-aabc-43c5-bf7b-c562d4f7a5ce",
    "papermill": {
     "duration": 0.201252,
     "end_time": "2022-06-16T02:05:58.560587",
     "exception": false,
     "start_time": "2022-06-16T02:05:58.359335",
     "status": "completed"
    },
    "tags": []
   },
   "outputs": [
    {
     "data": {
      "text/plain": [
       "Simon     True\n",
       "Alex      True\n",
       "May      False\n",
       "Ken      False\n",
       "Name: Math, dtype: bool"
      ]
     },
     "execution_count": 41,
     "metadata": {},
     "output_type": "execute_result"
    }
   ],
   "source": [
    "bool_v = df['Math'] > 65\n",
    "bool_v"
   ]
  },
  {
   "cell_type": "code",
   "execution_count": 42,
   "id": "5e0f20d7",
   "metadata": {
    "execution": {
     "iopub.execute_input": "2022-06-16T02:05:58.957368Z",
     "iopub.status.busy": "2022-06-16T02:05:58.956760Z",
     "iopub.status.idle": "2022-06-16T02:05:58.959327Z",
     "shell.execute_reply": "2022-06-16T02:05:58.959865Z",
     "shell.execute_reply.started": "2022-06-16T01:20:51.743895Z"
    },
    "id": "I-N6nbFvCvc0",
    "outputId": "b3f9b77c-a0e4-472b-c1b7-bb782e058f10",
    "papermill": {
     "duration": 0.205867,
     "end_time": "2022-06-16T02:05:58.960026",
     "exception": false,
     "start_time": "2022-06-16T02:05:58.754159",
     "status": "completed"
    },
    "tags": []
   },
   "outputs": [
    {
     "data": {
      "text/html": [
       "<div>\n",
       "<style scoped>\n",
       "    .dataframe tbody tr th:only-of-type {\n",
       "        vertical-align: middle;\n",
       "    }\n",
       "\n",
       "    .dataframe tbody tr th {\n",
       "        vertical-align: top;\n",
       "    }\n",
       "\n",
       "    .dataframe thead th {\n",
       "        text-align: right;\n",
       "    }\n",
       "</style>\n",
       "<table border=\"1\" class=\"dataframe\">\n",
       "  <thead>\n",
       "    <tr style=\"text-align: right;\">\n",
       "      <th></th>\n",
       "      <th>Math</th>\n",
       "      <th>English</th>\n",
       "      <th>History</th>\n",
       "    </tr>\n",
       "  </thead>\n",
       "  <tbody>\n",
       "    <tr>\n",
       "      <th>Simon</th>\n",
       "      <td>80</td>\n",
       "      <td>24</td>\n",
       "      <td>33.0</td>\n",
       "    </tr>\n",
       "    <tr>\n",
       "      <th>Alex</th>\n",
       "      <td>70</td>\n",
       "      <td>88</td>\n",
       "      <td>NaN</td>\n",
       "    </tr>\n",
       "  </tbody>\n",
       "</table>\n",
       "</div>"
      ],
      "text/plain": [
       "       Math  English  History\n",
       "Simon    80       24     33.0\n",
       "Alex     70       88      NaN"
      ]
     },
     "execution_count": 42,
     "metadata": {},
     "output_type": "execute_result"
    }
   ],
   "source": [
    "df[df['Math']>65]"
   ]
  },
  {
   "cell_type": "code",
   "execution_count": 43,
   "id": "a793789d",
   "metadata": {
    "execution": {
     "iopub.execute_input": "2022-06-16T02:05:59.354487Z",
     "iopub.status.busy": "2022-06-16T02:05:59.353852Z",
     "iopub.status.idle": "2022-06-16T02:05:59.362880Z",
     "shell.execute_reply": "2022-06-16T02:05:59.363369Z",
     "shell.execute_reply.started": "2022-06-16T01:20:51.763112Z"
    },
    "id": "WH-nzaDIF4ge",
    "outputId": "6460d5b2-283a-43d6-ce41-12dd723e9dd6",
    "papermill": {
     "duration": 0.208083,
     "end_time": "2022-06-16T02:05:59.363531",
     "exception": false,
     "start_time": "2022-06-16T02:05:59.155448",
     "status": "completed"
    },
    "tags": []
   },
   "outputs": [
    {
     "data": {
      "text/html": [
       "<div>\n",
       "<style scoped>\n",
       "    .dataframe tbody tr th:only-of-type {\n",
       "        vertical-align: middle;\n",
       "    }\n",
       "\n",
       "    .dataframe tbody tr th {\n",
       "        vertical-align: top;\n",
       "    }\n",
       "\n",
       "    .dataframe thead th {\n",
       "        text-align: right;\n",
       "    }\n",
       "</style>\n",
       "<table border=\"1\" class=\"dataframe\">\n",
       "  <thead>\n",
       "    <tr style=\"text-align: right;\">\n",
       "      <th></th>\n",
       "      <th>Math</th>\n",
       "      <th>English</th>\n",
       "      <th>History</th>\n",
       "    </tr>\n",
       "  </thead>\n",
       "  <tbody>\n",
       "    <tr>\n",
       "      <th>Alex</th>\n",
       "      <td>70</td>\n",
       "      <td>88</td>\n",
       "      <td>NaN</td>\n",
       "    </tr>\n",
       "  </tbody>\n",
       "</table>\n",
       "</div>"
      ],
      "text/plain": [
       "      Math  English  History\n",
       "Alex    70       88      NaN"
      ]
     },
     "execution_count": 43,
     "metadata": {},
     "output_type": "execute_result"
    }
   ],
   "source": [
    "df[df['Math'].apply(lambda x:True if x>65 and x<75 else False)]"
   ]
  },
  {
   "cell_type": "code",
   "execution_count": 44,
   "id": "a115ad25",
   "metadata": {
    "execution": {
     "iopub.execute_input": "2022-06-16T02:05:59.752403Z",
     "iopub.status.busy": "2022-06-16T02:05:59.751806Z",
     "iopub.status.idle": "2022-06-16T02:05:59.757762Z",
     "shell.execute_reply": "2022-06-16T02:05:59.758247Z",
     "shell.execute_reply.started": "2022-06-16T01:20:51.787771Z"
    },
    "id": "LcxLhSdAF_2D",
    "outputId": "ef140e16-ae2f-4bd0-988b-0f1b08701f40",
    "papermill": {
     "duration": 0.202163,
     "end_time": "2022-06-16T02:05:59.758392",
     "exception": false,
     "start_time": "2022-06-16T02:05:59.556229",
     "status": "completed"
    },
    "tags": []
   },
   "outputs": [
    {
     "data": {
      "text/plain": [
       "0    1\n",
       "1    2\n",
       "2    3\n",
       "3    4\n",
       "4    5\n",
       "dtype: int64"
      ]
     },
     "execution_count": 44,
     "metadata": {},
     "output_type": "execute_result"
    }
   ],
   "source": [
    "se = pd.Series([1,2,3,4,5])\n",
    "se"
   ]
  },
  {
   "cell_type": "code",
   "execution_count": 45,
   "id": "b2fda035",
   "metadata": {
    "execution": {
     "iopub.execute_input": "2022-06-16T02:06:00.153552Z",
     "iopub.status.busy": "2022-06-16T02:06:00.152542Z",
     "iopub.status.idle": "2022-06-16T02:06:00.159735Z",
     "shell.execute_reply": "2022-06-16T02:06:00.160209Z",
     "shell.execute_reply.started": "2022-06-16T01:20:51.805654Z"
    },
    "id": "Ze7OCYGvGEDz",
    "outputId": "0df06c66-7d87-4195-e6ea-18ab34eea89a",
    "papermill": {
     "duration": 0.208425,
     "end_time": "2022-06-16T02:06:00.160389",
     "exception": false,
     "start_time": "2022-06-16T02:05:59.951964",
     "status": "completed"
    },
    "tags": []
   },
   "outputs": [
    {
     "data": {
      "text/plain": [
       "0    2\n",
       "1    1\n",
       "2    4\n",
       "3    3\n",
       "4    6\n",
       "dtype: int64"
      ]
     },
     "execution_count": 45,
     "metadata": {},
     "output_type": "execute_result"
    }
   ],
   "source": [
    "se.apply(lambda x:x+1 if (x%2)==1 else x-1)"
   ]
  },
  {
   "cell_type": "code",
   "execution_count": 46,
   "id": "ac983ce5",
   "metadata": {
    "execution": {
     "iopub.execute_input": "2022-06-16T02:06:00.554456Z",
     "iopub.status.busy": "2022-06-16T02:06:00.553502Z",
     "iopub.status.idle": "2022-06-16T02:06:00.560753Z",
     "shell.execute_reply": "2022-06-16T02:06:00.561320Z",
     "shell.execute_reply.started": "2022-06-16T01:20:51.822097Z"
    },
    "id": "eTpOm4ALGNXz",
    "outputId": "e79572e9-c266-4845-b28c-bc3fc011ad83",
    "papermill": {
     "duration": 0.204936,
     "end_time": "2022-06-16T02:06:00.561471",
     "exception": false,
     "start_time": "2022-06-16T02:06:00.356535",
     "status": "completed"
    },
    "tags": []
   },
   "outputs": [
    {
     "data": {
      "text/plain": [
       "Math        80.0\n",
       "English     88.0\n",
       "History    100.0\n",
       "dtype: float64"
      ]
     },
     "execution_count": 46,
     "metadata": {},
     "output_type": "execute_result"
    }
   ],
   "source": [
    "df.apply(max)"
   ]
  },
  {
   "cell_type": "code",
   "execution_count": 47,
   "id": "330aba2d",
   "metadata": {
    "execution": {
     "iopub.execute_input": "2022-06-16T02:06:00.951185Z",
     "iopub.status.busy": "2022-06-16T02:06:00.950227Z",
     "iopub.status.idle": "2022-06-16T02:06:00.957679Z",
     "shell.execute_reply": "2022-06-16T02:06:00.958191Z",
     "shell.execute_reply.started": "2022-06-16T01:20:51.842468Z"
    },
    "id": "UlSUtilkGQcT",
    "outputId": "7dfecda9-783e-4d33-b691-3bdea6ecb4fb",
    "papermill": {
     "duration": 0.206187,
     "end_time": "2022-06-16T02:06:00.958332",
     "exception": false,
     "start_time": "2022-06-16T02:06:00.752145",
     "status": "completed"
    },
    "tags": []
   },
   "outputs": [
    {
     "data": {
      "text/plain": [
       "Simon     80.0\n",
       "Alex      88.0\n",
       "May       54.0\n",
       "Ken      100.0\n",
       "dtype: float64"
      ]
     },
     "execution_count": 47,
     "metadata": {},
     "output_type": "execute_result"
    }
   ],
   "source": [
    "df.apply(max, axis=1)"
   ]
  },
  {
   "cell_type": "code",
   "execution_count": 48,
   "id": "b44ac360",
   "metadata": {
    "execution": {
     "iopub.execute_input": "2022-06-16T02:06:01.341781Z",
     "iopub.status.busy": "2022-06-16T02:06:01.340881Z",
     "iopub.status.idle": "2022-06-16T02:06:01.351788Z",
     "shell.execute_reply": "2022-06-16T02:06:01.352336Z",
     "shell.execute_reply.started": "2022-06-16T01:20:51.859966Z"
    },
    "id": "rRTJV69vGSfD",
    "outputId": "df1f2fce-1ac4-44b1-b42d-cb441798371e",
    "papermill": {
     "duration": 0.204278,
     "end_time": "2022-06-16T02:06:01.352490",
     "exception": false,
     "start_time": "2022-06-16T02:06:01.148212",
     "status": "completed"
    },
    "tags": []
   },
   "outputs": [
    {
     "data": {
      "text/html": [
       "<div>\n",
       "<style scoped>\n",
       "    .dataframe tbody tr th:only-of-type {\n",
       "        vertical-align: middle;\n",
       "    }\n",
       "\n",
       "    .dataframe tbody tr th {\n",
       "        vertical-align: top;\n",
       "    }\n",
       "\n",
       "    .dataframe thead th {\n",
       "        text-align: right;\n",
       "    }\n",
       "</style>\n",
       "<table border=\"1\" class=\"dataframe\">\n",
       "  <thead>\n",
       "    <tr style=\"text-align: right;\">\n",
       "      <th></th>\n",
       "      <th>Math</th>\n",
       "      <th>English</th>\n",
       "      <th>History</th>\n",
       "    </tr>\n",
       "  </thead>\n",
       "  <tbody>\n",
       "    <tr>\n",
       "      <th>Simon</th>\n",
       "      <td>89.442719</td>\n",
       "      <td>48.989795</td>\n",
       "      <td>57.445626</td>\n",
       "    </tr>\n",
       "    <tr>\n",
       "      <th>Alex</th>\n",
       "      <td>83.666003</td>\n",
       "      <td>93.808315</td>\n",
       "      <td>NaN</td>\n",
       "    </tr>\n",
       "    <tr>\n",
       "      <th>May</th>\n",
       "      <td>70.710678</td>\n",
       "      <td>73.484692</td>\n",
       "      <td>NaN</td>\n",
       "    </tr>\n",
       "    <tr>\n",
       "      <th>Ken</th>\n",
       "      <td>67.082039</td>\n",
       "      <td>89.442719</td>\n",
       "      <td>100.000000</td>\n",
       "    </tr>\n",
       "  </tbody>\n",
       "</table>\n",
       "</div>"
      ],
      "text/plain": [
       "            Math    English     History\n",
       "Simon  89.442719  48.989795   57.445626\n",
       "Alex   83.666003  93.808315         NaN\n",
       "May    70.710678  73.484692         NaN\n",
       "Ken    67.082039  89.442719  100.000000"
      ]
     },
     "execution_count": 48,
     "metadata": {},
     "output_type": "execute_result"
    }
   ],
   "source": [
    "df.applymap(lambda x:x**0.5*10)"
   ]
  },
  {
   "cell_type": "code",
   "execution_count": null,
   "id": "179f610d",
   "metadata": {
    "id": "iiDP6bnKIWSb",
    "papermill": {
     "duration": 0.19365,
     "end_time": "2022-06-16T02:06:01.738591",
     "exception": false,
     "start_time": "2022-06-16T02:06:01.544941",
     "status": "completed"
    },
    "tags": []
   },
   "outputs": [],
   "source": []
  },
  {
   "cell_type": "markdown",
   "id": "0a518d01",
   "metadata": {
    "id": "ddzrnlVTCVhA",
    "papermill": {
     "duration": 0.195832,
     "end_time": "2022-06-16T02:06:02.142749",
     "exception": false,
     "start_time": "2022-06-16T02:06:01.946917",
     "status": "completed"
    },
    "tags": []
   },
   "source": [
    "# 3/24"
   ]
  },
  {
   "cell_type": "code",
   "execution_count": 49,
   "id": "a509b5a0",
   "metadata": {
    "execution": {
     "iopub.execute_input": "2022-06-16T02:06:02.541925Z",
     "iopub.status.busy": "2022-06-16T02:06:02.541273Z",
     "iopub.status.idle": "2022-06-16T02:06:02.614166Z",
     "shell.execute_reply": "2022-06-16T02:06:02.613646Z",
     "shell.execute_reply.started": "2022-06-16T01:20:51.886176Z"
    },
    "id": "E0nin15Wn7rp",
    "outputId": "b32a5d53-0d79-47ee-c91f-76acbc752ce4",
    "papermill": {
     "duration": 0.275875,
     "end_time": "2022-06-16T02:06:02.614303",
     "exception": false,
     "start_time": "2022-06-16T02:06:02.338428",
     "status": "completed"
    },
    "tags": []
   },
   "outputs": [
    {
     "data": {
      "text/html": [
       "<style type=\"text/css\">\n",
       "#T_8da96_row0_col3, #T_8da96_row1_col2, #T_8da96_row2_col0, #T_8da96_row2_col3, #T_8da96_row3_col1, #T_8da96_row4_col1 {\n",
       "  background-color: yellow;\n",
       "}\n",
       "</style>\n",
       "<table id=\"T_8da96_\">\n",
       "  <thead>\n",
       "    <tr>\n",
       "      <th class=\"blank level0\" >&nbsp;</th>\n",
       "      <th class=\"col_heading level0 col0\" >size</th>\n",
       "      <th class=\"col_heading level0 col1\" >color</th>\n",
       "      <th class=\"col_heading level0 col2\" >price</th>\n",
       "      <th class=\"col_heading level0 col3\" >quantity</th>\n",
       "    </tr>\n",
       "  </thead>\n",
       "  <tbody>\n",
       "    <tr>\n",
       "      <th id=\"T_8da96_level0_row0\" class=\"row_heading level0 row0\" >0</th>\n",
       "      <td id=\"T_8da96_row0_col0\" class=\"data row0 col0\" >M</td>\n",
       "      <td id=\"T_8da96_row0_col1\" class=\"data row0 col1\" >green</td>\n",
       "      <td id=\"T_8da96_row0_col2\" class=\"data row0 col2\" >200.000000</td>\n",
       "      <td id=\"T_8da96_row0_col3\" class=\"data row0 col3\" >nan</td>\n",
       "    </tr>\n",
       "    <tr>\n",
       "      <th id=\"T_8da96_level0_row1\" class=\"row_heading level0 row1\" >1</th>\n",
       "      <td id=\"T_8da96_row1_col0\" class=\"data row1 col0\" >S</td>\n",
       "      <td id=\"T_8da96_row1_col1\" class=\"data row1 col1\" >blue</td>\n",
       "      <td id=\"T_8da96_row1_col2\" class=\"data row1 col2\" >nan</td>\n",
       "      <td id=\"T_8da96_row1_col3\" class=\"data row1 col3\" >35000.000000</td>\n",
       "    </tr>\n",
       "    <tr>\n",
       "      <th id=\"T_8da96_level0_row2\" class=\"row_heading level0 row2\" >2</th>\n",
       "      <td id=\"T_8da96_row2_col0\" class=\"data row2 col0\" >nan</td>\n",
       "      <td id=\"T_8da96_row2_col1\" class=\"data row2 col1\" >blue</td>\n",
       "      <td id=\"T_8da96_row2_col2\" class=\"data row2 col2\" >200.000000</td>\n",
       "      <td id=\"T_8da96_row2_col3\" class=\"data row2 col3\" >nan</td>\n",
       "    </tr>\n",
       "    <tr>\n",
       "      <th id=\"T_8da96_level0_row3\" class=\"row_heading level0 row3\" >3</th>\n",
       "      <td id=\"T_8da96_row3_col0\" class=\"data row3 col0\" >M</td>\n",
       "      <td id=\"T_8da96_row3_col1\" class=\"data row3 col1\" >nan</td>\n",
       "      <td id=\"T_8da96_row3_col2\" class=\"data row3 col2\" >300.000000</td>\n",
       "      <td id=\"T_8da96_row3_col3\" class=\"data row3 col3\" >20000.000000</td>\n",
       "    </tr>\n",
       "    <tr>\n",
       "      <th id=\"T_8da96_level0_row4\" class=\"row_heading level0 row4\" >4</th>\n",
       "      <td id=\"T_8da96_row4_col0\" class=\"data row4 col0\" >XL</td>\n",
       "      <td id=\"T_8da96_row4_col1\" class=\"data row4 col1\" >nan</td>\n",
       "      <td id=\"T_8da96_row4_col2\" class=\"data row4 col2\" >300.000000</td>\n",
       "      <td id=\"T_8da96_row4_col3\" class=\"data row4 col3\" >10000.000000</td>\n",
       "    </tr>\n",
       "  </tbody>\n",
       "</table>\n"
      ],
      "text/plain": [
       "<pandas.io.formats.style.Styler at 0x7fba76b27b50>"
      ]
     },
     "execution_count": 49,
     "metadata": {},
     "output_type": "execute_result"
    }
   ],
   "source": [
    "#本車測試資料\n",
    "\n",
    "import pandas as pd\n",
    "import numpy as np\n",
    "\n",
    "data= {'size': ['M','S', np.nan,'M', 'XL'],'color':['green','blue','blue',np.nan, np.nan], 'price': [200,np.nan, 200, 300, 300],'quantity': [np.nan, 35000, np.nan, 20000, 10000]}\n",
    "X = pd.DataFrame(data)\n",
    "X_orig= X.copy()\n",
    "X.style.highlight_null(null_color='yellow')"
   ]
  },
  {
   "cell_type": "markdown",
   "id": "3a62341a",
   "metadata": {
    "id": "IRWbXpZkDyqT",
    "papermill": {
     "duration": 0.199046,
     "end_time": "2022-06-16T02:06:03.009769",
     "exception": false,
     "start_time": "2022-06-16T02:06:02.810723",
     "status": "completed"
    },
    "tags": []
   },
   "source": [
    "# 3/29"
   ]
  },
  {
   "cell_type": "code",
   "execution_count": 50,
   "id": "69906823",
   "metadata": {
    "execution": {
     "iopub.execute_input": "2022-06-16T02:06:03.404440Z",
     "iopub.status.busy": "2022-06-16T02:06:03.403827Z",
     "iopub.status.idle": "2022-06-16T02:06:03.409197Z",
     "shell.execute_reply": "2022-06-16T02:06:03.409714Z",
     "shell.execute_reply.started": "2022-06-16T01:20:51.918066Z"
    },
    "id": "wVWtuJ3xDy6l",
    "outputId": "ef57c598-bb3c-4f03-b015-1ae131e6bb67",
    "papermill": {
     "duration": 0.204314,
     "end_time": "2022-06-16T02:06:03.409874",
     "exception": false,
     "start_time": "2022-06-16T02:06:03.205560",
     "status": "completed"
    },
    "tags": []
   },
   "outputs": [
    {
     "data": {
      "text/html": [
       "<style type=\"text/css\">\n",
       "#T_8f22f_row0_col1, #T_8f22f_row1_col0, #T_8f22f_row2_col1 {\n",
       "  background-color: yellow;\n",
       "}\n",
       "</style>\n",
       "<table id=\"T_8f22f_\">\n",
       "  <thead>\n",
       "    <tr>\n",
       "      <th class=\"blank level0\" >&nbsp;</th>\n",
       "      <th class=\"col_heading level0 col0\" >price</th>\n",
       "      <th class=\"col_heading level0 col1\" >quantity</th>\n",
       "    </tr>\n",
       "  </thead>\n",
       "  <tbody>\n",
       "    <tr>\n",
       "      <th id=\"T_8f22f_level0_row0\" class=\"row_heading level0 row0\" >0</th>\n",
       "      <td id=\"T_8f22f_row0_col0\" class=\"data row0 col0\" >200.000000</td>\n",
       "      <td id=\"T_8f22f_row0_col1\" class=\"data row0 col1\" >nan</td>\n",
       "    </tr>\n",
       "    <tr>\n",
       "      <th id=\"T_8f22f_level0_row1\" class=\"row_heading level0 row1\" >1</th>\n",
       "      <td id=\"T_8f22f_row1_col0\" class=\"data row1 col0\" >nan</td>\n",
       "      <td id=\"T_8f22f_row1_col1\" class=\"data row1 col1\" >35000.000000</td>\n",
       "    </tr>\n",
       "    <tr>\n",
       "      <th id=\"T_8f22f_level0_row2\" class=\"row_heading level0 row2\" >2</th>\n",
       "      <td id=\"T_8f22f_row2_col0\" class=\"data row2 col0\" >200.000000</td>\n",
       "      <td id=\"T_8f22f_row2_col1\" class=\"data row2 col1\" >nan</td>\n",
       "    </tr>\n",
       "    <tr>\n",
       "      <th id=\"T_8f22f_level0_row3\" class=\"row_heading level0 row3\" >3</th>\n",
       "      <td id=\"T_8f22f_row3_col0\" class=\"data row3 col0\" >300.000000</td>\n",
       "      <td id=\"T_8f22f_row3_col1\" class=\"data row3 col1\" >20000.000000</td>\n",
       "    </tr>\n",
       "    <tr>\n",
       "      <th id=\"T_8f22f_level0_row4\" class=\"row_heading level0 row4\" >4</th>\n",
       "      <td id=\"T_8f22f_row4_col0\" class=\"data row4 col0\" >300.000000</td>\n",
       "      <td id=\"T_8f22f_row4_col1\" class=\"data row4 col1\" >10000.000000</td>\n",
       "    </tr>\n",
       "  </tbody>\n",
       "</table>\n"
      ],
      "text/plain": [
       "<pandas.io.formats.style.Styler at 0x7fba76b52e50>"
      ]
     },
     "execution_count": 50,
     "metadata": {},
     "output_type": "execute_result"
    }
   ],
   "source": [
    "X_col_num = ['price','quantity']\n",
    "X_num = X[X_col_num]\n",
    "X_num.style.highlight_null(null_color='yellow')"
   ]
  },
  {
   "cell_type": "code",
   "execution_count": 51,
   "id": "54d7fc05",
   "metadata": {
    "execution": {
     "iopub.execute_input": "2022-06-16T02:06:03.805151Z",
     "iopub.status.busy": "2022-06-16T02:06:03.804509Z",
     "iopub.status.idle": "2022-06-16T02:06:04.939490Z",
     "shell.execute_reply": "2022-06-16T02:06:04.939022Z",
     "shell.execute_reply.started": "2022-06-16T01:20:51.940541Z"
    },
    "id": "ZiVfRhkwFgzm",
    "outputId": "559c23a9-b993-456d-cae9-a1a2d7d878ad",
    "papermill": {
     "duration": 1.334586,
     "end_time": "2022-06-16T02:06:04.939636",
     "exception": false,
     "start_time": "2022-06-16T02:06:03.605050",
     "status": "completed"
    },
    "tags": []
   },
   "outputs": [
    {
     "data": {
      "text/plain": [
       "array([[  200.        , 21666.66666667],\n",
       "       [  250.        , 35000.        ],\n",
       "       [  200.        , 21666.66666667],\n",
       "       [  300.        , 20000.        ],\n",
       "       [  300.        , 10000.        ]])"
      ]
     },
     "execution_count": 51,
     "metadata": {},
     "output_type": "execute_result"
    }
   ],
   "source": [
    "from sklearn.impute import SimpleImputer\n",
    "si = SimpleImputer(strategy='mean')\n",
    "X_num_impute = si.fit_transform(X_num)\n",
    "X_num_impute"
   ]
  },
  {
   "cell_type": "code",
   "execution_count": 52,
   "id": "47a009fd",
   "metadata": {
    "execution": {
     "iopub.execute_input": "2022-06-16T02:06:05.338533Z",
     "iopub.status.busy": "2022-06-16T02:06:05.337983Z",
     "iopub.status.idle": "2022-06-16T02:06:05.340546Z",
     "shell.execute_reply": "2022-06-16T02:06:05.341093Z",
     "shell.execute_reply.started": "2022-06-16T01:20:51.974680Z"
    },
    "id": "1B5HuX9XItqy",
    "outputId": "ba0b4477-e132-4646-a371-eb28b7e145fd",
    "papermill": {
     "duration": 0.203441,
     "end_time": "2022-06-16T02:06:05.341234",
     "exception": false,
     "start_time": "2022-06-16T02:06:05.137793",
     "status": "completed"
    },
    "tags": []
   },
   "outputs": [
    {
     "data": {
      "text/plain": [
       "array([[-1.11803399,  0.        ],\n",
       "       [ 0.        ,  1.67541563],\n",
       "       [-1.11803399,  0.        ],\n",
       "       [ 1.11803399, -0.20942695],\n",
       "       [ 1.11803399, -1.46598868]])"
      ]
     },
     "execution_count": 52,
     "metadata": {},
     "output_type": "execute_result"
    }
   ],
   "source": [
    "from sklearn.preprocessing import StandardScaler, MinMaxScaler\n",
    "ss = StandardScaler()\n",
    "X_num_impute_ss = ss.fit_transform(X_num_impute)\n",
    "X_num_impute_ss"
   ]
  },
  {
   "cell_type": "code",
   "execution_count": 53,
   "id": "b1bb9d8b",
   "metadata": {
    "execution": {
     "iopub.execute_input": "2022-06-16T02:06:05.738060Z",
     "iopub.status.busy": "2022-06-16T02:06:05.735394Z",
     "iopub.status.idle": "2022-06-16T02:06:05.749166Z",
     "shell.execute_reply": "2022-06-16T02:06:05.749696Z",
     "shell.execute_reply.started": "2022-06-16T01:20:51.985686Z"
    },
    "id": "UR9noEKII6s7",
    "outputId": "ff968fe1-eb65-41fa-efd3-74b97596c81a",
    "papermill": {
     "duration": 0.213615,
     "end_time": "2022-06-16T02:06:05.749857",
     "exception": false,
     "start_time": "2022-06-16T02:06:05.536242",
     "status": "completed"
    },
    "tags": []
   },
   "outputs": [
    {
     "data": {
      "text/plain": [
       "array([[-1.11803399,  0.        ],\n",
       "       [ 0.        ,  1.67541563],\n",
       "       [-1.11803399,  0.        ],\n",
       "       [ 1.11803399, -0.20942695],\n",
       "       [ 1.11803399, -1.46598868]])"
      ]
     },
     "execution_count": 53,
     "metadata": {},
     "output_type": "execute_result"
    }
   ],
   "source": [
    "from sklearn.pipeline import make_pipeline\n",
    "from sklearn.impute import SimpleImputer\n",
    "from sklearn.preprocessing import StandardScaler\n",
    "num_pl = make_pipeline(SimpleImputer(strategy='mean'),StandardScaler())\n",
    "num_pl.fit_transform(X_num)"
   ]
  },
  {
   "cell_type": "markdown",
   "id": "5338358e",
   "metadata": {
    "id": "WDVRjHQuVZrg",
    "papermill": {
     "duration": 0.202157,
     "end_time": "2022-06-16T02:06:06.152193",
     "exception": false,
     "start_time": "2022-06-16T02:06:05.950036",
     "status": "completed"
    },
    "tags": []
   },
   "source": [
    "# 3/31"
   ]
  },
  {
   "cell_type": "code",
   "execution_count": 54,
   "id": "463d9a79",
   "metadata": {
    "execution": {
     "iopub.execute_input": "2022-06-16T02:06:06.559723Z",
     "iopub.status.busy": "2022-06-16T02:06:06.559041Z",
     "iopub.status.idle": "2022-06-16T02:06:06.562797Z",
     "shell.execute_reply": "2022-06-16T02:06:06.563287Z",
     "shell.execute_reply.started": "2022-06-16T01:20:52.009009Z"
    },
    "id": "YvJZI9w7VcS_",
    "outputId": "1d4c7c9c-2c21-428b-e27b-9adb3f12defc",
    "papermill": {
     "duration": 0.212546,
     "end_time": "2022-06-16T02:06:06.563456",
     "exception": false,
     "start_time": "2022-06-16T02:06:06.350910",
     "status": "completed"
    },
    "tags": []
   },
   "outputs": [
    {
     "data": {
      "text/html": [
       "<style type=\"text/css\">\n",
       "#T_bc330_row2_col0, #T_bc330_row3_col1, #T_bc330_row4_col1 {\n",
       "  background-color: yellow;\n",
       "}\n",
       "</style>\n",
       "<table id=\"T_bc330_\">\n",
       "  <thead>\n",
       "    <tr>\n",
       "      <th class=\"blank level0\" >&nbsp;</th>\n",
       "      <th class=\"col_heading level0 col0\" >size</th>\n",
       "      <th class=\"col_heading level0 col1\" >color</th>\n",
       "    </tr>\n",
       "  </thead>\n",
       "  <tbody>\n",
       "    <tr>\n",
       "      <th id=\"T_bc330_level0_row0\" class=\"row_heading level0 row0\" >0</th>\n",
       "      <td id=\"T_bc330_row0_col0\" class=\"data row0 col0\" >M</td>\n",
       "      <td id=\"T_bc330_row0_col1\" class=\"data row0 col1\" >green</td>\n",
       "    </tr>\n",
       "    <tr>\n",
       "      <th id=\"T_bc330_level0_row1\" class=\"row_heading level0 row1\" >1</th>\n",
       "      <td id=\"T_bc330_row1_col0\" class=\"data row1 col0\" >S</td>\n",
       "      <td id=\"T_bc330_row1_col1\" class=\"data row1 col1\" >blue</td>\n",
       "    </tr>\n",
       "    <tr>\n",
       "      <th id=\"T_bc330_level0_row2\" class=\"row_heading level0 row2\" >2</th>\n",
       "      <td id=\"T_bc330_row2_col0\" class=\"data row2 col0\" >nan</td>\n",
       "      <td id=\"T_bc330_row2_col1\" class=\"data row2 col1\" >blue</td>\n",
       "    </tr>\n",
       "    <tr>\n",
       "      <th id=\"T_bc330_level0_row3\" class=\"row_heading level0 row3\" >3</th>\n",
       "      <td id=\"T_bc330_row3_col0\" class=\"data row3 col0\" >M</td>\n",
       "      <td id=\"T_bc330_row3_col1\" class=\"data row3 col1\" >nan</td>\n",
       "    </tr>\n",
       "    <tr>\n",
       "      <th id=\"T_bc330_level0_row4\" class=\"row_heading level0 row4\" >4</th>\n",
       "      <td id=\"T_bc330_row4_col0\" class=\"data row4 col0\" >XL</td>\n",
       "      <td id=\"T_bc330_row4_col1\" class=\"data row4 col1\" >nan</td>\n",
       "    </tr>\n",
       "  </tbody>\n",
       "</table>\n"
      ],
      "text/plain": [
       "<pandas.io.formats.style.Styler at 0x7fba53ccc3d0>"
      ]
     },
     "execution_count": 54,
     "metadata": {},
     "output_type": "execute_result"
    }
   ],
   "source": [
    "x_col_cat = ['size','color']\n",
    "x_cat = X[x_col_cat]\n",
    "x_cat.style.highlight_null(null_color='yellow')"
   ]
  },
  {
   "cell_type": "code",
   "execution_count": 55,
   "id": "f16f0db0",
   "metadata": {
    "execution": {
     "iopub.execute_input": "2022-06-16T02:06:06.971415Z",
     "iopub.status.busy": "2022-06-16T02:06:06.965539Z",
     "iopub.status.idle": "2022-06-16T02:06:06.973478Z",
     "shell.execute_reply": "2022-06-16T02:06:06.973975Z",
     "shell.execute_reply.started": "2022-06-16T01:20:52.033057Z"
    },
    "id": "O17oQAueVcPX",
    "outputId": "7c002054-834c-4ab7-bf99-c5ba15eb1026",
    "papermill": {
     "duration": 0.209382,
     "end_time": "2022-06-16T02:06:06.974129",
     "exception": false,
     "start_time": "2022-06-16T02:06:06.764747",
     "status": "completed"
    },
    "tags": []
   },
   "outputs": [
    {
     "data": {
      "text/plain": [
       "array([['M', 'green'],\n",
       "       ['S', 'blue'],\n",
       "       ['M', 'blue'],\n",
       "       ['M', 'blue'],\n",
       "       ['XL', 'blue']], dtype=object)"
      ]
     },
     "execution_count": 55,
     "metadata": {},
     "output_type": "execute_result"
    }
   ],
   "source": [
    "si = SimpleImputer(strategy=\"most_frequent\")\n",
    "x_cat_impute = si.fit_transform(x_cat)\n",
    "x_cat_impute"
   ]
  },
  {
   "cell_type": "code",
   "execution_count": 56,
   "id": "bfcdc2fe",
   "metadata": {
    "execution": {
     "iopub.execute_input": "2022-06-16T02:06:07.375654Z",
     "iopub.status.busy": "2022-06-16T02:06:07.374886Z",
     "iopub.status.idle": "2022-06-16T02:06:07.377900Z",
     "shell.execute_reply": "2022-06-16T02:06:07.378353Z",
     "shell.execute_reply.started": "2022-06-16T01:20:52.057166Z"
    },
    "id": "oO9eIkxkYdbo",
    "outputId": "31a20191-e737-4e62-e25f-24afc25999ff",
    "papermill": {
     "duration": 0.206709,
     "end_time": "2022-06-16T02:06:07.378500",
     "exception": false,
     "start_time": "2022-06-16T02:06:07.171791",
     "status": "completed"
    },
    "tags": []
   },
   "outputs": [
    {
     "data": {
      "text/plain": [
       "array([[1., 0., 0., 0., 1.],\n",
       "       [0., 1., 0., 1., 0.],\n",
       "       [1., 0., 0., 1., 0.],\n",
       "       [1., 0., 0., 1., 0.],\n",
       "       [0., 0., 1., 1., 0.]])"
      ]
     },
     "execution_count": 56,
     "metadata": {},
     "output_type": "execute_result"
    }
   ],
   "source": [
    "from sklearn.preprocessing import OneHotEncoder\n",
    "oh = OneHotEncoder(sparse = False)\n",
    "x_cat_impute_oh = oh.fit_transform(x_cat_impute)\n",
    "x_cat_impute_oh"
   ]
  },
  {
   "cell_type": "code",
   "execution_count": 57,
   "id": "83af5501",
   "metadata": {
    "execution": {
     "iopub.execute_input": "2022-06-16T02:06:07.785226Z",
     "iopub.status.busy": "2022-06-16T02:06:07.784523Z",
     "iopub.status.idle": "2022-06-16T02:06:07.788785Z",
     "shell.execute_reply": "2022-06-16T02:06:07.789299Z",
     "shell.execute_reply.started": "2022-06-16T01:20:52.081083Z"
    },
    "id": "RQvIHWWvYdYH",
    "outputId": "172db9e7-ad0f-4d03-ddc5-ac1a172117ff",
    "papermill": {
     "duration": 0.212558,
     "end_time": "2022-06-16T02:06:07.789455",
     "exception": false,
     "start_time": "2022-06-16T02:06:07.576897",
     "status": "completed"
    },
    "tags": []
   },
   "outputs": [
    {
     "data": {
      "text/plain": [
       "array(['x0_M', 'x0_S', 'x0_XL', 'x1_blue', 'x1_green'], dtype=object)"
      ]
     },
     "execution_count": 57,
     "metadata": {},
     "output_type": "execute_result"
    }
   ],
   "source": [
    "oh.get_feature_names_out()"
   ]
  },
  {
   "cell_type": "code",
   "execution_count": 58,
   "id": "f2bfb3c8",
   "metadata": {
    "execution": {
     "iopub.execute_input": "2022-06-16T02:06:08.211914Z",
     "iopub.status.busy": "2022-06-16T02:06:08.211153Z",
     "iopub.status.idle": "2022-06-16T02:06:08.214191Z",
     "shell.execute_reply": "2022-06-16T02:06:08.214661Z",
     "shell.execute_reply.started": "2022-06-16T01:20:52.094169Z"
    },
    "id": "Abn9oOwdYdUi",
    "outputId": "42c4056b-f15b-4890-c44b-68c76b2a1b31",
    "papermill": {
     "duration": 0.208869,
     "end_time": "2022-06-16T02:06:08.214828",
     "exception": false,
     "start_time": "2022-06-16T02:06:08.005959",
     "status": "completed"
    },
    "tags": []
   },
   "outputs": [
    {
     "data": {
      "text/plain": [
       "array(['size_M', 'size_S', 'size_XL', 'color_blue', 'color_green'],\n",
       "      dtype=object)"
      ]
     },
     "execution_count": 58,
     "metadata": {},
     "output_type": "execute_result"
    }
   ],
   "source": [
    "oh.get_feature_names_out(['size','color'])"
   ]
  },
  {
   "cell_type": "code",
   "execution_count": 59,
   "id": "3d66744e",
   "metadata": {
    "execution": {
     "iopub.execute_input": "2022-06-16T02:06:08.617459Z",
     "iopub.status.busy": "2022-06-16T02:06:08.616494Z",
     "iopub.status.idle": "2022-06-16T02:06:08.629841Z",
     "shell.execute_reply": "2022-06-16T02:06:08.630262Z",
     "shell.execute_reply.started": "2022-06-16T01:20:52.112627Z"
    },
    "id": "WExliwTjYdPX",
    "outputId": "4af6d38f-cc87-4ea1-9a7c-c8b8e0144af3",
    "papermill": {
     "duration": 0.217378,
     "end_time": "2022-06-16T02:06:08.630421",
     "exception": false,
     "start_time": "2022-06-16T02:06:08.413043",
     "status": "completed"
    },
    "tags": []
   },
   "outputs": [
    {
     "data": {
      "text/html": [
       "<div>\n",
       "<style scoped>\n",
       "    .dataframe tbody tr th:only-of-type {\n",
       "        vertical-align: middle;\n",
       "    }\n",
       "\n",
       "    .dataframe tbody tr th {\n",
       "        vertical-align: top;\n",
       "    }\n",
       "\n",
       "    .dataframe thead th {\n",
       "        text-align: right;\n",
       "    }\n",
       "</style>\n",
       "<table border=\"1\" class=\"dataframe\">\n",
       "  <thead>\n",
       "    <tr style=\"text-align: right;\">\n",
       "      <th></th>\n",
       "      <th>size_M</th>\n",
       "      <th>size_S</th>\n",
       "      <th>size_XL</th>\n",
       "      <th>color_blue</th>\n",
       "      <th>color_green</th>\n",
       "    </tr>\n",
       "  </thead>\n",
       "  <tbody>\n",
       "    <tr>\n",
       "      <th>0</th>\n",
       "      <td>1.0</td>\n",
       "      <td>0.0</td>\n",
       "      <td>0.0</td>\n",
       "      <td>0.0</td>\n",
       "      <td>1.0</td>\n",
       "    </tr>\n",
       "    <tr>\n",
       "      <th>1</th>\n",
       "      <td>0.0</td>\n",
       "      <td>1.0</td>\n",
       "      <td>0.0</td>\n",
       "      <td>1.0</td>\n",
       "      <td>0.0</td>\n",
       "    </tr>\n",
       "    <tr>\n",
       "      <th>2</th>\n",
       "      <td>1.0</td>\n",
       "      <td>0.0</td>\n",
       "      <td>0.0</td>\n",
       "      <td>1.0</td>\n",
       "      <td>0.0</td>\n",
       "    </tr>\n",
       "    <tr>\n",
       "      <th>3</th>\n",
       "      <td>1.0</td>\n",
       "      <td>0.0</td>\n",
       "      <td>0.0</td>\n",
       "      <td>1.0</td>\n",
       "      <td>0.0</td>\n",
       "    </tr>\n",
       "    <tr>\n",
       "      <th>4</th>\n",
       "      <td>0.0</td>\n",
       "      <td>0.0</td>\n",
       "      <td>1.0</td>\n",
       "      <td>1.0</td>\n",
       "      <td>0.0</td>\n",
       "    </tr>\n",
       "  </tbody>\n",
       "</table>\n",
       "</div>"
      ],
      "text/plain": [
       "   size_M  size_S  size_XL  color_blue  color_green\n",
       "0     1.0     0.0      0.0         0.0          1.0\n",
       "1     0.0     1.0      0.0         1.0          0.0\n",
       "2     1.0     0.0      0.0         1.0          0.0\n",
       "3     1.0     0.0      0.0         1.0          0.0\n",
       "4     0.0     0.0      1.0         1.0          0.0"
      ]
     },
     "execution_count": 59,
     "metadata": {},
     "output_type": "execute_result"
    }
   ],
   "source": [
    "pd.DataFrame(x_cat_impute_oh, columns=oh.get_feature_names_out(['size','color']))"
   ]
  },
  {
   "cell_type": "code",
   "execution_count": 60,
   "id": "97b354ae",
   "metadata": {
    "execution": {
     "iopub.execute_input": "2022-06-16T02:06:09.037184Z",
     "iopub.status.busy": "2022-06-16T02:06:09.036252Z",
     "iopub.status.idle": "2022-06-16T02:06:09.041042Z",
     "shell.execute_reply": "2022-06-16T02:06:09.041473Z",
     "shell.execute_reply.started": "2022-06-16T01:20:52.140584Z"
    },
    "papermill": {
     "duration": 0.209403,
     "end_time": "2022-06-16T02:06:09.041655",
     "exception": false,
     "start_time": "2022-06-16T02:06:08.832252",
     "status": "completed"
    },
    "tags": []
   },
   "outputs": [
    {
     "data": {
      "text/plain": [
       "'1.0.1'"
      ]
     },
     "execution_count": 60,
     "metadata": {},
     "output_type": "execute_result"
    }
   ],
   "source": [
    "import sklearn\n",
    "sklearn.__version__"
   ]
  },
  {
   "cell_type": "code",
   "execution_count": 61,
   "id": "6f73dcbb",
   "metadata": {
    "execution": {
     "iopub.execute_input": "2022-06-16T02:06:09.442920Z",
     "iopub.status.busy": "2022-06-16T02:06:09.441970Z",
     "iopub.status.idle": "2022-06-16T02:06:09.452641Z",
     "shell.execute_reply": "2022-06-16T02:06:09.453127Z",
     "shell.execute_reply.started": "2022-06-16T01:20:52.158143Z"
    },
    "papermill": {
     "duration": 0.213419,
     "end_time": "2022-06-16T02:06:09.453285",
     "exception": false,
     "start_time": "2022-06-16T02:06:09.239866",
     "status": "completed"
    },
    "tags": []
   },
   "outputs": [
    {
     "data": {
      "text/plain": [
       "array([[1., 0., 0., 0., 1.],\n",
       "       [0., 1., 0., 1., 0.],\n",
       "       [1., 0., 0., 1., 0.],\n",
       "       [1., 0., 0., 1., 0.],\n",
       "       [0., 0., 1., 1., 0.]])"
      ]
     },
     "execution_count": 61,
     "metadata": {},
     "output_type": "execute_result"
    }
   ],
   "source": [
    "from sklearn.pipeline import make_pipeline\n",
    "from sklearn.impute import SimpleImputer\n",
    "from sklearn.preprocessing import OneHotEncoder\n",
    "cat_pl = make_pipeline(SimpleImputer(strategy='most_frequent'),OneHotEncoder(sparse=False))\n",
    "cat_pl.fit_transform(x_cat)"
   ]
  },
  {
   "cell_type": "code",
   "execution_count": 62,
   "id": "e757d9c1",
   "metadata": {
    "execution": {
     "iopub.execute_input": "2022-06-16T02:06:09.858168Z",
     "iopub.status.busy": "2022-06-16T02:06:09.857262Z",
     "iopub.status.idle": "2022-06-16T02:06:09.863462Z",
     "shell.execute_reply": "2022-06-16T02:06:09.862861Z",
     "shell.execute_reply.started": "2022-06-16T01:20:52.181792Z"
    },
    "papermill": {
     "duration": 0.209001,
     "end_time": "2022-06-16T02:06:09.863590",
     "exception": false,
     "start_time": "2022-06-16T02:06:09.654589",
     "status": "completed"
    },
    "tags": []
   },
   "outputs": [
    {
     "data": {
      "text/plain": [
       "array(['size_M', 'size_S', 'size_XL', 'color_blue', 'color_green'],\n",
       "      dtype=object)"
      ]
     },
     "execution_count": 62,
     "metadata": {},
     "output_type": "execute_result"
    }
   ],
   "source": [
    "oh_in_pl = cat_pl.named_steps['onehotencoder']\n",
    "oh_in_pl.get_feature_names_out(['size','color'])"
   ]
  },
  {
   "cell_type": "code",
   "execution_count": 63,
   "id": "c499e243",
   "metadata": {
    "execution": {
     "iopub.execute_input": "2022-06-16T02:06:10.272984Z",
     "iopub.status.busy": "2022-06-16T02:06:10.271947Z",
     "iopub.status.idle": "2022-06-16T02:06:10.275619Z",
     "shell.execute_reply": "2022-06-16T02:06:10.276135Z",
     "shell.execute_reply.started": "2022-06-16T01:20:52.194424Z"
    },
    "papermill": {
     "duration": 0.210503,
     "end_time": "2022-06-16T02:06:10.276301",
     "exception": false,
     "start_time": "2022-06-16T02:06:10.065798",
     "status": "completed"
    },
    "tags": []
   },
   "outputs": [
    {
     "data": {
      "text/plain": [
       "array([['M', 'green', 200.0, nan],\n",
       "       ['S', 'blue', nan, 35000.0],\n",
       "       [nan, 'blue', 200.0, nan],\n",
       "       ['M', nan, 300.0, 20000.0],\n",
       "       ['XL', nan, 300.0, 10000.0]], dtype=object)"
      ]
     },
     "execution_count": 63,
     "metadata": {},
     "output_type": "execute_result"
    }
   ],
   "source": [
    "np.concatenate([X])"
   ]
  },
  {
   "cell_type": "code",
   "execution_count": 64,
   "id": "de19d6d9",
   "metadata": {
    "execution": {
     "iopub.execute_input": "2022-06-16T02:06:10.688547Z",
     "iopub.status.busy": "2022-06-16T02:06:10.687901Z",
     "iopub.status.idle": "2022-06-16T02:06:10.707669Z",
     "shell.execute_reply": "2022-06-16T02:06:10.708178Z",
     "shell.execute_reply.started": "2022-06-16T01:20:52.210360Z"
    },
    "papermill": {
     "duration": 0.227544,
     "end_time": "2022-06-16T02:06:10.708342",
     "exception": false,
     "start_time": "2022-06-16T02:06:10.480798",
     "status": "completed"
    },
    "tags": []
   },
   "outputs": [
    {
     "data": {
      "text/plain": [
       "array([[-1.12,  0.  ,  1.  ,  0.  ,  0.  ,  0.  ,  1.  ],\n",
       "       [ 0.  ,  1.68,  0.  ,  1.  ,  0.  ,  1.  ,  0.  ],\n",
       "       [-1.12,  0.  ,  1.  ,  0.  ,  0.  ,  1.  ,  0.  ],\n",
       "       [ 1.12, -0.21,  1.  ,  0.  ,  0.  ,  1.  ,  0.  ],\n",
       "       [ 1.12, -1.47,  0.  ,  0.  ,  1.  ,  1.  ,  0.  ]])"
      ]
     },
     "execution_count": 64,
     "metadata": {},
     "output_type": "execute_result"
    }
   ],
   "source": [
    "from sklearn.compose import ColumnTransformer\n",
    "data_pl = ColumnTransformer([\n",
    "    ('num_pl',num_pl, X_col_num),\n",
    "    ('cat_pl',cat_pl, x_col_cat)\n",
    "])\n",
    "data_pl.fit_transform(X).round(2)"
   ]
  },
  {
   "cell_type": "markdown",
   "id": "31d1499b",
   "metadata": {
    "papermill": {
     "duration": 0.204919,
     "end_time": "2022-06-16T02:06:11.117015",
     "exception": false,
     "start_time": "2022-06-16T02:06:10.912096",
     "status": "completed"
    },
    "tags": []
   },
   "source": [
    "# 4/7"
   ]
  },
  {
   "cell_type": "code",
   "execution_count": 65,
   "id": "16c02b00",
   "metadata": {
    "execution": {
     "iopub.execute_input": "2022-06-16T02:06:11.539675Z",
     "iopub.status.busy": "2022-06-16T02:06:11.527931Z",
     "iopub.status.idle": "2022-06-16T02:06:11.542164Z",
     "shell.execute_reply": "2022-06-16T02:06:11.542736Z",
     "shell.execute_reply.started": "2022-06-16T01:20:52.255857Z"
    },
    "papermill": {
     "duration": 0.223391,
     "end_time": "2022-06-16T02:06:11.542897",
     "exception": false,
     "start_time": "2022-06-16T02:06:11.319506",
     "status": "completed"
    },
    "tags": []
   },
   "outputs": [
    {
     "data": {
      "text/plain": [
       "array(['x0_M', 'x0_S', 'x0_XL', 'x1_blue', 'x1_green'], dtype=object)"
      ]
     },
     "execution_count": 65,
     "metadata": {},
     "output_type": "execute_result"
    }
   ],
   "source": [
    "data_pl = ColumnTransformer([\n",
    "    ('num_pl',num_pl, X_col_num),\n",
    "    ('cat_pl',cat_pl, x_col_cat)\n",
    "])\n",
    "data_preprocessed = data_pl.fit_transform(X)\n",
    "cat_pl = data_pl.named_transformers_['cat_pl']\n",
    "cat_pl.named_steps.keys()\n",
    "cat_pl.named_steps['onehotencoder'].get_feature_names_out()"
   ]
  },
  {
   "cell_type": "code",
   "execution_count": 66,
   "id": "b7c07729",
   "metadata": {
    "execution": {
     "iopub.execute_input": "2022-06-16T02:06:11.956686Z",
     "iopub.status.busy": "2022-06-16T02:06:11.956040Z",
     "iopub.status.idle": "2022-06-16T02:06:11.972796Z",
     "shell.execute_reply": "2022-06-16T02:06:11.973291Z",
     "shell.execute_reply.started": "2022-06-16T01:20:52.284488Z"
    },
    "papermill": {
     "duration": 0.226798,
     "end_time": "2022-06-16T02:06:11.973459",
     "exception": false,
     "start_time": "2022-06-16T02:06:11.746661",
     "status": "completed"
    },
    "tags": []
   },
   "outputs": [
    {
     "name": "stdout",
     "output_type": "stream",
     "text": [
      "['price', 'quantity', 'price_M', 'price_S', 'price_XL', 'quantity_blue', 'quantity_green']\n"
     ]
    },
    {
     "data": {
      "text/html": [
       "<div>\n",
       "<style scoped>\n",
       "    .dataframe tbody tr th:only-of-type {\n",
       "        vertical-align: middle;\n",
       "    }\n",
       "\n",
       "    .dataframe tbody tr th {\n",
       "        vertical-align: top;\n",
       "    }\n",
       "\n",
       "    .dataframe thead th {\n",
       "        text-align: right;\n",
       "    }\n",
       "</style>\n",
       "<table border=\"1\" class=\"dataframe\">\n",
       "  <thead>\n",
       "    <tr style=\"text-align: right;\">\n",
       "      <th></th>\n",
       "      <th>price</th>\n",
       "      <th>quantity</th>\n",
       "      <th>price_M</th>\n",
       "      <th>price_S</th>\n",
       "      <th>price_XL</th>\n",
       "      <th>quantity_blue</th>\n",
       "      <th>quantity_green</th>\n",
       "    </tr>\n",
       "  </thead>\n",
       "  <tbody>\n",
       "    <tr>\n",
       "      <th>0</th>\n",
       "      <td>-1.118034</td>\n",
       "      <td>0.000000</td>\n",
       "      <td>1.0</td>\n",
       "      <td>0.0</td>\n",
       "      <td>0.0</td>\n",
       "      <td>0.0</td>\n",
       "      <td>1.0</td>\n",
       "    </tr>\n",
       "    <tr>\n",
       "      <th>1</th>\n",
       "      <td>0.000000</td>\n",
       "      <td>1.675416</td>\n",
       "      <td>0.0</td>\n",
       "      <td>1.0</td>\n",
       "      <td>0.0</td>\n",
       "      <td>1.0</td>\n",
       "      <td>0.0</td>\n",
       "    </tr>\n",
       "    <tr>\n",
       "      <th>2</th>\n",
       "      <td>-1.118034</td>\n",
       "      <td>0.000000</td>\n",
       "      <td>1.0</td>\n",
       "      <td>0.0</td>\n",
       "      <td>0.0</td>\n",
       "      <td>1.0</td>\n",
       "      <td>0.0</td>\n",
       "    </tr>\n",
       "    <tr>\n",
       "      <th>3</th>\n",
       "      <td>1.118034</td>\n",
       "      <td>-0.209427</td>\n",
       "      <td>1.0</td>\n",
       "      <td>0.0</td>\n",
       "      <td>0.0</td>\n",
       "      <td>1.0</td>\n",
       "      <td>0.0</td>\n",
       "    </tr>\n",
       "    <tr>\n",
       "      <th>4</th>\n",
       "      <td>1.118034</td>\n",
       "      <td>-1.465989</td>\n",
       "      <td>0.0</td>\n",
       "      <td>0.0</td>\n",
       "      <td>1.0</td>\n",
       "      <td>1.0</td>\n",
       "      <td>0.0</td>\n",
       "    </tr>\n",
       "  </tbody>\n",
       "</table>\n",
       "</div>"
      ],
      "text/plain": [
       "      price  quantity  price_M  price_S  price_XL  quantity_blue  \\\n",
       "0 -1.118034  0.000000      1.0      0.0       0.0            0.0   \n",
       "1  0.000000  1.675416      0.0      1.0       0.0            1.0   \n",
       "2 -1.118034  0.000000      1.0      0.0       0.0            1.0   \n",
       "3  1.118034 -0.209427      1.0      0.0       0.0            1.0   \n",
       "4  1.118034 -1.465989      0.0      0.0       1.0            1.0   \n",
       "\n",
       "   quantity_green  \n",
       "0             1.0  \n",
       "1             0.0  \n",
       "2             0.0  \n",
       "3             0.0  \n",
       "4             0.0  "
      ]
     },
     "execution_count": 66,
     "metadata": {},
     "output_type": "execute_result"
    }
   ],
   "source": [
    "x_col_cat_oh = data_pl.named_transformers_['cat_pl'].named_steps['onehotencoder'].get_feature_names_out(X_col_num)\n",
    "columns = X_col_num + list(x_col_cat_oh)\n",
    "print(X_col_num+list(x_col_cat_oh))\n",
    "pd.DataFrame(data_preprocessed, columns = columns)"
   ]
  },
  {
   "cell_type": "code",
   "execution_count": 67,
   "id": "f826012c",
   "metadata": {
    "execution": {
     "iopub.execute_input": "2022-06-16T02:06:12.389436Z",
     "iopub.status.busy": "2022-06-16T02:06:12.388818Z",
     "iopub.status.idle": "2022-06-16T02:06:12.403498Z",
     "shell.execute_reply": "2022-06-16T02:06:12.404124Z",
     "shell.execute_reply.started": "2022-06-16T01:20:52.308387Z"
    },
    "papermill": {
     "duration": 0.224436,
     "end_time": "2022-06-16T02:06:12.404309",
     "exception": false,
     "start_time": "2022-06-16T02:06:12.179873",
     "status": "completed"
    },
    "tags": []
   },
   "outputs": [
    {
     "data": {
      "text/html": [
       "<div>\n",
       "<style scoped>\n",
       "    .dataframe tbody tr th:only-of-type {\n",
       "        vertical-align: middle;\n",
       "    }\n",
       "\n",
       "    .dataframe tbody tr th {\n",
       "        vertical-align: top;\n",
       "    }\n",
       "\n",
       "    .dataframe thead th {\n",
       "        text-align: right;\n",
       "    }\n",
       "</style>\n",
       "<table border=\"1\" class=\"dataframe\">\n",
       "  <thead>\n",
       "    <tr style=\"text-align: right;\">\n",
       "      <th></th>\n",
       "      <th>0</th>\n",
       "      <th>1</th>\n",
       "      <th>2</th>\n",
       "    </tr>\n",
       "  </thead>\n",
       "  <tbody>\n",
       "    <tr>\n",
       "      <th>Red</th>\n",
       "      <td>0.0</td>\n",
       "      <td>1.0</td>\n",
       "      <td>0.0</td>\n",
       "    </tr>\n",
       "    <tr>\n",
       "      <th>Yellow</th>\n",
       "      <td>0.0</td>\n",
       "      <td>0.0</td>\n",
       "      <td>1.0</td>\n",
       "    </tr>\n",
       "    <tr>\n",
       "      <th>Red</th>\n",
       "      <td>0.0</td>\n",
       "      <td>1.0</td>\n",
       "      <td>0.0</td>\n",
       "    </tr>\n",
       "    <tr>\n",
       "      <th>Brown</th>\n",
       "      <td>1.0</td>\n",
       "      <td>0.0</td>\n",
       "      <td>0.0</td>\n",
       "    </tr>\n",
       "    <tr>\n",
       "      <th>Yellow</th>\n",
       "      <td>0.0</td>\n",
       "      <td>0.0</td>\n",
       "      <td>1.0</td>\n",
       "    </tr>\n",
       "  </tbody>\n",
       "</table>\n",
       "</div>"
      ],
      "text/plain": [
       "          0    1    2\n",
       "Red     0.0  1.0  0.0\n",
       "Yellow  0.0  0.0  1.0\n",
       "Red     0.0  1.0  0.0\n",
       "Brown   1.0  0.0  0.0\n",
       "Yellow  0.0  0.0  1.0"
      ]
     },
     "execution_count": 67,
     "metadata": {},
     "output_type": "execute_result"
    }
   ],
   "source": [
    "from sklearn.preprocessing import OneHotEncoder\n",
    "import pandas as pd\n",
    "import numpy as np\n",
    "\n",
    "fruits_dict = { 'Fruits':['Apple','Banana','Cherry','Dates','Eggfruit'],\n",
    "'Quantity': [5, 10, 8, 3, 7],\n",
    "'Color': ['Red', 'Yellow', 'Red', 'Brown', 'Yellow']}\n",
    "X = pd.DataFrame(fruits_dict)\n",
    "\n",
    "x_color = np.array(X.Color).reshape(-1,1)\n",
    "\n",
    "oh = OneHotEncoder(sparse = False)\n",
    "x_color_oh = oh.fit_transform(x_color)\n",
    "\n",
    "pd.DataFrame(x_color_oh, index = ['Red', 'Yellow', 'Red', 'Brown', 'Yellow'])"
   ]
  },
  {
   "cell_type": "markdown",
   "id": "006b9d6c",
   "metadata": {
    "papermill": {
     "duration": 0.203197,
     "end_time": "2022-06-16T02:06:12.807371",
     "exception": false,
     "start_time": "2022-06-16T02:06:12.604174",
     "status": "completed"
    },
    "tags": []
   },
   "source": [
    "# 4/12"
   ]
  },
  {
   "cell_type": "code",
   "execution_count": 68,
   "id": "08135467",
   "metadata": {
    "execution": {
     "iopub.execute_input": "2022-06-16T02:06:13.252747Z",
     "iopub.status.busy": "2022-06-16T02:06:13.252137Z",
     "iopub.status.idle": "2022-06-16T02:06:13.761524Z",
     "shell.execute_reply": "2022-06-16T02:06:13.762083Z",
     "shell.execute_reply.started": "2022-06-16T01:20:52.332890Z"
    },
    "papermill": {
     "duration": 0.720416,
     "end_time": "2022-06-16T02:06:13.762685",
     "exception": false,
     "start_time": "2022-06-16T02:06:13.042269",
     "status": "completed"
    },
    "tags": []
   },
   "outputs": [],
   "source": [
    "import pandas as pd\n",
    "import numpy as np\n",
    "import matplotlib.pyplot as plt\n",
    "import seaborn as sns\n",
    "\n",
    "data_url = \"http://lib.stat.cmu.edu/datasets/boston\"\n",
    "raw_df = pd.read_csv(data_url, sep=\"\\s+\", skiprows=22, header=None)\n",
    "data = np.hstack([raw_df.values[::2, :], raw_df.values[1::2, :2]])\n",
    "target = raw_df.values[1::2, 2]"
   ]
  },
  {
   "cell_type": "code",
   "execution_count": 69,
   "id": "87ce283f",
   "metadata": {
    "execution": {
     "iopub.execute_input": "2022-06-16T02:06:14.183461Z",
     "iopub.status.busy": "2022-06-16T02:06:14.182839Z",
     "iopub.status.idle": "2022-06-16T02:06:14.185364Z",
     "shell.execute_reply": "2022-06-16T02:06:14.185870Z",
     "shell.execute_reply.started": "2022-06-16T01:20:52.721665Z"
    },
    "papermill": {
     "duration": 0.214388,
     "end_time": "2022-06-16T02:06:14.186013",
     "exception": false,
     "start_time": "2022-06-16T02:06:13.971625",
     "status": "completed"
    },
    "tags": []
   },
   "outputs": [
    {
     "data": {
      "text/plain": [
       "array([[6.3200e-03, 1.8000e+01, 2.3100e+00, ..., 1.5300e+01, 3.9690e+02,\n",
       "        4.9800e+00],\n",
       "       [2.7310e-02, 0.0000e+00, 7.0700e+00, ..., 1.7800e+01, 3.9690e+02,\n",
       "        9.1400e+00],\n",
       "       [2.7290e-02, 0.0000e+00, 7.0700e+00, ..., 1.7800e+01, 3.9283e+02,\n",
       "        4.0300e+00],\n",
       "       ...,\n",
       "       [6.0760e-02, 0.0000e+00, 1.1930e+01, ..., 2.1000e+01, 3.9690e+02,\n",
       "        5.6400e+00],\n",
       "       [1.0959e-01, 0.0000e+00, 1.1930e+01, ..., 2.1000e+01, 3.9345e+02,\n",
       "        6.4800e+00],\n",
       "       [4.7410e-02, 0.0000e+00, 1.1930e+01, ..., 2.1000e+01, 3.9690e+02,\n",
       "        7.8800e+00]])"
      ]
     },
     "execution_count": 69,
     "metadata": {},
     "output_type": "execute_result"
    }
   ],
   "source": [
    "data"
   ]
  },
  {
   "cell_type": "markdown",
   "id": "7896ae34",
   "metadata": {
    "papermill": {
     "duration": 0.207271,
     "end_time": "2022-06-16T02:06:14.598358",
     "exception": false,
     "start_time": "2022-06-16T02:06:14.391087",
     "status": "completed"
    },
    "tags": []
   },
   "source": [
    "# 4/14"
   ]
  },
  {
   "cell_type": "code",
   "execution_count": 70,
   "id": "d0d3f661",
   "metadata": {
    "execution": {
     "iopub.execute_input": "2022-06-16T02:06:15.013181Z",
     "iopub.status.busy": "2022-06-16T02:06:15.012511Z",
     "iopub.status.idle": "2022-06-16T02:06:15.016678Z",
     "shell.execute_reply": "2022-06-16T02:06:15.017230Z",
     "shell.execute_reply.started": "2022-06-16T01:20:52.731567Z"
    },
    "papermill": {
     "duration": 0.211809,
     "end_time": "2022-06-16T02:06:15.017380",
     "exception": false,
     "start_time": "2022-06-16T02:06:14.805571",
     "status": "completed"
    },
    "tags": []
   },
   "outputs": [],
   "source": [
    "columns = ['CRIM', 'ZN','INDUS','CHAS','NOX','RM','AGE','DIS','RAD','TAX','PTRATIO','B','LSTAT']\n",
    "df = pd.DataFrame(data, columns = columns)"
   ]
  },
  {
   "cell_type": "code",
   "execution_count": 71,
   "id": "772e86a9",
   "metadata": {
    "execution": {
     "iopub.execute_input": "2022-06-16T02:06:15.430864Z",
     "iopub.status.busy": "2022-06-16T02:06:15.430236Z",
     "iopub.status.idle": "2022-06-16T02:06:15.458428Z",
     "shell.execute_reply": "2022-06-16T02:06:15.459039Z",
     "shell.execute_reply.started": "2022-06-16T01:20:52.745550Z"
    },
    "papermill": {
     "duration": 0.235514,
     "end_time": "2022-06-16T02:06:15.459200",
     "exception": false,
     "start_time": "2022-06-16T02:06:15.223686",
     "status": "completed"
    },
    "tags": []
   },
   "outputs": [
    {
     "data": {
      "text/html": [
       "<div>\n",
       "<style scoped>\n",
       "    .dataframe tbody tr th:only-of-type {\n",
       "        vertical-align: middle;\n",
       "    }\n",
       "\n",
       "    .dataframe tbody tr th {\n",
       "        vertical-align: top;\n",
       "    }\n",
       "\n",
       "    .dataframe thead th {\n",
       "        text-align: right;\n",
       "    }\n",
       "</style>\n",
       "<table border=\"1\" class=\"dataframe\">\n",
       "  <thead>\n",
       "    <tr style=\"text-align: right;\">\n",
       "      <th></th>\n",
       "      <th>CRIM</th>\n",
       "      <th>ZN</th>\n",
       "      <th>INDUS</th>\n",
       "      <th>CHAS</th>\n",
       "      <th>NOX</th>\n",
       "      <th>RM</th>\n",
       "      <th>AGE</th>\n",
       "      <th>DIS</th>\n",
       "      <th>RAD</th>\n",
       "      <th>TAX</th>\n",
       "      <th>PTRATIO</th>\n",
       "      <th>B</th>\n",
       "      <th>LSTAT</th>\n",
       "      <th>target</th>\n",
       "    </tr>\n",
       "  </thead>\n",
       "  <tbody>\n",
       "    <tr>\n",
       "      <th>0</th>\n",
       "      <td>0.00632</td>\n",
       "      <td>18.0</td>\n",
       "      <td>2.31</td>\n",
       "      <td>0.0</td>\n",
       "      <td>0.538</td>\n",
       "      <td>6.575</td>\n",
       "      <td>65.2</td>\n",
       "      <td>4.0900</td>\n",
       "      <td>1.0</td>\n",
       "      <td>296.0</td>\n",
       "      <td>15.3</td>\n",
       "      <td>396.90</td>\n",
       "      <td>4.98</td>\n",
       "      <td>24.0</td>\n",
       "    </tr>\n",
       "    <tr>\n",
       "      <th>1</th>\n",
       "      <td>0.02731</td>\n",
       "      <td>0.0</td>\n",
       "      <td>7.07</td>\n",
       "      <td>0.0</td>\n",
       "      <td>0.469</td>\n",
       "      <td>6.421</td>\n",
       "      <td>78.9</td>\n",
       "      <td>4.9671</td>\n",
       "      <td>2.0</td>\n",
       "      <td>242.0</td>\n",
       "      <td>17.8</td>\n",
       "      <td>396.90</td>\n",
       "      <td>9.14</td>\n",
       "      <td>21.6</td>\n",
       "    </tr>\n",
       "    <tr>\n",
       "      <th>2</th>\n",
       "      <td>0.02729</td>\n",
       "      <td>0.0</td>\n",
       "      <td>7.07</td>\n",
       "      <td>0.0</td>\n",
       "      <td>0.469</td>\n",
       "      <td>7.185</td>\n",
       "      <td>61.1</td>\n",
       "      <td>4.9671</td>\n",
       "      <td>2.0</td>\n",
       "      <td>242.0</td>\n",
       "      <td>17.8</td>\n",
       "      <td>392.83</td>\n",
       "      <td>4.03</td>\n",
       "      <td>34.7</td>\n",
       "    </tr>\n",
       "    <tr>\n",
       "      <th>3</th>\n",
       "      <td>0.03237</td>\n",
       "      <td>0.0</td>\n",
       "      <td>2.18</td>\n",
       "      <td>0.0</td>\n",
       "      <td>0.458</td>\n",
       "      <td>6.998</td>\n",
       "      <td>45.8</td>\n",
       "      <td>6.0622</td>\n",
       "      <td>3.0</td>\n",
       "      <td>222.0</td>\n",
       "      <td>18.7</td>\n",
       "      <td>394.63</td>\n",
       "      <td>2.94</td>\n",
       "      <td>33.4</td>\n",
       "    </tr>\n",
       "    <tr>\n",
       "      <th>4</th>\n",
       "      <td>0.06905</td>\n",
       "      <td>0.0</td>\n",
       "      <td>2.18</td>\n",
       "      <td>0.0</td>\n",
       "      <td>0.458</td>\n",
       "      <td>7.147</td>\n",
       "      <td>54.2</td>\n",
       "      <td>6.0622</td>\n",
       "      <td>3.0</td>\n",
       "      <td>222.0</td>\n",
       "      <td>18.7</td>\n",
       "      <td>396.90</td>\n",
       "      <td>5.33</td>\n",
       "      <td>36.2</td>\n",
       "    </tr>\n",
       "    <tr>\n",
       "      <th>...</th>\n",
       "      <td>...</td>\n",
       "      <td>...</td>\n",
       "      <td>...</td>\n",
       "      <td>...</td>\n",
       "      <td>...</td>\n",
       "      <td>...</td>\n",
       "      <td>...</td>\n",
       "      <td>...</td>\n",
       "      <td>...</td>\n",
       "      <td>...</td>\n",
       "      <td>...</td>\n",
       "      <td>...</td>\n",
       "      <td>...</td>\n",
       "      <td>...</td>\n",
       "    </tr>\n",
       "    <tr>\n",
       "      <th>501</th>\n",
       "      <td>0.06263</td>\n",
       "      <td>0.0</td>\n",
       "      <td>11.93</td>\n",
       "      <td>0.0</td>\n",
       "      <td>0.573</td>\n",
       "      <td>6.593</td>\n",
       "      <td>69.1</td>\n",
       "      <td>2.4786</td>\n",
       "      <td>1.0</td>\n",
       "      <td>273.0</td>\n",
       "      <td>21.0</td>\n",
       "      <td>391.99</td>\n",
       "      <td>9.67</td>\n",
       "      <td>22.4</td>\n",
       "    </tr>\n",
       "    <tr>\n",
       "      <th>502</th>\n",
       "      <td>0.04527</td>\n",
       "      <td>0.0</td>\n",
       "      <td>11.93</td>\n",
       "      <td>0.0</td>\n",
       "      <td>0.573</td>\n",
       "      <td>6.120</td>\n",
       "      <td>76.7</td>\n",
       "      <td>2.2875</td>\n",
       "      <td>1.0</td>\n",
       "      <td>273.0</td>\n",
       "      <td>21.0</td>\n",
       "      <td>396.90</td>\n",
       "      <td>9.08</td>\n",
       "      <td>20.6</td>\n",
       "    </tr>\n",
       "    <tr>\n",
       "      <th>503</th>\n",
       "      <td>0.06076</td>\n",
       "      <td>0.0</td>\n",
       "      <td>11.93</td>\n",
       "      <td>0.0</td>\n",
       "      <td>0.573</td>\n",
       "      <td>6.976</td>\n",
       "      <td>91.0</td>\n",
       "      <td>2.1675</td>\n",
       "      <td>1.0</td>\n",
       "      <td>273.0</td>\n",
       "      <td>21.0</td>\n",
       "      <td>396.90</td>\n",
       "      <td>5.64</td>\n",
       "      <td>23.9</td>\n",
       "    </tr>\n",
       "    <tr>\n",
       "      <th>504</th>\n",
       "      <td>0.10959</td>\n",
       "      <td>0.0</td>\n",
       "      <td>11.93</td>\n",
       "      <td>0.0</td>\n",
       "      <td>0.573</td>\n",
       "      <td>6.794</td>\n",
       "      <td>89.3</td>\n",
       "      <td>2.3889</td>\n",
       "      <td>1.0</td>\n",
       "      <td>273.0</td>\n",
       "      <td>21.0</td>\n",
       "      <td>393.45</td>\n",
       "      <td>6.48</td>\n",
       "      <td>22.0</td>\n",
       "    </tr>\n",
       "    <tr>\n",
       "      <th>505</th>\n",
       "      <td>0.04741</td>\n",
       "      <td>0.0</td>\n",
       "      <td>11.93</td>\n",
       "      <td>0.0</td>\n",
       "      <td>0.573</td>\n",
       "      <td>6.030</td>\n",
       "      <td>80.8</td>\n",
       "      <td>2.5050</td>\n",
       "      <td>1.0</td>\n",
       "      <td>273.0</td>\n",
       "      <td>21.0</td>\n",
       "      <td>396.90</td>\n",
       "      <td>7.88</td>\n",
       "      <td>11.9</td>\n",
       "    </tr>\n",
       "  </tbody>\n",
       "</table>\n",
       "<p>506 rows × 14 columns</p>\n",
       "</div>"
      ],
      "text/plain": [
       "        CRIM    ZN  INDUS  CHAS    NOX     RM   AGE     DIS  RAD    TAX  \\\n",
       "0    0.00632  18.0   2.31   0.0  0.538  6.575  65.2  4.0900  1.0  296.0   \n",
       "1    0.02731   0.0   7.07   0.0  0.469  6.421  78.9  4.9671  2.0  242.0   \n",
       "2    0.02729   0.0   7.07   0.0  0.469  7.185  61.1  4.9671  2.0  242.0   \n",
       "3    0.03237   0.0   2.18   0.0  0.458  6.998  45.8  6.0622  3.0  222.0   \n",
       "4    0.06905   0.0   2.18   0.0  0.458  7.147  54.2  6.0622  3.0  222.0   \n",
       "..       ...   ...    ...   ...    ...    ...   ...     ...  ...    ...   \n",
       "501  0.06263   0.0  11.93   0.0  0.573  6.593  69.1  2.4786  1.0  273.0   \n",
       "502  0.04527   0.0  11.93   0.0  0.573  6.120  76.7  2.2875  1.0  273.0   \n",
       "503  0.06076   0.0  11.93   0.0  0.573  6.976  91.0  2.1675  1.0  273.0   \n",
       "504  0.10959   0.0  11.93   0.0  0.573  6.794  89.3  2.3889  1.0  273.0   \n",
       "505  0.04741   0.0  11.93   0.0  0.573  6.030  80.8  2.5050  1.0  273.0   \n",
       "\n",
       "     PTRATIO       B  LSTAT  target  \n",
       "0       15.3  396.90   4.98    24.0  \n",
       "1       17.8  396.90   9.14    21.6  \n",
       "2       17.8  392.83   4.03    34.7  \n",
       "3       18.7  394.63   2.94    33.4  \n",
       "4       18.7  396.90   5.33    36.2  \n",
       "..       ...     ...    ...     ...  \n",
       "501     21.0  391.99   9.67    22.4  \n",
       "502     21.0  396.90   9.08    20.6  \n",
       "503     21.0  396.90   5.64    23.9  \n",
       "504     21.0  393.45   6.48    22.0  \n",
       "505     21.0  396.90   7.88    11.9  \n",
       "\n",
       "[506 rows x 14 columns]"
      ]
     },
     "execution_count": 71,
     "metadata": {},
     "output_type": "execute_result"
    }
   ],
   "source": [
    "df['target'] = target\n",
    "df"
   ]
  },
  {
   "cell_type": "code",
   "execution_count": 72,
   "id": "0fc2a8a8",
   "metadata": {
    "execution": {
     "iopub.execute_input": "2022-06-16T02:06:15.875900Z",
     "iopub.status.busy": "2022-06-16T02:06:15.875269Z",
     "iopub.status.idle": "2022-06-16T02:06:15.892745Z",
     "shell.execute_reply": "2022-06-16T02:06:15.892181Z",
     "shell.execute_reply.started": "2022-06-16T01:20:52.790872Z"
    },
    "papermill": {
     "duration": 0.227237,
     "end_time": "2022-06-16T02:06:15.892887",
     "exception": false,
     "start_time": "2022-06-16T02:06:15.665650",
     "status": "completed"
    },
    "tags": []
   },
   "outputs": [
    {
     "name": "stdout",
     "output_type": "stream",
     "text": [
      "<class 'pandas.core.frame.DataFrame'>\n",
      "RangeIndex: 506 entries, 0 to 505\n",
      "Data columns (total 14 columns):\n",
      " #   Column   Non-Null Count  Dtype  \n",
      "---  ------   --------------  -----  \n",
      " 0   CRIM     506 non-null    float64\n",
      " 1   ZN       506 non-null    float64\n",
      " 2   INDUS    506 non-null    float64\n",
      " 3   CHAS     506 non-null    float64\n",
      " 4   NOX      506 non-null    float64\n",
      " 5   RM       506 non-null    float64\n",
      " 6   AGE      506 non-null    float64\n",
      " 7   DIS      506 non-null    float64\n",
      " 8   RAD      506 non-null    float64\n",
      " 9   TAX      506 non-null    float64\n",
      " 10  PTRATIO  506 non-null    float64\n",
      " 11  B        506 non-null    float64\n",
      " 12  LSTAT    506 non-null    float64\n",
      " 13  target   506 non-null    float64\n",
      "dtypes: float64(14)\n",
      "memory usage: 55.5 KB\n"
     ]
    }
   ],
   "source": [
    "df.info()"
   ]
  },
  {
   "cell_type": "code",
   "execution_count": 73,
   "id": "dcf6e3aa",
   "metadata": {
    "execution": {
     "iopub.execute_input": "2022-06-16T02:06:16.312050Z",
     "iopub.status.busy": "2022-06-16T02:06:16.311325Z",
     "iopub.status.idle": "2022-06-16T02:06:16.320276Z",
     "shell.execute_reply": "2022-06-16T02:06:16.320938Z",
     "shell.execute_reply.started": "2022-06-16T01:20:52.815468Z"
    },
    "papermill": {
     "duration": 0.220363,
     "end_time": "2022-06-16T02:06:16.321117",
     "exception": false,
     "start_time": "2022-06-16T02:06:16.100754",
     "status": "completed"
    },
    "tags": []
   },
   "outputs": [],
   "source": [
    "corr = df.corr().round(1)"
   ]
  },
  {
   "cell_type": "code",
   "execution_count": 74,
   "id": "ad229f43",
   "metadata": {
    "execution": {
     "iopub.execute_input": "2022-06-16T02:06:16.736343Z",
     "iopub.status.busy": "2022-06-16T02:06:16.735383Z",
     "iopub.status.idle": "2022-06-16T02:06:16.742900Z",
     "shell.execute_reply": "2022-06-16T02:06:16.743405Z",
     "shell.execute_reply.started": "2022-06-16T01:20:52.832124Z"
    },
    "papermill": {
     "duration": 0.216436,
     "end_time": "2022-06-16T02:06:16.743567",
     "exception": false,
     "start_time": "2022-06-16T02:06:16.527131",
     "status": "completed"
    },
    "tags": []
   },
   "outputs": [
    {
     "data": {
      "text/plain": [
       "target     1.0\n",
       "RM         0.7\n",
       "ZN         0.4\n",
       "B          0.3\n",
       "CHAS       0.2\n",
       "DIS        0.2\n",
       "CRIM      -0.4\n",
       "NOX       -0.4\n",
       "AGE       -0.4\n",
       "RAD       -0.4\n",
       "INDUS     -0.5\n",
       "TAX       -0.5\n",
       "PTRATIO   -0.5\n",
       "LSTAT     -0.7\n",
       "Name: target, dtype: float64"
      ]
     },
     "execution_count": 74,
     "metadata": {},
     "output_type": "execute_result"
    }
   ],
   "source": [
    "corr['target'].sort_values(ascending=False)"
   ]
  },
  {
   "cell_type": "code",
   "execution_count": 75,
   "id": "b15c15df",
   "metadata": {
    "execution": {
     "iopub.execute_input": "2022-06-16T02:06:17.165482Z",
     "iopub.status.busy": "2022-06-16T02:06:17.158976Z",
     "iopub.status.idle": "2022-06-16T02:06:18.295527Z",
     "shell.execute_reply": "2022-06-16T02:06:18.296034Z",
     "shell.execute_reply.started": "2022-06-16T01:20:52.846510Z"
    },
    "papermill": {
     "duration": 1.348819,
     "end_time": "2022-06-16T02:06:18.296193",
     "exception": false,
     "start_time": "2022-06-16T02:06:16.947374",
     "status": "completed"
    },
    "tags": []
   },
   "outputs": [
    {
     "data": {
      "text/plain": [
       "<AxesSubplot:>"
      ]
     },
     "execution_count": 75,
     "metadata": {},
     "output_type": "execute_result"
    },
    {
     "data": {
      "image/png": "[encoded data removed]",
      "text/plain": [
       "<Figure size 576x432 with 2 Axes>"
      ]
     },
     "metadata": {
      "needs_background": "light"
     },
     "output_type": "display_data"
    }
   ],
   "source": [
    "plt.figure(figsize=(8,6))\n",
    "corr[(corr<-0.6)&(corr<0.6)] = 0\n",
    "sns.heatmap(corr, annot=True,cmap='coolwarm')"
   ]
  },
  {
   "cell_type": "code",
   "execution_count": 76,
   "id": "462b0640",
   "metadata": {
    "execution": {
     "iopub.execute_input": "2022-06-16T02:06:18.712812Z",
     "iopub.status.busy": "2022-06-16T02:06:18.712210Z",
     "iopub.status.idle": "2022-06-16T02:06:18.936131Z",
     "shell.execute_reply": "2022-06-16T02:06:18.935408Z",
     "shell.execute_reply.started": "2022-06-16T01:20:54.170723Z"
    },
    "papermill": {
     "duration": 0.434626,
     "end_time": "2022-06-16T02:06:18.936273",
     "exception": false,
     "start_time": "2022-06-16T02:06:18.501647",
     "status": "completed"
    },
    "tags": []
   },
   "outputs": [
    {
     "data": {
      "text/plain": [
       "<AxesSubplot:xlabel='RM', ylabel='target'>"
      ]
     },
     "execution_count": 76,
     "metadata": {},
     "output_type": "execute_result"
    },
    {
     "data": {
      "image/png": "[encoded data removed]",
      "text/plain": [
       "<Figure size 576x432 with 1 Axes>"
      ]
     },
     "metadata": {
      "needs_background": "light"
     },
     "output_type": "display_data"
    }
   ],
   "source": [
    "df.plot(kind='scatter',x='RM',y='target',alpha=0.5,figsize=(8,6))"
   ]
  },
  {
   "cell_type": "code",
   "execution_count": 77,
   "id": "28b648f3",
   "metadata": {
    "execution": {
     "iopub.execute_input": "2022-06-16T02:06:19.385622Z",
     "iopub.status.busy": "2022-06-16T02:06:19.384821Z",
     "iopub.status.idle": "2022-06-16T02:06:19.390754Z",
     "shell.execute_reply": "2022-06-16T02:06:19.391490Z",
     "shell.execute_reply.started": "2022-06-16T01:20:54.426022Z"
    },
    "papermill": {
     "duration": 0.242834,
     "end_time": "2022-06-16T02:06:19.391743",
     "exception": false,
     "start_time": "2022-06-16T02:06:19.148909",
     "status": "completed"
    },
    "tags": []
   },
   "outputs": [],
   "source": [
    "X = df[['RM']]\n",
    "y = df['target']"
   ]
  },
  {
   "cell_type": "code",
   "execution_count": 78,
   "id": "765db405",
   "metadata": {
    "execution": {
     "iopub.execute_input": "2022-06-16T02:06:19.858766Z",
     "iopub.status.busy": "2022-06-16T02:06:19.857549Z",
     "iopub.status.idle": "2022-06-16T02:06:19.864251Z",
     "shell.execute_reply": "2022-06-16T02:06:19.863695Z",
     "shell.execute_reply.started": "2022-06-16T01:20:54.434891Z"
    },
    "papermill": {
     "duration": 0.226529,
     "end_time": "2022-06-16T02:06:19.864382",
     "exception": false,
     "start_time": "2022-06-16T02:06:19.637853",
     "status": "completed"
    },
    "tags": []
   },
   "outputs": [
    {
     "name": "stdout",
     "output_type": "stream",
     "text": [
      "339\n",
      "167\n",
      "0.3300395256916996\n"
     ]
    }
   ],
   "source": [
    "from sklearn.model_selection import train_test_split\n",
    "\n",
    "X_train, X_test, y_train, y_test = train_test_split(X, y, test_size = 0.33, random_state = 42)\n",
    "print(len(X_train))\n",
    "print(len(X_test))\n",
    "print(len(X_test)/len(X))"
   ]
  },
  {
   "cell_type": "code",
   "execution_count": 79,
   "id": "e516ce39",
   "metadata": {
    "execution": {
     "iopub.execute_input": "2022-06-16T02:06:20.297225Z",
     "iopub.status.busy": "2022-06-16T02:06:20.296268Z",
     "iopub.status.idle": "2022-06-16T02:06:20.531656Z",
     "shell.execute_reply": "2022-06-16T02:06:20.532139Z",
     "shell.execute_reply.started": "2022-06-16T01:20:54.453865Z"
    },
    "papermill": {
     "duration": 0.454311,
     "end_time": "2022-06-16T02:06:20.532295",
     "exception": false,
     "start_time": "2022-06-16T02:06:20.077984",
     "status": "completed"
    },
    "tags": []
   },
   "outputs": [
    {
     "data": {
      "text/plain": [
       "<matplotlib.legend.Legend at 0x7fba53b7a7d0>"
      ]
     },
     "execution_count": 79,
     "metadata": {},
     "output_type": "execute_result"
    },
    {
     "data": {
      "image/png": "[encoded data removed]",
      "text/plain": [
       "<Figure size 720x288 with 1 Axes>"
      ]
     },
     "metadata": {
      "needs_background": "light"
     },
     "output_type": "display_data"
    }
   ],
   "source": [
    "plt.figure(figsize=(10,4))\n",
    "plt.scatter(X_train, y_train, color='blue',alpha = 0.4)\n",
    "plt.scatter(X_test, y_test, color='red', alpha = 0.4)\n",
    "plt.xlabel('Room Count')\n",
    "plt.ylabel('Pricing')\n",
    "plt.legend()"
   ]
  },
  {
   "cell_type": "code",
   "execution_count": 80,
   "id": "510cbf00",
   "metadata": {
    "execution": {
     "iopub.execute_input": "2022-06-16T02:06:20.963478Z",
     "iopub.status.busy": "2022-06-16T02:06:20.962517Z",
     "iopub.status.idle": "2022-06-16T02:06:20.981479Z",
     "shell.execute_reply": "2022-06-16T02:06:20.982566Z",
     "shell.execute_reply.started": "2022-06-16T01:20:54.730081Z"
    },
    "papermill": {
     "duration": 0.237603,
     "end_time": "2022-06-16T02:06:20.982850",
     "exception": false,
     "start_time": "2022-06-16T02:06:20.745247",
     "status": "completed"
    },
    "tags": []
   },
   "outputs": [
    {
     "name": "stdout",
     "output_type": "stream",
     "text": [
      "-34.22235234632533 [9.03907314]\n"
     ]
    }
   ],
   "source": [
    "from sklearn.linear_model import LinearRegression\n",
    "\n",
    "model = LinearRegression()\n",
    "model.fit(X_train, y_train)\n",
    "print(model.intercept_, model.coef_)"
   ]
  },
  {
   "cell_type": "code",
   "execution_count": 81,
   "id": "29d03968",
   "metadata": {
    "execution": {
     "iopub.execute_input": "2022-06-16T02:06:21.412163Z",
     "iopub.status.busy": "2022-06-16T02:06:21.411373Z",
     "iopub.status.idle": "2022-06-16T02:06:21.416180Z",
     "shell.execute_reply": "2022-06-16T02:06:21.416805Z",
     "shell.execute_reply.started": "2022-06-16T01:20:54.745815Z"
    },
    "papermill": {
     "duration": 0.219668,
     "end_time": "2022-06-16T02:06:21.416967",
     "exception": false,
     "start_time": "2022-06-16T02:06:21.197299",
     "status": "completed"
    },
    "tags": []
   },
   "outputs": [],
   "source": [
    "y_pred = model.predict(X_test)"
   ]
  },
  {
   "cell_type": "code",
   "execution_count": 82,
   "id": "04f11fe2",
   "metadata": {
    "execution": {
     "iopub.execute_input": "2022-06-16T02:06:21.850776Z",
     "iopub.status.busy": "2022-06-16T02:06:21.850120Z",
     "iopub.status.idle": "2022-06-16T02:06:22.192274Z",
     "shell.execute_reply": "2022-06-16T02:06:22.191765Z",
     "shell.execute_reply.started": "2022-06-16T01:20:54.770025Z"
    },
    "papermill": {
     "duration": 0.562586,
     "end_time": "2022-06-16T02:06:22.192416",
     "exception": false,
     "start_time": "2022-06-16T02:06:21.629830",
     "status": "completed"
    },
    "tags": []
   },
   "outputs": [
    {
     "data": {
      "text/plain": [
       "<matplotlib.legend.Legend at 0x7fba50350590>"
      ]
     },
     "execution_count": 82,
     "metadata": {},
     "output_type": "execute_result"
    },
    {
     "data": {
      "image/png": "[encoded data removed]",
      "text/plain": [
       "<Figure size 576x288 with 1 Axes>"
      ]
     },
     "metadata": {
      "needs_background": "light"
     },
     "output_type": "display_data"
    }
   ],
   "source": [
    "plt.figure(figsize=(8,4))\n",
    "plt.scatter(X_test, y_test, color='blue')\n",
    "plt.scatter(X_test, y_pred, color='red')\n",
    "plt.xlabel('Room Count')\n",
    "plt.ylabel('Pricing')\n",
    "plt.legend()"
   ]
  },
  {
   "cell_type": "code",
   "execution_count": 83,
   "id": "745a177a",
   "metadata": {
    "execution": {
     "iopub.execute_input": "2022-06-16T02:06:22.625642Z",
     "iopub.status.busy": "2022-06-16T02:06:22.624968Z",
     "iopub.status.idle": "2022-06-16T02:06:22.631941Z",
     "shell.execute_reply": "2022-06-16T02:06:22.632585Z",
     "shell.execute_reply.started": "2022-06-16T01:20:55.035844Z"
    },
    "papermill": {
     "duration": 0.225446,
     "end_time": "2022-06-16T02:06:22.632772",
     "exception": false,
     "start_time": "2022-06-16T02:06:22.407326",
     "status": "completed"
    },
    "tags": []
   },
   "outputs": [
    {
     "name": "stdout",
     "output_type": "stream",
     "text": [
      "39.091051114869956\n",
      "4.271512885857222\n",
      "0.4834590168919487\n"
     ]
    }
   ],
   "source": [
    "from sklearn.metrics import mean_squared_error, mean_absolute_error, r2_score\n",
    "\n",
    "print(mean_squared_error(y_test, y_pred))\n",
    "print(mean_absolute_error(y_test, y_pred))\n",
    "print(r2_score(y_test, y_pred))"
   ]
  },
  {
   "cell_type": "code",
   "execution_count": 84,
   "id": "16f686da",
   "metadata": {
    "execution": {
     "iopub.execute_input": "2022-06-16T02:06:23.076174Z",
     "iopub.status.busy": "2022-06-16T02:06:23.075489Z",
     "iopub.status.idle": "2022-06-16T02:06:23.085583Z",
     "shell.execute_reply": "2022-06-16T02:06:23.086185Z",
     "shell.execute_reply.started": "2022-06-16T01:20:55.047874Z"
    },
    "papermill": {
     "duration": 0.235993,
     "end_time": "2022-06-16T02:06:23.086343",
     "exception": false,
     "start_time": "2022-06-16T02:06:22.850350",
     "status": "completed"
    },
    "tags": []
   },
   "outputs": [
    {
     "data": {
      "text/html": [
       "<div>\n",
       "<style scoped>\n",
       "    .dataframe tbody tr th:only-of-type {\n",
       "        vertical-align: middle;\n",
       "    }\n",
       "\n",
       "    .dataframe tbody tr th {\n",
       "        vertical-align: top;\n",
       "    }\n",
       "\n",
       "    .dataframe thead th {\n",
       "        text-align: right;\n",
       "    }\n",
       "</style>\n",
       "<table border=\"1\" class=\"dataframe\">\n",
       "  <thead>\n",
       "    <tr style=\"text-align: right;\">\n",
       "      <th></th>\n",
       "      <th>RM</th>\n",
       "      <th>RM2</th>\n",
       "    </tr>\n",
       "  </thead>\n",
       "  <tbody>\n",
       "    <tr>\n",
       "      <th>478</th>\n",
       "      <td>6.185</td>\n",
       "      <td>38.254225</td>\n",
       "    </tr>\n",
       "    <tr>\n",
       "      <th>26</th>\n",
       "      <td>5.813</td>\n",
       "      <td>33.790969</td>\n",
       "    </tr>\n",
       "    <tr>\n",
       "      <th>7</th>\n",
       "      <td>6.172</td>\n",
       "      <td>38.093584</td>\n",
       "    </tr>\n",
       "    <tr>\n",
       "      <th>492</th>\n",
       "      <td>5.983</td>\n",
       "      <td>35.796289</td>\n",
       "    </tr>\n",
       "    <tr>\n",
       "      <th>108</th>\n",
       "      <td>6.474</td>\n",
       "      <td>41.912676</td>\n",
       "    </tr>\n",
       "  </tbody>\n",
       "</table>\n",
       "</div>"
      ],
      "text/plain": [
       "        RM        RM2\n",
       "478  6.185  38.254225\n",
       "26   5.813  33.790969\n",
       "7    6.172  38.093584\n",
       "492  5.983  35.796289\n",
       "108  6.474  41.912676"
      ]
     },
     "execution_count": 84,
     "metadata": {},
     "output_type": "execute_result"
    }
   ],
   "source": [
    "X_train['RM2'] = X_train['RM']**2\n",
    "X_test['RM2'] = X_test['RM']**2\n",
    "X_train.head()"
   ]
  },
  {
   "cell_type": "code",
   "execution_count": 85,
   "id": "712ed516",
   "metadata": {
    "execution": {
     "iopub.execute_input": "2022-06-16T02:06:23.524156Z",
     "iopub.status.busy": "2022-06-16T02:06:23.523456Z",
     "iopub.status.idle": "2022-06-16T02:06:23.538835Z",
     "shell.execute_reply": "2022-06-16T02:06:23.537843Z",
     "shell.execute_reply.started": "2022-06-16T01:20:55.071856Z"
    },
    "papermill": {
     "duration": 0.235215,
     "end_time": "2022-06-16T02:06:23.539098",
     "exception": false,
     "start_time": "2022-06-16T02:06:23.303883",
     "status": "completed"
    },
    "tags": []
   },
   "outputs": [
    {
     "name": "stdout",
     "output_type": "stream",
     "text": [
      "31.473995415562957\n",
      "3.9790451133823814\n",
      "0.5841091996600494\n"
     ]
    }
   ],
   "source": [
    "model2 = LinearRegression()\n",
    "model2.fit(X_train,y_train)\n",
    "y_pred = model2.predict(X_test)\n",
    "print(mean_squared_error(y_test, y_pred))\n",
    "print(mean_absolute_error(y_test, y_pred))\n",
    "print(r2_score(y_test, y_pred))"
   ]
  },
  {
   "cell_type": "markdown",
   "id": "5e776df6",
   "metadata": {
    "papermill": {
     "duration": 0.236764,
     "end_time": "2022-06-16T02:06:23.993991",
     "exception": false,
     "start_time": "2022-06-16T02:06:23.757227",
     "status": "completed"
    },
    "tags": []
   },
   "source": [
    "# 4/28"
   ]
  },
  {
   "cell_type": "code",
   "execution_count": 86,
   "id": "54a8fddf",
   "metadata": {
    "execution": {
     "iopub.execute_input": "2022-06-16T02:06:24.430788Z",
     "iopub.status.busy": "2022-06-16T02:06:24.430133Z",
     "iopub.status.idle": "2022-06-16T02:06:24.440982Z",
     "shell.execute_reply": "2022-06-16T02:06:24.441525Z",
     "shell.execute_reply.started": "2022-06-16T01:20:55.088179Z"
    },
    "papermill": {
     "duration": 0.231103,
     "end_time": "2022-06-16T02:06:24.441713",
     "exception": false,
     "start_time": "2022-06-16T02:06:24.210610",
     "status": "completed"
    },
    "tags": []
   },
   "outputs": [
    {
     "data": {
      "text/html": [
       "<div>\n",
       "<style scoped>\n",
       "    .dataframe tbody tr th:only-of-type {\n",
       "        vertical-align: middle;\n",
       "    }\n",
       "\n",
       "    .dataframe tbody tr th {\n",
       "        vertical-align: top;\n",
       "    }\n",
       "\n",
       "    .dataframe thead th {\n",
       "        text-align: right;\n",
       "    }\n",
       "</style>\n",
       "<table border=\"1\" class=\"dataframe\">\n",
       "  <thead>\n",
       "    <tr style=\"text-align: right;\">\n",
       "      <th></th>\n",
       "      <th>English</th>\n",
       "      <th>Chemistry</th>\n",
       "    </tr>\n",
       "  </thead>\n",
       "  <tbody>\n",
       "    <tr>\n",
       "      <th>2</th>\n",
       "      <td>15.0</td>\n",
       "      <td>NaN</td>\n",
       "    </tr>\n",
       "  </tbody>\n",
       "</table>\n",
       "</div>"
      ],
      "text/plain": [
       "   English  Chemistry\n",
       "2     15.0        NaN"
      ]
     },
     "execution_count": 86,
     "metadata": {},
     "output_type": "execute_result"
    }
   ],
   "source": [
    "import pandas as pd\n",
    "import numpy as np\n",
    "scores = {\"Math\":[10,20,30],\"English\":[np.nan,35,15],\"Chemistry\":[26,36,np.nan]}\n",
    "df = pd.DataFrame(scores)\n",
    "df[['English','Chemistry']].iloc[-1:]"
   ]
  },
  {
   "cell_type": "code",
   "execution_count": 87,
   "id": "4896918c",
   "metadata": {
    "execution": {
     "iopub.execute_input": "2022-06-16T02:06:24.887801Z",
     "iopub.status.busy": "2022-06-16T02:06:24.887144Z",
     "iopub.status.idle": "2022-06-16T02:06:24.889629Z",
     "shell.execute_reply": "2022-06-16T02:06:24.890113Z",
     "shell.execute_reply.started": "2022-06-16T01:20:55.108539Z"
    },
    "papermill": {
     "duration": 0.231258,
     "end_time": "2022-06-16T02:06:24.890279",
     "exception": false,
     "start_time": "2022-06-16T02:06:24.659021",
     "status": "completed"
    },
    "tags": []
   },
   "outputs": [
    {
     "data": {
      "text/html": [
       "<div>\n",
       "<style scoped>\n",
       "    .dataframe tbody tr th:only-of-type {\n",
       "        vertical-align: middle;\n",
       "    }\n",
       "\n",
       "    .dataframe tbody tr th {\n",
       "        vertical-align: top;\n",
       "    }\n",
       "\n",
       "    .dataframe thead th {\n",
       "        text-align: right;\n",
       "    }\n",
       "</style>\n",
       "<table border=\"1\" class=\"dataframe\">\n",
       "  <thead>\n",
       "    <tr style=\"text-align: right;\">\n",
       "      <th></th>\n",
       "      <th>English</th>\n",
       "      <th>Math</th>\n",
       "    </tr>\n",
       "  </thead>\n",
       "  <tbody>\n",
       "    <tr>\n",
       "      <th>1</th>\n",
       "      <td>35.0</td>\n",
       "      <td>20</td>\n",
       "    </tr>\n",
       "    <tr>\n",
       "      <th>2</th>\n",
       "      <td>15.0</td>\n",
       "      <td>30</td>\n",
       "    </tr>\n",
       "  </tbody>\n",
       "</table>\n",
       "</div>"
      ],
      "text/plain": [
       "   English  Math\n",
       "1     35.0    20\n",
       "2     15.0    30"
      ]
     },
     "execution_count": 87,
     "metadata": {},
     "output_type": "execute_result"
    }
   ],
   "source": [
    "df[['English','Math']].iloc[-2:]"
   ]
  },
  {
   "cell_type": "code",
   "execution_count": 88,
   "id": "d11f3039",
   "metadata": {
    "execution": {
     "iopub.execute_input": "2022-06-16T02:06:25.328734Z",
     "iopub.status.busy": "2022-06-16T02:06:25.328125Z",
     "iopub.status.idle": "2022-06-16T02:06:25.343794Z",
     "shell.execute_reply": "2022-06-16T02:06:25.343209Z",
     "shell.execute_reply.started": "2022-06-16T01:20:55.122850Z"
    },
    "papermill": {
     "duration": 0.236204,
     "end_time": "2022-06-16T02:06:25.343921",
     "exception": false,
     "start_time": "2022-06-16T02:06:25.107717",
     "status": "completed"
    },
    "tags": []
   },
   "outputs": [
    {
     "name": "stderr",
     "output_type": "stream",
     "text": [
      "/opt/conda/lib/python3.7/site-packages/ipykernel_launcher.py:3: SettingWithCopyWarning: \n",
      "A value is trying to be set on a copy of a slice from a DataFrame\n",
      "\n",
      "See the caveats in the documentation: https://pandas.pydata.org/pandas-docs/stable/user_guide/indexing.html#returning-a-view-versus-a-copy\n",
      "  This is separate from the ipykernel package so we can avoid doing imports until\n",
      "/opt/conda/lib/python3.7/site-packages/ipykernel_launcher.py:4: SettingWithCopyWarning: \n",
      "A value is trying to be set on a copy of a slice from a DataFrame\n",
      "\n",
      "See the caveats in the documentation: https://pandas.pydata.org/pandas-docs/stable/user_guide/indexing.html#returning-a-view-versus-a-copy\n",
      "  after removing the cwd from sys.path.\n"
     ]
    },
    {
     "data": {
      "text/html": [
       "<div>\n",
       "<style scoped>\n",
       "    .dataframe tbody tr th:only-of-type {\n",
       "        vertical-align: middle;\n",
       "    }\n",
       "\n",
       "    .dataframe tbody tr th {\n",
       "        vertical-align: top;\n",
       "    }\n",
       "\n",
       "    .dataframe thead th {\n",
       "        text-align: right;\n",
       "    }\n",
       "</style>\n",
       "<table border=\"1\" class=\"dataframe\">\n",
       "  <thead>\n",
       "    <tr style=\"text-align: right;\">\n",
       "      <th></th>\n",
       "      <th>Math</th>\n",
       "      <th>English</th>\n",
       "      <th>History</th>\n",
       "    </tr>\n",
       "  </thead>\n",
       "  <tbody>\n",
       "    <tr>\n",
       "      <th>Simon</th>\n",
       "      <td>90.0</td>\n",
       "      <td>60</td>\n",
       "      <td>33.000000</td>\n",
       "    </tr>\n",
       "    <tr>\n",
       "      <th>Allen</th>\n",
       "      <td>80.0</td>\n",
       "      <td>70</td>\n",
       "      <td>60.333333</td>\n",
       "    </tr>\n",
       "    <tr>\n",
       "      <th>Jimmy</th>\n",
       "      <td>70.0</td>\n",
       "      <td>90</td>\n",
       "      <td>88.000000</td>\n",
       "    </tr>\n",
       "    <tr>\n",
       "      <th>Peter</th>\n",
       "      <td>80.0</td>\n",
       "      <td>50</td>\n",
       "      <td>60.000000</td>\n",
       "    </tr>\n",
       "  </tbody>\n",
       "</table>\n",
       "</div>"
      ],
      "text/plain": [
       "       Math  English    History\n",
       "Simon  90.0       60  33.000000\n",
       "Allen  80.0       70  60.333333\n",
       "Jimmy  70.0       90  88.000000\n",
       "Peter  80.0       50  60.000000"
      ]
     },
     "execution_count": 88,
     "metadata": {},
     "output_type": "execute_result"
    }
   ],
   "source": [
    "scores = {'Math':[90,np.nan,70,80],'English':[60,70,90,50],'History':[33,np.nan,88,60]}\n",
    "df = pd.DataFrame(scores, index=['Simon','Allen','Jimmy','Peter'])\n",
    "df['Math'][1] = (df['Math'][0]+df['Math'][2]+df['Math'][3])/3\n",
    "df['History'][1] = (df['History'][0]+df['History'][2]+df['History'][3])/3\n",
    "df"
   ]
  },
  {
   "cell_type": "markdown",
   "id": "a9a821de",
   "metadata": {
    "papermill": {
     "duration": 0.215246,
     "end_time": "2022-06-16T02:06:25.774755",
     "exception": false,
     "start_time": "2022-06-16T02:06:25.559509",
     "status": "completed"
    },
    "tags": []
   },
   "source": [
    "# 5/3"
   ]
  },
  {
   "cell_type": "code",
   "execution_count": 89,
   "id": "1be840f3",
   "metadata": {
    "execution": {
     "iopub.execute_input": "2022-06-16T02:06:26.218087Z",
     "iopub.status.busy": "2022-06-16T02:06:26.217467Z",
     "iopub.status.idle": "2022-06-16T02:06:26.224744Z",
     "shell.execute_reply": "2022-06-16T02:06:26.223726Z",
     "shell.execute_reply.started": "2022-06-16T01:20:55.867334Z"
    },
    "papermill": {
     "duration": 0.232101,
     "end_time": "2022-06-16T02:06:26.224930",
     "exception": false,
     "start_time": "2022-06-16T02:06:25.992829",
     "status": "completed"
    },
    "tags": []
   },
   "outputs": [
    {
     "name": "stdout",
     "output_type": "stream",
     "text": [
      "[20.01208651]\n"
     ]
    },
    {
     "name": "stderr",
     "output_type": "stream",
     "text": [
      "/opt/conda/lib/python3.7/site-packages/sklearn/base.py:446: UserWarning: X does not have valid feature names, but LinearRegression was fitted with feature names\n",
      "  \"X does not have valid feature names, but\"\n"
     ]
    }
   ],
   "source": [
    "y = model.predict([[6]])\n",
    "print(y)"
   ]
  },
  {
   "cell_type": "code",
   "execution_count": 90,
   "id": "0fca9d01",
   "metadata": {
    "execution": {
     "iopub.execute_input": "2022-06-16T02:06:26.665291Z",
     "iopub.status.busy": "2022-06-16T02:06:26.664677Z",
     "iopub.status.idle": "2022-06-16T02:06:26.671542Z",
     "shell.execute_reply": "2022-06-16T02:06:26.672248Z",
     "shell.execute_reply.started": "2022-06-16T01:20:55.876805Z"
    },
    "papermill": {
     "duration": 0.230414,
     "end_time": "2022-06-16T02:06:26.672467",
     "exception": false,
     "start_time": "2022-06-16T02:06:26.442053",
     "status": "completed"
    },
    "tags": []
   },
   "outputs": [
    {
     "name": "stdout",
     "output_type": "stream",
     "text": [
      "20.01208650992801\n"
     ]
    }
   ],
   "source": [
    "q = pd.DataFrame([6], columns = ['RM'])\n",
    "y = model.predict(q)\n",
    "print(y[0])"
   ]
  },
  {
   "cell_type": "markdown",
   "id": "3c1ac719",
   "metadata": {
    "papermill": {
     "duration": 0.221949,
     "end_time": "2022-06-16T02:06:27.115539",
     "exception": false,
     "start_time": "2022-06-16T02:06:26.893590",
     "status": "completed"
    },
    "tags": []
   },
   "source": [
    "# 5/5"
   ]
  },
  {
   "cell_type": "code",
   "execution_count": 91,
   "id": "4aa08bc8",
   "metadata": {
    "execution": {
     "iopub.execute_input": "2022-06-16T02:06:27.562110Z",
     "iopub.status.busy": "2022-06-16T02:06:27.555583Z",
     "iopub.status.idle": "2022-06-16T02:06:27.567068Z",
     "shell.execute_reply": "2022-06-16T02:06:27.567506Z",
     "shell.execute_reply.started": "2022-06-16T01:20:55.891587Z"
    },
    "papermill": {
     "duration": 0.232738,
     "end_time": "2022-06-16T02:06:27.567695",
     "exception": false,
     "start_time": "2022-06-16T02:06:27.334957",
     "status": "completed"
    },
    "tags": []
   },
   "outputs": [
    {
     "data": {
      "text/html": [
       "<div>\n",
       "<style scoped>\n",
       "    .dataframe tbody tr th:only-of-type {\n",
       "        vertical-align: middle;\n",
       "    }\n",
       "\n",
       "    .dataframe tbody tr th {\n",
       "        vertical-align: top;\n",
       "    }\n",
       "\n",
       "    .dataframe thead th {\n",
       "        text-align: right;\n",
       "    }\n",
       "</style>\n",
       "<table border=\"1\" class=\"dataframe\">\n",
       "  <thead>\n",
       "    <tr style=\"text-align: right;\">\n",
       "      <th></th>\n",
       "      <th>RM</th>\n",
       "    </tr>\n",
       "  </thead>\n",
       "  <tbody>\n",
       "    <tr>\n",
       "      <th>478</th>\n",
       "      <td>6.185</td>\n",
       "    </tr>\n",
       "    <tr>\n",
       "      <th>26</th>\n",
       "      <td>5.813</td>\n",
       "    </tr>\n",
       "    <tr>\n",
       "      <th>7</th>\n",
       "      <td>6.172</td>\n",
       "    </tr>\n",
       "    <tr>\n",
       "      <th>492</th>\n",
       "      <td>5.983</td>\n",
       "    </tr>\n",
       "    <tr>\n",
       "      <th>108</th>\n",
       "      <td>6.474</td>\n",
       "    </tr>\n",
       "    <tr>\n",
       "      <th>...</th>\n",
       "      <td>...</td>\n",
       "    </tr>\n",
       "    <tr>\n",
       "      <th>106</th>\n",
       "      <td>5.836</td>\n",
       "    </tr>\n",
       "    <tr>\n",
       "      <th>270</th>\n",
       "      <td>5.856</td>\n",
       "    </tr>\n",
       "    <tr>\n",
       "      <th>348</th>\n",
       "      <td>6.635</td>\n",
       "    </tr>\n",
       "    <tr>\n",
       "      <th>435</th>\n",
       "      <td>6.629</td>\n",
       "    </tr>\n",
       "    <tr>\n",
       "      <th>102</th>\n",
       "      <td>6.405</td>\n",
       "    </tr>\n",
       "  </tbody>\n",
       "</table>\n",
       "<p>339 rows × 1 columns</p>\n",
       "</div>"
      ],
      "text/plain": [
       "        RM\n",
       "478  6.185\n",
       "26   5.813\n",
       "7    6.172\n",
       "492  5.983\n",
       "108  6.474\n",
       "..     ...\n",
       "106  5.836\n",
       "270  5.856\n",
       "348  6.635\n",
       "435  6.629\n",
       "102  6.405\n",
       "\n",
       "[339 rows x 1 columns]"
      ]
     },
     "execution_count": 91,
     "metadata": {},
     "output_type": "execute_result"
    }
   ],
   "source": [
    "X_train.drop('RM2', axis=1, inplace=True)\n",
    "X_test.drop('RM2',axis=1,inplace=True)\n",
    "X_train"
   ]
  },
  {
   "cell_type": "code",
   "execution_count": 92,
   "id": "4d556f45",
   "metadata": {
    "execution": {
     "iopub.execute_input": "2022-06-16T02:06:28.014671Z",
     "iopub.status.busy": "2022-06-16T02:06:28.014054Z",
     "iopub.status.idle": "2022-06-16T02:06:28.022167Z",
     "shell.execute_reply": "2022-06-16T02:06:28.022654Z",
     "shell.execute_reply.started": "2022-06-16T01:20:55.917103Z"
    },
    "papermill": {
     "duration": 0.232641,
     "end_time": "2022-06-16T02:06:28.022830",
     "exception": false,
     "start_time": "2022-06-16T02:06:27.790189",
     "status": "completed"
    },
    "tags": []
   },
   "outputs": [
    {
     "data": {
      "text/plain": [
       "array([[ 1.      ,  6.185   , 38.254225],\n",
       "       [ 1.      ,  5.813   , 33.790969],\n",
       "       [ 1.      ,  6.172   , 38.093584],\n",
       "       [ 1.      ,  5.983   , 35.796289],\n",
       "       [ 1.      ,  6.474   , 41.912676]])"
      ]
     },
     "execution_count": 92,
     "metadata": {},
     "output_type": "execute_result"
    }
   ],
   "source": [
    "from sklearn.preprocessing import PolynomialFeatures\n",
    "polynomial = PolynomialFeatures(degree=2)\n",
    "X_poly = polynomial.fit_transform(X_train)\n",
    "X_poly[:5]"
   ]
  },
  {
   "cell_type": "code",
   "execution_count": 93,
   "id": "d19d4455",
   "metadata": {
    "execution": {
     "iopub.execute_input": "2022-06-16T02:06:28.458637Z",
     "iopub.status.busy": "2022-06-16T02:06:28.458078Z",
     "iopub.status.idle": "2022-06-16T02:06:28.467122Z",
     "shell.execute_reply": "2022-06-16T02:06:28.467650Z",
     "shell.execute_reply.started": "2022-06-16T01:20:55.937788Z"
    },
    "papermill": {
     "duration": 0.227014,
     "end_time": "2022-06-16T02:06:28.467804",
     "exception": false,
     "start_time": "2022-06-16T02:06:28.240790",
     "status": "completed"
    },
    "tags": []
   },
   "outputs": [
    {
     "data": {
      "text/html": [
       "<div>\n",
       "<style scoped>\n",
       "    .dataframe tbody tr th:only-of-type {\n",
       "        vertical-align: middle;\n",
       "    }\n",
       "\n",
       "    .dataframe tbody tr th {\n",
       "        vertical-align: top;\n",
       "    }\n",
       "\n",
       "    .dataframe thead th {\n",
       "        text-align: right;\n",
       "    }\n",
       "</style>\n",
       "<table border=\"1\" class=\"dataframe\">\n",
       "  <thead>\n",
       "    <tr style=\"text-align: right;\">\n",
       "      <th></th>\n",
       "      <th>RM</th>\n",
       "    </tr>\n",
       "  </thead>\n",
       "  <tbody>\n",
       "    <tr>\n",
       "      <th>478</th>\n",
       "      <td>6.185</td>\n",
       "    </tr>\n",
       "    <tr>\n",
       "      <th>26</th>\n",
       "      <td>5.813</td>\n",
       "    </tr>\n",
       "    <tr>\n",
       "      <th>7</th>\n",
       "      <td>6.172</td>\n",
       "    </tr>\n",
       "    <tr>\n",
       "      <th>492</th>\n",
       "      <td>5.983</td>\n",
       "    </tr>\n",
       "    <tr>\n",
       "      <th>108</th>\n",
       "      <td>6.474</td>\n",
       "    </tr>\n",
       "    <tr>\n",
       "      <th>...</th>\n",
       "      <td>...</td>\n",
       "    </tr>\n",
       "    <tr>\n",
       "      <th>106</th>\n",
       "      <td>5.836</td>\n",
       "    </tr>\n",
       "    <tr>\n",
       "      <th>270</th>\n",
       "      <td>5.856</td>\n",
       "    </tr>\n",
       "    <tr>\n",
       "      <th>348</th>\n",
       "      <td>6.635</td>\n",
       "    </tr>\n",
       "    <tr>\n",
       "      <th>435</th>\n",
       "      <td>6.629</td>\n",
       "    </tr>\n",
       "    <tr>\n",
       "      <th>102</th>\n",
       "      <td>6.405</td>\n",
       "    </tr>\n",
       "  </tbody>\n",
       "</table>\n",
       "<p>339 rows × 1 columns</p>\n",
       "</div>"
      ],
      "text/plain": [
       "        RM\n",
       "478  6.185\n",
       "26   5.813\n",
       "7    6.172\n",
       "492  5.983\n",
       "108  6.474\n",
       "..     ...\n",
       "106  5.836\n",
       "270  5.856\n",
       "348  6.635\n",
       "435  6.629\n",
       "102  6.405\n",
       "\n",
       "[339 rows x 1 columns]"
      ]
     },
     "execution_count": 93,
     "metadata": {},
     "output_type": "execute_result"
    }
   ],
   "source": [
    "X_train"
   ]
  },
  {
   "cell_type": "code",
   "execution_count": 94,
   "id": "336752cb",
   "metadata": {
    "execution": {
     "iopub.execute_input": "2022-06-16T02:06:28.912412Z",
     "iopub.status.busy": "2022-06-16T02:06:28.911744Z",
     "iopub.status.idle": "2022-06-16T02:06:28.924345Z",
     "shell.execute_reply": "2022-06-16T02:06:28.923733Z",
     "shell.execute_reply.started": "2022-06-16T01:20:55.960936Z"
    },
    "papermill": {
     "duration": 0.236483,
     "end_time": "2022-06-16T02:06:28.924479",
     "exception": false,
     "start_time": "2022-06-16T02:06:28.687996",
     "status": "completed"
    },
    "tags": []
   },
   "outputs": [
    {
     "name": "stdout",
     "output_type": "stream",
     "text": [
      "31.473995415562957\n",
      "3.9790451133823828\n",
      "0.5841091996600494\n"
     ]
    }
   ],
   "source": [
    "from sklearn.pipeline import make_pipeline\n",
    "\n",
    "model_pl_2 = make_pipeline(PolynomialFeatures(degree=2), LinearRegression())\n",
    "model_pl_2.fit(X_train, y_train)\n",
    "y_pred = model_pl_2.predict(X_test)\n",
    "print(mean_squared_error(y_test,y_pred))\n",
    "print(mean_absolute_error(y_test,y_pred))\n",
    "print(r2_score(y_test,y_pred))\n"
   ]
  },
  {
   "cell_type": "code",
   "execution_count": 95,
   "id": "f985f72c",
   "metadata": {
    "execution": {
     "iopub.execute_input": "2022-06-16T02:06:29.372843Z",
     "iopub.status.busy": "2022-06-16T02:06:29.372035Z",
     "iopub.status.idle": "2022-06-16T02:06:29.745309Z",
     "shell.execute_reply": "2022-06-16T02:06:29.746077Z",
     "shell.execute_reply.started": "2022-06-16T01:20:55.985246Z"
    },
    "papermill": {
     "duration": 0.601793,
     "end_time": "2022-06-16T02:06:29.746307",
     "exception": false,
     "start_time": "2022-06-16T02:06:29.144514",
     "status": "completed"
    },
    "tags": []
   },
   "outputs": [
    {
     "name": "stdout",
     "output_type": "stream",
     "text": [
      "33.334975755635966 [-1.28749718e-01  3.78232228e-02  5.82109233e-02  3.23866812e+00\n",
      " -1.61698120e+01  3.90205116e+00 -1.28507825e-02 -1.42222430e+00\n",
      "  2.34853915e-01 -8.21331947e-03 -9.28722459e-01  1.17695921e-02\n",
      " -5.47566338e-01]\n"
     ]
    }
   ],
   "source": [
    "import pandas as pd\n",
    "import numpy as np\n",
    "import matplotlib.pyplot as plt\n",
    "import seaborn as sns\n",
    "\n",
    "data_url = \"http://lib.stat.cmu.edu/datasets/boston\"\n",
    "raw_df = pd.read_csv(data_url, sep=\"\\s+\", skiprows=22, header=None)\n",
    "data = np.hstack([raw_df.values[::2, :], raw_df.values[1::2, :2]])\n",
    "target = raw_df.values[1::2, 2]\n",
    "df = pd.DataFrame(data, columns = columns)\n",
    "df['target'] = target\n",
    "df\n",
    "X = df.drop(['target'], axis =1)\n",
    "y = df['target']\n",
    "\n",
    "from sklearn.model_selection import train_test_split\n",
    "\n",
    "X_train, X_test, y_train, y_test = train_test_split(X, y, test_size = 0.33, random_state = 42)\n",
    "\n",
    "from sklearn.linear_model import LinearRegression\n",
    "\n",
    "model = LinearRegression()\n",
    "model.fit(X_train, y_train)\n",
    "print(model.intercept_, model.coef_)"
   ]
  },
  {
   "cell_type": "markdown",
   "id": "3600bed4",
   "metadata": {
    "papermill": {
     "duration": 0.22431,
     "end_time": "2022-06-16T02:06:30.194481",
     "exception": false,
     "start_time": "2022-06-16T02:06:29.970171",
     "status": "completed"
    },
    "tags": []
   },
   "source": [
    "# 5/10"
   ]
  },
  {
   "cell_type": "code",
   "execution_count": 96,
   "id": "28befd28",
   "metadata": {
    "execution": {
     "iopub.execute_input": "2022-06-16T02:06:30.634818Z",
     "iopub.status.busy": "2022-06-16T02:06:30.634181Z",
     "iopub.status.idle": "2022-06-16T02:06:31.005500Z",
     "shell.execute_reply": "2022-06-16T02:06:31.004929Z",
     "shell.execute_reply.started": "2022-06-16T01:20:56.368232Z"
    },
    "papermill": {
     "duration": 0.592865,
     "end_time": "2022-06-16T02:06:31.005692",
     "exception": false,
     "start_time": "2022-06-16T02:06:30.412827",
     "status": "completed"
    },
    "tags": []
   },
   "outputs": [],
   "source": [
    "import pandas as pd\n",
    "import numpy as np\n",
    "import matplotlib.pyplot as plt\n",
    "import seaborn as sns\n",
    "\n",
    "data_url = \"http://lib.stat.cmu.edu/datasets/boston\"\n",
    "raw_df = pd.read_csv(data_url, sep=\"\\s+\", skiprows=22, header=None)\n",
    "data = np.hstack([raw_df.values[::2, :], raw_df.values[1::2, :2]])\n",
    "target = raw_df.values[1::2, 2]\n",
    "columns = ['CRIM', 'ZN','INDUS','CHAS','NOX','RM','AGE','DIS','RAD','TAX','PTRATIO','B','LSTAT']\n",
    "df = pd.DataFrame(data, columns = columns)"
   ]
  },
  {
   "cell_type": "code",
   "execution_count": 97,
   "id": "6d7d503a",
   "metadata": {
    "execution": {
     "iopub.execute_input": "2022-06-16T02:06:31.457513Z",
     "iopub.status.busy": "2022-06-16T02:06:31.451052Z",
     "iopub.status.idle": "2022-06-16T02:06:31.478153Z",
     "shell.execute_reply": "2022-06-16T02:06:31.478657Z",
     "shell.execute_reply.started": "2022-06-16T01:20:56.736279Z"
    },
    "papermill": {
     "duration": 0.252692,
     "end_time": "2022-06-16T02:06:31.478830",
     "exception": false,
     "start_time": "2022-06-16T02:06:31.226138",
     "status": "completed"
    },
    "tags": []
   },
   "outputs": [
    {
     "data": {
      "text/html": [
       "<div>\n",
       "<style scoped>\n",
       "    .dataframe tbody tr th:only-of-type {\n",
       "        vertical-align: middle;\n",
       "    }\n",
       "\n",
       "    .dataframe tbody tr th {\n",
       "        vertical-align: top;\n",
       "    }\n",
       "\n",
       "    .dataframe thead th {\n",
       "        text-align: right;\n",
       "    }\n",
       "</style>\n",
       "<table border=\"1\" class=\"dataframe\">\n",
       "  <thead>\n",
       "    <tr style=\"text-align: right;\">\n",
       "      <th></th>\n",
       "      <th>CRIM</th>\n",
       "      <th>ZN</th>\n",
       "      <th>INDUS</th>\n",
       "      <th>CHAS</th>\n",
       "      <th>NOX</th>\n",
       "      <th>RM</th>\n",
       "      <th>AGE</th>\n",
       "      <th>DIS</th>\n",
       "      <th>RAD</th>\n",
       "      <th>TAX</th>\n",
       "      <th>PTRATIO</th>\n",
       "      <th>B</th>\n",
       "      <th>LSTAT</th>\n",
       "      <th>target</th>\n",
       "    </tr>\n",
       "  </thead>\n",
       "  <tbody>\n",
       "    <tr>\n",
       "      <th>0</th>\n",
       "      <td>0.00632</td>\n",
       "      <td>18.0</td>\n",
       "      <td>2.31</td>\n",
       "      <td>0.0</td>\n",
       "      <td>0.538</td>\n",
       "      <td>6.575</td>\n",
       "      <td>65.2</td>\n",
       "      <td>4.0900</td>\n",
       "      <td>1.0</td>\n",
       "      <td>296.0</td>\n",
       "      <td>15.3</td>\n",
       "      <td>396.90</td>\n",
       "      <td>4.98</td>\n",
       "      <td>24.0</td>\n",
       "    </tr>\n",
       "    <tr>\n",
       "      <th>1</th>\n",
       "      <td>0.02731</td>\n",
       "      <td>0.0</td>\n",
       "      <td>7.07</td>\n",
       "      <td>0.0</td>\n",
       "      <td>0.469</td>\n",
       "      <td>6.421</td>\n",
       "      <td>78.9</td>\n",
       "      <td>4.9671</td>\n",
       "      <td>2.0</td>\n",
       "      <td>242.0</td>\n",
       "      <td>17.8</td>\n",
       "      <td>396.90</td>\n",
       "      <td>9.14</td>\n",
       "      <td>21.6</td>\n",
       "    </tr>\n",
       "    <tr>\n",
       "      <th>2</th>\n",
       "      <td>0.02729</td>\n",
       "      <td>0.0</td>\n",
       "      <td>7.07</td>\n",
       "      <td>0.0</td>\n",
       "      <td>0.469</td>\n",
       "      <td>7.185</td>\n",
       "      <td>61.1</td>\n",
       "      <td>4.9671</td>\n",
       "      <td>2.0</td>\n",
       "      <td>242.0</td>\n",
       "      <td>17.8</td>\n",
       "      <td>392.83</td>\n",
       "      <td>4.03</td>\n",
       "      <td>34.7</td>\n",
       "    </tr>\n",
       "    <tr>\n",
       "      <th>3</th>\n",
       "      <td>0.03237</td>\n",
       "      <td>0.0</td>\n",
       "      <td>2.18</td>\n",
       "      <td>0.0</td>\n",
       "      <td>0.458</td>\n",
       "      <td>6.998</td>\n",
       "      <td>45.8</td>\n",
       "      <td>6.0622</td>\n",
       "      <td>3.0</td>\n",
       "      <td>222.0</td>\n",
       "      <td>18.7</td>\n",
       "      <td>394.63</td>\n",
       "      <td>2.94</td>\n",
       "      <td>33.4</td>\n",
       "    </tr>\n",
       "    <tr>\n",
       "      <th>4</th>\n",
       "      <td>0.06905</td>\n",
       "      <td>0.0</td>\n",
       "      <td>2.18</td>\n",
       "      <td>0.0</td>\n",
       "      <td>0.458</td>\n",
       "      <td>7.147</td>\n",
       "      <td>54.2</td>\n",
       "      <td>6.0622</td>\n",
       "      <td>3.0</td>\n",
       "      <td>222.0</td>\n",
       "      <td>18.7</td>\n",
       "      <td>396.90</td>\n",
       "      <td>5.33</td>\n",
       "      <td>36.2</td>\n",
       "    </tr>\n",
       "    <tr>\n",
       "      <th>...</th>\n",
       "      <td>...</td>\n",
       "      <td>...</td>\n",
       "      <td>...</td>\n",
       "      <td>...</td>\n",
       "      <td>...</td>\n",
       "      <td>...</td>\n",
       "      <td>...</td>\n",
       "      <td>...</td>\n",
       "      <td>...</td>\n",
       "      <td>...</td>\n",
       "      <td>...</td>\n",
       "      <td>...</td>\n",
       "      <td>...</td>\n",
       "      <td>...</td>\n",
       "    </tr>\n",
       "    <tr>\n",
       "      <th>501</th>\n",
       "      <td>0.06263</td>\n",
       "      <td>0.0</td>\n",
       "      <td>11.93</td>\n",
       "      <td>0.0</td>\n",
       "      <td>0.573</td>\n",
       "      <td>6.593</td>\n",
       "      <td>69.1</td>\n",
       "      <td>2.4786</td>\n",
       "      <td>1.0</td>\n",
       "      <td>273.0</td>\n",
       "      <td>21.0</td>\n",
       "      <td>391.99</td>\n",
       "      <td>9.67</td>\n",
       "      <td>22.4</td>\n",
       "    </tr>\n",
       "    <tr>\n",
       "      <th>502</th>\n",
       "      <td>0.04527</td>\n",
       "      <td>0.0</td>\n",
       "      <td>11.93</td>\n",
       "      <td>0.0</td>\n",
       "      <td>0.573</td>\n",
       "      <td>6.120</td>\n",
       "      <td>76.7</td>\n",
       "      <td>2.2875</td>\n",
       "      <td>1.0</td>\n",
       "      <td>273.0</td>\n",
       "      <td>21.0</td>\n",
       "      <td>396.90</td>\n",
       "      <td>9.08</td>\n",
       "      <td>20.6</td>\n",
       "    </tr>\n",
       "    <tr>\n",
       "      <th>503</th>\n",
       "      <td>0.06076</td>\n",
       "      <td>0.0</td>\n",
       "      <td>11.93</td>\n",
       "      <td>0.0</td>\n",
       "      <td>0.573</td>\n",
       "      <td>6.976</td>\n",
       "      <td>91.0</td>\n",
       "      <td>2.1675</td>\n",
       "      <td>1.0</td>\n",
       "      <td>273.0</td>\n",
       "      <td>21.0</td>\n",
       "      <td>396.90</td>\n",
       "      <td>5.64</td>\n",
       "      <td>23.9</td>\n",
       "    </tr>\n",
       "    <tr>\n",
       "      <th>504</th>\n",
       "      <td>0.10959</td>\n",
       "      <td>0.0</td>\n",
       "      <td>11.93</td>\n",
       "      <td>0.0</td>\n",
       "      <td>0.573</td>\n",
       "      <td>6.794</td>\n",
       "      <td>89.3</td>\n",
       "      <td>2.3889</td>\n",
       "      <td>1.0</td>\n",
       "      <td>273.0</td>\n",
       "      <td>21.0</td>\n",
       "      <td>393.45</td>\n",
       "      <td>6.48</td>\n",
       "      <td>22.0</td>\n",
       "    </tr>\n",
       "    <tr>\n",
       "      <th>505</th>\n",
       "      <td>0.04741</td>\n",
       "      <td>0.0</td>\n",
       "      <td>11.93</td>\n",
       "      <td>0.0</td>\n",
       "      <td>0.573</td>\n",
       "      <td>6.030</td>\n",
       "      <td>80.8</td>\n",
       "      <td>2.5050</td>\n",
       "      <td>1.0</td>\n",
       "      <td>273.0</td>\n",
       "      <td>21.0</td>\n",
       "      <td>396.90</td>\n",
       "      <td>7.88</td>\n",
       "      <td>11.9</td>\n",
       "    </tr>\n",
       "  </tbody>\n",
       "</table>\n",
       "<p>506 rows × 14 columns</p>\n",
       "</div>"
      ],
      "text/plain": [
       "        CRIM    ZN  INDUS  CHAS    NOX     RM   AGE     DIS  RAD    TAX  \\\n",
       "0    0.00632  18.0   2.31   0.0  0.538  6.575  65.2  4.0900  1.0  296.0   \n",
       "1    0.02731   0.0   7.07   0.0  0.469  6.421  78.9  4.9671  2.0  242.0   \n",
       "2    0.02729   0.0   7.07   0.0  0.469  7.185  61.1  4.9671  2.0  242.0   \n",
       "3    0.03237   0.0   2.18   0.0  0.458  6.998  45.8  6.0622  3.0  222.0   \n",
       "4    0.06905   0.0   2.18   0.0  0.458  7.147  54.2  6.0622  3.0  222.0   \n",
       "..       ...   ...    ...   ...    ...    ...   ...     ...  ...    ...   \n",
       "501  0.06263   0.0  11.93   0.0  0.573  6.593  69.1  2.4786  1.0  273.0   \n",
       "502  0.04527   0.0  11.93   0.0  0.573  6.120  76.7  2.2875  1.0  273.0   \n",
       "503  0.06076   0.0  11.93   0.0  0.573  6.976  91.0  2.1675  1.0  273.0   \n",
       "504  0.10959   0.0  11.93   0.0  0.573  6.794  89.3  2.3889  1.0  273.0   \n",
       "505  0.04741   0.0  11.93   0.0  0.573  6.030  80.8  2.5050  1.0  273.0   \n",
       "\n",
       "     PTRATIO       B  LSTAT  target  \n",
       "0       15.3  396.90   4.98    24.0  \n",
       "1       17.8  396.90   9.14    21.6  \n",
       "2       17.8  392.83   4.03    34.7  \n",
       "3       18.7  394.63   2.94    33.4  \n",
       "4       18.7  396.90   5.33    36.2  \n",
       "..       ...     ...    ...     ...  \n",
       "501     21.0  391.99   9.67    22.4  \n",
       "502     21.0  396.90   9.08    20.6  \n",
       "503     21.0  396.90   5.64    23.9  \n",
       "504     21.0  393.45   6.48    22.0  \n",
       "505     21.0  396.90   7.88    11.9  \n",
       "\n",
       "[506 rows x 14 columns]"
      ]
     },
     "execution_count": 97,
     "metadata": {},
     "output_type": "execute_result"
    }
   ],
   "source": [
    "df['target'] = target\n",
    "df"
   ]
  },
  {
   "cell_type": "code",
   "execution_count": 98,
   "id": "f1f41e51",
   "metadata": {
    "execution": {
     "iopub.execute_input": "2022-06-16T02:06:31.939243Z",
     "iopub.status.busy": "2022-06-16T02:06:31.938316Z",
     "iopub.status.idle": "2022-06-16T02:06:31.945927Z",
     "shell.execute_reply": "2022-06-16T02:06:31.946504Z",
     "shell.execute_reply.started": "2022-06-16T01:20:56.778408Z"
    },
    "papermill": {
     "duration": 0.243384,
     "end_time": "2022-06-16T02:06:31.946689",
     "exception": false,
     "start_time": "2022-06-16T02:06:31.703305",
     "status": "completed"
    },
    "tags": []
   },
   "outputs": [
    {
     "name": "stdout",
     "output_type": "stream",
     "text": [
      "33.334975755635966 [-1.28749718e-01  3.78232228e-02  5.82109233e-02  3.23866812e+00\n",
      " -1.61698120e+01  3.90205116e+00 -1.28507825e-02 -1.42222430e+00\n",
      "  2.34853915e-01 -8.21331947e-03 -9.28722459e-01  1.17695921e-02\n",
      " -5.47566338e-01]\n"
     ]
    }
   ],
   "source": [
    "X = df.drop('target', axis =1)\n",
    "y = df['target']\n",
    "\n",
    "from sklearn.model_selection import train_test_split\n",
    "\n",
    "X_train, X_test, y_train, y_test = train_test_split(X, y, test_size = 0.33, random_state = 42)\n",
    "\n",
    "from sklearn.linear_model import LinearRegression\n",
    "\n",
    "model = LinearRegression()\n",
    "model.fit(X_train, y_train)\n",
    "print(model.intercept_, model.coef_)"
   ]
  },
  {
   "cell_type": "code",
   "execution_count": 99,
   "id": "4e077235",
   "metadata": {
    "execution": {
     "iopub.execute_input": "2022-06-16T02:06:32.402952Z",
     "iopub.status.busy": "2022-06-16T02:06:32.402355Z",
     "iopub.status.idle": "2022-06-16T02:06:32.414268Z",
     "shell.execute_reply": "2022-06-16T02:06:32.413578Z",
     "shell.execute_reply.started": "2022-06-16T01:20:56.796616Z"
    },
    "papermill": {
     "duration": 0.242585,
     "end_time": "2022-06-16T02:06:32.414396",
     "exception": false,
     "start_time": "2022-06-16T02:06:32.171811",
     "status": "completed"
    },
    "tags": []
   },
   "outputs": [
    {
     "data": {
      "text/html": [
       "<div>\n",
       "<style scoped>\n",
       "    .dataframe tbody tr th:only-of-type {\n",
       "        vertical-align: middle;\n",
       "    }\n",
       "\n",
       "    .dataframe tbody tr th {\n",
       "        vertical-align: top;\n",
       "    }\n",
       "\n",
       "    .dataframe thead th {\n",
       "        text-align: right;\n",
       "    }\n",
       "</style>\n",
       "<table border=\"1\" class=\"dataframe\">\n",
       "  <thead>\n",
       "    <tr style=\"text-align: right;\">\n",
       "      <th></th>\n",
       "      <th>常數</th>\n",
       "      <th>係數</th>\n",
       "    </tr>\n",
       "  </thead>\n",
       "  <tbody>\n",
       "    <tr>\n",
       "      <th>5</th>\n",
       "      <td>RM</td>\n",
       "      <td>3.902051</td>\n",
       "    </tr>\n",
       "    <tr>\n",
       "      <th>3</th>\n",
       "      <td>CHAS</td>\n",
       "      <td>3.238668</td>\n",
       "    </tr>\n",
       "    <tr>\n",
       "      <th>8</th>\n",
       "      <td>RAD</td>\n",
       "      <td>0.234854</td>\n",
       "    </tr>\n",
       "    <tr>\n",
       "      <th>2</th>\n",
       "      <td>INDUS</td>\n",
       "      <td>0.058211</td>\n",
       "    </tr>\n",
       "    <tr>\n",
       "      <th>1</th>\n",
       "      <td>ZN</td>\n",
       "      <td>0.037823</td>\n",
       "    </tr>\n",
       "    <tr>\n",
       "      <th>11</th>\n",
       "      <td>B</td>\n",
       "      <td>0.011770</td>\n",
       "    </tr>\n",
       "    <tr>\n",
       "      <th>9</th>\n",
       "      <td>TAX</td>\n",
       "      <td>-0.008213</td>\n",
       "    </tr>\n",
       "    <tr>\n",
       "      <th>6</th>\n",
       "      <td>AGE</td>\n",
       "      <td>-0.012851</td>\n",
       "    </tr>\n",
       "    <tr>\n",
       "      <th>0</th>\n",
       "      <td>CRIM</td>\n",
       "      <td>-0.128750</td>\n",
       "    </tr>\n",
       "    <tr>\n",
       "      <th>12</th>\n",
       "      <td>LSTAT</td>\n",
       "      <td>-0.547566</td>\n",
       "    </tr>\n",
       "    <tr>\n",
       "      <th>10</th>\n",
       "      <td>PTRATIO</td>\n",
       "      <td>-0.928722</td>\n",
       "    </tr>\n",
       "    <tr>\n",
       "      <th>7</th>\n",
       "      <td>DIS</td>\n",
       "      <td>-1.422224</td>\n",
       "    </tr>\n",
       "    <tr>\n",
       "      <th>4</th>\n",
       "      <td>NOX</td>\n",
       "      <td>-16.169812</td>\n",
       "    </tr>\n",
       "  </tbody>\n",
       "</table>\n",
       "</div>"
      ],
      "text/plain": [
       "         常數         係數\n",
       "5        RM   3.902051\n",
       "3      CHAS   3.238668\n",
       "8       RAD   0.234854\n",
       "2     INDUS   0.058211\n",
       "1        ZN   0.037823\n",
       "11        B   0.011770\n",
       "9       TAX  -0.008213\n",
       "6       AGE  -0.012851\n",
       "0      CRIM  -0.128750\n",
       "12    LSTAT  -0.547566\n",
       "10  PTRATIO  -0.928722\n",
       "7       DIS  -1.422224\n",
       "4       NOX -16.169812"
      ]
     },
     "execution_count": 99,
     "metadata": {},
     "output_type": "execute_result"
    }
   ],
   "source": [
    "pd.DataFrame(zip(X.columns, model.coef_),columns = ['常數','係數']).sort_values(by='係數',ascending=False)"
   ]
  },
  {
   "cell_type": "markdown",
   "id": "6a8c9662",
   "metadata": {
    "papermill": {
     "duration": 0.218057,
     "end_time": "2022-06-16T02:06:32.852621",
     "exception": false,
     "start_time": "2022-06-16T02:06:32.634564",
     "status": "completed"
    },
    "tags": []
   },
   "source": [
    "# 5/12"
   ]
  },
  {
   "cell_type": "markdown",
   "id": "6c71e0d6",
   "metadata": {
    "papermill": {
     "duration": 0.221208,
     "end_time": "2022-06-16T02:06:33.295612",
     "exception": false,
     "start_time": "2022-06-16T02:06:33.074404",
     "status": "completed"
    },
    "tags": []
   },
   "source": [
    "# 5/17"
   ]
  },
  {
   "cell_type": "code",
   "execution_count": 100,
   "id": "04feab5b",
   "metadata": {
    "execution": {
     "iopub.execute_input": "2022-06-16T02:06:33.743707Z",
     "iopub.status.busy": "2022-06-16T02:06:33.742674Z",
     "iopub.status.idle": "2022-06-16T02:06:33.746536Z",
     "shell.execute_reply": "2022-06-16T02:06:33.747053Z",
     "shell.execute_reply.started": "2022-06-16T01:20:56.815766Z"
    },
    "papermill": {
     "duration": 0.229132,
     "end_time": "2022-06-16T02:06:33.747213",
     "exception": false,
     "start_time": "2022-06-16T02:06:33.518081",
     "status": "completed"
    },
    "tags": []
   },
   "outputs": [
    {
     "name": "stdout",
     "output_type": "stream",
     "text": [
      "<class 'zip'>\n",
      "<zip object at 0x7fba50333b90>\n",
      "(1, 1)\n",
      "(2, 4)\n",
      "(3, 9)\n"
     ]
    }
   ],
   "source": [
    "number = [1,2,3]\n",
    "sqr= [1,4,9]\n",
    "iterator = zip(number,sqr)\n",
    "print(type(iterator))\n",
    "print(iterator)\n",
    "for a in iterator:\n",
    "    print(a)\n"
   ]
  },
  {
   "cell_type": "code",
   "execution_count": 101,
   "id": "477b24f2",
   "metadata": {
    "execution": {
     "iopub.execute_input": "2022-06-16T02:06:34.198403Z",
     "iopub.status.busy": "2022-06-16T02:06:34.197816Z",
     "iopub.status.idle": "2022-06-16T02:06:34.204365Z",
     "shell.execute_reply": "2022-06-16T02:06:34.204919Z",
     "shell.execute_reply.started": "2022-06-16T01:20:56.826054Z"
    },
    "papermill": {
     "duration": 0.232149,
     "end_time": "2022-06-16T02:06:34.205076",
     "exception": false,
     "start_time": "2022-06-16T02:06:33.972927",
     "status": "completed"
    },
    "tags": []
   },
   "outputs": [
    {
     "name": "stdout",
     "output_type": "stream",
     "text": [
      "<class 'zip'>\n",
      "<zip object at 0x7fba50349230>\n",
      "(1, 1, 1)\n",
      "(2, 4, 8)\n",
      "(3, 9, 27)\n"
     ]
    }
   ],
   "source": [
    "number = [1,2,3]\n",
    "sqr= [1,4,9]\n",
    "cube = [1,8,27]\n",
    "iterator = zip(number,sqr,cube)\n",
    "print(type(iterator))\n",
    "print(iterator)\n",
    "for a in iterator:\n",
    "    print(a)"
   ]
  },
  {
   "cell_type": "markdown",
   "id": "6ef11cbd",
   "metadata": {
    "papermill": {
     "duration": 0.221203,
     "end_time": "2022-06-16T02:06:34.648578",
     "exception": false,
     "start_time": "2022-06-16T02:06:34.427375",
     "status": "completed"
    },
    "tags": []
   },
   "source": [
    "# 5/19"
   ]
  },
  {
   "cell_type": "code",
   "execution_count": 102,
   "id": "df3a1a42",
   "metadata": {
    "execution": {
     "iopub.execute_input": "2022-06-16T02:06:35.120094Z",
     "iopub.status.busy": "2022-06-16T02:06:35.119490Z",
     "iopub.status.idle": "2022-06-16T02:06:35.135318Z",
     "shell.execute_reply": "2022-06-16T02:06:35.135954Z",
     "shell.execute_reply.started": "2022-06-16T01:20:56.839658Z"
    },
    "papermill": {
     "duration": 0.257409,
     "end_time": "2022-06-16T02:06:35.136117",
     "exception": false,
     "start_time": "2022-06-16T02:06:34.878708",
     "status": "completed"
    },
    "tags": []
   },
   "outputs": [
    {
     "data": {
      "text/html": [
       "<div>\n",
       "<style scoped>\n",
       "    .dataframe tbody tr th:only-of-type {\n",
       "        vertical-align: middle;\n",
       "    }\n",
       "\n",
       "    .dataframe tbody tr th {\n",
       "        vertical-align: top;\n",
       "    }\n",
       "\n",
       "    .dataframe thead th {\n",
       "        text-align: right;\n",
       "    }\n",
       "</style>\n",
       "<table border=\"1\" class=\"dataframe\">\n",
       "  <thead>\n",
       "    <tr style=\"text-align: right;\">\n",
       "      <th></th>\n",
       "      <th>常數</th>\n",
       "      <th>係數</th>\n",
       "    </tr>\n",
       "  </thead>\n",
       "  <tbody>\n",
       "    <tr>\n",
       "      <th>5</th>\n",
       "      <td>RM</td>\n",
       "      <td>2.808135</td>\n",
       "    </tr>\n",
       "    <tr>\n",
       "      <th>8</th>\n",
       "      <td>RAD</td>\n",
       "      <td>2.032761</td>\n",
       "    </tr>\n",
       "    <tr>\n",
       "      <th>11</th>\n",
       "      <td>B</td>\n",
       "      <td>1.041257</td>\n",
       "    </tr>\n",
       "    <tr>\n",
       "      <th>1</th>\n",
       "      <td>ZN</td>\n",
       "      <td>0.867933</td>\n",
       "    </tr>\n",
       "    <tr>\n",
       "      <th>3</th>\n",
       "      <td>CHAS</td>\n",
       "      <td>0.861838</td>\n",
       "    </tr>\n",
       "    <tr>\n",
       "      <th>2</th>\n",
       "      <td>INDUS</td>\n",
       "      <td>0.405028</td>\n",
       "    </tr>\n",
       "    <tr>\n",
       "      <th>6</th>\n",
       "      <td>AGE</td>\n",
       "      <td>-0.358669</td>\n",
       "    </tr>\n",
       "    <tr>\n",
       "      <th>0</th>\n",
       "      <td>CRIM</td>\n",
       "      <td>-0.988580</td>\n",
       "    </tr>\n",
       "    <tr>\n",
       "      <th>9</th>\n",
       "      <td>TAX</td>\n",
       "      <td>-1.364009</td>\n",
       "    </tr>\n",
       "    <tr>\n",
       "      <th>4</th>\n",
       "      <td>NOX</td>\n",
       "      <td>-1.900100</td>\n",
       "    </tr>\n",
       "    <tr>\n",
       "      <th>10</th>\n",
       "      <td>PTRATIO</td>\n",
       "      <td>-2.082536</td>\n",
       "    </tr>\n",
       "    <tr>\n",
       "      <th>7</th>\n",
       "      <td>DIS</td>\n",
       "      <td>-3.045535</td>\n",
       "    </tr>\n",
       "    <tr>\n",
       "      <th>12</th>\n",
       "      <td>LSTAT</td>\n",
       "      <td>-3.926286</td>\n",
       "    </tr>\n",
       "  </tbody>\n",
       "</table>\n",
       "</div>"
      ],
      "text/plain": [
       "         常數        係數\n",
       "5        RM  2.808135\n",
       "8       RAD  2.032761\n",
       "11        B  1.041257\n",
       "1        ZN  0.867933\n",
       "3      CHAS  0.861838\n",
       "2     INDUS  0.405028\n",
       "6       AGE -0.358669\n",
       "0      CRIM -0.988580\n",
       "9       TAX -1.364009\n",
       "4       NOX -1.900100\n",
       "10  PTRATIO -2.082536\n",
       "7       DIS -3.045535\n",
       "12    LSTAT -3.926286"
      ]
     },
     "execution_count": 102,
     "metadata": {},
     "output_type": "execute_result"
    }
   ],
   "source": [
    "from sklearn.preprocessing import StandardScaler\n",
    "from sklearn.pipeline import make_pipeline\n",
    "\n",
    "model_pl = make_pipeline(StandardScaler(), LinearRegression())\n",
    "model_pl.fit(X_train, y_train)\n",
    "reg = model_pl.named_steps['linearregression']\n",
    "pd.DataFrame(zip(X.columns, reg.coef_),columns = ['常數','係數']).sort_values(by='係數',ascending=False)"
   ]
  },
  {
   "cell_type": "code",
   "execution_count": 103,
   "id": "47770260",
   "metadata": {
    "execution": {
     "iopub.execute_input": "2022-06-16T02:06:35.585098Z",
     "iopub.status.busy": "2022-06-16T02:06:35.584425Z",
     "iopub.status.idle": "2022-06-16T02:06:35.587011Z",
     "shell.execute_reply": "2022-06-16T02:06:35.587460Z",
     "shell.execute_reply.started": "2022-06-16T01:20:56.869289Z"
    },
    "papermill": {
     "duration": 0.230937,
     "end_time": "2022-06-16T02:06:35.587634",
     "exception": false,
     "start_time": "2022-06-16T02:06:35.356697",
     "status": "completed"
    },
    "tags": []
   },
   "outputs": [
    {
     "data": {
      "text/plain": [
       "dict_keys(['standardscaler', 'linearregression'])"
      ]
     },
     "execution_count": 103,
     "metadata": {},
     "output_type": "execute_result"
    }
   ],
   "source": [
    "model_pl.named_steps.keys()"
   ]
  },
  {
   "cell_type": "code",
   "execution_count": 104,
   "id": "dbcf9d44",
   "metadata": {
    "execution": {
     "iopub.execute_input": "2022-06-16T02:06:36.044273Z",
     "iopub.status.busy": "2022-06-16T02:06:36.043365Z",
     "iopub.status.idle": "2022-06-16T02:06:36.053146Z",
     "shell.execute_reply": "2022-06-16T02:06:36.052701Z",
     "shell.execute_reply.started": "2022-06-16T01:20:56.878351Z"
    },
    "papermill": {
     "duration": 0.239561,
     "end_time": "2022-06-16T02:06:36.053268",
     "exception": false,
     "start_time": "2022-06-16T02:06:35.813707",
     "status": "completed"
    },
    "tags": []
   },
   "outputs": [
    {
     "name": "stdout",
     "output_type": "stream",
     "text": [
      "20.724023437339746\n",
      "3.148255754816832\n",
      "0.7261570836552478\n"
     ]
    }
   ],
   "source": [
    "y_pred = model_pl.predict(X_test)\n",
    "\n",
    "from sklearn.metrics import mean_squared_error, mean_absolute_error, r2_score\n",
    "print(mean_squared_error(y_test,y_pred))\n",
    "print(mean_absolute_error(y_test,y_pred))\n",
    "print(r2_score(y_test,y_pred))"
   ]
  },
  {
   "cell_type": "code",
   "execution_count": 105,
   "id": "8581a44f",
   "metadata": {
    "execution": {
     "iopub.execute_input": "2022-06-16T02:06:36.512014Z",
     "iopub.status.busy": "2022-06-16T02:06:36.511197Z",
     "iopub.status.idle": "2022-06-16T02:06:36.514848Z",
     "shell.execute_reply": "2022-06-16T02:06:36.514318Z",
     "shell.execute_reply.started": "2022-06-16T01:20:56.897451Z"
    },
    "papermill": {
     "duration": 0.23703,
     "end_time": "2022-06-16T02:06:36.514986",
     "exception": false,
     "start_time": "2022-06-16T02:06:36.277956",
     "status": "completed"
    },
    "tags": []
   },
   "outputs": [
    {
     "data": {
      "text/plain": [
       "23.6"
      ]
     },
     "execution_count": 105,
     "metadata": {},
     "output_type": "execute_result"
    }
   ],
   "source": [
    "model.predict(X_test.iloc[[0]])\n",
    "y_test.iloc[0]"
   ]
  },
  {
   "cell_type": "code",
   "execution_count": 106,
   "id": "fd3077c7",
   "metadata": {
    "execution": {
     "iopub.execute_input": "2022-06-16T02:06:36.973005Z",
     "iopub.status.busy": "2022-06-16T02:06:36.972099Z",
     "iopub.status.idle": "2022-06-16T02:06:36.978046Z",
     "shell.execute_reply": "2022-06-16T02:06:36.978607Z",
     "shell.execute_reply.started": "2022-06-16T01:20:56.910605Z"
    },
    "papermill": {
     "duration": 0.235894,
     "end_time": "2022-06-16T02:06:36.978805",
     "exception": false,
     "start_time": "2022-06-16T02:06:36.742911",
     "status": "completed"
    },
    "tags": []
   },
   "outputs": [
    {
     "data": {
      "text/plain": [
       "ColumnTransformer(transformers=['column_sel', 'passthrough',\n",
       "                                Index(['CRIM', 'ZN', 'INDUS'], dtype='object')])"
      ]
     },
     "execution_count": 106,
     "metadata": {},
     "output_type": "execute_result"
    }
   ],
   "source": [
    "from sklearn.compose import ColumnTransformer\n",
    "\n",
    "data_pl = ColumnTransformer(['column_sel','passthrough',X.columns[:3]])\n",
    "data_pl"
   ]
  },
  {
   "cell_type": "code",
   "execution_count": 107,
   "id": "b8a9d81e",
   "metadata": {
    "execution": {
     "iopub.execute_input": "2022-06-16T02:06:37.427854Z",
     "iopub.status.busy": "2022-06-16T02:06:37.427177Z",
     "iopub.status.idle": "2022-06-16T02:06:37.440075Z",
     "shell.execute_reply": "2022-06-16T02:06:37.440667Z",
     "shell.execute_reply.started": "2022-06-16T01:20:56.924879Z"
    },
    "papermill": {
     "duration": 0.237814,
     "end_time": "2022-06-16T02:06:37.440829",
     "exception": false,
     "start_time": "2022-06-16T02:06:37.203015",
     "status": "completed"
    },
    "tags": []
   },
   "outputs": [
    {
     "name": "stdout",
     "output_type": "stream",
     "text": [
      "22.97079646017699\n",
      "[-2.14462874  1.13030024 -2.77217752]\n"
     ]
    }
   ],
   "source": [
    "from sklearn.compose import ColumnTransformer\n",
    "from sklearn.preprocessing import StandardScaler\n",
    "from sklearn.pipeline import make_pipeline\n",
    "from sklearn.linear_model import LinearRegression\n",
    "\n",
    "data_pl = ColumnTransformer([('column_sel',StandardScaler(),X.columns[:3])])\n",
    "\n",
    "model_pl = make_pipeline(data_pl, LinearRegression())\n",
    "model_pl.fit(X_train, y_train)\n",
    "reg = model_pl.named_steps['linearregression']\n",
    "print(reg.intercept_)\n",
    "print(reg.coef_)"
   ]
  },
  {
   "cell_type": "code",
   "execution_count": 108,
   "id": "7f15ea6b",
   "metadata": {
    "execution": {
     "iopub.execute_input": "2022-06-16T02:06:37.899692Z",
     "iopub.status.busy": "2022-06-16T02:06:37.893332Z",
     "iopub.status.idle": "2022-06-16T02:06:37.907056Z",
     "shell.execute_reply": "2022-06-16T02:06:37.907975Z",
     "shell.execute_reply.started": "2022-06-16T01:20:56.947784Z"
    },
    "papermill": {
     "duration": 0.241128,
     "end_time": "2022-06-16T02:06:37.908272",
     "exception": false,
     "start_time": "2022-06-16T02:06:37.667144",
     "status": "completed"
    },
    "tags": []
   },
   "outputs": [
    {
     "name": "stdout",
     "output_type": "stream",
     "text": [
      "49.17549394985067\n",
      "5.158028841813333\n",
      "0.35020529596305805\n"
     ]
    }
   ],
   "source": [
    "y_pred = model_pl.predict(X_test)\n",
    "\n",
    "from sklearn.metrics import mean_squared_error, mean_absolute_error, r2_score\n",
    "print(mean_squared_error(y_test,y_pred))\n",
    "print(mean_absolute_error(y_test,y_pred))\n",
    "print(r2_score(y_test,y_pred))"
   ]
  },
  {
   "cell_type": "code",
   "execution_count": 109,
   "id": "d1f8dbcd",
   "metadata": {
    "execution": {
     "iopub.execute_input": "2022-06-16T02:06:38.367362Z",
     "iopub.status.busy": "2022-06-16T02:06:38.366399Z",
     "iopub.status.idle": "2022-06-16T02:06:38.372000Z",
     "shell.execute_reply": "2022-06-16T02:06:38.371066Z",
     "shell.execute_reply.started": "2022-06-16T01:20:56.970970Z"
    },
    "papermill": {
     "duration": 0.238257,
     "end_time": "2022-06-16T02:06:38.372236",
     "exception": false,
     "start_time": "2022-06-16T02:06:38.133979",
     "status": "completed"
    },
    "tags": []
   },
   "outputs": [
    {
     "name": "stdout",
     "output_type": "stream",
     "text": [
      "35.2251661672225\n",
      "[-0.98053701]\n",
      "38.410075117662345\n",
      "4.744269760624963\n",
      "0.49245729145962347\n"
     ]
    }
   ],
   "source": [
    "data_pl = ColumnTransformer([('column_sel','passthrough',['LSTAT'])])\n",
    "\n",
    "model_pl = make_pipeline(data_pl, LinearRegression())\n",
    "model_pl.fit(X_train, y_train)\n",
    "reg = model_pl.named_steps['linearregression']\n",
    "print(reg.intercept_)\n",
    "print(reg.coef_)\n",
    "y_pred = model_pl.predict(X_test)\n",
    "\n",
    "from sklearn.metrics import mean_squared_error, mean_absolute_error, r2_score\n",
    "print(mean_squared_error(y_test,y_pred))\n",
    "print(mean_absolute_error(y_test,y_pred))\n",
    "print(r2_score(y_test,y_pred))"
   ]
  },
  {
   "cell_type": "markdown",
   "id": "8a809b95",
   "metadata": {
    "papermill": {
     "duration": 0.219627,
     "end_time": "2022-06-16T02:06:38.815804",
     "exception": false,
     "start_time": "2022-06-16T02:06:38.596177",
     "status": "completed"
    },
    "tags": []
   },
   "source": [
    "# 5/24"
   ]
  },
  {
   "cell_type": "code",
   "execution_count": null,
   "id": "856be3d8",
   "metadata": {
    "papermill": {
     "duration": 0.225403,
     "end_time": "2022-06-16T02:06:39.266953",
     "exception": false,
     "start_time": "2022-06-16T02:06:39.041550",
     "status": "completed"
    },
    "tags": []
   },
   "outputs": [],
   "source": []
  },
  {
   "cell_type": "markdown",
   "id": "b9b56f72",
   "metadata": {
    "papermill": {
     "duration": 0.221016,
     "end_time": "2022-06-16T02:06:39.708762",
     "exception": false,
     "start_time": "2022-06-16T02:06:39.487746",
     "status": "completed"
    },
    "tags": []
   },
   "source": [
    "# 5/26"
   ]
  },
  {
   "cell_type": "code",
   "execution_count": 110,
   "id": "401e4da7",
   "metadata": {
    "execution": {
     "iopub.execute_input": "2022-06-16T02:06:40.170216Z",
     "iopub.status.busy": "2022-06-16T02:06:40.169249Z",
     "iopub.status.idle": "2022-06-16T02:06:40.251636Z",
     "shell.execute_reply": "2022-06-16T02:06:40.252165Z",
     "shell.execute_reply.started": "2022-06-16T01:20:56.995357Z"
    },
    "papermill": {
     "duration": 0.314558,
     "end_time": "2022-06-16T02:06:40.252353",
     "exception": false,
     "start_time": "2022-06-16T02:06:39.937795",
     "status": "completed"
    },
    "tags": []
   },
   "outputs": [
    {
     "data": {
      "text/html": [
       "<div>\n",
       "<style scoped>\n",
       "    .dataframe tbody tr th:only-of-type {\n",
       "        vertical-align: middle;\n",
       "    }\n",
       "\n",
       "    .dataframe tbody tr th {\n",
       "        vertical-align: top;\n",
       "    }\n",
       "\n",
       "    .dataframe thead th {\n",
       "        text-align: right;\n",
       "    }\n",
       "</style>\n",
       "<table border=\"1\" class=\"dataframe\">\n",
       "  <thead>\n",
       "    <tr style=\"text-align: right;\">\n",
       "      <th></th>\n",
       "      <th>sepal length (cm)</th>\n",
       "      <th>sepal width (cm)</th>\n",
       "      <th>petal length (cm)</th>\n",
       "      <th>petal width (cm)</th>\n",
       "      <th>target</th>\n",
       "    </tr>\n",
       "  </thead>\n",
       "  <tbody>\n",
       "    <tr>\n",
       "      <th>50</th>\n",
       "      <td>7.0</td>\n",
       "      <td>3.2</td>\n",
       "      <td>4.7</td>\n",
       "      <td>1.4</td>\n",
       "      <td>1</td>\n",
       "    </tr>\n",
       "    <tr>\n",
       "      <th>51</th>\n",
       "      <td>6.4</td>\n",
       "      <td>3.2</td>\n",
       "      <td>4.5</td>\n",
       "      <td>1.5</td>\n",
       "      <td>1</td>\n",
       "    </tr>\n",
       "    <tr>\n",
       "      <th>52</th>\n",
       "      <td>6.9</td>\n",
       "      <td>3.1</td>\n",
       "      <td>4.9</td>\n",
       "      <td>1.5</td>\n",
       "      <td>1</td>\n",
       "    </tr>\n",
       "    <tr>\n",
       "      <th>53</th>\n",
       "      <td>5.5</td>\n",
       "      <td>2.3</td>\n",
       "      <td>4.0</td>\n",
       "      <td>1.3</td>\n",
       "      <td>1</td>\n",
       "    </tr>\n",
       "    <tr>\n",
       "      <th>54</th>\n",
       "      <td>6.5</td>\n",
       "      <td>2.8</td>\n",
       "      <td>4.6</td>\n",
       "      <td>1.5</td>\n",
       "      <td>1</td>\n",
       "    </tr>\n",
       "    <tr>\n",
       "      <th>...</th>\n",
       "      <td>...</td>\n",
       "      <td>...</td>\n",
       "      <td>...</td>\n",
       "      <td>...</td>\n",
       "      <td>...</td>\n",
       "    </tr>\n",
       "    <tr>\n",
       "      <th>145</th>\n",
       "      <td>6.7</td>\n",
       "      <td>3.0</td>\n",
       "      <td>5.2</td>\n",
       "      <td>2.3</td>\n",
       "      <td>2</td>\n",
       "    </tr>\n",
       "    <tr>\n",
       "      <th>146</th>\n",
       "      <td>6.3</td>\n",
       "      <td>2.5</td>\n",
       "      <td>5.0</td>\n",
       "      <td>1.9</td>\n",
       "      <td>2</td>\n",
       "    </tr>\n",
       "    <tr>\n",
       "      <th>147</th>\n",
       "      <td>6.5</td>\n",
       "      <td>3.0</td>\n",
       "      <td>5.2</td>\n",
       "      <td>2.0</td>\n",
       "      <td>2</td>\n",
       "    </tr>\n",
       "    <tr>\n",
       "      <th>148</th>\n",
       "      <td>6.2</td>\n",
       "      <td>3.4</td>\n",
       "      <td>5.4</td>\n",
       "      <td>2.3</td>\n",
       "      <td>2</td>\n",
       "    </tr>\n",
       "    <tr>\n",
       "      <th>149</th>\n",
       "      <td>5.9</td>\n",
       "      <td>3.0</td>\n",
       "      <td>5.1</td>\n",
       "      <td>1.8</td>\n",
       "      <td>2</td>\n",
       "    </tr>\n",
       "  </tbody>\n",
       "</table>\n",
       "<p>100 rows × 5 columns</p>\n",
       "</div>"
      ],
      "text/plain": [
       "     sepal length (cm)  sepal width (cm)  petal length (cm)  petal width (cm)  \\\n",
       "50                 7.0               3.2                4.7               1.4   \n",
       "51                 6.4               3.2                4.5               1.5   \n",
       "52                 6.9               3.1                4.9               1.5   \n",
       "53                 5.5               2.3                4.0               1.3   \n",
       "54                 6.5               2.8                4.6               1.5   \n",
       "..                 ...               ...                ...               ...   \n",
       "145                6.7               3.0                5.2               2.3   \n",
       "146                6.3               2.5                5.0               1.9   \n",
       "147                6.5               3.0                5.2               2.0   \n",
       "148                6.2               3.4                5.4               2.3   \n",
       "149                5.9               3.0                5.1               1.8   \n",
       "\n",
       "     target  \n",
       "50        1  \n",
       "51        1  \n",
       "52        1  \n",
       "53        1  \n",
       "54        1  \n",
       "..      ...  \n",
       "145       2  \n",
       "146       2  \n",
       "147       2  \n",
       "148       2  \n",
       "149       2  \n",
       "\n",
       "[100 rows x 5 columns]"
      ]
     },
     "execution_count": 110,
     "metadata": {},
     "output_type": "execute_result"
    }
   ],
   "source": [
    "from sklearn import datasets\n",
    "import pandas as pd\n",
    "import numpy as np\n",
    "iris = datasets.load_iris()\n",
    "df = pd.DataFrame(iris['data'], columns=iris['feature_names'])\n",
    "df['target'] = iris['target']\n",
    "df.drop(index=df.index[:50],inplace=True)\n",
    "\n",
    "df"
   ]
  },
  {
   "cell_type": "code",
   "execution_count": 111,
   "id": "9c00da6c",
   "metadata": {
    "execution": {
     "iopub.execute_input": "2022-06-16T02:06:40.705748Z",
     "iopub.status.busy": "2022-06-16T02:06:40.705169Z",
     "iopub.status.idle": "2022-06-16T02:06:42.018291Z",
     "shell.execute_reply": "2022-06-16T02:06:42.019028Z",
     "shell.execute_reply.started": "2022-06-16T01:20:57.026279Z"
    },
    "papermill": {
     "duration": 1.541914,
     "end_time": "2022-06-16T02:06:42.019223",
     "exception": false,
     "start_time": "2022-06-16T02:06:40.477309",
     "status": "completed"
    },
    "tags": []
   },
   "outputs": [
    {
     "data": {
      "text/plain": [
       "<seaborn.axisgrid.PairGrid at 0x7fba503468d0>"
      ]
     },
     "execution_count": 111,
     "metadata": {},
     "output_type": "execute_result"
    },
    {
     "data": {
      "image/png": "[encoded data removed]",
      "text/plain": [
       "<Figure size 474.375x432 with 6 Axes>"
      ]
     },
     "metadata": {
      "needs_background": "light"
     },
     "output_type": "display_data"
    }
   ],
   "source": [
    "import seaborn as sns\n",
    "import matplotlib.pyplot as plt\n",
    "sns.pairplot(df, hue='target', vars=['sepal length (cm)','petal length (cm)'], height=3)"
   ]
  },
  {
   "cell_type": "code",
   "execution_count": 112,
   "id": "21f3d9a4",
   "metadata": {
    "execution": {
     "iopub.execute_input": "2022-06-16T02:06:42.477758Z",
     "iopub.status.busy": "2022-06-16T02:06:42.474546Z",
     "iopub.status.idle": "2022-06-16T02:06:42.479485Z",
     "shell.execute_reply": "2022-06-16T02:06:42.479998Z",
     "shell.execute_reply.started": "2022-06-16T01:20:58.650334Z"
    },
    "papermill": {
     "duration": 0.232292,
     "end_time": "2022-06-16T02:06:42.480170",
     "exception": false,
     "start_time": "2022-06-16T02:06:42.247878",
     "status": "completed"
    },
    "tags": []
   },
   "outputs": [],
   "source": [
    "X_cols = ['sepal width (cm)', 'petal length (cm)']\n",
    "y_col = 'target'\n",
    "X = df[X_cols]\n",
    "y = df[y_col]"
   ]
  },
  {
   "cell_type": "code",
   "execution_count": 113,
   "id": "086a47f5",
   "metadata": {
    "execution": {
     "iopub.execute_input": "2022-06-16T02:06:42.937490Z",
     "iopub.status.busy": "2022-06-16T02:06:42.936859Z",
     "iopub.status.idle": "2022-06-16T02:06:42.946337Z",
     "shell.execute_reply": "2022-06-16T02:06:42.946940Z",
     "shell.execute_reply.started": "2022-06-16T01:20:58.661057Z"
    },
    "papermill": {
     "duration": 0.240603,
     "end_time": "2022-06-16T02:06:42.947109",
     "exception": false,
     "start_time": "2022-06-16T02:06:42.706506",
     "status": "completed"
    },
    "tags": []
   },
   "outputs": [
    {
     "data": {
      "text/plain": [
       "array([[-2.48416603,  1.88759016]])"
      ]
     },
     "execution_count": 113,
     "metadata": {},
     "output_type": "execute_result"
    }
   ],
   "source": [
    "from sklearn.model_selection import train_test_split\n",
    "X_train, X_test, y_train, y_test = train_test_split(X, y, test_size = 0.33, random_state = 42)\n",
    "from sklearn.linear_model import LogisticRegression\n",
    "model = LogisticRegression(solver='liblinear')\n",
    "model.fit(X_train, y_train)\n",
    "model.coef_"
   ]
  },
  {
   "cell_type": "code",
   "execution_count": 114,
   "id": "d70fe762",
   "metadata": {
    "execution": {
     "iopub.execute_input": "2022-06-16T02:06:43.405432Z",
     "iopub.status.busy": "2022-06-16T02:06:43.404869Z",
     "iopub.status.idle": "2022-06-16T02:06:43.410953Z",
     "shell.execute_reply": "2022-06-16T02:06:43.411460Z",
     "shell.execute_reply.started": "2022-06-16T01:20:58.684036Z"
    },
    "papermill": {
     "duration": 0.235192,
     "end_time": "2022-06-16T02:06:43.411614",
     "exception": false,
     "start_time": "2022-06-16T02:06:43.176422",
     "status": "completed"
    },
    "tags": []
   },
   "outputs": [
    {
     "data": {
      "text/plain": [
       "array([2, 2, 2, 1, 1])"
      ]
     },
     "execution_count": 114,
     "metadata": {},
     "output_type": "execute_result"
    }
   ],
   "source": [
    "y_pred = model.predict(X_test)\n",
    "y_pred[:5]"
   ]
  },
  {
   "cell_type": "code",
   "execution_count": 115,
   "id": "a8613dbe",
   "metadata": {
    "execution": {
     "iopub.execute_input": "2022-06-16T02:06:43.868236Z",
     "iopub.status.busy": "2022-06-16T02:06:43.867668Z",
     "iopub.status.idle": "2022-06-16T02:06:43.877521Z",
     "shell.execute_reply": "2022-06-16T02:06:43.878085Z",
     "shell.execute_reply.started": "2022-06-16T01:20:58.694798Z"
    },
    "papermill": {
     "duration": 0.240762,
     "end_time": "2022-06-16T02:06:43.878244",
     "exception": false,
     "start_time": "2022-06-16T02:06:43.637482",
     "status": "completed"
    },
    "tags": []
   },
   "outputs": [
    {
     "data": {
      "text/html": [
       "<div>\n",
       "<style scoped>\n",
       "    .dataframe tbody tr th:only-of-type {\n",
       "        vertical-align: middle;\n",
       "    }\n",
       "\n",
       "    .dataframe tbody tr th {\n",
       "        vertical-align: top;\n",
       "    }\n",
       "\n",
       "    .dataframe thead th {\n",
       "        text-align: right;\n",
       "    }\n",
       "</style>\n",
       "<table border=\"1\" class=\"dataframe\">\n",
       "  <thead>\n",
       "    <tr style=\"text-align: right;\">\n",
       "      <th></th>\n",
       "      <th>data</th>\n",
       "      <th>prediction</th>\n",
       "    </tr>\n",
       "  </thead>\n",
       "  <tbody>\n",
       "    <tr>\n",
       "      <th>0</th>\n",
       "      <td>2</td>\n",
       "      <td>2</td>\n",
       "    </tr>\n",
       "    <tr>\n",
       "      <th>1</th>\n",
       "      <td>2</td>\n",
       "      <td>2</td>\n",
       "    </tr>\n",
       "    <tr>\n",
       "      <th>2</th>\n",
       "      <td>2</td>\n",
       "      <td>2</td>\n",
       "    </tr>\n",
       "    <tr>\n",
       "      <th>3</th>\n",
       "      <td>1</td>\n",
       "      <td>1</td>\n",
       "    </tr>\n",
       "    <tr>\n",
       "      <th>4</th>\n",
       "      <td>1</td>\n",
       "      <td>1</td>\n",
       "    </tr>\n",
       "    <tr>\n",
       "      <th>5</th>\n",
       "      <td>1</td>\n",
       "      <td>1</td>\n",
       "    </tr>\n",
       "    <tr>\n",
       "      <th>6</th>\n",
       "      <td>1</td>\n",
       "      <td>2</td>\n",
       "    </tr>\n",
       "    <tr>\n",
       "      <th>7</th>\n",
       "      <td>2</td>\n",
       "      <td>2</td>\n",
       "    </tr>\n",
       "    <tr>\n",
       "      <th>8</th>\n",
       "      <td>1</td>\n",
       "      <td>1</td>\n",
       "    </tr>\n",
       "    <tr>\n",
       "      <th>9</th>\n",
       "      <td>1</td>\n",
       "      <td>1</td>\n",
       "    </tr>\n",
       "    <tr>\n",
       "      <th>10</th>\n",
       "      <td>1</td>\n",
       "      <td>2</td>\n",
       "    </tr>\n",
       "    <tr>\n",
       "      <th>11</th>\n",
       "      <td>1</td>\n",
       "      <td>1</td>\n",
       "    </tr>\n",
       "    <tr>\n",
       "      <th>12</th>\n",
       "      <td>2</td>\n",
       "      <td>2</td>\n",
       "    </tr>\n",
       "    <tr>\n",
       "      <th>13</th>\n",
       "      <td>1</td>\n",
       "      <td>2</td>\n",
       "    </tr>\n",
       "    <tr>\n",
       "      <th>14</th>\n",
       "      <td>2</td>\n",
       "      <td>2</td>\n",
       "    </tr>\n",
       "    <tr>\n",
       "      <th>15</th>\n",
       "      <td>1</td>\n",
       "      <td>2</td>\n",
       "    </tr>\n",
       "    <tr>\n",
       "      <th>16</th>\n",
       "      <td>2</td>\n",
       "      <td>2</td>\n",
       "    </tr>\n",
       "    <tr>\n",
       "      <th>17</th>\n",
       "      <td>2</td>\n",
       "      <td>2</td>\n",
       "    </tr>\n",
       "    <tr>\n",
       "      <th>18</th>\n",
       "      <td>1</td>\n",
       "      <td>2</td>\n",
       "    </tr>\n",
       "    <tr>\n",
       "      <th>19</th>\n",
       "      <td>1</td>\n",
       "      <td>1</td>\n",
       "    </tr>\n",
       "    <tr>\n",
       "      <th>20</th>\n",
       "      <td>2</td>\n",
       "      <td>2</td>\n",
       "    </tr>\n",
       "    <tr>\n",
       "      <th>21</th>\n",
       "      <td>2</td>\n",
       "      <td>1</td>\n",
       "    </tr>\n",
       "    <tr>\n",
       "      <th>22</th>\n",
       "      <td>1</td>\n",
       "      <td>2</td>\n",
       "    </tr>\n",
       "    <tr>\n",
       "      <th>23</th>\n",
       "      <td>1</td>\n",
       "      <td>1</td>\n",
       "    </tr>\n",
       "    <tr>\n",
       "      <th>24</th>\n",
       "      <td>2</td>\n",
       "      <td>2</td>\n",
       "    </tr>\n",
       "    <tr>\n",
       "      <th>25</th>\n",
       "      <td>1</td>\n",
       "      <td>1</td>\n",
       "    </tr>\n",
       "    <tr>\n",
       "      <th>26</th>\n",
       "      <td>1</td>\n",
       "      <td>2</td>\n",
       "    </tr>\n",
       "    <tr>\n",
       "      <th>27</th>\n",
       "      <td>2</td>\n",
       "      <td>2</td>\n",
       "    </tr>\n",
       "    <tr>\n",
       "      <th>28</th>\n",
       "      <td>1</td>\n",
       "      <td>1</td>\n",
       "    </tr>\n",
       "    <tr>\n",
       "      <th>29</th>\n",
       "      <td>2</td>\n",
       "      <td>2</td>\n",
       "    </tr>\n",
       "    <tr>\n",
       "      <th>30</th>\n",
       "      <td>1</td>\n",
       "      <td>1</td>\n",
       "    </tr>\n",
       "    <tr>\n",
       "      <th>31</th>\n",
       "      <td>1</td>\n",
       "      <td>1</td>\n",
       "    </tr>\n",
       "    <tr>\n",
       "      <th>32</th>\n",
       "      <td>2</td>\n",
       "      <td>2</td>\n",
       "    </tr>\n",
       "  </tbody>\n",
       "</table>\n",
       "</div>"
      ],
      "text/plain": [
       "    data  prediction\n",
       "0      2           2\n",
       "1      2           2\n",
       "2      2           2\n",
       "3      1           1\n",
       "4      1           1\n",
       "5      1           1\n",
       "6      1           2\n",
       "7      2           2\n",
       "8      1           1\n",
       "9      1           1\n",
       "10     1           2\n",
       "11     1           1\n",
       "12     2           2\n",
       "13     1           2\n",
       "14     2           2\n",
       "15     1           2\n",
       "16     2           2\n",
       "17     2           2\n",
       "18     1           2\n",
       "19     1           1\n",
       "20     2           2\n",
       "21     2           1\n",
       "22     1           2\n",
       "23     1           1\n",
       "24     2           2\n",
       "25     1           1\n",
       "26     1           2\n",
       "27     2           2\n",
       "28     1           1\n",
       "29     2           2\n",
       "30     1           1\n",
       "31     1           1\n",
       "32     2           2"
      ]
     },
     "execution_count": 115,
     "metadata": {},
     "output_type": "execute_result"
    }
   ],
   "source": [
    "pd.DataFrame(zip(y_test, y_pred), columns=['data','prediction'])"
   ]
  },
  {
   "cell_type": "code",
   "execution_count": 116,
   "id": "a109566a",
   "metadata": {
    "execution": {
     "iopub.execute_input": "2022-06-16T02:06:44.343458Z",
     "iopub.status.busy": "2022-06-16T02:06:44.342865Z",
     "iopub.status.idle": "2022-06-16T02:06:44.352727Z",
     "shell.execute_reply": "2022-06-16T02:06:44.353319Z",
     "shell.execute_reply.started": "2022-06-16T01:20:58.715922Z"
    },
    "papermill": {
     "duration": 0.242734,
     "end_time": "2022-06-16T02:06:44.353491",
     "exception": false,
     "start_time": "2022-06-16T02:06:44.110757",
     "status": "completed"
    },
    "tags": []
   },
   "outputs": [
    {
     "data": {
      "text/html": [
       "<div>\n",
       "<style scoped>\n",
       "    .dataframe tbody tr th:only-of-type {\n",
       "        vertical-align: middle;\n",
       "    }\n",
       "\n",
       "    .dataframe tbody tr th {\n",
       "        vertical-align: top;\n",
       "    }\n",
       "\n",
       "    .dataframe thead th {\n",
       "        text-align: right;\n",
       "    }\n",
       "</style>\n",
       "<table border=\"1\" class=\"dataframe\">\n",
       "  <thead>\n",
       "    <tr style=\"text-align: right;\">\n",
       "      <th></th>\n",
       "      <th>0</th>\n",
       "      <th>1</th>\n",
       "    </tr>\n",
       "  </thead>\n",
       "  <tbody>\n",
       "    <tr>\n",
       "      <th>0</th>\n",
       "      <td>12</td>\n",
       "      <td>7</td>\n",
       "    </tr>\n",
       "    <tr>\n",
       "      <th>1</th>\n",
       "      <td>1</td>\n",
       "      <td>13</td>\n",
       "    </tr>\n",
       "  </tbody>\n",
       "</table>\n",
       "</div>"
      ],
      "text/plain": [
       "    0   1\n",
       "0  12   7\n",
       "1   1  13"
      ]
     },
     "execution_count": 116,
     "metadata": {},
     "output_type": "execute_result"
    }
   ],
   "source": [
    "from sklearn.metrics import confusion_matrix, accuracy_score, classification_report\n",
    "cm = confusion_matrix(y_test, y_pred)\n",
    "pd.DataFrame(cm)"
   ]
  },
  {
   "cell_type": "code",
   "execution_count": 117,
   "id": "961a0757",
   "metadata": {
    "execution": {
     "iopub.execute_input": "2022-06-16T02:06:44.817358Z",
     "iopub.status.busy": "2022-06-16T02:06:44.816633Z",
     "iopub.status.idle": "2022-06-16T02:06:44.819538Z",
     "shell.execute_reply": "2022-06-16T02:06:44.820071Z",
     "shell.execute_reply.started": "2022-06-16T01:20:58.737401Z"
    },
    "papermill": {
     "duration": 0.237462,
     "end_time": "2022-06-16T02:06:44.820239",
     "exception": false,
     "start_time": "2022-06-16T02:06:44.582777",
     "status": "completed"
    },
    "tags": []
   },
   "outputs": [
    {
     "data": {
      "text/plain": [
       "0.76"
      ]
     },
     "execution_count": 117,
     "metadata": {},
     "output_type": "execute_result"
    }
   ],
   "source": [
    "accuracy_score(y_test,y_pred).round(2)"
   ]
  },
  {
   "cell_type": "code",
   "execution_count": 118,
   "id": "99d61975",
   "metadata": {
    "execution": {
     "iopub.execute_input": "2022-06-16T02:06:45.281868Z",
     "iopub.status.busy": "2022-06-16T02:06:45.281256Z",
     "iopub.status.idle": "2022-06-16T02:06:45.289164Z",
     "shell.execute_reply": "2022-06-16T02:06:45.288672Z",
     "shell.execute_reply.started": "2022-06-16T01:20:58.751421Z"
    },
    "papermill": {
     "duration": 0.23921,
     "end_time": "2022-06-16T02:06:45.289294",
     "exception": false,
     "start_time": "2022-06-16T02:06:45.050084",
     "status": "completed"
    },
    "tags": []
   },
   "outputs": [
    {
     "data": {
      "text/plain": [
       "0.76"
      ]
     },
     "execution_count": 118,
     "metadata": {},
     "output_type": "execute_result"
    }
   ],
   "source": [
    "model.score(X_test,y_test).round(2)"
   ]
  },
  {
   "cell_type": "code",
   "execution_count": 119,
   "id": "e79b268c",
   "metadata": {
    "execution": {
     "iopub.execute_input": "2022-06-16T02:06:45.756794Z",
     "iopub.status.busy": "2022-06-16T02:06:45.756124Z",
     "iopub.status.idle": "2022-06-16T02:06:45.761937Z",
     "shell.execute_reply": "2022-06-16T02:06:45.762401Z",
     "shell.execute_reply.started": "2022-06-16T01:20:58.770097Z"
    },
    "papermill": {
     "duration": 0.244614,
     "end_time": "2022-06-16T02:06:45.762559",
     "exception": false,
     "start_time": "2022-06-16T02:06:45.517945",
     "status": "completed"
    },
    "tags": []
   },
   "outputs": [
    {
     "name": "stdout",
     "output_type": "stream",
     "text": [
      "              precision    recall  f1-score   support\n",
      "\n",
      "           1       0.92      0.63      0.75        19\n",
      "           2       0.65      0.93      0.76        14\n",
      "\n",
      "    accuracy                           0.76        33\n",
      "   macro avg       0.79      0.78      0.76        33\n",
      "weighted avg       0.81      0.76      0.76        33\n",
      "\n"
     ]
    }
   ],
   "source": [
    "print(classification_report(y_test, y_pred))"
   ]
  },
  {
   "cell_type": "markdown",
   "id": "c5efb321",
   "metadata": {
    "papermill": {
     "duration": 0.231557,
     "end_time": "2022-06-16T02:06:46.250746",
     "exception": false,
     "start_time": "2022-06-16T02:06:46.019189",
     "status": "completed"
    },
    "tags": []
   },
   "source": [
    "# 05/31"
   ]
  },
  {
   "cell_type": "code",
   "execution_count": null,
   "id": "1db3f33f",
   "metadata": {
    "papermill": {
     "duration": 0.229194,
     "end_time": "2022-06-16T02:06:46.708190",
     "exception": false,
     "start_time": "2022-06-16T02:06:46.478996",
     "status": "completed"
    },
    "tags": []
   },
   "outputs": [],
   "source": []
  },
  {
   "cell_type": "markdown",
   "id": "a2558fd8",
   "metadata": {
    "papermill": {
     "duration": 0.232492,
     "end_time": "2022-06-16T02:06:47.167857",
     "exception": false,
     "start_time": "2022-06-16T02:06:46.935365",
     "status": "completed"
    },
    "tags": []
   },
   "source": [
    "# 6/2"
   ]
  },
  {
   "cell_type": "code",
   "execution_count": 120,
   "id": "c22d8a4e",
   "metadata": {
    "execution": {
     "iopub.execute_input": "2022-06-16T02:06:47.674832Z",
     "iopub.status.busy": "2022-06-16T02:06:47.674202Z",
     "iopub.status.idle": "2022-06-16T02:06:47.880351Z",
     "shell.execute_reply": "2022-06-16T02:06:47.879515Z",
     "shell.execute_reply.started": "2022-06-16T01:20:58.785363Z"
    },
    "papermill": {
     "duration": 0.437621,
     "end_time": "2022-06-16T02:06:47.880491",
     "exception": false,
     "start_time": "2022-06-16T02:06:47.442870",
     "status": "completed"
    },
    "tags": []
   },
   "outputs": [
    {
     "name": "stderr",
     "output_type": "stream",
     "text": [
      "/opt/conda/lib/python3.7/site-packages/sklearn/utils/deprecation.py:87: FutureWarning: Function plot_confusion_matrix is deprecated; Function `plot_confusion_matrix` is deprecated in 1.0 and will be removed in 1.2. Use one of the class methods: ConfusionMatrixDisplay.from_predictions or ConfusionMatrixDisplay.from_estimator.\n",
      "  warnings.warn(msg, category=FutureWarning)\n"
     ]
    },
    {
     "data": {
      "image/png": "[encoded data removed]",
      "text/plain": [
       "<Figure size 432x288 with 2 Axes>"
      ]
     },
     "metadata": {
      "needs_background": "light"
     },
     "output_type": "display_data"
    }
   ],
   "source": [
    "import matplotlib.pyplot as plt\n",
    "from sklearn.metrics import ConfusionMatrixDisplay, confusion_matrix, plot_confusion_matrix\n",
    "\n",
    "plot_confusion_matrix(model, X_test, y_test, cmap='viridis')\n",
    "plt.show()"
   ]
  },
  {
   "cell_type": "code",
   "execution_count": 121,
   "id": "91816b9d",
   "metadata": {
    "execution": {
     "iopub.execute_input": "2022-06-16T02:06:48.347933Z",
     "iopub.status.busy": "2022-06-16T02:06:48.347289Z",
     "iopub.status.idle": "2022-06-16T02:06:48.537311Z",
     "shell.execute_reply": "2022-06-16T02:06:48.537930Z",
     "shell.execute_reply.started": "2022-06-16T01:20:59.020956Z"
    },
    "papermill": {
     "duration": 0.422865,
     "end_time": "2022-06-16T02:06:48.538094",
     "exception": false,
     "start_time": "2022-06-16T02:06:48.115229",
     "status": "completed"
    },
    "tags": []
   },
   "outputs": [
    {
     "data": {
      "image/png": "[encoded data removed]",
      "text/plain": [
       "<Figure size 432x288 with 2 Axes>"
      ]
     },
     "metadata": {
      "needs_background": "light"
     },
     "output_type": "display_data"
    }
   ],
   "source": [
    "cm = confusion_matrix(y_test, y_pred, labels=model.classes_)\n",
    "disp = ConfusionMatrixDisplay(confusion_matrix=cm, display_labels=model.classes_)\n",
    "disp.plot()\n",
    "plt.show()"
   ]
  },
  {
   "cell_type": "markdown",
   "id": "5ef81327",
   "metadata": {
    "papermill": {
     "duration": 0.235752,
     "end_time": "2022-06-16T02:06:49.001959",
     "exception": false,
     "start_time": "2022-06-16T02:06:48.766207",
     "status": "completed"
    },
    "tags": []
   },
   "source": [
    "Recall(召回率) = TP/(TP+FN)\n",
    "\n",
    "Precision(準確率) = TP/(TP+FP)\n",
    "\n",
    "F1-score = 2 * Precision * Recall / (Precision + Recall)"
   ]
  },
  {
   "cell_type": "code",
   "execution_count": 122,
   "id": "1cf5f548",
   "metadata": {
    "execution": {
     "iopub.execute_input": "2022-06-16T02:06:49.464470Z",
     "iopub.status.busy": "2022-06-16T02:06:49.463832Z",
     "iopub.status.idle": "2022-06-16T02:06:49.471651Z",
     "shell.execute_reply": "2022-06-16T02:06:49.472201Z",
     "shell.execute_reply.started": "2022-06-16T01:20:59.259123Z"
    },
    "papermill": {
     "duration": 0.241713,
     "end_time": "2022-06-16T02:06:49.472353",
     "exception": false,
     "start_time": "2022-06-16T02:06:49.230640",
     "status": "completed"
    },
    "tags": []
   },
   "outputs": [
    {
     "data": {
      "text/plain": [
       "0.7478709677419355"
      ]
     },
     "execution_count": 122,
     "metadata": {},
     "output_type": "execute_result"
    }
   ],
   "source": [
    "a = classification_report(y_test, y_pred).split('\\n')[2].split()\n",
    "2*float(a[1])*float(a[2])/(float(a[1])+float(a[2]))"
   ]
  },
  {
   "cell_type": "code",
   "execution_count": 123,
   "id": "544c1732",
   "metadata": {
    "execution": {
     "iopub.execute_input": "2022-06-16T02:06:49.939667Z",
     "iopub.status.busy": "2022-06-16T02:06:49.938988Z",
     "iopub.status.idle": "2022-06-16T02:06:49.952297Z",
     "shell.execute_reply": "2022-06-16T02:06:49.953232Z",
     "shell.execute_reply.started": "2022-06-16T01:20:59.273128Z"
    },
    "papermill": {
     "duration": 0.253183,
     "end_time": "2022-06-16T02:06:49.953541",
     "exception": false,
     "start_time": "2022-06-16T02:06:49.700358",
     "status": "completed"
    },
    "tags": []
   },
   "outputs": [
    {
     "name": "stdout",
     "output_type": "stream",
     "text": [
      "[[17  2]\n",
      " [ 3 11]]\n",
      "0.8484848484848485\n"
     ]
    }
   ],
   "source": [
    "from sklearn.preprocessing import StandardScaler\n",
    "from sklearn.pipeline import make_pipeline\n",
    "\n",
    "model_pl = make_pipeline(StandardScaler(),LogisticRegression(solver='liblinear'))\n",
    "model_pl.fit(X_train, y_train)\n",
    "y_pred = model_pl.predict(X_test)\n",
    "cm = confusion_matrix(y_test,y_pred)\n",
    "print(cm)\n",
    "print(accuracy_score(y_test,y_pred))"
   ]
  },
  {
   "cell_type": "code",
   "execution_count": 124,
   "id": "399f3b69",
   "metadata": {
    "execution": {
     "iopub.execute_input": "2022-06-16T02:06:50.428291Z",
     "iopub.status.busy": "2022-06-16T02:06:50.427649Z",
     "iopub.status.idle": "2022-06-16T02:06:50.437751Z",
     "shell.execute_reply": "2022-06-16T02:06:50.438276Z",
     "shell.execute_reply.started": "2022-06-16T01:20:59.289544Z"
    },
    "papermill": {
     "duration": 0.244544,
     "end_time": "2022-06-16T02:06:50.438471",
     "exception": false,
     "start_time": "2022-06-16T02:06:50.193927",
     "status": "completed"
    },
    "tags": []
   },
   "outputs": [
    {
     "data": {
      "text/html": [
       "<div>\n",
       "<style scoped>\n",
       "    .dataframe tbody tr th:only-of-type {\n",
       "        vertical-align: middle;\n",
       "    }\n",
       "\n",
       "    .dataframe tbody tr th {\n",
       "        vertical-align: top;\n",
       "    }\n",
       "\n",
       "    .dataframe thead th {\n",
       "        text-align: right;\n",
       "    }\n",
       "</style>\n",
       "<table border=\"1\" class=\"dataframe\">\n",
       "  <thead>\n",
       "    <tr style=\"text-align: right;\">\n",
       "      <th></th>\n",
       "      <th>0</th>\n",
       "      <th>1</th>\n",
       "    </tr>\n",
       "  </thead>\n",
       "  <tbody>\n",
       "    <tr>\n",
       "      <th>0</th>\n",
       "      <td>0.263081</td>\n",
       "      <td>0.736919</td>\n",
       "    </tr>\n",
       "    <tr>\n",
       "      <th>1</th>\n",
       "      <td>0.056462</td>\n",
       "      <td>0.943538</td>\n",
       "    </tr>\n",
       "    <tr>\n",
       "      <th>2</th>\n",
       "      <td>0.059512</td>\n",
       "      <td>0.940488</td>\n",
       "    </tr>\n",
       "    <tr>\n",
       "      <th>3</th>\n",
       "      <td>0.939655</td>\n",
       "      <td>0.060345</td>\n",
       "    </tr>\n",
       "    <tr>\n",
       "      <th>4</th>\n",
       "      <td>0.909115</td>\n",
       "      <td>0.090885</td>\n",
       "    </tr>\n",
       "  </tbody>\n",
       "</table>\n",
       "</div>"
      ],
      "text/plain": [
       "          0         1\n",
       "0  0.263081  0.736919\n",
       "1  0.056462  0.943538\n",
       "2  0.059512  0.940488\n",
       "3  0.939655  0.060345\n",
       "4  0.909115  0.090885"
      ]
     },
     "execution_count": 124,
     "metadata": {},
     "output_type": "execute_result"
    }
   ],
   "source": [
    "y_test_prob = model_pl.predict_proba(X_test)\n",
    "df_proba = pd.DataFrame(y_test_prob).head()\n",
    "df_proba"
   ]
  },
  {
   "cell_type": "code",
   "execution_count": 125,
   "id": "7e59994c",
   "metadata": {
    "execution": {
     "iopub.execute_input": "2022-06-16T02:06:50.970776Z",
     "iopub.status.busy": "2022-06-16T02:06:50.969693Z",
     "iopub.status.idle": "2022-06-16T02:06:50.973817Z",
     "shell.execute_reply": "2022-06-16T02:06:50.974573Z",
     "shell.execute_reply.started": "2022-06-16T01:20:59.314847Z"
    },
    "papermill": {
     "duration": 0.271014,
     "end_time": "2022-06-16T02:06:50.974797",
     "exception": false,
     "start_time": "2022-06-16T02:06:50.703783",
     "status": "completed"
    },
    "tags": []
   },
   "outputs": [
    {
     "data": {
      "text/plain": [
       "array([1, 2, 2, 1, 1])"
      ]
     },
     "execution_count": 125,
     "metadata": {},
     "output_type": "execute_result"
    }
   ],
   "source": [
    "y_pred_prob = model_pl.predict_proba(X_test)[:,1]\n",
    "y_pred_8 = np.where(y_pred_prob>=0.8,2,1)\n",
    "y_pred_8[:5]"
   ]
  },
  {
   "cell_type": "markdown",
   "id": "3a1a5a49",
   "metadata": {
    "papermill": {
     "duration": 0.239766,
     "end_time": "2022-06-16T02:06:51.456925",
     "exception": false,
     "start_time": "2022-06-16T02:06:51.217159",
     "status": "completed"
    },
    "tags": []
   },
   "source": [
    "# 6/7"
   ]
  },
  {
   "cell_type": "code",
   "execution_count": 126,
   "id": "35f5fe70",
   "metadata": {
    "execution": {
     "iopub.execute_input": "2022-06-16T02:06:51.929865Z",
     "iopub.status.busy": "2022-06-16T02:06:51.929141Z",
     "iopub.status.idle": "2022-06-16T02:06:51.963581Z",
     "shell.execute_reply": "2022-06-16T02:06:51.964107Z",
     "shell.execute_reply.started": "2022-06-16T01:20:59.328598Z"
    },
    "papermill": {
     "duration": 0.270985,
     "end_time": "2022-06-16T02:06:51.964262",
     "exception": false,
     "start_time": "2022-06-16T02:06:51.693277",
     "status": "completed"
    },
    "tags": []
   },
   "outputs": [
    {
     "data": {
      "text/html": [
       "<div>\n",
       "<style scoped>\n",
       "    .dataframe tbody tr th:only-of-type {\n",
       "        vertical-align: middle;\n",
       "    }\n",
       "\n",
       "    .dataframe tbody tr th {\n",
       "        vertical-align: top;\n",
       "    }\n",
       "\n",
       "    .dataframe thead th {\n",
       "        text-align: right;\n",
       "    }\n",
       "</style>\n",
       "<table border=\"1\" class=\"dataframe\">\n",
       "  <thead>\n",
       "    <tr style=\"text-align: right;\">\n",
       "      <th></th>\n",
       "      <th>threshold</th>\n",
       "      <th>precision</th>\n",
       "      <th>recall</th>\n",
       "    </tr>\n",
       "  </thead>\n",
       "  <tbody>\n",
       "    <tr>\n",
       "      <th>0</th>\n",
       "      <td>0.0</td>\n",
       "      <td>0.424242</td>\n",
       "      <td>1.000000</td>\n",
       "    </tr>\n",
       "    <tr>\n",
       "      <th>1</th>\n",
       "      <td>0.1</td>\n",
       "      <td>0.636364</td>\n",
       "      <td>1.000000</td>\n",
       "    </tr>\n",
       "    <tr>\n",
       "      <th>2</th>\n",
       "      <td>0.2</td>\n",
       "      <td>0.666667</td>\n",
       "      <td>1.000000</td>\n",
       "    </tr>\n",
       "    <tr>\n",
       "      <th>3</th>\n",
       "      <td>0.3</td>\n",
       "      <td>0.777778</td>\n",
       "      <td>1.000000</td>\n",
       "    </tr>\n",
       "    <tr>\n",
       "      <th>4</th>\n",
       "      <td>0.4</td>\n",
       "      <td>0.764706</td>\n",
       "      <td>0.928571</td>\n",
       "    </tr>\n",
       "    <tr>\n",
       "      <th>5</th>\n",
       "      <td>0.5</td>\n",
       "      <td>0.846154</td>\n",
       "      <td>0.785714</td>\n",
       "    </tr>\n",
       "    <tr>\n",
       "      <th>6</th>\n",
       "      <td>0.6</td>\n",
       "      <td>0.833333</td>\n",
       "      <td>0.714286</td>\n",
       "    </tr>\n",
       "    <tr>\n",
       "      <th>7</th>\n",
       "      <td>0.7</td>\n",
       "      <td>0.909091</td>\n",
       "      <td>0.714286</td>\n",
       "    </tr>\n",
       "    <tr>\n",
       "      <th>8</th>\n",
       "      <td>0.8</td>\n",
       "      <td>1.000000</td>\n",
       "      <td>0.571429</td>\n",
       "    </tr>\n",
       "    <tr>\n",
       "      <th>9</th>\n",
       "      <td>0.9</td>\n",
       "      <td>1.000000</td>\n",
       "      <td>0.500000</td>\n",
       "    </tr>\n",
       "  </tbody>\n",
       "</table>\n",
       "</div>"
      ],
      "text/plain": [
       "   threshold  precision    recall\n",
       "0        0.0   0.424242  1.000000\n",
       "1        0.1   0.636364  1.000000\n",
       "2        0.2   0.666667  1.000000\n",
       "3        0.3   0.777778  1.000000\n",
       "4        0.4   0.764706  0.928571\n",
       "5        0.5   0.846154  0.785714\n",
       "6        0.6   0.833333  0.714286\n",
       "7        0.7   0.909091  0.714286\n",
       "8        0.8   1.000000  0.571429\n",
       "9        0.9   1.000000  0.500000"
      ]
     },
     "execution_count": 126,
     "metadata": {},
     "output_type": "execute_result"
    }
   ],
   "source": [
    "from sklearn.metrics import precision_score, recall_score\n",
    "\n",
    "scores = []\n",
    "y_pred_proba = model_pl.predict_proba(X_test)[:,1]\n",
    "for i in np.arange(0,1,0.1):\n",
    "    y_pred = np.where(y_pred_proba>=i,2,1)\n",
    "    precision = precision_score(y_test,y_pred,pos_label=2)\n",
    "    recall = recall_score(y_test,y_pred,pos_label=2)\n",
    "    scores.append([i,precision,recall])\n",
    "df_p_r = pd.DataFrame(scores, columns=['threshold','precision','recall'])\n",
    "df_p_r.sort_values(by='threshold')"
   ]
  },
  {
   "cell_type": "code",
   "execution_count": 127,
   "id": "6c12d089",
   "metadata": {
    "execution": {
     "iopub.execute_input": "2022-06-16T02:06:52.434968Z",
     "iopub.status.busy": "2022-06-16T02:06:52.434361Z",
     "iopub.status.idle": "2022-06-16T02:06:52.664070Z",
     "shell.execute_reply": "2022-06-16T02:06:52.663440Z",
     "shell.execute_reply.started": "2022-06-16T01:20:59.378846Z"
    },
    "papermill": {
     "duration": 0.46726,
     "end_time": "2022-06-16T02:06:52.664200",
     "exception": false,
     "start_time": "2022-06-16T02:06:52.196940",
     "status": "completed"
    },
    "tags": []
   },
   "outputs": [
    {
     "data": {
      "image/png": "[encoded data removed]",
      "text/plain": [
       "<Figure size 432x288 with 1 Axes>"
      ]
     },
     "metadata": {
      "needs_background": "light"
     },
     "output_type": "display_data"
    }
   ],
   "source": [
    "from sklearn.metrics import precision_recall_curve\n",
    "precision,recall,threshold = precision_recall_curve(y_test,y_pred_proba,pos_label=2)\n",
    "df_p_pr = pd.DataFrame(zip(threshold,precision,recall),columns=['threshold','precision','recall'])\n",
    "ax = df_p_pr.plot(x='recall',y='precision',marker='o',figsize=(6,4))\n",
    "for idx in df_p_r.index:\n",
    "    ax.text(x=df_p_r.loc[idx,'recall'],y=df_p_r.loc[idx,'precision']-0.02,s=df_p_r.loc[idx,'threshold'].round(2))"
   ]
  },
  {
   "cell_type": "code",
   "execution_count": 128,
   "id": "23b05b4d",
   "metadata": {
    "execution": {
     "iopub.execute_input": "2022-06-16T02:06:53.146908Z",
     "iopub.status.busy": "2022-06-16T02:06:53.146318Z",
     "iopub.status.idle": "2022-06-16T02:06:53.161476Z",
     "shell.execute_reply": "2022-06-16T02:06:53.162036Z",
     "shell.execute_reply.started": "2022-06-16T01:20:59.650156Z"
    },
    "papermill": {
     "duration": 0.259224,
     "end_time": "2022-06-16T02:06:53.162187",
     "exception": false,
     "start_time": "2022-06-16T02:06:52.902963",
     "status": "completed"
    },
    "tags": []
   },
   "outputs": [
    {
     "data": {
      "text/html": [
       "<div>\n",
       "<style scoped>\n",
       "    .dataframe tbody tr th:only-of-type {\n",
       "        vertical-align: middle;\n",
       "    }\n",
       "\n",
       "    .dataframe tbody tr th {\n",
       "        vertical-align: top;\n",
       "    }\n",
       "\n",
       "    .dataframe thead th {\n",
       "        text-align: right;\n",
       "    }\n",
       "</style>\n",
       "<table border=\"1\" class=\"dataframe\">\n",
       "  <thead>\n",
       "    <tr style=\"text-align: right;\">\n",
       "      <th></th>\n",
       "      <th>sepal width (cm)</th>\n",
       "      <th>petal length (cm)</th>\n",
       "      <th>target</th>\n",
       "    </tr>\n",
       "  </thead>\n",
       "  <tbody>\n",
       "    <tr>\n",
       "      <th>50</th>\n",
       "      <td>3.2</td>\n",
       "      <td>4.7</td>\n",
       "      <td>1</td>\n",
       "    </tr>\n",
       "    <tr>\n",
       "      <th>51</th>\n",
       "      <td>3.2</td>\n",
       "      <td>4.5</td>\n",
       "      <td>1</td>\n",
       "    </tr>\n",
       "    <tr>\n",
       "      <th>52</th>\n",
       "      <td>3.1</td>\n",
       "      <td>4.9</td>\n",
       "      <td>1</td>\n",
       "    </tr>\n",
       "    <tr>\n",
       "      <th>53</th>\n",
       "      <td>2.3</td>\n",
       "      <td>4.0</td>\n",
       "      <td>1</td>\n",
       "    </tr>\n",
       "    <tr>\n",
       "      <th>54</th>\n",
       "      <td>2.8</td>\n",
       "      <td>4.6</td>\n",
       "      <td>1</td>\n",
       "    </tr>\n",
       "    <tr>\n",
       "      <th>...</th>\n",
       "      <td>...</td>\n",
       "      <td>...</td>\n",
       "      <td>...</td>\n",
       "    </tr>\n",
       "    <tr>\n",
       "      <th>145</th>\n",
       "      <td>3.0</td>\n",
       "      <td>5.2</td>\n",
       "      <td>2</td>\n",
       "    </tr>\n",
       "    <tr>\n",
       "      <th>146</th>\n",
       "      <td>2.5</td>\n",
       "      <td>5.0</td>\n",
       "      <td>2</td>\n",
       "    </tr>\n",
       "    <tr>\n",
       "      <th>147</th>\n",
       "      <td>3.0</td>\n",
       "      <td>5.2</td>\n",
       "      <td>2</td>\n",
       "    </tr>\n",
       "    <tr>\n",
       "      <th>148</th>\n",
       "      <td>3.4</td>\n",
       "      <td>5.4</td>\n",
       "      <td>2</td>\n",
       "    </tr>\n",
       "    <tr>\n",
       "      <th>149</th>\n",
       "      <td>3.0</td>\n",
       "      <td>5.1</td>\n",
       "      <td>2</td>\n",
       "    </tr>\n",
       "  </tbody>\n",
       "</table>\n",
       "<p>100 rows × 3 columns</p>\n",
       "</div>"
      ],
      "text/plain": [
       "     sepal width (cm)  petal length (cm)  target\n",
       "50                3.2                4.7       1\n",
       "51                3.2                4.5       1\n",
       "52                3.1                4.9       1\n",
       "53                2.3                4.0       1\n",
       "54                2.8                4.6       1\n",
       "..                ...                ...     ...\n",
       "145               3.0                5.2       2\n",
       "146               2.5                5.0       2\n",
       "147               3.0                5.2       2\n",
       "148               3.4                5.4       2\n",
       "149               3.0                5.1       2\n",
       "\n",
       "[100 rows x 3 columns]"
      ]
     },
     "execution_count": 128,
     "metadata": {},
     "output_type": "execute_result"
    }
   ],
   "source": [
    "from sklearn import datasets\n",
    "import pandas as pd\n",
    "import numpy as np\n",
    "iris = datasets.load_iris()\n",
    "df = pd.DataFrame(iris['data'], columns=iris['feature_names'])\n",
    "df['target'] = iris['target']\n",
    "df = df[['sepal width (cm)','petal length (cm)','target']]\n",
    "df.drop(index=df.index[:50],inplace=True)\n",
    "\n",
    "df"
   ]
  },
  {
   "cell_type": "code",
   "execution_count": 129,
   "id": "344c3a0b",
   "metadata": {
    "execution": {
     "iopub.execute_input": "2022-06-16T02:06:53.629270Z",
     "iopub.status.busy": "2022-06-16T02:06:53.628723Z",
     "iopub.status.idle": "2022-06-16T02:06:53.634992Z",
     "shell.execute_reply": "2022-06-16T02:06:53.635522Z",
     "shell.execute_reply.started": "2022-06-16T01:20:59.677125Z"
    },
    "papermill": {
     "duration": 0.240837,
     "end_time": "2022-06-16T02:06:53.635695",
     "exception": false,
     "start_time": "2022-06-16T02:06:53.394858",
     "status": "completed"
    },
    "tags": []
   },
   "outputs": [],
   "source": [
    "X = df.drop('target',axis=1)\n",
    "y = df['target']\n",
    "from sklearn.model_selection import train_test_split\n",
    "X_train,X_test,y_train,y_test = train_test_split(X,y,test_size=0.33,random_state=42)"
   ]
  },
  {
   "cell_type": "code",
   "execution_count": 130,
   "id": "e95dcbab",
   "metadata": {
    "execution": {
     "iopub.execute_input": "2022-06-16T02:06:54.118529Z",
     "iopub.status.busy": "2022-06-16T02:06:54.117959Z",
     "iopub.status.idle": "2022-06-16T02:06:54.131626Z",
     "shell.execute_reply": "2022-06-16T02:06:54.132081Z",
     "shell.execute_reply.started": "2022-06-16T01:20:59.688728Z"
    },
    "papermill": {
     "duration": 0.259623,
     "end_time": "2022-06-16T02:06:54.132239",
     "exception": false,
     "start_time": "2022-06-16T02:06:53.872616",
     "status": "completed"
    },
    "tags": []
   },
   "outputs": [
    {
     "data": {
      "text/plain": [
       "0.8787878787878788"
      ]
     },
     "execution_count": 130,
     "metadata": {},
     "output_type": "execute_result"
    }
   ],
   "source": [
    "from sklearn.neighbors import KNeighborsClassifier\n",
    "model = KNeighborsClassifier()\n",
    "model.fit(X_train,y_train)\n",
    "model.score(X_test,y_test)"
   ]
  },
  {
   "cell_type": "code",
   "execution_count": 131,
   "id": "dc421dcb",
   "metadata": {
    "execution": {
     "iopub.execute_input": "2022-06-16T02:06:54.613370Z",
     "iopub.status.busy": "2022-06-16T02:06:54.612762Z",
     "iopub.status.idle": "2022-06-16T02:06:54.622190Z",
     "shell.execute_reply": "2022-06-16T02:06:54.623009Z",
     "shell.execute_reply.started": "2022-06-16T01:20:59.712384Z"
    },
    "papermill": {
     "duration": 0.253347,
     "end_time": "2022-06-16T02:06:54.623215",
     "exception": false,
     "start_time": "2022-06-16T02:06:54.369868",
     "status": "completed"
    },
    "tags": []
   },
   "outputs": [
    {
     "name": "stdout",
     "output_type": "stream",
     "text": [
      "0.8787878787878788\n",
      "[[17  2]\n",
      " [ 2 12]]\n",
      "              precision    recall  f1-score   support\n",
      "\n",
      "           1       0.89      0.89      0.89        19\n",
      "           2       0.86      0.86      0.86        14\n",
      "\n",
      "    accuracy                           0.88        33\n",
      "   macro avg       0.88      0.88      0.88        33\n",
      "weighted avg       0.88      0.88      0.88        33\n",
      "\n"
     ]
    }
   ],
   "source": [
    "from sklearn.metrics import accuracy_score,confusion_matrix,classification_report\n",
    "y_pred = model.predict(X_test)\n",
    "print(accuracy_score(y_test,y_pred))\n",
    "\n",
    "cm = confusion_matrix(y_test,y_pred)\n",
    "print(cm)\n",
    "\n",
    "print(classification_report(y_test, y_pred))"
   ]
  },
  {
   "cell_type": "markdown",
   "id": "5c579fb2",
   "metadata": {
    "papermill": {
     "duration": 0.238789,
     "end_time": "2022-06-16T02:06:55.099397",
     "exception": false,
     "start_time": "2022-06-16T02:06:54.860608",
     "status": "completed"
    },
    "tags": []
   },
   "source": [
    "# 6/9"
   ]
  },
  {
   "cell_type": "code",
   "execution_count": 132,
   "id": "34d9d8ae",
   "metadata": {
    "execution": {
     "iopub.execute_input": "2022-06-16T02:06:55.579449Z",
     "iopub.status.busy": "2022-06-16T02:06:55.578626Z",
     "iopub.status.idle": "2022-06-16T02:06:55.616533Z",
     "shell.execute_reply": "2022-06-16T02:06:55.617188Z",
     "shell.execute_reply.started": "2022-06-16T01:20:59.734257Z"
    },
    "papermill": {
     "duration": 0.279282,
     "end_time": "2022-06-16T02:06:55.617369",
     "exception": false,
     "start_time": "2022-06-16T02:06:55.338087",
     "status": "completed"
    },
    "tags": []
   },
   "outputs": [
    {
     "name": "stdout",
     "output_type": "stream",
     "text": [
      "3  0.85\n",
      "4  0.82\n",
      "5  0.88\n",
      "6  0.85\n",
      "7  0.88\n"
     ]
    }
   ],
   "source": [
    "from sklearn.pipeline import make_pipeline\n",
    "from sklearn.preprocessing import StandardScaler\n",
    "from sklearn.neighbors import KNeighborsClassifier\n",
    "for k in range(3,8):\n",
    "    model_pl = make_pipeline(StandardScaler(),KNeighborsClassifier(n_neighbors=k))\n",
    "    model_pl.fit(X_train,y_train)\n",
    "    accuracy = model_pl.score(X_test,y_test).round(2)\n",
    "    print(f'{k}  {accuracy}')"
   ]
  },
  {
   "cell_type": "code",
   "execution_count": 133,
   "id": "77b92df9",
   "metadata": {
    "execution": {
     "iopub.execute_input": "2022-06-16T02:06:56.092661Z",
     "iopub.status.busy": "2022-06-16T02:06:56.091813Z",
     "iopub.status.idle": "2022-06-16T02:06:56.119331Z",
     "shell.execute_reply": "2022-06-16T02:06:56.120051Z",
     "shell.execute_reply.started": "2022-06-16T01:20:59.787876Z"
    },
    "papermill": {
     "duration": 0.26838,
     "end_time": "2022-06-16T02:06:56.120270",
     "exception": false,
     "start_time": "2022-06-16T02:06:55.851890",
     "status": "completed"
    },
    "tags": []
   },
   "outputs": [
    {
     "name": "stdout",
     "output_type": "stream",
     "text": [
      "0.9393939393939394\n",
      "0.9090909090909091\n"
     ]
    }
   ],
   "source": [
    "from sklearn import datasets\n",
    "import pandas as pd\n",
    "import numpy as np\n",
    "iris = datasets.load_iris()\n",
    "df = pd.DataFrame(iris['data'], columns=iris['feature_names'])\n",
    "df['target'] = iris['target']\n",
    "df.drop(index=df.index[:50],inplace=True)\n",
    "\n",
    "X = df.drop('target',axis=1)\n",
    "y = df['target']\n",
    "from sklearn.model_selection import train_test_split\n",
    "X_train,X_test,y_train,y_test = train_test_split(X,y,test_size=0.33,random_state=42)\n",
    "from sklearn.pipeline import make_pipeline\n",
    "from sklearn.preprocessing import StandardScaler\n",
    "from sklearn.linear_model import LogisticRegression\n",
    "model_pl_lr = make_pipeline(StandardScaler(),LogisticRegression(solver='liblinear'))\n",
    "model_pl_lr.fit(X_train, y_train)\n",
    "print(model_pl_lr.score(X_test, y_test))\n",
    "from sklearn.neighbors import KNeighborsClassifier\n",
    "model_pl_knn = make_pipeline(StandardScaler(), KNeighborsClassifier())\n",
    "model_pl_knn.fit(X_train, y_train)\n",
    "print(model_pl_knn.score(X_test, y_test))"
   ]
  },
  {
   "cell_type": "code",
   "execution_count": 134,
   "id": "c8685574",
   "metadata": {
    "execution": {
     "iopub.execute_input": "2022-06-16T02:06:56.599974Z",
     "iopub.status.busy": "2022-06-16T02:06:56.599058Z",
     "iopub.status.idle": "2022-06-16T02:06:56.617109Z",
     "shell.execute_reply": "2022-06-16T02:06:56.617561Z",
     "shell.execute_reply.started": "2022-06-16T01:20:59.823609Z"
    },
    "papermill": {
     "duration": 0.260422,
     "end_time": "2022-06-16T02:06:56.617845",
     "exception": false,
     "start_time": "2022-06-16T02:06:56.357423",
     "status": "completed"
    },
    "tags": []
   },
   "outputs": [
    {
     "data": {
      "text/plain": [
       "array([False, False,  True,  True])"
      ]
     },
     "execution_count": 134,
     "metadata": {},
     "output_type": "execute_result"
    }
   ],
   "source": [
    "from sklearn.feature_selection import SelectKBest, f_classif\n",
    "selector = SelectKBest(f_classif, k = 2)\n",
    "selector.fit(X_train, y_train)\n",
    "selector.get_support()"
   ]
  },
  {
   "cell_type": "code",
   "execution_count": 135,
   "id": "4711f2f8",
   "metadata": {
    "execution": {
     "iopub.execute_input": "2022-06-16T02:06:57.123455Z",
     "iopub.status.busy": "2022-06-16T02:06:57.122862Z",
     "iopub.status.idle": "2022-06-16T02:06:57.127463Z",
     "shell.execute_reply": "2022-06-16T02:06:57.127964Z",
     "shell.execute_reply.started": "2022-06-16T01:20:59.838716Z"
    },
    "papermill": {
     "duration": 0.270545,
     "end_time": "2022-06-16T02:06:57.128113",
     "exception": false,
     "start_time": "2022-06-16T02:06:56.857568",
     "status": "completed"
    },
    "tags": []
   },
   "outputs": [
    {
     "data": {
      "text/plain": [
       "Index(['petal length (cm)', 'petal width (cm)'], dtype='object')"
      ]
     },
     "execution_count": 135,
     "metadata": {},
     "output_type": "execute_result"
    }
   ],
   "source": [
    "X.columns[selector.get_support()]"
   ]
  },
  {
   "cell_type": "code",
   "execution_count": 136,
   "id": "4072773c",
   "metadata": {
    "execution": {
     "iopub.execute_input": "2022-06-16T02:06:57.600780Z",
     "iopub.status.busy": "2022-06-16T02:06:57.600198Z",
     "iopub.status.idle": "2022-06-16T02:06:57.621055Z",
     "shell.execute_reply": "2022-06-16T02:06:57.621568Z",
     "shell.execute_reply.started": "2022-06-16T01:20:59.853277Z"
    },
    "papermill": {
     "duration": 0.259102,
     "end_time": "2022-06-16T02:06:57.621738",
     "exception": false,
     "start_time": "2022-06-16T02:06:57.362636",
     "status": "completed"
    },
    "tags": []
   },
   "outputs": [
    {
     "name": "stdout",
     "output_type": "stream",
     "text": [
      "0.9393939393939394\n",
      "\n",
      "[[19  0]\n",
      " [ 2 12]]\n"
     ]
    }
   ],
   "source": [
    "from sklearn.pipeline import make_pipeline\n",
    "from sklearn.preprocessing import StandardScaler\n",
    "from sklearn.neighbors import KNeighborsClassifier\n",
    "from sklearn.metrics import confusion_matrix\n",
    "model_pl = make_pipeline(StandardScaler(), SelectKBest(f_classif, k = 2),KNeighborsClassifier())\n",
    "model_pl.fit(X_train,y_train)\n",
    "print(model_pl.score(X_test,y_test))\n",
    "print()\n",
    "y_pred = model_pl.predict(X_test)\n",
    "cm = confusion_matrix(y_test,y_pred)\n",
    "print(cm)"
   ]
  },
  {
   "cell_type": "markdown",
   "id": "7d1dcf59",
   "metadata": {
    "papermill": {
     "duration": 0.23797,
     "end_time": "2022-06-16T02:06:58.095937",
     "exception": false,
     "start_time": "2022-06-16T02:06:57.857967",
     "status": "completed"
    },
    "tags": []
   },
   "source": [
    "# 6/14"
   ]
  },
  {
   "cell_type": "code",
   "execution_count": 137,
   "id": "851c8640",
   "metadata": {
    "execution": {
     "iopub.execute_input": "2022-06-16T02:06:58.568238Z",
     "iopub.status.busy": "2022-06-16T02:06:58.567639Z",
     "iopub.status.idle": "2022-06-16T02:06:58.590100Z",
     "shell.execute_reply": "2022-06-16T02:06:58.590658Z",
     "shell.execute_reply.started": "2022-06-16T01:20:59.884977Z"
    },
    "papermill": {
     "duration": 0.25585,
     "end_time": "2022-06-16T02:06:58.590853",
     "exception": false,
     "start_time": "2022-06-16T02:06:58.335003",
     "status": "completed"
    },
    "tags": []
   },
   "outputs": [
    {
     "data": {
      "text/html": [
       "<div>\n",
       "<style scoped>\n",
       "    .dataframe tbody tr th:only-of-type {\n",
       "        vertical-align: middle;\n",
       "    }\n",
       "\n",
       "    .dataframe tbody tr th {\n",
       "        vertical-align: top;\n",
       "    }\n",
       "\n",
       "    .dataframe thead th {\n",
       "        text-align: right;\n",
       "    }\n",
       "</style>\n",
       "<table border=\"1\" class=\"dataframe\">\n",
       "  <thead>\n",
       "    <tr style=\"text-align: right;\">\n",
       "      <th></th>\n",
       "      <th>PassengerId</th>\n",
       "      <th>Survived</th>\n",
       "      <th>Pclass</th>\n",
       "      <th>Name</th>\n",
       "      <th>Sex</th>\n",
       "      <th>Age</th>\n",
       "      <th>SibSp</th>\n",
       "      <th>Parch</th>\n",
       "      <th>Ticket</th>\n",
       "      <th>Fare</th>\n",
       "      <th>Cabin</th>\n",
       "      <th>Embarked</th>\n",
       "    </tr>\n",
       "  </thead>\n",
       "  <tbody>\n",
       "    <tr>\n",
       "      <th>0</th>\n",
       "      <td>1</td>\n",
       "      <td>0</td>\n",
       "      <td>3</td>\n",
       "      <td>Braund, Mr. Owen Harris</td>\n",
       "      <td>male</td>\n",
       "      <td>22.0</td>\n",
       "      <td>1</td>\n",
       "      <td>0</td>\n",
       "      <td>A/5 21171</td>\n",
       "      <td>7.2500</td>\n",
       "      <td>NaN</td>\n",
       "      <td>S</td>\n",
       "    </tr>\n",
       "    <tr>\n",
       "      <th>1</th>\n",
       "      <td>2</td>\n",
       "      <td>1</td>\n",
       "      <td>1</td>\n",
       "      <td>Cumings, Mrs. John Bradley (Florence Briggs Th...</td>\n",
       "      <td>female</td>\n",
       "      <td>38.0</td>\n",
       "      <td>1</td>\n",
       "      <td>0</td>\n",
       "      <td>PC 17599</td>\n",
       "      <td>71.2833</td>\n",
       "      <td>C85</td>\n",
       "      <td>C</td>\n",
       "    </tr>\n",
       "    <tr>\n",
       "      <th>2</th>\n",
       "      <td>3</td>\n",
       "      <td>1</td>\n",
       "      <td>3</td>\n",
       "      <td>Heikkinen, Miss. Laina</td>\n",
       "      <td>female</td>\n",
       "      <td>26.0</td>\n",
       "      <td>0</td>\n",
       "      <td>0</td>\n",
       "      <td>STON/O2. 3101282</td>\n",
       "      <td>7.9250</td>\n",
       "      <td>NaN</td>\n",
       "      <td>S</td>\n",
       "    </tr>\n",
       "  </tbody>\n",
       "</table>\n",
       "</div>"
      ],
      "text/plain": [
       "   PassengerId  Survived  Pclass  \\\n",
       "0            1         0       3   \n",
       "1            2         1       1   \n",
       "2            3         1       3   \n",
       "\n",
       "                                                Name     Sex   Age  SibSp  \\\n",
       "0                            Braund, Mr. Owen Harris    male  22.0      1   \n",
       "1  Cumings, Mrs. John Bradley (Florence Briggs Th...  female  38.0      1   \n",
       "2                             Heikkinen, Miss. Laina  female  26.0      0   \n",
       "\n",
       "   Parch            Ticket     Fare Cabin Embarked  \n",
       "0      0         A/5 21171   7.2500   NaN        S  \n",
       "1      0          PC 17599  71.2833   C85        C  \n",
       "2      0  STON/O2. 3101282   7.9250   NaN        S  "
      ]
     },
     "execution_count": 137,
     "metadata": {},
     "output_type": "execute_result"
    }
   ],
   "source": [
    "df = pd.read_csv('../input/titanic/train.csv')\n",
    "df.head(3)"
   ]
  },
  {
   "cell_type": "code",
   "execution_count": 138,
   "id": "13ec5fcd",
   "metadata": {
    "execution": {
     "iopub.execute_input": "2022-06-16T02:06:59.067365Z",
     "iopub.status.busy": "2022-06-16T02:06:59.066812Z",
     "iopub.status.idle": "2022-06-16T02:06:59.078291Z",
     "shell.execute_reply": "2022-06-16T02:06:59.079101Z",
     "shell.execute_reply.started": "2022-06-16T01:20:59.917349Z"
    },
    "papermill": {
     "duration": 0.251649,
     "end_time": "2022-06-16T02:06:59.079310",
     "exception": false,
     "start_time": "2022-06-16T02:06:58.827661",
     "status": "completed"
    },
    "tags": []
   },
   "outputs": [
    {
     "name": "stdout",
     "output_type": "stream",
     "text": [
      "<class 'pandas.core.frame.DataFrame'>\n",
      "RangeIndex: 891 entries, 0 to 890\n",
      "Data columns (total 12 columns):\n",
      " #   Column       Non-Null Count  Dtype  \n",
      "---  ------       --------------  -----  \n",
      " 0   PassengerId  891 non-null    int64  \n",
      " 1   Survived     891 non-null    int64  \n",
      " 2   Pclass       891 non-null    int64  \n",
      " 3   Name         891 non-null    object \n",
      " 4   Sex          891 non-null    object \n",
      " 5   Age          714 non-null    float64\n",
      " 6   SibSp        891 non-null    int64  \n",
      " 7   Parch        891 non-null    int64  \n",
      " 8   Ticket       891 non-null    object \n",
      " 9   Fare         891 non-null    float64\n",
      " 10  Cabin        204 non-null    object \n",
      " 11  Embarked     889 non-null    object \n",
      "dtypes: float64(2), int64(5), object(5)\n",
      "memory usage: 83.7+ KB\n"
     ]
    }
   ],
   "source": [
    "df.info()"
   ]
  },
  {
   "cell_type": "code",
   "execution_count": 139,
   "id": "beef42bb",
   "metadata": {
    "execution": {
     "iopub.execute_input": "2022-06-16T02:06:59.571645Z",
     "iopub.status.busy": "2022-06-16T02:06:59.570986Z",
     "iopub.status.idle": "2022-06-16T02:06:59.576493Z",
     "shell.execute_reply": "2022-06-16T02:06:59.577096Z",
     "shell.execute_reply.started": "2022-06-16T01:20:59.933962Z"
    },
    "papermill": {
     "duration": 0.251407,
     "end_time": "2022-06-16T02:06:59.577256",
     "exception": false,
     "start_time": "2022-06-16T02:06:59.325849",
     "status": "completed"
    },
    "tags": []
   },
   "outputs": [
    {
     "data": {
      "text/plain": [
       "0    549\n",
       "1    342\n",
       "Name: Survived, dtype: int64"
      ]
     },
     "execution_count": 139,
     "metadata": {},
     "output_type": "execute_result"
    }
   ],
   "source": [
    "df['Survived'].value_counts()"
   ]
  },
  {
   "cell_type": "code",
   "execution_count": 140,
   "id": "cf4b8037",
   "metadata": {
    "execution": {
     "iopub.execute_input": "2022-06-16T02:07:00.069697Z",
     "iopub.status.busy": "2022-06-16T02:07:00.069084Z",
     "iopub.status.idle": "2022-06-16T02:07:00.075164Z",
     "shell.execute_reply": "2022-06-16T02:07:00.075678Z",
     "shell.execute_reply.started": "2022-06-16T01:20:59.945763Z"
    },
    "papermill": {
     "duration": 0.25266,
     "end_time": "2022-06-16T02:07:00.075837",
     "exception": false,
     "start_time": "2022-06-16T02:06:59.823177",
     "status": "completed"
    },
    "tags": []
   },
   "outputs": [
    {
     "data": {
      "text/plain": [
       "0    0.616162\n",
       "1    0.383838\n",
       "Name: Survived, dtype: float64"
      ]
     },
     "execution_count": 140,
     "metadata": {},
     "output_type": "execute_result"
    }
   ],
   "source": [
    "df['Survived'].value_counts(normalize=True)"
   ]
  },
  {
   "cell_type": "code",
   "execution_count": 141,
   "id": "22ab0cde",
   "metadata": {
    "execution": {
     "iopub.execute_input": "2022-06-16T02:07:00.563896Z",
     "iopub.status.busy": "2022-06-16T02:07:00.563238Z",
     "iopub.status.idle": "2022-06-16T02:07:00.576542Z",
     "shell.execute_reply": "2022-06-16T02:07:00.577103Z",
     "shell.execute_reply.started": "2022-06-16T01:20:59.971419Z"
    },
    "papermill": {
     "duration": 0.257461,
     "end_time": "2022-06-16T02:07:00.577278",
     "exception": false,
     "start_time": "2022-06-16T02:07:00.319817",
     "status": "completed"
    },
    "tags": []
   },
   "outputs": [
    {
     "data": {
      "text/html": [
       "<div>\n",
       "<style scoped>\n",
       "    .dataframe tbody tr th:only-of-type {\n",
       "        vertical-align: middle;\n",
       "    }\n",
       "\n",
       "    .dataframe tbody tr th {\n",
       "        vertical-align: top;\n",
       "    }\n",
       "\n",
       "    .dataframe thead th {\n",
       "        text-align: right;\n",
       "    }\n",
       "</style>\n",
       "<table border=\"1\" class=\"dataframe\">\n",
       "  <thead>\n",
       "    <tr style=\"text-align: right;\">\n",
       "      <th></th>\n",
       "      <th>Survived</th>\n",
       "      <th>Pclass</th>\n",
       "      <th>Sex</th>\n",
       "      <th>Age</th>\n",
       "      <th>SibSp</th>\n",
       "      <th>Parch</th>\n",
       "      <th>Fare</th>\n",
       "      <th>Embarked</th>\n",
       "    </tr>\n",
       "  </thead>\n",
       "  <tbody>\n",
       "    <tr>\n",
       "      <th>0</th>\n",
       "      <td>0</td>\n",
       "      <td>3</td>\n",
       "      <td>male</td>\n",
       "      <td>22.0</td>\n",
       "      <td>1</td>\n",
       "      <td>0</td>\n",
       "      <td>7.2500</td>\n",
       "      <td>S</td>\n",
       "    </tr>\n",
       "    <tr>\n",
       "      <th>1</th>\n",
       "      <td>1</td>\n",
       "      <td>1</td>\n",
       "      <td>female</td>\n",
       "      <td>38.0</td>\n",
       "      <td>1</td>\n",
       "      <td>0</td>\n",
       "      <td>71.2833</td>\n",
       "      <td>C</td>\n",
       "    </tr>\n",
       "    <tr>\n",
       "      <th>2</th>\n",
       "      <td>1</td>\n",
       "      <td>3</td>\n",
       "      <td>female</td>\n",
       "      <td>26.0</td>\n",
       "      <td>0</td>\n",
       "      <td>0</td>\n",
       "      <td>7.9250</td>\n",
       "      <td>S</td>\n",
       "    </tr>\n",
       "    <tr>\n",
       "      <th>3</th>\n",
       "      <td>1</td>\n",
       "      <td>1</td>\n",
       "      <td>female</td>\n",
       "      <td>35.0</td>\n",
       "      <td>1</td>\n",
       "      <td>0</td>\n",
       "      <td>53.1000</td>\n",
       "      <td>S</td>\n",
       "    </tr>\n",
       "    <tr>\n",
       "      <th>4</th>\n",
       "      <td>0</td>\n",
       "      <td>3</td>\n",
       "      <td>male</td>\n",
       "      <td>35.0</td>\n",
       "      <td>0</td>\n",
       "      <td>0</td>\n",
       "      <td>8.0500</td>\n",
       "      <td>S</td>\n",
       "    </tr>\n",
       "  </tbody>\n",
       "</table>\n",
       "</div>"
      ],
      "text/plain": [
       "   Survived  Pclass     Sex   Age  SibSp  Parch     Fare Embarked\n",
       "0         0       3    male  22.0      1      0   7.2500        S\n",
       "1         1       1  female  38.0      1      0  71.2833        C\n",
       "2         1       3  female  26.0      0      0   7.9250        S\n",
       "3         1       1  female  35.0      1      0  53.1000        S\n",
       "4         0       3    male  35.0      0      0   8.0500        S"
      ]
     },
     "execution_count": 141,
     "metadata": {},
     "output_type": "execute_result"
    }
   ],
   "source": [
    "df = df.drop(['PassengerId','Name','Ticket','Cabin'], axis=1)\n",
    "df.head()"
   ]
  },
  {
   "cell_type": "code",
   "execution_count": 142,
   "id": "e4bda82c",
   "metadata": {
    "execution": {
     "iopub.execute_input": "2022-06-16T02:07:01.079673Z",
     "iopub.status.busy": "2022-06-16T02:07:01.079017Z",
     "iopub.status.idle": "2022-06-16T02:07:01.081470Z",
     "shell.execute_reply": "2022-06-16T02:07:01.082104Z",
     "shell.execute_reply.started": "2022-06-16T01:20:59.996186Z"
    },
    "papermill": {
     "duration": 0.259006,
     "end_time": "2022-06-16T02:07:01.082270",
     "exception": false,
     "start_time": "2022-06-16T02:07:00.823264",
     "status": "completed"
    },
    "tags": []
   },
   "outputs": [
    {
     "data": {
      "text/plain": [
       "Survived      0\n",
       "Pclass        0\n",
       "Sex           0\n",
       "Age         177\n",
       "SibSp         0\n",
       "Parch         0\n",
       "Fare          0\n",
       "Embarked      2\n",
       "dtype: int64"
      ]
     },
     "execution_count": 142,
     "metadata": {},
     "output_type": "execute_result"
    }
   ],
   "source": [
    "df.isnull().sum()"
   ]
  },
  {
   "cell_type": "markdown",
   "id": "4224399c",
   "metadata": {
    "papermill": {
     "duration": 0.244635,
     "end_time": "2022-06-16T02:07:01.577273",
     "exception": false,
     "start_time": "2022-06-16T02:07:01.332638",
     "status": "completed"
    },
    "tags": []
   },
   "source": [
    "# 6/16"
   ]
  },
  {
   "cell_type": "code",
   "execution_count": 143,
   "id": "975fc249",
   "metadata": {
    "execution": {
     "iopub.execute_input": "2022-06-16T02:07:02.073818Z",
     "iopub.status.busy": "2022-06-16T02:07:02.073119Z",
     "iopub.status.idle": "2022-06-16T02:07:09.179672Z",
     "shell.execute_reply": "2022-06-16T02:07:09.180176Z",
     "shell.execute_reply.started": "2022-06-16T01:21:00.010809Z"
    },
    "papermill": {
     "duration": 7.357444,
     "end_time": "2022-06-16T02:07:09.180363",
     "exception": false,
     "start_time": "2022-06-16T02:07:01.822919",
     "status": "completed"
    },
    "tags": []
   },
   "outputs": [
    {
     "data": {
      "text/plain": [
       "<seaborn.axisgrid.PairGrid at 0x7fba433a8a90>"
      ]
     },
     "execution_count": 143,
     "metadata": {},
     "output_type": "execute_result"
    },
    {
     "data": {
      "image/png": "[encoded data removed]",
      "text/plain": [
       "<Figure size 771.875x720 with 30 Axes>"
      ]
     },
     "metadata": {
      "needs_background": "light"
     },
     "output_type": "display_data"
    }
   ],
   "source": [
    "sns.pairplot(data=df, hue='Survived', height=2, diag_kws={'bw_method':0.1})"
   ]
  },
  {
   "cell_type": "code",
   "execution_count": 144,
   "id": "b8a35d58",
   "metadata": {
    "execution": {
     "iopub.execute_input": "2022-06-16T02:07:09.680438Z",
     "iopub.status.busy": "2022-06-16T02:07:09.679810Z",
     "iopub.status.idle": "2022-06-16T02:07:09.686917Z",
     "shell.execute_reply": "2022-06-16T02:07:09.687370Z",
     "shell.execute_reply.started": "2022-06-16T01:21:08.326633Z"
    },
    "papermill": {
     "duration": 0.25834,
     "end_time": "2022-06-16T02:07:09.687537",
     "exception": false,
     "start_time": "2022-06-16T02:07:09.429197",
     "status": "completed"
    },
    "tags": []
   },
   "outputs": [
    {
     "data": {
      "text/plain": [
       "Sex     Survived\n",
       "female  1           233\n",
       "        0            81\n",
       "male    0           468\n",
       "        1           109\n",
       "Name: Survived, dtype: int64"
      ]
     },
     "execution_count": 144,
     "metadata": {},
     "output_type": "execute_result"
    }
   ],
   "source": [
    "df.groupby('Sex')['Survived'].value_counts()"
   ]
  },
  {
   "cell_type": "code",
   "execution_count": 145,
   "id": "f5f36d66",
   "metadata": {
    "execution": {
     "iopub.execute_input": "2022-06-16T02:07:10.189083Z",
     "iopub.status.busy": "2022-06-16T02:07:10.188043Z",
     "iopub.status.idle": "2022-06-16T02:07:10.374886Z",
     "shell.execute_reply": "2022-06-16T02:07:10.375342Z",
     "shell.execute_reply.started": "2022-06-16T01:21:08.339160Z"
    },
    "papermill": {
     "duration": 0.439589,
     "end_time": "2022-06-16T02:07:10.375522",
     "exception": false,
     "start_time": "2022-06-16T02:07:09.935933",
     "status": "completed"
    },
    "tags": []
   },
   "outputs": [
    {
     "data": {
      "text/plain": [
       "<AxesSubplot:xlabel='Sex'>"
      ]
     },
     "execution_count": 145,
     "metadata": {},
     "output_type": "execute_result"
    },
    {
     "data": {
      "image/png": "[encoded data removed]",
      "text/plain": [
       "<Figure size 360x216 with 1 Axes>"
      ]
     },
     "metadata": {
      "needs_background": "light"
     },
     "output_type": "display_data"
    }
   ],
   "source": [
    "df.groupby('Sex')['Survived'].value_counts().unstack(1).plot(kind='bar', figsize=(5,3))"
   ]
  },
  {
   "cell_type": "code",
   "execution_count": 146,
   "id": "03b19157",
   "metadata": {
    "execution": {
     "iopub.execute_input": "2022-06-16T02:07:10.880438Z",
     "iopub.status.busy": "2022-06-16T02:07:10.879466Z",
     "iopub.status.idle": "2022-06-16T02:07:11.065442Z",
     "shell.execute_reply": "2022-06-16T02:07:11.064845Z",
     "shell.execute_reply.started": "2022-06-16T01:21:08.569577Z"
    },
    "papermill": {
     "duration": 0.445024,
     "end_time": "2022-06-16T02:07:11.065572",
     "exception": false,
     "start_time": "2022-06-16T02:07:10.620548",
     "status": "completed"
    },
    "tags": []
   },
   "outputs": [
    {
     "data": {
      "text/plain": [
       "<AxesSubplot:xlabel='Sex', ylabel='count'>"
      ]
     },
     "execution_count": 146,
     "metadata": {},
     "output_type": "execute_result"
    },
    {
     "data": {
      "image/png": "[encoded data removed]",
      "text/plain": [
       "<Figure size 432x288 with 1 Axes>"
      ]
     },
     "metadata": {
      "needs_background": "light"
     },
     "output_type": "display_data"
    }
   ],
   "source": [
    "sns.countplot(x='Sex', order=['female','male'], hue='Survived', data=df)"
   ]
  },
  {
   "cell_type": "code",
   "execution_count": 147,
   "id": "18fc0439",
   "metadata": {
    "execution": {
     "iopub.execute_input": "2022-06-16T02:07:11.602647Z",
     "iopub.status.busy": "2022-06-16T02:07:11.582278Z",
     "iopub.status.idle": "2022-06-16T02:07:11.953444Z",
     "shell.execute_reply": "2022-06-16T02:07:11.953901Z",
     "shell.execute_reply.started": "2022-06-16T01:21:08.789820Z"
    },
    "papermill": {
     "duration": 0.628751,
     "end_time": "2022-06-16T02:07:11.954059",
     "exception": false,
     "start_time": "2022-06-16T02:07:11.325308",
     "status": "completed"
    },
    "tags": []
   },
   "outputs": [
    {
     "data": {
      "text/plain": [
       "Survived\n",
       "0    AxesSubplot(0.125,0.125;0.775x0.755)\n",
       "1    AxesSubplot(0.125,0.125;0.775x0.755)\n",
       "Name: Age, dtype: object"
      ]
     },
     "execution_count": 147,
     "metadata": {},
     "output_type": "execute_result"
    },
    {
     "data": {
      "image/png": "[encoded data removed]",
      "text/plain": [
       "<Figure size 432x288 with 1 Axes>"
      ]
     },
     "metadata": {
      "needs_background": "light"
     },
     "output_type": "display_data"
    }
   ],
   "source": [
    "df.groupby('Survived')['Age'].plot(kind='hist',alpha=0.6,bins=30,legend=True)"
   ]
  },
  {
   "cell_type": "code",
   "execution_count": 148,
   "id": "efcf84a2",
   "metadata": {
    "execution": {
     "iopub.execute_input": "2022-06-16T02:07:12.452431Z",
     "iopub.status.busy": "2022-06-16T02:07:12.451554Z",
     "iopub.status.idle": "2022-06-16T02:07:12.455404Z",
     "shell.execute_reply": "2022-06-16T02:07:12.455981Z",
     "shell.execute_reply.started": "2022-06-16T01:23:12.687789Z"
    },
    "papermill": {
     "duration": 0.252701,
     "end_time": "2022-06-16T02:07:12.456145",
     "exception": false,
     "start_time": "2022-06-16T02:07:12.203444",
     "status": "completed"
    },
    "tags": []
   },
   "outputs": [],
   "source": [
    "X_col_num = ['Age','SibSp','Parch','Fare']\n",
    "X_col_cat = ['Pclass','Sex','Embarked']\n",
    "X_cols = X_col_num + X_col_cat\n",
    "y_col = 'Survived'"
   ]
  },
  {
   "cell_type": "code",
   "execution_count": 149,
   "id": "4ee75fac",
   "metadata": {
    "execution": {
     "iopub.execute_input": "2022-06-16T02:07:12.960311Z",
     "iopub.status.busy": "2022-06-16T02:07:12.959747Z",
     "iopub.status.idle": "2022-06-16T02:07:12.972262Z",
     "shell.execute_reply": "2022-06-16T02:07:12.972724Z",
     "shell.execute_reply.started": "2022-06-16T01:29:46.018566Z"
    },
    "papermill": {
     "duration": 0.267851,
     "end_time": "2022-06-16T02:07:12.972876",
     "exception": false,
     "start_time": "2022-06-16T02:07:12.705025",
     "status": "completed"
    },
    "tags": []
   },
   "outputs": [
    {
     "name": "stdout",
     "output_type": "stream",
     "text": [
      "['Age', 'SibSp', 'Parch', 'Fare']\n"
     ]
    },
    {
     "data": {
      "text/plain": [
       "array([[-0.56573646,  0.43279337, -0.47367361, -0.50244517],\n",
       "       [ 0.66386103,  0.43279337, -0.47367361,  0.78684529],\n",
       "       [-0.25833709, -0.4745452 , -0.47367361, -0.48885426]])"
      ]
     },
     "execution_count": 149,
     "metadata": {},
     "output_type": "execute_result"
    }
   ],
   "source": [
    "num_pl = make_pipeline(SimpleImputer(strategy='median'), StandardScaler())\n",
    "print(X_col_num)\n",
    "num_pl.fit_transform(df[X_col_num])[:3]"
   ]
  },
  {
   "cell_type": "code",
   "execution_count": 150,
   "id": "967a3144",
   "metadata": {
    "execution": {
     "iopub.execute_input": "2022-06-16T02:07:13.482850Z",
     "iopub.status.busy": "2022-06-16T02:07:13.482153Z",
     "iopub.status.idle": "2022-06-16T02:07:13.491609Z",
     "shell.execute_reply": "2022-06-16T02:07:13.492101Z",
     "shell.execute_reply.started": "2022-06-16T01:29:44.232216Z"
    },
    "papermill": {
     "duration": 0.268759,
     "end_time": "2022-06-16T02:07:13.492268",
     "exception": false,
     "start_time": "2022-06-16T02:07:13.223509",
     "status": "completed"
    },
    "tags": []
   },
   "outputs": [
    {
     "name": "stdout",
     "output_type": "stream",
     "text": [
      "['Pclass', 'Sex', 'Embarked']\n"
     ]
    },
    {
     "data": {
      "text/plain": [
       "array([[0., 0., 1., 0., 1., 0., 0., 1.],\n",
       "       [1., 0., 0., 1., 0., 1., 0., 0.],\n",
       "       [0., 0., 1., 1., 0., 0., 0., 1.]])"
      ]
     },
     "execution_count": 150,
     "metadata": {},
     "output_type": "execute_result"
    }
   ],
   "source": [
    "cat_pl = make_pipeline(SimpleImputer(strategy='most_frequent'),OneHotEncoder(sparse=False))\n",
    "print(X_col_cat)\n",
    "cat_pl.fit_transform(df[X_col_cat])[:3]"
   ]
  },
  {
   "cell_type": "code",
   "execution_count": 151,
   "id": "8953870f",
   "metadata": {
    "execution": {
     "iopub.execute_input": "2022-06-16T02:07:14.004839Z",
     "iopub.status.busy": "2022-06-16T02:07:14.001765Z",
     "iopub.status.idle": "2022-06-16T02:07:14.007536Z",
     "shell.execute_reply": "2022-06-16T02:07:14.008118Z",
     "shell.execute_reply.started": "2022-06-16T01:29:48.120005Z"
    },
    "papermill": {
     "duration": 0.264056,
     "end_time": "2022-06-16T02:07:14.008275",
     "exception": false,
     "start_time": "2022-06-16T02:07:13.744219",
     "status": "completed"
    },
    "tags": []
   },
   "outputs": [
    {
     "data": {
      "text/plain": [
       "array(['Pclass_1', 'Pclass_2', 'Pclass_3', 'Sex_female', 'Sex_male',\n",
       "       'Embarked_C', 'Embarked_Q', 'Embarked_S'], dtype=object)"
      ]
     },
     "execution_count": 151,
     "metadata": {},
     "output_type": "execute_result"
    }
   ],
   "source": [
    "oh = cat_pl.named_steps['onehotencoder']\n",
    "oh_cols = oh.get_feature_names_out(['Pclass','Sex','Embarked'])\n",
    "oh_cols"
   ]
  },
  {
   "cell_type": "code",
   "execution_count": 152,
   "id": "e59964a1",
   "metadata": {
    "execution": {
     "iopub.execute_input": "2022-06-16T02:07:14.537499Z",
     "iopub.status.busy": "2022-06-16T02:07:14.536901Z",
     "iopub.status.idle": "2022-06-16T02:07:14.560881Z",
     "shell.execute_reply": "2022-06-16T02:07:14.560304Z",
     "shell.execute_reply.started": "2022-06-16T01:29:50.080116Z"
    },
    "papermill": {
     "duration": 0.281392,
     "end_time": "2022-06-16T02:07:14.561022",
     "exception": false,
     "start_time": "2022-06-16T02:07:14.279630",
     "status": "completed"
    },
    "tags": []
   },
   "outputs": [
    {
     "data": {
      "text/html": [
       "<div>\n",
       "<style scoped>\n",
       "    .dataframe tbody tr th:only-of-type {\n",
       "        vertical-align: middle;\n",
       "    }\n",
       "\n",
       "    .dataframe tbody tr th {\n",
       "        vertical-align: top;\n",
       "    }\n",
       "\n",
       "    .dataframe thead th {\n",
       "        text-align: right;\n",
       "    }\n",
       "</style>\n",
       "<table border=\"1\" class=\"dataframe\">\n",
       "  <thead>\n",
       "    <tr style=\"text-align: right;\">\n",
       "      <th></th>\n",
       "      <th>Pclass_1</th>\n",
       "      <th>Pclass_2</th>\n",
       "      <th>Pclass_3</th>\n",
       "      <th>Sex_female</th>\n",
       "      <th>Sex_male</th>\n",
       "      <th>Embarked_C</th>\n",
       "      <th>Embarked_Q</th>\n",
       "      <th>Embarked_S</th>\n",
       "    </tr>\n",
       "  </thead>\n",
       "  <tbody>\n",
       "    <tr>\n",
       "      <th>0</th>\n",
       "      <td>0.0</td>\n",
       "      <td>0.0</td>\n",
       "      <td>1.0</td>\n",
       "      <td>0.0</td>\n",
       "      <td>1.0</td>\n",
       "      <td>0.0</td>\n",
       "      <td>0.0</td>\n",
       "      <td>1.0</td>\n",
       "    </tr>\n",
       "    <tr>\n",
       "      <th>1</th>\n",
       "      <td>1.0</td>\n",
       "      <td>0.0</td>\n",
       "      <td>0.0</td>\n",
       "      <td>1.0</td>\n",
       "      <td>0.0</td>\n",
       "      <td>1.0</td>\n",
       "      <td>0.0</td>\n",
       "      <td>0.0</td>\n",
       "    </tr>\n",
       "    <tr>\n",
       "      <th>2</th>\n",
       "      <td>0.0</td>\n",
       "      <td>0.0</td>\n",
       "      <td>1.0</td>\n",
       "      <td>1.0</td>\n",
       "      <td>0.0</td>\n",
       "      <td>0.0</td>\n",
       "      <td>0.0</td>\n",
       "      <td>1.0</td>\n",
       "    </tr>\n",
       "    <tr>\n",
       "      <th>3</th>\n",
       "      <td>1.0</td>\n",
       "      <td>0.0</td>\n",
       "      <td>0.0</td>\n",
       "      <td>1.0</td>\n",
       "      <td>0.0</td>\n",
       "      <td>0.0</td>\n",
       "      <td>0.0</td>\n",
       "      <td>1.0</td>\n",
       "    </tr>\n",
       "    <tr>\n",
       "      <th>4</th>\n",
       "      <td>0.0</td>\n",
       "      <td>0.0</td>\n",
       "      <td>1.0</td>\n",
       "      <td>0.0</td>\n",
       "      <td>1.0</td>\n",
       "      <td>0.0</td>\n",
       "      <td>0.0</td>\n",
       "      <td>1.0</td>\n",
       "    </tr>\n",
       "  </tbody>\n",
       "</table>\n",
       "</div>"
      ],
      "text/plain": [
       "   Pclass_1  Pclass_2  Pclass_3  Sex_female  Sex_male  Embarked_C  Embarked_Q  \\\n",
       "0       0.0       0.0       1.0         0.0       1.0         0.0         0.0   \n",
       "1       1.0       0.0       0.0         1.0       0.0         1.0         0.0   \n",
       "2       0.0       0.0       1.0         1.0       0.0         0.0         0.0   \n",
       "3       1.0       0.0       0.0         1.0       0.0         0.0         0.0   \n",
       "4       0.0       0.0       1.0         0.0       1.0         0.0         0.0   \n",
       "\n",
       "   Embarked_S  \n",
       "0         1.0  \n",
       "1         0.0  \n",
       "2         1.0  \n",
       "3         1.0  \n",
       "4         1.0  "
      ]
     },
     "execution_count": 152,
     "metadata": {},
     "output_type": "execute_result"
    }
   ],
   "source": [
    "pd.DataFrame(cat_pl.fit_transform(df[X_col_cat]),columns=oh_cols).head()"
   ]
  },
  {
   "cell_type": "code",
   "execution_count": 153,
   "id": "ecd2a523",
   "metadata": {
    "execution": {
     "iopub.execute_input": "2022-06-16T02:07:15.098678Z",
     "iopub.status.busy": "2022-06-16T02:07:15.098061Z",
     "iopub.status.idle": "2022-06-16T02:07:15.111638Z",
     "shell.execute_reply": "2022-06-16T02:07:15.112181Z",
     "shell.execute_reply.started": "2022-06-16T01:32:10.401460Z"
    },
    "papermill": {
     "duration": 0.280679,
     "end_time": "2022-06-16T02:07:15.112352",
     "exception": false,
     "start_time": "2022-06-16T02:07:14.831673",
     "status": "completed"
    },
    "tags": []
   },
   "outputs": [
    {
     "data": {
      "text/plain": [
       "array([[-0.57,  0.43, -0.47, -0.5 ,  0.  ,  0.  ,  1.  ,  0.  ,  1.  ,\n",
       "         0.  ,  0.  ,  1.  ]])"
      ]
     },
     "execution_count": 153,
     "metadata": {},
     "output_type": "execute_result"
    }
   ],
   "source": [
    "data_pl = ColumnTransformer([('num_pl',num_pl,X_col_num),('cat_pl',cat_pl,X_col_cat)])\n",
    "data_pl.fit_transform(df[X_cols])[:1].round(2)"
   ]
  },
  {
   "cell_type": "code",
   "execution_count": 154,
   "id": "dd2652b7",
   "metadata": {
    "execution": {
     "iopub.execute_input": "2022-06-16T02:07:15.665177Z",
     "iopub.status.busy": "2022-06-16T02:07:15.664310Z",
     "iopub.status.idle": "2022-06-16T02:07:15.671087Z",
     "shell.execute_reply": "2022-06-16T02:07:15.671654Z",
     "shell.execute_reply.started": "2022-06-16T01:34:17.546803Z"
    },
    "papermill": {
     "duration": 0.305276,
     "end_time": "2022-06-16T02:07:15.671821",
     "exception": false,
     "start_time": "2022-06-16T02:07:15.366545",
     "status": "completed"
    },
    "tags": []
   },
   "outputs": [],
   "source": [
    "X = df[X_cols]\n",
    "y=df[y_col]\n",
    "X_train,X_test,y_train,y_test = train_test_split(X,y,test_size=0.33,random_state=42)"
   ]
  },
  {
   "cell_type": "code",
   "execution_count": 155,
   "id": "bae9edbf",
   "metadata": {
    "execution": {
     "iopub.execute_input": "2022-06-16T02:07:16.195557Z",
     "iopub.status.busy": "2022-06-16T02:07:16.194917Z",
     "iopub.status.idle": "2022-06-16T02:07:16.221277Z",
     "shell.execute_reply": "2022-06-16T02:07:16.221882Z",
     "shell.execute_reply.started": "2022-06-16T01:34:19.241296Z"
    },
    "papermill": {
     "duration": 0.288874,
     "end_time": "2022-06-16T02:07:16.222041",
     "exception": false,
     "start_time": "2022-06-16T02:07:15.933167",
     "status": "completed"
    },
    "tags": []
   },
   "outputs": [
    {
     "data": {
      "text/plain": [
       "Pipeline(steps=[('columntransformer',\n",
       "                 ColumnTransformer(transformers=[('num_pl',\n",
       "                                                  Pipeline(steps=[('simpleimputer',\n",
       "                                                                   SimpleImputer(strategy='median')),\n",
       "                                                                  ('standardscaler',\n",
       "                                                                   StandardScaler())]),\n",
       "                                                  ['Age', 'SibSp', 'Parch',\n",
       "                                                   'Fare']),\n",
       "                                                 ('cat_pl',\n",
       "                                                  Pipeline(steps=[('simpleimputer',\n",
       "                                                                   SimpleImputer(strategy='most_frequent')),\n",
       "                                                                  ('onehotencoder',\n",
       "                                                                   OneHotEncoder(sparse=False))]),\n",
       "                                                  ['Pclass', 'Sex',\n",
       "                                                   'Embarked'])])),\n",
       "                ('svc', SVC())])"
      ]
     },
     "execution_count": 155,
     "metadata": {},
     "output_type": "execute_result"
    }
   ],
   "source": [
    "from sklearn.svm import SVC\n",
    "model_pl_svc = make_pipeline(data_pl, SVC())\n",
    "model_pl_svc "
   ]
  },
  {
   "cell_type": "code",
   "execution_count": 156,
   "id": "e2f9ac54",
   "metadata": {
    "execution": {
     "iopub.execute_input": "2022-06-16T02:07:16.732468Z",
     "iopub.status.busy": "2022-06-16T02:07:16.731826Z",
     "iopub.status.idle": "2022-06-16T02:07:16.746180Z",
     "shell.execute_reply": "2022-06-16T02:07:16.746751Z",
     "shell.execute_reply.started": "2022-06-16T01:34:21.873288Z"
    },
    "papermill": {
     "duration": 0.276229,
     "end_time": "2022-06-16T02:07:16.746900",
     "exception": false,
     "start_time": "2022-06-16T02:07:16.470671",
     "status": "completed"
    },
    "tags": []
   },
   "outputs": [
    {
     "data": {
      "text/html": [
       "<div>\n",
       "<style scoped>\n",
       "    .dataframe tbody tr th:only-of-type {\n",
       "        vertical-align: middle;\n",
       "    }\n",
       "\n",
       "    .dataframe tbody tr th {\n",
       "        vertical-align: top;\n",
       "    }\n",
       "\n",
       "    .dataframe thead th {\n",
       "        text-align: right;\n",
       "    }\n",
       "</style>\n",
       "<table border=\"1\" class=\"dataframe\">\n",
       "  <thead>\n",
       "    <tr style=\"text-align: right;\">\n",
       "      <th></th>\n",
       "      <th>Age</th>\n",
       "      <th>SibSp</th>\n",
       "      <th>Parch</th>\n",
       "      <th>Fare</th>\n",
       "      <th>Pclass</th>\n",
       "      <th>Sex</th>\n",
       "      <th>Embarked</th>\n",
       "    </tr>\n",
       "  </thead>\n",
       "  <tbody>\n",
       "    <tr>\n",
       "      <th>709</th>\n",
       "      <td>NaN</td>\n",
       "      <td>1</td>\n",
       "      <td>1</td>\n",
       "      <td>15.2458</td>\n",
       "      <td>3</td>\n",
       "      <td>male</td>\n",
       "      <td>C</td>\n",
       "    </tr>\n",
       "    <tr>\n",
       "      <th>439</th>\n",
       "      <td>31.0</td>\n",
       "      <td>0</td>\n",
       "      <td>0</td>\n",
       "      <td>10.5000</td>\n",
       "      <td>2</td>\n",
       "      <td>male</td>\n",
       "      <td>S</td>\n",
       "    </tr>\n",
       "    <tr>\n",
       "      <th>840</th>\n",
       "      <td>20.0</td>\n",
       "      <td>0</td>\n",
       "      <td>0</td>\n",
       "      <td>7.9250</td>\n",
       "      <td>3</td>\n",
       "      <td>male</td>\n",
       "      <td>S</td>\n",
       "    </tr>\n",
       "    <tr>\n",
       "      <th>720</th>\n",
       "      <td>6.0</td>\n",
       "      <td>0</td>\n",
       "      <td>1</td>\n",
       "      <td>33.0000</td>\n",
       "      <td>2</td>\n",
       "      <td>female</td>\n",
       "      <td>S</td>\n",
       "    </tr>\n",
       "    <tr>\n",
       "      <th>39</th>\n",
       "      <td>14.0</td>\n",
       "      <td>1</td>\n",
       "      <td>0</td>\n",
       "      <td>11.2417</td>\n",
       "      <td>3</td>\n",
       "      <td>female</td>\n",
       "      <td>C</td>\n",
       "    </tr>\n",
       "    <tr>\n",
       "      <th>...</th>\n",
       "      <td>...</td>\n",
       "      <td>...</td>\n",
       "      <td>...</td>\n",
       "      <td>...</td>\n",
       "      <td>...</td>\n",
       "      <td>...</td>\n",
       "      <td>...</td>\n",
       "    </tr>\n",
       "    <tr>\n",
       "      <th>715</th>\n",
       "      <td>19.0</td>\n",
       "      <td>0</td>\n",
       "      <td>0</td>\n",
       "      <td>7.6500</td>\n",
       "      <td>3</td>\n",
       "      <td>male</td>\n",
       "      <td>S</td>\n",
       "    </tr>\n",
       "    <tr>\n",
       "      <th>525</th>\n",
       "      <td>40.5</td>\n",
       "      <td>0</td>\n",
       "      <td>0</td>\n",
       "      <td>7.7500</td>\n",
       "      <td>3</td>\n",
       "      <td>male</td>\n",
       "      <td>Q</td>\n",
       "    </tr>\n",
       "    <tr>\n",
       "      <th>381</th>\n",
       "      <td>1.0</td>\n",
       "      <td>0</td>\n",
       "      <td>2</td>\n",
       "      <td>15.7417</td>\n",
       "      <td>3</td>\n",
       "      <td>female</td>\n",
       "      <td>C</td>\n",
       "    </tr>\n",
       "    <tr>\n",
       "      <th>140</th>\n",
       "      <td>NaN</td>\n",
       "      <td>0</td>\n",
       "      <td>2</td>\n",
       "      <td>15.2458</td>\n",
       "      <td>3</td>\n",
       "      <td>female</td>\n",
       "      <td>C</td>\n",
       "    </tr>\n",
       "    <tr>\n",
       "      <th>173</th>\n",
       "      <td>21.0</td>\n",
       "      <td>0</td>\n",
       "      <td>0</td>\n",
       "      <td>7.9250</td>\n",
       "      <td>3</td>\n",
       "      <td>male</td>\n",
       "      <td>S</td>\n",
       "    </tr>\n",
       "  </tbody>\n",
       "</table>\n",
       "<p>295 rows × 7 columns</p>\n",
       "</div>"
      ],
      "text/plain": [
       "      Age  SibSp  Parch     Fare  Pclass     Sex Embarked\n",
       "709   NaN      1      1  15.2458       3    male        C\n",
       "439  31.0      0      0  10.5000       2    male        S\n",
       "840  20.0      0      0   7.9250       3    male        S\n",
       "720   6.0      0      1  33.0000       2  female        S\n",
       "39   14.0      1      0  11.2417       3  female        C\n",
       "..    ...    ...    ...      ...     ...     ...      ...\n",
       "715  19.0      0      0   7.6500       3    male        S\n",
       "525  40.5      0      0   7.7500       3    male        Q\n",
       "381   1.0      0      2  15.7417       3  female        C\n",
       "140   NaN      0      2  15.2458       3  female        C\n",
       "173  21.0      0      0   7.9250       3    male        S\n",
       "\n",
       "[295 rows x 7 columns]"
      ]
     },
     "execution_count": 156,
     "metadata": {},
     "output_type": "execute_result"
    }
   ],
   "source": [
    "X_test"
   ]
  },
  {
   "cell_type": "code",
   "execution_count": 157,
   "id": "c22fccd4",
   "metadata": {
    "execution": {
     "iopub.execute_input": "2022-06-16T02:07:17.254842Z",
     "iopub.status.busy": "2022-06-16T02:07:17.254241Z",
     "iopub.status.idle": "2022-06-16T02:07:17.297551Z",
     "shell.execute_reply": "2022-06-16T02:07:17.298267Z",
     "shell.execute_reply.started": "2022-06-16T01:35:39.007141Z"
    },
    "papermill": {
     "duration": 0.298972,
     "end_time": "2022-06-16T02:07:17.298468",
     "exception": false,
     "start_time": "2022-06-16T02:07:16.999496",
     "status": "completed"
    },
    "tags": []
   },
   "outputs": [
    {
     "name": "stdout",
     "output_type": "stream",
     "text": [
      "0.8338983050847457\n",
      "[[158  17]\n",
      " [ 32  88]]\n",
      "              precision    recall  f1-score   support\n",
      "\n",
      "           0       0.83      0.90      0.87       175\n",
      "           1       0.84      0.73      0.78       120\n",
      "\n",
      "    accuracy                           0.83       295\n",
      "   macro avg       0.83      0.82      0.82       295\n",
      "weighted avg       0.83      0.83      0.83       295\n",
      "\n"
     ]
    }
   ],
   "source": [
    "model_pl_svc.fit(X_train,y_train)\n",
    "y_pred = model_pl_svc.predict(X_test)\n",
    "\n",
    "print(accuracy_score(y_test,y_pred))\n",
    "\n",
    "cm = confusion_matrix(y_test,y_pred)\n",
    "print(cm)\n",
    "\n",
    "print(classification_report(y_test, y_pred))"
   ]
  },
  {
   "cell_type": "code",
   "execution_count": 158,
   "id": "ebba4624",
   "metadata": {
    "execution": {
     "iopub.execute_input": "2022-06-16T02:07:17.804550Z",
     "iopub.status.busy": "2022-06-16T02:07:17.804006Z",
     "iopub.status.idle": "2022-06-16T02:07:17.809830Z",
     "shell.execute_reply": "2022-06-16T02:07:17.810358Z",
     "shell.execute_reply.started": "2022-06-16T01:39:10.736959Z"
    },
    "papermill": {
     "duration": 0.260533,
     "end_time": "2022-06-16T02:07:17.810491",
     "exception": false,
     "start_time": "2022-06-16T02:07:17.549958",
     "status": "completed"
    },
    "tags": []
   },
   "outputs": [
    {
     "data": {
      "text/plain": [
       "Age             NaN\n",
       "SibSp             1\n",
       "Parch             1\n",
       "Fare        15.2458\n",
       "Pclass            3\n",
       "Sex            male\n",
       "Embarked          C\n",
       "Name: 709, dtype: object"
      ]
     },
     "execution_count": 158,
     "metadata": {},
     "output_type": "execute_result"
    }
   ],
   "source": [
    "X_test.iloc[0]"
   ]
  },
  {
   "cell_type": "code",
   "execution_count": 159,
   "id": "0efab830",
   "metadata": {
    "execution": {
     "iopub.execute_input": "2022-06-16T02:07:18.323019Z",
     "iopub.status.busy": "2022-06-16T02:07:18.322161Z",
     "iopub.status.idle": "2022-06-16T02:07:18.333347Z",
     "shell.execute_reply": "2022-06-16T02:07:18.332844Z",
     "shell.execute_reply.started": "2022-06-16T01:38:39.279372Z"
    },
    "papermill": {
     "duration": 0.266961,
     "end_time": "2022-06-16T02:07:18.333477",
     "exception": false,
     "start_time": "2022-06-16T02:07:18.066516",
     "status": "completed"
    },
    "tags": []
   },
   "outputs": [
    {
     "data": {
      "text/html": [
       "<div>\n",
       "<style scoped>\n",
       "    .dataframe tbody tr th:only-of-type {\n",
       "        vertical-align: middle;\n",
       "    }\n",
       "\n",
       "    .dataframe tbody tr th {\n",
       "        vertical-align: top;\n",
       "    }\n",
       "\n",
       "    .dataframe thead th {\n",
       "        text-align: right;\n",
       "    }\n",
       "</style>\n",
       "<table border=\"1\" class=\"dataframe\">\n",
       "  <thead>\n",
       "    <tr style=\"text-align: right;\">\n",
       "      <th></th>\n",
       "      <th>Age</th>\n",
       "      <th>SibSp</th>\n",
       "      <th>Parch</th>\n",
       "      <th>Fare</th>\n",
       "      <th>Pclass</th>\n",
       "      <th>Sex</th>\n",
       "      <th>Embarked</th>\n",
       "    </tr>\n",
       "  </thead>\n",
       "  <tbody>\n",
       "    <tr>\n",
       "      <th>709</th>\n",
       "      <td>NaN</td>\n",
       "      <td>1</td>\n",
       "      <td>1</td>\n",
       "      <td>15.2458</td>\n",
       "      <td>3</td>\n",
       "      <td>male</td>\n",
       "      <td>C</td>\n",
       "    </tr>\n",
       "  </tbody>\n",
       "</table>\n",
       "</div>"
      ],
      "text/plain": [
       "     Age  SibSp  Parch     Fare  Pclass   Sex Embarked\n",
       "709  NaN      1      1  15.2458       3  male        C"
      ]
     },
     "execution_count": 159,
     "metadata": {},
     "output_type": "execute_result"
    }
   ],
   "source": [
    "X_test.iloc[[0]]"
   ]
  },
  {
   "cell_type": "code",
   "execution_count": 160,
   "id": "5a660933",
   "metadata": {
    "execution": {
     "iopub.execute_input": "2022-06-16T02:07:18.848793Z",
     "iopub.status.busy": "2022-06-16T02:07:18.848192Z",
     "iopub.status.idle": "2022-06-16T02:07:18.863251Z",
     "shell.execute_reply": "2022-06-16T02:07:18.863899Z",
     "shell.execute_reply.started": "2022-06-16T01:36:28.795820Z"
    },
    "papermill": {
     "duration": 0.275996,
     "end_time": "2022-06-16T02:07:18.864067",
     "exception": false,
     "start_time": "2022-06-16T02:07:18.588071",
     "status": "completed"
    },
    "tags": []
   },
   "outputs": [
    {
     "data": {
      "text/plain": [
       "array([0])"
      ]
     },
     "execution_count": 160,
     "metadata": {},
     "output_type": "execute_result"
    }
   ],
   "source": [
    "result = model_pl_svc.predict(X_test.iloc[[0]])\n",
    "result"
   ]
  },
  {
   "cell_type": "code",
   "execution_count": 161,
   "id": "5a8765b7",
   "metadata": {
    "execution": {
     "iopub.execute_input": "2022-06-16T02:07:19.389978Z",
     "iopub.status.busy": "2022-06-16T02:07:19.389409Z",
     "iopub.status.idle": "2022-06-16T02:07:19.401322Z",
     "shell.execute_reply": "2022-06-16T02:07:19.401771Z",
     "shell.execute_reply.started": "2022-06-16T01:36:44.870053Z"
    },
    "papermill": {
     "duration": 0.266762,
     "end_time": "2022-06-16T02:07:19.401906",
     "exception": false,
     "start_time": "2022-06-16T02:07:19.135144",
     "status": "completed"
    },
    "tags": []
   },
   "outputs": [
    {
     "data": {
      "text/html": [
       "<div>\n",
       "<style scoped>\n",
       "    .dataframe tbody tr th:only-of-type {\n",
       "        vertical-align: middle;\n",
       "    }\n",
       "\n",
       "    .dataframe tbody tr th {\n",
       "        vertical-align: top;\n",
       "    }\n",
       "\n",
       "    .dataframe thead th {\n",
       "        text-align: right;\n",
       "    }\n",
       "</style>\n",
       "<table border=\"1\" class=\"dataframe\">\n",
       "  <thead>\n",
       "    <tr style=\"text-align: right;\">\n",
       "      <th></th>\n",
       "      <th>Age</th>\n",
       "      <th>SibSp</th>\n",
       "      <th>Parch</th>\n",
       "      <th>Fare</th>\n",
       "      <th>Pclass</th>\n",
       "      <th>Sex</th>\n",
       "      <th>Embarked</th>\n",
       "    </tr>\n",
       "  </thead>\n",
       "  <tbody>\n",
       "    <tr>\n",
       "      <th>709</th>\n",
       "      <td>NaN</td>\n",
       "      <td>1</td>\n",
       "      <td>1</td>\n",
       "      <td>15.2458</td>\n",
       "      <td>3</td>\n",
       "      <td>male</td>\n",
       "      <td>C</td>\n",
       "    </tr>\n",
       "    <tr>\n",
       "      <th>439</th>\n",
       "      <td>31.0</td>\n",
       "      <td>0</td>\n",
       "      <td>0</td>\n",
       "      <td>10.5000</td>\n",
       "      <td>2</td>\n",
       "      <td>male</td>\n",
       "      <td>S</td>\n",
       "    </tr>\n",
       "    <tr>\n",
       "      <th>840</th>\n",
       "      <td>20.0</td>\n",
       "      <td>0</td>\n",
       "      <td>0</td>\n",
       "      <td>7.9250</td>\n",
       "      <td>3</td>\n",
       "      <td>male</td>\n",
       "      <td>S</td>\n",
       "    </tr>\n",
       "    <tr>\n",
       "      <th>720</th>\n",
       "      <td>6.0</td>\n",
       "      <td>0</td>\n",
       "      <td>1</td>\n",
       "      <td>33.0000</td>\n",
       "      <td>2</td>\n",
       "      <td>female</td>\n",
       "      <td>S</td>\n",
       "    </tr>\n",
       "    <tr>\n",
       "      <th>39</th>\n",
       "      <td>14.0</td>\n",
       "      <td>1</td>\n",
       "      <td>0</td>\n",
       "      <td>11.2417</td>\n",
       "      <td>3</td>\n",
       "      <td>female</td>\n",
       "      <td>C</td>\n",
       "    </tr>\n",
       "    <tr>\n",
       "      <th>290</th>\n",
       "      <td>26.0</td>\n",
       "      <td>0</td>\n",
       "      <td>0</td>\n",
       "      <td>78.8500</td>\n",
       "      <td>1</td>\n",
       "      <td>female</td>\n",
       "      <td>S</td>\n",
       "    </tr>\n",
       "    <tr>\n",
       "      <th>300</th>\n",
       "      <td>NaN</td>\n",
       "      <td>0</td>\n",
       "      <td>0</td>\n",
       "      <td>7.7500</td>\n",
       "      <td>3</td>\n",
       "      <td>female</td>\n",
       "      <td>Q</td>\n",
       "    </tr>\n",
       "    <tr>\n",
       "      <th>333</th>\n",
       "      <td>16.0</td>\n",
       "      <td>2</td>\n",
       "      <td>0</td>\n",
       "      <td>18.0000</td>\n",
       "      <td>3</td>\n",
       "      <td>male</td>\n",
       "      <td>S</td>\n",
       "    </tr>\n",
       "    <tr>\n",
       "      <th>208</th>\n",
       "      <td>16.0</td>\n",
       "      <td>0</td>\n",
       "      <td>0</td>\n",
       "      <td>7.7500</td>\n",
       "      <td>3</td>\n",
       "      <td>female</td>\n",
       "      <td>Q</td>\n",
       "    </tr>\n",
       "    <tr>\n",
       "      <th>136</th>\n",
       "      <td>19.0</td>\n",
       "      <td>0</td>\n",
       "      <td>2</td>\n",
       "      <td>26.2833</td>\n",
       "      <td>1</td>\n",
       "      <td>female</td>\n",
       "      <td>S</td>\n",
       "    </tr>\n",
       "  </tbody>\n",
       "</table>\n",
       "</div>"
      ],
      "text/plain": [
       "      Age  SibSp  Parch     Fare  Pclass     Sex Embarked\n",
       "709   NaN      1      1  15.2458       3    male        C\n",
       "439  31.0      0      0  10.5000       2    male        S\n",
       "840  20.0      0      0   7.9250       3    male        S\n",
       "720   6.0      0      1  33.0000       2  female        S\n",
       "39   14.0      1      0  11.2417       3  female        C\n",
       "290  26.0      0      0  78.8500       1  female        S\n",
       "300   NaN      0      0   7.7500       3  female        Q\n",
       "333  16.0      2      0  18.0000       3    male        S\n",
       "208  16.0      0      0   7.7500       3  female        Q\n",
       "136  19.0      0      2  26.2833       1  female        S"
      ]
     },
     "execution_count": 161,
     "metadata": {},
     "output_type": "execute_result"
    }
   ],
   "source": [
    "X_test.iloc[0:10]"
   ]
  },
  {
   "cell_type": "code",
   "execution_count": 162,
   "id": "840c90f2",
   "metadata": {
    "execution": {
     "iopub.execute_input": "2022-06-16T02:07:19.917966Z",
     "iopub.status.busy": "2022-06-16T02:07:19.917381Z",
     "iopub.status.idle": "2022-06-16T02:07:19.951307Z",
     "shell.execute_reply": "2022-06-16T02:07:19.951947Z",
     "shell.execute_reply.started": "2022-06-16T01:42:10.097490Z"
    },
    "papermill": {
     "duration": 0.300808,
     "end_time": "2022-06-16T02:07:19.952160",
     "exception": false,
     "start_time": "2022-06-16T02:07:19.651352",
     "status": "completed"
    },
    "tags": []
   },
   "outputs": [
    {
     "name": "stdout",
     "output_type": "stream",
     "text": [
      "0.8101694915254237\n",
      "[[154  21]\n",
      " [ 35  85]]\n",
      "              precision    recall  f1-score   support\n",
      "\n",
      "           0       0.81      0.88      0.85       175\n",
      "           1       0.80      0.71      0.75       120\n",
      "\n",
      "    accuracy                           0.81       295\n",
      "   macro avg       0.81      0.79      0.80       295\n",
      "weighted avg       0.81      0.81      0.81       295\n",
      "\n"
     ]
    }
   ],
   "source": [
    "model_pl_lr = make_pipeline(data_pl, LogisticRegression())\n",
    "model_pl_lr.fit(X_train,y_train)\n",
    "y_pred=model_pl_lr.predict(X_test)\n",
    "print(accuracy_score(y_test,y_pred))\n",
    "\n",
    "cm = confusion_matrix(y_test,y_pred)\n",
    "print(cm)\n",
    "\n",
    "print(classification_report(y_test, y_pred))"
   ]
  },
  {
   "cell_type": "code",
   "execution_count": 163,
   "id": "f15b56fa",
   "metadata": {
    "execution": {
     "iopub.execute_input": "2022-06-16T02:07:20.475677Z",
     "iopub.status.busy": "2022-06-16T02:07:20.475034Z",
     "iopub.status.idle": "2022-06-16T02:07:20.520676Z",
     "shell.execute_reply": "2022-06-16T02:07:20.520182Z",
     "shell.execute_reply.started": "2022-06-16T01:44:56.625997Z"
    },
    "papermill": {
     "duration": 0.308727,
     "end_time": "2022-06-16T02:07:20.520829",
     "exception": false,
     "start_time": "2022-06-16T02:07:20.212102",
     "status": "completed"
    },
    "tags": []
   },
   "outputs": [
    {
     "name": "stdout",
     "output_type": "stream",
     "text": [
      "0.8372881355932204\n",
      "[[159  16]\n",
      " [ 32  88]]\n",
      "              precision    recall  f1-score   support\n",
      "\n",
      "           0       0.83      0.91      0.87       175\n",
      "           1       0.85      0.73      0.79       120\n",
      "\n",
      "    accuracy                           0.84       295\n",
      "   macro avg       0.84      0.82      0.83       295\n",
      "weighted avg       0.84      0.84      0.84       295\n",
      "\n"
     ]
    }
   ],
   "source": [
    "data_pl = ColumnTransformer([('num_pl',num_pl,['Age','SibSp','Parch','Fare','Pclass']),('cat_pl',cat_pl,['Sex','Embarked'])])\n",
    "model_pl_svc = make_pipeline(data_pl,SVC())\n",
    "model_pl_svc.fit(X_train, y_train)\n",
    "y_pred = model_pl_svc.predict(X_test)\n",
    "print(accuracy_score(y_test,y_pred))\n",
    "\n",
    "cm = confusion_matrix(y_test,y_pred)\n",
    "print(cm)\n",
    "\n",
    "print(classification_report(y_test, y_pred))"
   ]
  },
  {
   "cell_type": "code",
   "execution_count": 164,
   "id": "fd5a717f",
   "metadata": {
    "execution": {
     "iopub.execute_input": "2022-06-16T02:07:21.044487Z",
     "iopub.status.busy": "2022-06-16T02:07:21.043332Z",
     "iopub.status.idle": "2022-06-16T02:07:21.079215Z",
     "shell.execute_reply": "2022-06-16T02:07:21.080102Z",
     "shell.execute_reply.started": "2022-06-16T01:51:14.628023Z"
    },
    "papermill": {
     "duration": 0.305196,
     "end_time": "2022-06-16T02:07:21.080415",
     "exception": false,
     "start_time": "2022-06-16T02:07:20.775219",
     "status": "completed"
    },
    "tags": []
   },
   "outputs": [
    {
     "name": "stdout",
     "output_type": "stream",
     "text": [
      "0.7728813559322034\n",
      "[[170   5]\n",
      " [ 62  58]]\n",
      "              precision    recall  f1-score   support\n",
      "\n",
      "           0       0.73      0.97      0.84       175\n",
      "           1       0.92      0.48      0.63       120\n",
      "\n",
      "    accuracy                           0.77       295\n",
      "   macro avg       0.83      0.73      0.73       295\n",
      "weighted avg       0.81      0.77      0.75       295\n",
      "\n"
     ]
    }
   ],
   "source": [
    "data_pl = ColumnTransformer([('num_pl',num_pl,X_col_num),('cat_pl',cat_pl,X_col_cat)])\n",
    "model_pl_svc = make_pipeline(data_pl,SelectKBest(f_classif,k=3), SVC())\n",
    "model_pl_svc.fit(X_train,y_train)\n",
    "y_pred = model_pl_svc.predict(X_test)\n",
    "\n",
    "print(accuracy_score(y_test,y_pred))\n",
    "\n",
    "cm = confusion_matrix(y_test,y_pred)\n",
    "print(cm)\n",
    "\n",
    "print(classification_report(y_test, y_pred))"
   ]
  },
  {
   "cell_type": "code",
   "execution_count": 165,
   "id": "6129efa5",
   "metadata": {
    "execution": {
     "iopub.execute_input": "2022-06-16T02:07:21.588571Z",
     "iopub.status.busy": "2022-06-16T02:07:21.588055Z",
     "iopub.status.idle": "2022-06-16T02:07:21.593958Z",
     "shell.execute_reply": "2022-06-16T02:07:21.593472Z",
     "shell.execute_reply.started": "2022-06-16T01:51:16.843106Z"
    },
    "papermill": {
     "duration": 0.260154,
     "end_time": "2022-06-16T02:07:21.594078",
     "exception": false,
     "start_time": "2022-06-16T02:07:21.333924",
     "status": "completed"
    },
    "tags": []
   },
   "outputs": [
    {
     "data": {
      "text/plain": [
       "array(['Pclass_3', 'Sex_female', 'Sex_male'], dtype='<U10')"
      ]
     },
     "execution_count": 165,
     "metadata": {},
     "output_type": "execute_result"
    }
   ],
   "source": [
    "cols = X_col_num + oh_cols.tolist()\n",
    "selector = model_pl_svc.named_steps['selectkbest']\n",
    "np.array(cols)[selector.get_support()]"
   ]
  },
  {
   "cell_type": "code",
   "execution_count": 166,
   "id": "7155c5f6",
   "metadata": {
    "execution": {
     "iopub.execute_input": "2022-06-16T02:07:22.118396Z",
     "iopub.status.busy": "2022-06-16T02:07:22.117801Z",
     "iopub.status.idle": "2022-06-16T02:07:22.130979Z",
     "shell.execute_reply": "2022-06-16T02:07:22.130269Z"
    },
    "papermill": {
     "duration": 0.27774,
     "end_time": "2022-06-16T02:07:22.131116",
     "exception": false,
     "start_time": "2022-06-16T02:07:21.853376",
     "status": "completed"
    },
    "tags": []
   },
   "outputs": [],
   "source": [
    "df = pd.read_csv('../input/titanic/train.csv')\n",
    "df = df.drop(['PassengerId','Name','Ticket','Cabin'], axis=1)\n",
    "X_col_num = ['Age','SibSp','Parch','Fare']\n",
    "X_col_cat = ['Pclass','Sex','Embarked']\n",
    "X_cols = X_col_num + X_col_cat\n",
    "y_col = 'Survived'\n",
    "X = df[X_cols]\n",
    "y=df[y_col]\n",
    "X_train,X_test,y_train,y_test = train_test_split(X,y,test_size=0.33,random_state=42)"
   ]
  }
 ],
 "metadata": {
  "kernelspec": {
   "display_name": "Python 3",
   "language": "python",
   "name": "python3"
  },
  "language_info": {
   "codemirror_mode": {
    "name": "ipython",
    "version": 3
   },
   "file_extension": ".py",
   "mimetype": "text/x-python",
   "name": "python",
   "nbconvert_exporter": "python",
   "pygments_lexer": "ipython3",
   "version": "3.7.12"
  },
  "papermill": {
   "default_parameters": {},
   "duration": 112.520404,
   "end_time": "2022-06-16T02:07:23.222741",
   "environment_variables": {},
   "exception": null,
   "input_path": "__notebook__.ipynb",
   "output_path": "__notebook__.ipynb",
   "parameters": {},
   "start_time": "2022-06-16T02:05:30.702337",
   "version": "2.3.3"
  }
 },
 "nbformat": 4,
 "nbformat_minor": 5
}
