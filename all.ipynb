{
 "cells": [
  {
   "cell_type": "markdown",
   "id": "ec5dba51",
   "metadata": {
    "id": "wmD19iyJeY-l",
    "papermill": {
     "duration": 0.165525,
     "end_time": "2022-06-14T01:03:43.133481",
     "exception": false,
     "start_time": "2022-06-14T01:03:42.967956",
     "status": "completed"
    },
    "tags": []
   },
   "source": [
    "# 3/3"
   ]
  },
  {
   "cell_type": "code",
   "execution_count": 1,
   "id": "94e7f471",
   "metadata": {
    "execution": {
     "iopub.execute_input": "2022-06-14T01:03:43.454696Z",
     "iopub.status.busy": "2022-06-14T01:03:43.453496Z",
     "iopub.status.idle": "2022-06-14T01:03:43.457094Z",
     "shell.execute_reply": "2022-06-14T01:03:43.457549Z",
     "shell.execute_reply.started": "2022-06-14T00:44:40.573785Z"
    },
    "papermill": {
     "duration": 0.164596,
     "end_time": "2022-06-14T01:03:43.457887",
     "exception": false,
     "start_time": "2022-06-14T01:03:43.293291",
     "status": "completed"
    },
    "tags": []
   },
   "outputs": [],
   "source": [
    "# fstring"
   ]
  },
  {
   "cell_type": "code",
   "execution_count": 2,
   "id": "466d240c",
   "metadata": {
    "execution": {
     "iopub.execute_input": "2022-06-14T01:03:43.772387Z",
     "iopub.status.busy": "2022-06-14T01:03:43.771678Z",
     "iopub.status.idle": "2022-06-14T01:03:43.782558Z",
     "shell.execute_reply": "2022-06-14T01:03:43.781951Z",
     "shell.execute_reply.started": "2022-06-14T00:44:40.580070Z"
    },
    "id": "fTD_SRljVuOY",
    "papermill": {
     "duration": 0.16896,
     "end_time": "2022-06-14T01:03:43.782739",
     "exception": false,
     "start_time": "2022-06-14T01:03:43.613779",
     "status": "completed"
    },
    "tags": []
   },
   "outputs": [],
   "source": [
    "def cal_price_cost(k_cost):\n",
    "  rate = 0.03    # 其實是1 韓圓 等於0.023 新臺幣\n",
    "  nt_cost = k_cost * rate\n",
    "  inc = 0.2    # 定價高於成本的比例\n",
    "  nt_price = nt_cost * (1 + inc)\n",
    "  return {'k_cost': k_cost, 'nt_cost':nt_cost, 'nt_price':nt_price}"
   ]
  },
  {
   "cell_type": "code",
   "execution_count": 3,
   "id": "79d35434",
   "metadata": {
    "execution": {
     "iopub.execute_input": "2022-06-14T01:03:44.106636Z",
     "iopub.status.busy": "2022-06-14T01:03:44.105875Z",
     "iopub.status.idle": "2022-06-14T01:03:44.109339Z",
     "shell.execute_reply": "2022-06-14T01:03:44.110315Z",
     "shell.execute_reply.started": "2022-06-14T00:44:40.593083Z"
    },
    "id": "kFGr1DBPdArm",
    "outputId": "9f116d81-c624-4f89-852e-837dbcf6572d",
    "papermill": {
     "duration": 0.172316,
     "end_time": "2022-06-14T01:03:44.110677",
     "exception": false,
     "start_time": "2022-06-14T01:03:43.938361",
     "status": "completed"
    },
    "tags": []
   },
   "outputs": [
    {
     "name": "stdout",
     "output_type": "stream",
     "text": [
      "[{'k_cost': 30000, 'nt_cost': 900.0, 'nt_price': 1080.0}, {'k_cost': 45000, 'nt_cost': 1350.0, 'nt_price': 1620.0}, {'k_cost': 50000, 'nt_cost': 1500.0, 'nt_price': 1800.0}]\n"
     ]
    }
   ],
   "source": [
    "list_k_cost = [30000,500,45000,50000]\n",
    "list_results = []\n",
    "for k_cost in list_k_cost:\n",
    "  if k_cost > 10000:\n",
    "    data = cal_price_cost(k_cost)\n",
    "    list_results.append(data)\n",
    "print(list_results)\n"
   ]
  },
  {
   "cell_type": "code",
   "execution_count": 4,
   "id": "0777b9f5",
   "metadata": {
    "execution": {
     "iopub.execute_input": "2022-06-14T01:03:44.429977Z",
     "iopub.status.busy": "2022-06-14T01:03:44.429257Z",
     "iopub.status.idle": "2022-06-14T01:03:44.437718Z",
     "shell.execute_reply": "2022-06-14T01:03:44.438215Z",
     "shell.execute_reply.started": "2022-06-14T00:44:40.606611Z"
    },
    "id": "DUlUy2CPeRle",
    "outputId": "b40aa57e-7495-4b73-ee22-4c5a3f6ef68f",
    "papermill": {
     "duration": 0.168388,
     "end_time": "2022-06-14T01:03:44.438407",
     "exception": false,
     "start_time": "2022-06-14T01:03:44.270019",
     "status": "completed"
    },
    "tags": []
   },
   "outputs": [
    {
     "data": {
      "text/plain": [
       "[{'k_cost': 30000, 'nt_cost': 900.0, 'nt_price': 1080.0},\n",
       " {'k_cost': 45000, 'nt_cost': 1350.0, 'nt_price': 1620.0},\n",
       " {'k_cost': 50000, 'nt_cost': 1500.0, 'nt_price': 1800.0}]"
      ]
     },
     "execution_count": 4,
     "metadata": {},
     "output_type": "execute_result"
    }
   ],
   "source": [
    "list_results"
   ]
  },
  {
   "cell_type": "markdown",
   "id": "049a6e95",
   "metadata": {
    "id": "R6jUQczn6IGp",
    "papermill": {
     "duration": 0.158392,
     "end_time": "2022-06-14T01:03:44.752644",
     "exception": false,
     "start_time": "2022-06-14T01:03:44.594252",
     "status": "completed"
    },
    "tags": []
   },
   "source": [
    "# 3/8"
   ]
  },
  {
   "cell_type": "code",
   "execution_count": 5,
   "id": "9085cad0",
   "metadata": {
    "execution": {
     "iopub.execute_input": "2022-06-14T01:03:45.114736Z",
     "iopub.status.busy": "2022-06-14T01:03:45.113607Z",
     "iopub.status.idle": "2022-06-14T01:03:45.135831Z",
     "shell.execute_reply": "2022-06-14T01:03:45.134476Z",
     "shell.execute_reply.started": "2022-06-14T00:44:40.623816Z"
    },
    "id": "sYfPvNWX6Vio",
    "outputId": "54502a5b-5bae-431e-f377-739765d119e1",
    "papermill": {
     "duration": 0.209524,
     "end_time": "2022-06-14T01:03:45.136104",
     "exception": false,
     "start_time": "2022-06-14T01:03:44.926580",
     "status": "completed"
    },
    "tags": []
   },
   "outputs": [
    {
     "data": {
      "text/html": [
       "<div>\n",
       "<style scoped>\n",
       "    .dataframe tbody tr th:only-of-type {\n",
       "        vertical-align: middle;\n",
       "    }\n",
       "\n",
       "    .dataframe tbody tr th {\n",
       "        vertical-align: top;\n",
       "    }\n",
       "\n",
       "    .dataframe thead th {\n",
       "        text-align: right;\n",
       "    }\n",
       "</style>\n",
       "<table border=\"1\" class=\"dataframe\">\n",
       "  <thead>\n",
       "    <tr style=\"text-align: right;\">\n",
       "      <th></th>\n",
       "      <th>Math</th>\n",
       "      <th>English</th>\n",
       "      <th>Chemistry</th>\n",
       "    </tr>\n",
       "  </thead>\n",
       "  <tbody>\n",
       "    <tr>\n",
       "      <th>0</th>\n",
       "      <td>88</td>\n",
       "      <td>76</td>\n",
       "      <td>71</td>\n",
       "    </tr>\n",
       "    <tr>\n",
       "      <th>1</th>\n",
       "      <td>66</td>\n",
       "      <td>84</td>\n",
       "      <td>64</td>\n",
       "    </tr>\n",
       "    <tr>\n",
       "      <th>2</th>\n",
       "      <td>77</td>\n",
       "      <td>91</td>\n",
       "      <td>48</td>\n",
       "    </tr>\n",
       "    <tr>\n",
       "      <th>3</th>\n",
       "      <td>100</td>\n",
       "      <td>100</td>\n",
       "      <td>100</td>\n",
       "    </tr>\n",
       "  </tbody>\n",
       "</table>\n",
       "</div>"
      ],
      "text/plain": [
       "   Math  English  Chemistry\n",
       "0    88       76         71\n",
       "1    66       84         64\n",
       "2    77       91         48\n",
       "3   100      100        100"
      ]
     },
     "execution_count": 5,
     "metadata": {},
     "output_type": "execute_result"
    }
   ],
   "source": [
    "import pandas as pd\n",
    "scores = {'Math': [88,66,77,100],'English':[76,84,91,100],'Chemistry':[71,64,48,100]}\n",
    "df = pd.DataFrame(scores)\n",
    "df"
   ]
  },
  {
   "cell_type": "code",
   "execution_count": 6,
   "id": "330572d4",
   "metadata": {
    "execution": {
     "iopub.execute_input": "2022-06-14T01:03:45.478206Z",
     "iopub.status.busy": "2022-06-14T01:03:45.477562Z",
     "iopub.status.idle": "2022-06-14T01:03:45.481671Z",
     "shell.execute_reply": "2022-06-14T01:03:45.482728Z",
     "shell.execute_reply.started": "2022-06-14T00:44:40.640700Z"
    },
    "id": "mOIFydPiCA1f",
    "outputId": "0eb3a255-f2c5-452b-bb3c-a26082582284",
    "papermill": {
     "duration": 0.172199,
     "end_time": "2022-06-14T01:03:45.483032",
     "exception": false,
     "start_time": "2022-06-14T01:03:45.310833",
     "status": "completed"
    },
    "tags": []
   },
   "outputs": [
    {
     "name": "stdout",
     "output_type": "stream",
     "text": [
      "0     88\n",
      "1     66\n",
      "2     77\n",
      "3    100\n",
      "Name: Math, dtype: int64\n",
      "<class 'pandas.core.series.Series'>\n"
     ]
    }
   ],
   "source": [
    "print(df['Math'])\n",
    "print(type(df['Math']))"
   ]
  },
  {
   "cell_type": "code",
   "execution_count": 7,
   "id": "c0d2abc9",
   "metadata": {
    "execution": {
     "iopub.execute_input": "2022-06-14T01:03:45.809351Z",
     "iopub.status.busy": "2022-06-14T01:03:45.808654Z",
     "iopub.status.idle": "2022-06-14T01:03:45.817775Z",
     "shell.execute_reply": "2022-06-14T01:03:45.818505Z",
     "shell.execute_reply.started": "2022-06-14T00:44:40.653249Z"
    },
    "id": "WYDTWotICHcH",
    "outputId": "5204c763-37f4-461b-e879-d6015990aa57",
    "papermill": {
     "duration": 0.178532,
     "end_time": "2022-06-14T01:03:45.818696",
     "exception": false,
     "start_time": "2022-06-14T01:03:45.640164",
     "status": "completed"
    },
    "tags": []
   },
   "outputs": [
    {
     "data": {
      "text/html": [
       "<div>\n",
       "<style scoped>\n",
       "    .dataframe tbody tr th:only-of-type {\n",
       "        vertical-align: middle;\n",
       "    }\n",
       "\n",
       "    .dataframe tbody tr th {\n",
       "        vertical-align: top;\n",
       "    }\n",
       "\n",
       "    .dataframe thead th {\n",
       "        text-align: right;\n",
       "    }\n",
       "</style>\n",
       "<table border=\"1\" class=\"dataframe\">\n",
       "  <thead>\n",
       "    <tr style=\"text-align: right;\">\n",
       "      <th></th>\n",
       "      <th>Math</th>\n",
       "      <th>English</th>\n",
       "      <th>Chemistry</th>\n",
       "    </tr>\n",
       "  </thead>\n",
       "  <tbody>\n",
       "    <tr>\n",
       "      <th>May</th>\n",
       "      <td>88</td>\n",
       "      <td>76</td>\n",
       "      <td>71</td>\n",
       "    </tr>\n",
       "    <tr>\n",
       "      <th>John</th>\n",
       "      <td>66</td>\n",
       "      <td>84</td>\n",
       "      <td>64</td>\n",
       "    </tr>\n",
       "    <tr>\n",
       "      <th>Tom</th>\n",
       "      <td>77</td>\n",
       "      <td>91</td>\n",
       "      <td>48</td>\n",
       "    </tr>\n",
       "    <tr>\n",
       "      <th>Alice</th>\n",
       "      <td>100</td>\n",
       "      <td>100</td>\n",
       "      <td>100</td>\n",
       "    </tr>\n",
       "  </tbody>\n",
       "</table>\n",
       "</div>"
      ],
      "text/plain": [
       "       Math  English  Chemistry\n",
       "May      88       76         71\n",
       "John     66       84         64\n",
       "Tom      77       91         48\n",
       "Alice   100      100        100"
      ]
     },
     "execution_count": 7,
     "metadata": {},
     "output_type": "execute_result"
    }
   ],
   "source": [
    "df.index = ['May','John','Tom','Alice']\n",
    "df"
   ]
  },
  {
   "cell_type": "code",
   "execution_count": 8,
   "id": "ff949708",
   "metadata": {
    "execution": {
     "iopub.execute_input": "2022-06-14T01:03:46.140336Z",
     "iopub.status.busy": "2022-06-14T01:03:46.139678Z",
     "iopub.status.idle": "2022-06-14T01:03:46.144327Z",
     "shell.execute_reply": "2022-06-14T01:03:46.144912Z",
     "shell.execute_reply.started": "2022-06-14T00:44:40.670867Z"
    },
    "id": "BRnL8nSBCYM4",
    "outputId": "d0435810-e1fd-4e7f-ef62-16806e857d91",
    "papermill": {
     "duration": 0.167352,
     "end_time": "2022-06-14T01:03:46.145091",
     "exception": false,
     "start_time": "2022-06-14T01:03:45.977739",
     "status": "completed"
    },
    "tags": []
   },
   "outputs": [],
   "source": [
    "scores2 = {'Math': [88,66,77,100],'English':[76,84,91,100],'Chemistry':[71,64,48,100]}"
   ]
  },
  {
   "cell_type": "markdown",
   "id": "f24cc71c",
   "metadata": {
    "id": "mFqmFStaCAlg",
    "papermill": {
     "duration": 0.157581,
     "end_time": "2022-06-14T01:03:46.461937",
     "exception": false,
     "start_time": "2022-06-14T01:03:46.304356",
     "status": "completed"
    },
    "tags": []
   },
   "source": []
  },
  {
   "cell_type": "markdown",
   "id": "e7e0725f",
   "metadata": {
    "id": "mmULOPlqegKF",
    "papermill": {
     "duration": 0.157645,
     "end_time": "2022-06-14T01:03:46.778210",
     "exception": false,
     "start_time": "2022-06-14T01:03:46.620565",
     "status": "completed"
    },
    "tags": []
   },
   "source": [
    "# 3/10"
   ]
  },
  {
   "cell_type": "code",
   "execution_count": 9,
   "id": "48474198",
   "metadata": {
    "execution": {
     "iopub.execute_input": "2022-06-14T01:03:47.103918Z",
     "iopub.status.busy": "2022-06-14T01:03:47.103219Z",
     "iopub.status.idle": "2022-06-14T01:03:47.105869Z",
     "shell.execute_reply": "2022-06-14T01:03:47.106340Z",
     "shell.execute_reply.started": "2022-06-14T00:44:40.677963Z"
    },
    "id": "noUt6Ge0MaZh",
    "outputId": "63f07a6a-642d-4fa6-93b3-707991bdb7f8",
    "papermill": {
     "duration": 0.17135,
     "end_time": "2022-06-14T01:03:47.106559",
     "exception": false,
     "start_time": "2022-06-14T01:03:46.935209",
     "status": "completed"
    },
    "tags": []
   },
   "outputs": [
    {
     "data": {
      "text/plain": [
       "3"
      ]
     },
     "execution_count": 9,
     "metadata": {},
     "output_type": "execute_result"
    }
   ],
   "source": [
    "len(df.columns)"
   ]
  },
  {
   "cell_type": "code",
   "execution_count": 10,
   "id": "93e9e97b",
   "metadata": {
    "execution": {
     "iopub.execute_input": "2022-06-14T01:03:47.431839Z",
     "iopub.status.busy": "2022-06-14T01:03:47.431123Z",
     "iopub.status.idle": "2022-06-14T01:03:47.433855Z",
     "shell.execute_reply": "2022-06-14T01:03:47.434396Z",
     "shell.execute_reply.started": "2022-06-14T00:44:40.693926Z"
    },
    "id": "7biZwA9yQU3w",
    "outputId": "4ee24521-4904-4e14-b416-73dc71fbdb5b",
    "papermill": {
     "duration": 0.166423,
     "end_time": "2022-06-14T01:03:47.434614",
     "exception": false,
     "start_time": "2022-06-14T01:03:47.268191",
     "status": "completed"
    },
    "tags": []
   },
   "outputs": [
    {
     "data": {
      "text/plain": [
       "12"
      ]
     },
     "execution_count": 10,
     "metadata": {},
     "output_type": "execute_result"
    }
   ],
   "source": [
    "df.size"
   ]
  },
  {
   "cell_type": "code",
   "execution_count": 11,
   "id": "9ce75001",
   "metadata": {
    "execution": {
     "iopub.execute_input": "2022-06-14T01:03:47.763214Z",
     "iopub.status.busy": "2022-06-14T01:03:47.762471Z",
     "iopub.status.idle": "2022-06-14T01:03:47.767628Z",
     "shell.execute_reply": "2022-06-14T01:03:47.768172Z",
     "shell.execute_reply.started": "2022-06-14T00:44:40.706680Z"
    },
    "id": "WySsq8HFQWsg",
    "outputId": "66384d55-698b-492a-dbab-7ef4949bd2ef",
    "papermill": {
     "duration": 0.171313,
     "end_time": "2022-06-14T01:03:47.768377",
     "exception": false,
     "start_time": "2022-06-14T01:03:47.597064",
     "status": "completed"
    },
    "tags": []
   },
   "outputs": [
    {
     "data": {
      "text/plain": [
       "(4, 3)"
      ]
     },
     "execution_count": 11,
     "metadata": {},
     "output_type": "execute_result"
    }
   ],
   "source": [
    "df.shape"
   ]
  },
  {
   "cell_type": "code",
   "execution_count": 12,
   "id": "a301be77",
   "metadata": {
    "execution": {
     "iopub.execute_input": "2022-06-14T01:03:48.095978Z",
     "iopub.status.busy": "2022-06-14T01:03:48.095233Z",
     "iopub.status.idle": "2022-06-14T01:03:48.102964Z",
     "shell.execute_reply": "2022-06-14T01:03:48.102224Z",
     "shell.execute_reply.started": "2022-06-14T00:44:40.718496Z"
    },
    "id": "3KAXnS6zSkpX",
    "outputId": "356574c9-22b1-4728-a70a-79bbaedfa58c",
    "papermill": {
     "duration": 0.175776,
     "end_time": "2022-06-14T01:03:48.103133",
     "exception": false,
     "start_time": "2022-06-14T01:03:47.927357",
     "status": "completed"
    },
    "tags": []
   },
   "outputs": [
    {
     "data": {
      "text/plain": [
       "0    1\n",
       "1    2\n",
       "2    3\n",
       "dtype: int64"
      ]
     },
     "execution_count": 12,
     "metadata": {},
     "output_type": "execute_result"
    }
   ],
   "source": [
    "s=pd.Series([1,2,3])\n",
    "s"
   ]
  },
  {
   "cell_type": "code",
   "execution_count": 13,
   "id": "1ea26ade",
   "metadata": {
    "execution": {
     "iopub.execute_input": "2022-06-14T01:03:48.430205Z",
     "iopub.status.busy": "2022-06-14T01:03:48.429413Z",
     "iopub.status.idle": "2022-06-14T01:03:48.433291Z",
     "shell.execute_reply": "2022-06-14T01:03:48.432768Z",
     "shell.execute_reply.started": "2022-06-14T00:44:40.732311Z"
    },
    "id": "CQcwcjZFSqNv",
    "outputId": "d9b979f8-8358-4edb-d576-cd65b6ad3c77",
    "papermill": {
     "duration": 0.168054,
     "end_time": "2022-06-14T01:03:48.433431",
     "exception": false,
     "start_time": "2022-06-14T01:03:48.265377",
     "status": "completed"
    },
    "tags": []
   },
   "outputs": [
    {
     "data": {
      "text/plain": [
       "(3,)"
      ]
     },
     "execution_count": 13,
     "metadata": {},
     "output_type": "execute_result"
    }
   ],
   "source": [
    "s.shape"
   ]
  },
  {
   "cell_type": "code",
   "execution_count": 14,
   "id": "d36b7d00",
   "metadata": {
    "execution": {
     "iopub.execute_input": "2022-06-14T01:03:48.756385Z",
     "iopub.status.busy": "2022-06-14T01:03:48.755474Z",
     "iopub.status.idle": "2022-06-14T01:03:48.759239Z",
     "shell.execute_reply": "2022-06-14T01:03:48.759787Z",
     "shell.execute_reply.started": "2022-06-14T00:44:40.744764Z"
    },
    "id": "1HtogZzXUu1v",
    "outputId": "4af5b532-2cc9-4697-94b8-7ba54fecd85e",
    "papermill": {
     "duration": 0.168168,
     "end_time": "2022-06-14T01:03:48.759985",
     "exception": false,
     "start_time": "2022-06-14T01:03:48.591817",
     "status": "completed"
    },
    "tags": []
   },
   "outputs": [
    {
     "data": {
      "text/plain": [
       "(3, 1)"
      ]
     },
     "execution_count": 14,
     "metadata": {},
     "output_type": "execute_result"
    }
   ],
   "source": [
    "df = pd.DataFrame(s)\n",
    "df.shape"
   ]
  },
  {
   "cell_type": "code",
   "execution_count": 15,
   "id": "c56fa118",
   "metadata": {
    "execution": {
     "iopub.execute_input": "2022-06-14T01:03:49.096705Z",
     "iopub.status.busy": "2022-06-14T01:03:49.095796Z",
     "iopub.status.idle": "2022-06-14T01:03:49.100655Z",
     "shell.execute_reply": "2022-06-14T01:03:49.099937Z",
     "shell.execute_reply.started": "2022-06-14T00:44:40.757238Z"
    },
    "id": "l6-X6d-XU_aQ",
    "outputId": "d0e0d261-5648-483d-cb57-4f01170e8ac1",
    "papermill": {
     "duration": 0.180322,
     "end_time": "2022-06-14T01:03:49.100809",
     "exception": false,
     "start_time": "2022-06-14T01:03:48.920487",
     "status": "completed"
    },
    "tags": []
   },
   "outputs": [
    {
     "data": {
      "text/plain": [
       "(1, 3)"
      ]
     },
     "execution_count": 15,
     "metadata": {},
     "output_type": "execute_result"
    }
   ],
   "source": [
    "df2 = df.T\n",
    "df2.shape"
   ]
  },
  {
   "cell_type": "code",
   "execution_count": 16,
   "id": "dffe60e0",
   "metadata": {
    "execution": {
     "iopub.execute_input": "2022-06-14T01:03:49.423844Z",
     "iopub.status.busy": "2022-06-14T01:03:49.423069Z",
     "iopub.status.idle": "2022-06-14T01:03:49.426138Z",
     "shell.execute_reply": "2022-06-14T01:03:49.425521Z",
     "shell.execute_reply.started": "2022-06-14T00:44:40.771635Z"
    },
    "id": "ynV91aHaauu_",
    "papermill": {
     "duration": 0.166716,
     "end_time": "2022-06-14T01:03:49.426279",
     "exception": false,
     "start_time": "2022-06-14T01:03:49.259563",
     "status": "completed"
    },
    "tags": []
   },
   "outputs": [],
   "source": [
    "import numpy as np\n",
    "\n",
    "np_a = np.array([1,2,3])          "
   ]
  },
  {
   "cell_type": "code",
   "execution_count": 17,
   "id": "5c4d8a19",
   "metadata": {
    "execution": {
     "iopub.execute_input": "2022-06-14T01:03:49.744906Z",
     "iopub.status.busy": "2022-06-14T01:03:49.744137Z",
     "iopub.status.idle": "2022-06-14T01:03:49.748660Z",
     "shell.execute_reply": "2022-06-14T01:03:49.749142Z",
     "shell.execute_reply.started": "2022-06-14T00:44:40.781025Z"
    },
    "id": "_LuO8F2Geji3",
    "outputId": "0f6045de-ca05-4fe1-fead-35b414d1e80f",
    "papermill": {
     "duration": 0.165591,
     "end_time": "2022-06-14T01:03:49.749306",
     "exception": false,
     "start_time": "2022-06-14T01:03:49.583715",
     "status": "completed"
    },
    "tags": []
   },
   "outputs": [
    {
     "data": {
      "text/plain": [
       "(3,)"
      ]
     },
     "execution_count": 17,
     "metadata": {},
     "output_type": "execute_result"
    }
   ],
   "source": [
    "np_a.shape"
   ]
  },
  {
   "cell_type": "code",
   "execution_count": 18,
   "id": "3fd9a972",
   "metadata": {
    "execution": {
     "iopub.execute_input": "2022-06-14T01:03:50.074655Z",
     "iopub.status.busy": "2022-06-14T01:03:50.073945Z",
     "iopub.status.idle": "2022-06-14T01:03:50.079413Z",
     "shell.execute_reply": "2022-06-14T01:03:50.079927Z",
     "shell.execute_reply.started": "2022-06-14T00:44:40.796719Z"
    },
    "id": "Kjb0RFD6ek3x",
    "outputId": "9e925b67-bf1f-4def-9a3a-28bd4964c76a",
    "papermill": {
     "duration": 0.171729,
     "end_time": "2022-06-14T01:03:50.080095",
     "exception": false,
     "start_time": "2022-06-14T01:03:49.908366",
     "status": "completed"
    },
    "tags": []
   },
   "outputs": [
    {
     "data": {
      "text/plain": [
       "array([[1],\n",
       "       [2],\n",
       "       [3]])"
      ]
     },
     "execution_count": 18,
     "metadata": {},
     "output_type": "execute_result"
    }
   ],
   "source": [
    "np_b = np_a.reshape(3,1)\n",
    "np_b"
   ]
  },
  {
   "cell_type": "code",
   "execution_count": 19,
   "id": "8b636973",
   "metadata": {
    "execution": {
     "iopub.execute_input": "2022-06-14T01:03:50.410342Z",
     "iopub.status.busy": "2022-06-14T01:03:50.409377Z",
     "iopub.status.idle": "2022-06-14T01:03:50.413034Z",
     "shell.execute_reply": "2022-06-14T01:03:50.413539Z",
     "shell.execute_reply.started": "2022-06-14T00:44:40.808957Z"
    },
    "id": "HCXkIIANelBB",
    "outputId": "02978add-e332-477b-fda2-85fab3a8995e",
    "papermill": {
     "duration": 0.172516,
     "end_time": "2022-06-14T01:03:50.413743",
     "exception": false,
     "start_time": "2022-06-14T01:03:50.241227",
     "status": "completed"
    },
    "tags": []
   },
   "outputs": [
    {
     "data": {
      "text/plain": [
       "(3, 1)"
      ]
     },
     "execution_count": 19,
     "metadata": {},
     "output_type": "execute_result"
    }
   ],
   "source": [
    "np_b.shape"
   ]
  },
  {
   "cell_type": "code",
   "execution_count": 20,
   "id": "c5927695",
   "metadata": {
    "execution": {
     "iopub.execute_input": "2022-06-14T01:03:50.738711Z",
     "iopub.status.busy": "2022-06-14T01:03:50.737555Z",
     "iopub.status.idle": "2022-06-14T01:03:50.744078Z",
     "shell.execute_reply": "2022-06-14T01:03:50.744660Z",
     "shell.execute_reply.started": "2022-06-14T00:44:40.825313Z"
    },
    "id": "hKJ-qCL_elEZ",
    "outputId": "4f33df25-fd3f-4be8-9700-dc23c9fd89e2",
    "papermill": {
     "duration": 0.170216,
     "end_time": "2022-06-14T01:03:50.744874",
     "exception": false,
     "start_time": "2022-06-14T01:03:50.574658",
     "status": "completed"
    },
    "tags": []
   },
   "outputs": [
    {
     "data": {
      "text/plain": [
       "array([[1, 2, 3]])"
      ]
     },
     "execution_count": 20,
     "metadata": {},
     "output_type": "execute_result"
    }
   ],
   "source": [
    "np_t = np_b.reshape(1,-1)\n",
    "np_t"
   ]
  },
  {
   "cell_type": "code",
   "execution_count": 21,
   "id": "e3a89d01",
   "metadata": {
    "execution": {
     "iopub.execute_input": "2022-06-14T01:03:51.082314Z",
     "iopub.status.busy": "2022-06-14T01:03:51.081651Z",
     "iopub.status.idle": "2022-06-14T01:03:51.087905Z",
     "shell.execute_reply": "2022-06-14T01:03:51.088430Z",
     "shell.execute_reply.started": "2022-06-14T00:44:40.837777Z"
    },
    "id": "fx0k-KxJewgg",
    "outputId": "8c544dcf-0138-44aa-e2fd-963c3847af11",
    "papermill": {
     "duration": 0.18093,
     "end_time": "2022-06-14T01:03:51.088653",
     "exception": false,
     "start_time": "2022-06-14T01:03:50.907723",
     "status": "completed"
    },
    "tags": []
   },
   "outputs": [
    {
     "data": {
      "text/plain": [
       "(1, 3)"
      ]
     },
     "execution_count": 21,
     "metadata": {},
     "output_type": "execute_result"
    }
   ],
   "source": [
    "np_t.shape"
   ]
  },
  {
   "cell_type": "markdown",
   "id": "4883e698",
   "metadata": {
    "id": "wViskNl9i9Vf",
    "papermill": {
     "duration": 0.166077,
     "end_time": "2022-06-14T01:03:51.417141",
     "exception": false,
     "start_time": "2022-06-14T01:03:51.251064",
     "status": "completed"
    },
    "tags": []
   },
   "source": [
    "*Ita*\n",
    "\n",
    "**Bold**\n",
    "\n",
    "***Bold+Ita***\n",
    "\n",
    "> This is a QUOTE\n",
    "\n",
    "* 1\n",
    "* 2\n",
    "* 3\n"
   ]
  },
  {
   "cell_type": "markdown",
   "id": "6bc1ebfc",
   "metadata": {
    "id": "UBUUZimOU7Vp",
    "papermill": {
     "duration": 0.160768,
     "end_time": "2022-06-14T01:03:51.741051",
     "exception": false,
     "start_time": "2022-06-14T01:03:51.580283",
     "status": "completed"
    },
    "tags": []
   },
   "source": [
    "# 3/15"
   ]
  },
  {
   "cell_type": "code",
   "execution_count": 22,
   "id": "3b5cd413",
   "metadata": {
    "execution": {
     "iopub.execute_input": "2022-06-14T01:03:52.089806Z",
     "iopub.status.busy": "2022-06-14T01:03:52.089104Z",
     "iopub.status.idle": "2022-06-14T01:03:52.099295Z",
     "shell.execute_reply": "2022-06-14T01:03:52.100163Z",
     "shell.execute_reply.started": "2022-06-14T00:44:40.850829Z"
    },
    "id": "ADAAPrNv8fjL",
    "outputId": "ce888f82-39be-4e3b-d471-210cc2c2cfb7",
    "papermill": {
     "duration": 0.19729,
     "end_time": "2022-06-14T01:03:52.100400",
     "exception": false,
     "start_time": "2022-06-14T01:03:51.903110",
     "status": "completed"
    },
    "tags": []
   },
   "outputs": [
    {
     "data": {
      "text/plain": [
       "array([[2345,  245,  224],\n",
       "       [  43, 3434,    1]])"
      ]
     },
     "execution_count": 22,
     "metadata": {},
     "output_type": "execute_result"
    }
   ],
   "source": [
    "import numpy as np\n",
    "np_c = np.array([[2345,245,224],[43,3434,1]])\n",
    "np_c"
   ]
  },
  {
   "cell_type": "code",
   "execution_count": 23,
   "id": "e197458b",
   "metadata": {
    "execution": {
     "iopub.execute_input": "2022-06-14T01:03:52.441304Z",
     "iopub.status.busy": "2022-06-14T01:03:52.440550Z",
     "iopub.status.idle": "2022-06-14T01:03:52.443287Z",
     "shell.execute_reply": "2022-06-14T01:03:52.443784Z",
     "shell.execute_reply.started": "2022-06-14T00:44:40.863355Z"
    },
    "id": "E3rvFjta-Iu6",
    "outputId": "560634dc-457d-4442-872c-3744efef1045",
    "papermill": {
     "duration": 0.173284,
     "end_time": "2022-06-14T01:03:52.443952",
     "exception": false,
     "start_time": "2022-06-14T01:03:52.270668",
     "status": "completed"
    },
    "tags": []
   },
   "outputs": [
    {
     "data": {
      "text/plain": [
       "array([2345,  245,  224,   43, 3434,    1])"
      ]
     },
     "execution_count": 23,
     "metadata": {},
     "output_type": "execute_result"
    }
   ],
   "source": [
    "np_c.reshape(-1)"
   ]
  },
  {
   "cell_type": "code",
   "execution_count": 24,
   "id": "d40d39fb",
   "metadata": {
    "execution": {
     "iopub.execute_input": "2022-06-14T01:03:52.771131Z",
     "iopub.status.busy": "2022-06-14T01:03:52.770485Z",
     "iopub.status.idle": "2022-06-14T01:03:52.775209Z",
     "shell.execute_reply": "2022-06-14T01:03:52.775703Z",
     "shell.execute_reply.started": "2022-06-14T00:44:40.877081Z"
    },
    "id": "eHpNx6cu-LVK",
    "outputId": "96de4f23-c463-410e-d9d0-8976c6fea636",
    "papermill": {
     "duration": 0.17168,
     "end_time": "2022-06-14T01:03:52.775872",
     "exception": false,
     "start_time": "2022-06-14T01:03:52.604192",
     "status": "completed"
    },
    "tags": []
   },
   "outputs": [
    {
     "data": {
      "text/plain": [
       "(6,)"
      ]
     },
     "execution_count": 24,
     "metadata": {},
     "output_type": "execute_result"
    }
   ],
   "source": [
    "np_c.reshape(-1).shape"
   ]
  },
  {
   "cell_type": "code",
   "execution_count": 25,
   "id": "d3e441a7",
   "metadata": {
    "execution": {
     "iopub.execute_input": "2022-06-14T01:03:53.110122Z",
     "iopub.status.busy": "2022-06-14T01:03:53.109414Z",
     "iopub.status.idle": "2022-06-14T01:03:53.115087Z",
     "shell.execute_reply": "2022-06-14T01:03:53.115625Z",
     "shell.execute_reply.started": "2022-06-14T00:44:40.888762Z"
    },
    "id": "34voP90E-Toj",
    "outputId": "be7c8a69-b6a7-4883-fb22-28d7668518e5",
    "papermill": {
     "duration": 0.175726,
     "end_time": "2022-06-14T01:03:53.115799",
     "exception": false,
     "start_time": "2022-06-14T01:03:52.940073",
     "status": "completed"
    },
    "tags": []
   },
   "outputs": [
    {
     "data": {
      "text/plain": [
       "array([[2345,  245,  224],\n",
       "       [  43, 3434,    1]])"
      ]
     },
     "execution_count": 25,
     "metadata": {},
     "output_type": "execute_result"
    }
   ],
   "source": [
    "np_c"
   ]
  },
  {
   "cell_type": "code",
   "execution_count": 26,
   "id": "19bb29cf",
   "metadata": {
    "execution": {
     "iopub.execute_input": "2022-06-14T01:03:53.446217Z",
     "iopub.status.busy": "2022-06-14T01:03:53.445581Z",
     "iopub.status.idle": "2022-06-14T01:03:53.450177Z",
     "shell.execute_reply": "2022-06-14T01:03:53.450693Z",
     "shell.execute_reply.started": "2022-06-14T00:44:40.902876Z"
    },
    "id": "foG2aMgr-Rbj",
    "outputId": "66cad63e-fb32-4359-ead1-47e7f949112e",
    "papermill": {
     "duration": 0.171999,
     "end_time": "2022-06-14T01:03:53.450872",
     "exception": false,
     "start_time": "2022-06-14T01:03:53.278873",
     "status": "completed"
    },
    "tags": []
   },
   "outputs": [
    {
     "data": {
      "text/plain": [
       "array([2345,  245,  224,   43, 3434,    1])"
      ]
     },
     "execution_count": 26,
     "metadata": {},
     "output_type": "execute_result"
    }
   ],
   "source": [
    "np_c.ravel()"
   ]
  },
  {
   "cell_type": "code",
   "execution_count": 27,
   "id": "8e19e3a1",
   "metadata": {
    "execution": {
     "iopub.execute_input": "2022-06-14T01:03:53.780680Z",
     "iopub.status.busy": "2022-06-14T01:03:53.780019Z",
     "iopub.status.idle": "2022-06-14T01:03:53.785082Z",
     "shell.execute_reply": "2022-06-14T01:03:53.785604Z",
     "shell.execute_reply.started": "2022-06-14T00:44:40.915296Z"
    },
    "id": "N13chpd4-iVL",
    "outputId": "38fc6371-6417-4c7b-c64b-5dfa35b906fc",
    "papermill": {
     "duration": 0.17283,
     "end_time": "2022-06-14T01:03:53.785793",
     "exception": false,
     "start_time": "2022-06-14T01:03:53.612963",
     "status": "completed"
    },
    "tags": []
   },
   "outputs": [
    {
     "data": {
      "text/plain": [
       "(6,)"
      ]
     },
     "execution_count": 27,
     "metadata": {},
     "output_type": "execute_result"
    }
   ],
   "source": [
    "np_c.ravel().shape"
   ]
  },
  {
   "cell_type": "code",
   "execution_count": 28,
   "id": "902f9df9",
   "metadata": {
    "execution": {
     "iopub.execute_input": "2022-06-14T01:03:54.124101Z",
     "iopub.status.busy": "2022-06-14T01:03:54.123428Z",
     "iopub.status.idle": "2022-06-14T01:03:54.137105Z",
     "shell.execute_reply": "2022-06-14T01:03:54.137624Z",
     "shell.execute_reply.started": "2022-06-14T00:44:40.928712Z"
    },
    "id": "7rVKpyNSBZeQ",
    "outputId": "258095c2-4b8f-4681-be85-b7bbb4810d3e",
    "papermill": {
     "duration": 0.186477,
     "end_time": "2022-06-14T01:03:54.137799",
     "exception": false,
     "start_time": "2022-06-14T01:03:53.951322",
     "status": "completed"
    },
    "tags": []
   },
   "outputs": [
    {
     "data": {
      "text/html": [
       "<div>\n",
       "<style scoped>\n",
       "    .dataframe tbody tr th:only-of-type {\n",
       "        vertical-align: middle;\n",
       "    }\n",
       "\n",
       "    .dataframe tbody tr th {\n",
       "        vertical-align: top;\n",
       "    }\n",
       "\n",
       "    .dataframe thead th {\n",
       "        text-align: right;\n",
       "    }\n",
       "</style>\n",
       "<table border=\"1\" class=\"dataframe\">\n",
       "  <thead>\n",
       "    <tr style=\"text-align: right;\">\n",
       "      <th></th>\n",
       "      <th>Math</th>\n",
       "      <th>English</th>\n",
       "      <th>Chemistry</th>\n",
       "    </tr>\n",
       "  </thead>\n",
       "  <tbody>\n",
       "    <tr>\n",
       "      <th>May</th>\n",
       "      <td>8.0</td>\n",
       "      <td>76</td>\n",
       "      <td>71</td>\n",
       "    </tr>\n",
       "    <tr>\n",
       "      <th>John</th>\n",
       "      <td>NaN</td>\n",
       "      <td>84</td>\n",
       "      <td>64</td>\n",
       "    </tr>\n",
       "    <tr>\n",
       "      <th>Tom</th>\n",
       "      <td>77.0</td>\n",
       "      <td>91</td>\n",
       "      <td>48</td>\n",
       "    </tr>\n",
       "    <tr>\n",
       "      <th>Alice</th>\n",
       "      <td>100.0</td>\n",
       "      <td>100</td>\n",
       "      <td>100</td>\n",
       "    </tr>\n",
       "  </tbody>\n",
       "</table>\n",
       "</div>"
      ],
      "text/plain": [
       "        Math  English  Chemistry\n",
       "May      8.0       76         71\n",
       "John     NaN       84         64\n",
       "Tom     77.0       91         48\n",
       "Alice  100.0      100        100"
      ]
     },
     "execution_count": 28,
     "metadata": {},
     "output_type": "execute_result"
    }
   ],
   "source": [
    "import pandas as pd\n",
    "df = pd.DataFrame({'Math': [8,np.nan,77,100],'English':[76,84,91,100],'Chemistry':[71,64,48,100]})\n",
    "df.index = ['May','John','Tom','Alice']\n",
    "df"
   ]
  },
  {
   "cell_type": "code",
   "execution_count": 29,
   "id": "8537d6df",
   "metadata": {
    "execution": {
     "iopub.execute_input": "2022-06-14T01:03:54.476257Z",
     "iopub.status.busy": "2022-06-14T01:03:54.475600Z",
     "iopub.status.idle": "2022-06-14T01:03:54.482745Z",
     "shell.execute_reply": "2022-06-14T01:03:54.483327Z",
     "shell.execute_reply.started": "2022-06-14T00:44:40.947381Z"
    },
    "id": "uK3_s7p6CJIA",
    "outputId": "fe60ecea-4490-4b74-8031-9e233f089fca",
    "papermill": {
     "duration": 0.179974,
     "end_time": "2022-06-14T01:03:54.483526",
     "exception": false,
     "start_time": "2022-06-14T01:03:54.303552",
     "status": "completed"
    },
    "tags": []
   },
   "outputs": [
    {
     "data": {
      "text/html": [
       "<div>\n",
       "<style scoped>\n",
       "    .dataframe tbody tr th:only-of-type {\n",
       "        vertical-align: middle;\n",
       "    }\n",
       "\n",
       "    .dataframe tbody tr th {\n",
       "        vertical-align: top;\n",
       "    }\n",
       "\n",
       "    .dataframe thead th {\n",
       "        text-align: right;\n",
       "    }\n",
       "</style>\n",
       "<table border=\"1\" class=\"dataframe\">\n",
       "  <thead>\n",
       "    <tr style=\"text-align: right;\">\n",
       "      <th></th>\n",
       "      <th>Math</th>\n",
       "      <th>English</th>\n",
       "      <th>Chemistry</th>\n",
       "    </tr>\n",
       "  </thead>\n",
       "  <tbody>\n",
       "    <tr>\n",
       "      <th>May</th>\n",
       "      <td>False</td>\n",
       "      <td>False</td>\n",
       "      <td>False</td>\n",
       "    </tr>\n",
       "    <tr>\n",
       "      <th>John</th>\n",
       "      <td>True</td>\n",
       "      <td>False</td>\n",
       "      <td>False</td>\n",
       "    </tr>\n",
       "    <tr>\n",
       "      <th>Tom</th>\n",
       "      <td>False</td>\n",
       "      <td>False</td>\n",
       "      <td>False</td>\n",
       "    </tr>\n",
       "    <tr>\n",
       "      <th>Alice</th>\n",
       "      <td>False</td>\n",
       "      <td>False</td>\n",
       "      <td>False</td>\n",
       "    </tr>\n",
       "  </tbody>\n",
       "</table>\n",
       "</div>"
      ],
      "text/plain": [
       "        Math  English  Chemistry\n",
       "May    False    False      False\n",
       "John    True    False      False\n",
       "Tom    False    False      False\n",
       "Alice  False    False      False"
      ]
     },
     "execution_count": 29,
     "metadata": {},
     "output_type": "execute_result"
    }
   ],
   "source": [
    "df.isnull()"
   ]
  },
  {
   "cell_type": "code",
   "execution_count": 30,
   "id": "dac8b0e5",
   "metadata": {
    "execution": {
     "iopub.execute_input": "2022-06-14T01:03:54.815970Z",
     "iopub.status.busy": "2022-06-14T01:03:54.815306Z",
     "iopub.status.idle": "2022-06-14T01:03:54.823085Z",
     "shell.execute_reply": "2022-06-14T01:03:54.823638Z",
     "shell.execute_reply.started": "2022-06-14T00:44:40.960257Z"
    },
    "id": "FjWNpnfbCMEI",
    "outputId": "7a0af440-9c2a-4b06-ec48-54536b281ad3",
    "papermill": {
     "duration": 0.175239,
     "end_time": "2022-06-14T01:03:54.823822",
     "exception": false,
     "start_time": "2022-06-14T01:03:54.648583",
     "status": "completed"
    },
    "tags": []
   },
   "outputs": [
    {
     "data": {
      "text/plain": [
       "Math         1\n",
       "English      0\n",
       "Chemistry    0\n",
       "dtype: int64"
      ]
     },
     "execution_count": 30,
     "metadata": {},
     "output_type": "execute_result"
    }
   ],
   "source": [
    "df.isnull().sum()"
   ]
  },
  {
   "cell_type": "code",
   "execution_count": 31,
   "id": "ed992035",
   "metadata": {
    "execution": {
     "iopub.execute_input": "2022-06-14T01:03:55.160010Z",
     "iopub.status.busy": "2022-06-14T01:03:55.159353Z",
     "iopub.status.idle": "2022-06-14T01:03:55.166298Z",
     "shell.execute_reply": "2022-06-14T01:03:55.166993Z",
     "shell.execute_reply.started": "2022-06-14T00:44:40.977459Z"
    },
    "id": "6XKULOIBCOz3",
    "outputId": "10acded1-c8f3-431e-af55-8a1af831c963",
    "papermill": {
     "duration": 0.17881,
     "end_time": "2022-06-14T01:03:55.167171",
     "exception": false,
     "start_time": "2022-06-14T01:03:54.988361",
     "status": "completed"
    },
    "tags": []
   },
   "outputs": [
    {
     "data": {
      "text/plain": [
       "1"
      ]
     },
     "execution_count": 31,
     "metadata": {},
     "output_type": "execute_result"
    }
   ],
   "source": [
    "df.isnull().sum().sum()"
   ]
  },
  {
   "cell_type": "code",
   "execution_count": 32,
   "id": "3d06da07",
   "metadata": {
    "execution": {
     "iopub.execute_input": "2022-06-14T01:03:55.507148Z",
     "iopub.status.busy": "2022-06-14T01:03:55.506501Z",
     "iopub.status.idle": "2022-06-14T01:03:55.513672Z",
     "shell.execute_reply": "2022-06-14T01:03:55.514131Z",
     "shell.execute_reply.started": "2022-06-14T00:44:40.992589Z"
    },
    "id": "BqVSm1LlDLst",
    "outputId": "0232e862-719c-4b79-bd79-5fb769efd311",
    "papermill": {
     "duration": 0.181506,
     "end_time": "2022-06-14T01:03:55.514336",
     "exception": false,
     "start_time": "2022-06-14T01:03:55.332830",
     "status": "completed"
    },
    "tags": []
   },
   "outputs": [
    {
     "data": {
      "text/plain": [
       "May      False\n",
       "John      True\n",
       "Tom      False\n",
       "Alice    False\n",
       "dtype: bool"
      ]
     },
     "execution_count": 32,
     "metadata": {},
     "output_type": "execute_result"
    }
   ],
   "source": [
    "df.isnull().any(axis=1)"
   ]
  },
  {
   "cell_type": "code",
   "execution_count": 33,
   "id": "5439eb2f",
   "metadata": {
    "execution": {
     "iopub.execute_input": "2022-06-14T01:03:55.863316Z",
     "iopub.status.busy": "2022-06-14T01:03:55.862483Z",
     "iopub.status.idle": "2022-06-14T01:03:55.866001Z",
     "shell.execute_reply": "2022-06-14T01:03:55.866495Z",
     "shell.execute_reply.started": "2022-06-14T00:44:41.006008Z"
    },
    "id": "Wpldsr5fFdbP",
    "outputId": "07ce4d9a-0deb-4d32-89af-2910bd3017c6",
    "papermill": {
     "duration": 0.185147,
     "end_time": "2022-06-14T01:03:55.866698",
     "exception": false,
     "start_time": "2022-06-14T01:03:55.681551",
     "status": "completed"
    },
    "tags": []
   },
   "outputs": [
    {
     "data": {
      "text/html": [
       "<div>\n",
       "<style scoped>\n",
       "    .dataframe tbody tr th:only-of-type {\n",
       "        vertical-align: middle;\n",
       "    }\n",
       "\n",
       "    .dataframe tbody tr th {\n",
       "        vertical-align: top;\n",
       "    }\n",
       "\n",
       "    .dataframe thead th {\n",
       "        text-align: right;\n",
       "    }\n",
       "</style>\n",
       "<table border=\"1\" class=\"dataframe\">\n",
       "  <thead>\n",
       "    <tr style=\"text-align: right;\">\n",
       "      <th></th>\n",
       "      <th>Math</th>\n",
       "      <th>English</th>\n",
       "      <th>Chemistry</th>\n",
       "    </tr>\n",
       "  </thead>\n",
       "  <tbody>\n",
       "    <tr>\n",
       "      <th>John</th>\n",
       "      <td>NaN</td>\n",
       "      <td>84</td>\n",
       "      <td>64</td>\n",
       "    </tr>\n",
       "  </tbody>\n",
       "</table>\n",
       "</div>"
      ],
      "text/plain": [
       "      Math  English  Chemistry\n",
       "John   NaN       84         64"
      ]
     },
     "execution_count": 33,
     "metadata": {},
     "output_type": "execute_result"
    }
   ],
   "source": [
    "df[df.isnull().any(axis=1)]\n"
   ]
  },
  {
   "cell_type": "code",
   "execution_count": 34,
   "id": "a8938d72",
   "metadata": {
    "execution": {
     "iopub.execute_input": "2022-06-14T01:03:56.207919Z",
     "iopub.status.busy": "2022-06-14T01:03:56.207200Z",
     "iopub.status.idle": "2022-06-14T01:03:56.211333Z",
     "shell.execute_reply": "2022-06-14T01:03:56.210688Z",
     "shell.execute_reply.started": "2022-06-14T00:44:41.020555Z"
    },
    "id": "UVbjjilZFkVW",
    "papermill": {
     "duration": 0.17652,
     "end_time": "2022-06-14T01:03:56.211521",
     "exception": false,
     "start_time": "2022-06-14T01:03:56.035001",
     "status": "completed"
    },
    "tags": []
   },
   "outputs": [
    {
     "data": {
      "text/plain": [
       "May       76\n",
       "John      84\n",
       "Tom       91\n",
       "Alice    100\n",
       "Name: English, dtype: int64"
      ]
     },
     "execution_count": 34,
     "metadata": {},
     "output_type": "execute_result"
    }
   ],
   "source": [
    "df.English"
   ]
  },
  {
   "cell_type": "code",
   "execution_count": 35,
   "id": "9521f43d",
   "metadata": {
    "execution": {
     "iopub.execute_input": "2022-06-14T01:03:56.642121Z",
     "iopub.status.busy": "2022-06-14T01:03:56.641460Z",
     "iopub.status.idle": "2022-06-14T01:03:56.652803Z",
     "shell.execute_reply": "2022-06-14T01:03:56.653384Z",
     "shell.execute_reply.started": "2022-06-14T00:44:41.034473Z"
    },
    "id": "vU3G9gsTFhm2",
    "outputId": "4d55f5f1-5a78-42c1-d55a-9a831b3b2bb1",
    "papermill": {
     "duration": 0.27288,
     "end_time": "2022-06-14T01:03:56.653602",
     "exception": false,
     "start_time": "2022-06-14T01:03:56.380722",
     "status": "completed"
    },
    "tags": []
   },
   "outputs": [
    {
     "data": {
      "text/html": [
       "<div>\n",
       "<style scoped>\n",
       "    .dataframe tbody tr th:only-of-type {\n",
       "        vertical-align: middle;\n",
       "    }\n",
       "\n",
       "    .dataframe tbody tr th {\n",
       "        vertical-align: top;\n",
       "    }\n",
       "\n",
       "    .dataframe thead th {\n",
       "        text-align: right;\n",
       "    }\n",
       "</style>\n",
       "<table border=\"1\" class=\"dataframe\">\n",
       "  <thead>\n",
       "    <tr style=\"text-align: right;\">\n",
       "      <th></th>\n",
       "      <th>English</th>\n",
       "      <th>Math</th>\n",
       "    </tr>\n",
       "  </thead>\n",
       "  <tbody>\n",
       "    <tr>\n",
       "      <th>May</th>\n",
       "      <td>76</td>\n",
       "      <td>8.0</td>\n",
       "    </tr>\n",
       "    <tr>\n",
       "      <th>John</th>\n",
       "      <td>84</td>\n",
       "      <td>NaN</td>\n",
       "    </tr>\n",
       "    <tr>\n",
       "      <th>Tom</th>\n",
       "      <td>91</td>\n",
       "      <td>77.0</td>\n",
       "    </tr>\n",
       "    <tr>\n",
       "      <th>Alice</th>\n",
       "      <td>100</td>\n",
       "      <td>100.0</td>\n",
       "    </tr>\n",
       "  </tbody>\n",
       "</table>\n",
       "</div>"
      ],
      "text/plain": [
       "       English   Math\n",
       "May         76    8.0\n",
       "John        84    NaN\n",
       "Tom         91   77.0\n",
       "Alice      100  100.0"
      ]
     },
     "execution_count": 35,
     "metadata": {},
     "output_type": "execute_result"
    }
   ],
   "source": [
    "df[['English','Math']]"
   ]
  },
  {
   "cell_type": "markdown",
   "id": "da1f5fef",
   "metadata": {
    "id": "Zgogz0J3CUax",
    "papermill": {
     "duration": 0.16746,
     "end_time": "2022-06-14T01:03:56.989205",
     "exception": false,
     "start_time": "2022-06-14T01:03:56.821745",
     "status": "completed"
    },
    "tags": []
   },
   "source": [
    "# 3/17"
   ]
  },
  {
   "cell_type": "code",
   "execution_count": 36,
   "id": "4b70c468",
   "metadata": {
    "execution": {
     "iopub.execute_input": "2022-06-14T01:03:57.329188Z",
     "iopub.status.busy": "2022-06-14T01:03:57.328494Z",
     "iopub.status.idle": "2022-06-14T01:03:57.338141Z",
     "shell.execute_reply": "2022-06-14T01:03:57.338732Z",
     "shell.execute_reply.started": "2022-06-14T00:44:41.051122Z"
    },
    "id": "hdY-VfH7R7es",
    "outputId": "9bcc5692-89d2-41c5-8346-9e7b70fb755c",
    "papermill": {
     "duration": 0.180337,
     "end_time": "2022-06-14T01:03:57.338946",
     "exception": false,
     "start_time": "2022-06-14T01:03:57.158609",
     "status": "completed"
    },
    "tags": []
   },
   "outputs": [
    {
     "data": {
      "text/html": [
       "<div>\n",
       "<style scoped>\n",
       "    .dataframe tbody tr th:only-of-type {\n",
       "        vertical-align: middle;\n",
       "    }\n",
       "\n",
       "    .dataframe tbody tr th {\n",
       "        vertical-align: top;\n",
       "    }\n",
       "\n",
       "    .dataframe thead th {\n",
       "        text-align: right;\n",
       "    }\n",
       "</style>\n",
       "<table border=\"1\" class=\"dataframe\">\n",
       "  <thead>\n",
       "    <tr style=\"text-align: right;\">\n",
       "      <th></th>\n",
       "      <th>Math</th>\n",
       "      <th>English</th>\n",
       "      <th>Chemistry</th>\n",
       "    </tr>\n",
       "  </thead>\n",
       "  <tbody>\n",
       "    <tr>\n",
       "      <th>May</th>\n",
       "      <td>8.0</td>\n",
       "      <td>76</td>\n",
       "      <td>71</td>\n",
       "    </tr>\n",
       "    <tr>\n",
       "      <th>John</th>\n",
       "      <td>NaN</td>\n",
       "      <td>84</td>\n",
       "      <td>64</td>\n",
       "    </tr>\n",
       "  </tbody>\n",
       "</table>\n",
       "</div>"
      ],
      "text/plain": [
       "      Math  English  Chemistry\n",
       "May    8.0       76         71\n",
       "John   NaN       84         64"
      ]
     },
     "execution_count": 36,
     "metadata": {},
     "output_type": "execute_result"
    }
   ],
   "source": [
    "df.iloc[:2]\n",
    "# 從頭"
   ]
  },
  {
   "cell_type": "code",
   "execution_count": 37,
   "id": "d49a7ed2",
   "metadata": {
    "execution": {
     "iopub.execute_input": "2022-06-14T01:03:57.688880Z",
     "iopub.status.busy": "2022-06-14T01:03:57.681740Z",
     "iopub.status.idle": "2022-06-14T01:03:57.691276Z",
     "shell.execute_reply": "2022-06-14T01:03:57.691796Z",
     "shell.execute_reply.started": "2022-06-14T00:44:41.067050Z"
    },
    "id": "uOxBJTWJU1lv",
    "papermill": {
     "duration": 0.183516,
     "end_time": "2022-06-14T01:03:57.692002",
     "exception": false,
     "start_time": "2022-06-14T01:03:57.508486",
     "status": "completed"
    },
    "tags": []
   },
   "outputs": [
    {
     "data": {
      "text/html": [
       "<div>\n",
       "<style scoped>\n",
       "    .dataframe tbody tr th:only-of-type {\n",
       "        vertical-align: middle;\n",
       "    }\n",
       "\n",
       "    .dataframe tbody tr th {\n",
       "        vertical-align: top;\n",
       "    }\n",
       "\n",
       "    .dataframe thead th {\n",
       "        text-align: right;\n",
       "    }\n",
       "</style>\n",
       "<table border=\"1\" class=\"dataframe\">\n",
       "  <thead>\n",
       "    <tr style=\"text-align: right;\">\n",
       "      <th></th>\n",
       "      <th>Math</th>\n",
       "      <th>English</th>\n",
       "      <th>Chemistry</th>\n",
       "    </tr>\n",
       "  </thead>\n",
       "  <tbody>\n",
       "    <tr>\n",
       "      <th>Tom</th>\n",
       "      <td>77.0</td>\n",
       "      <td>91</td>\n",
       "      <td>48</td>\n",
       "    </tr>\n",
       "    <tr>\n",
       "      <th>Alice</th>\n",
       "      <td>100.0</td>\n",
       "      <td>100</td>\n",
       "      <td>100</td>\n",
       "    </tr>\n",
       "  </tbody>\n",
       "</table>\n",
       "</div>"
      ],
      "text/plain": [
       "        Math  English  Chemistry\n",
       "Tom     77.0       91         48\n",
       "Alice  100.0      100        100"
      ]
     },
     "execution_count": 37,
     "metadata": {},
     "output_type": "execute_result"
    }
   ],
   "source": [
    "df.iloc[-2:]\n",
    "# 倒數"
   ]
  },
  {
   "cell_type": "code",
   "execution_count": 38,
   "id": "91acd561",
   "metadata": {
    "execution": {
     "iopub.execute_input": "2022-06-14T01:03:58.046150Z",
     "iopub.status.busy": "2022-06-14T01:03:58.045455Z",
     "iopub.status.idle": "2022-06-14T01:03:58.048237Z",
     "shell.execute_reply": "2022-06-14T01:03:58.048741Z",
     "shell.execute_reply.started": "2022-06-14T00:44:41.082544Z"
    },
    "id": "wmgeGxtiU7ot",
    "outputId": "1f5cb9f0-b81e-4166-8fe8-e7d4f282c34f",
    "papermill": {
     "duration": 0.186754,
     "end_time": "2022-06-14T01:03:58.048940",
     "exception": false,
     "start_time": "2022-06-14T01:03:57.862186",
     "status": "completed"
    },
    "tags": []
   },
   "outputs": [
    {
     "data": {
      "text/html": [
       "<div>\n",
       "<style scoped>\n",
       "    .dataframe tbody tr th:only-of-type {\n",
       "        vertical-align: middle;\n",
       "    }\n",
       "\n",
       "    .dataframe tbody tr th {\n",
       "        vertical-align: top;\n",
       "    }\n",
       "\n",
       "    .dataframe thead th {\n",
       "        text-align: right;\n",
       "    }\n",
       "</style>\n",
       "<table border=\"1\" class=\"dataframe\">\n",
       "  <thead>\n",
       "    <tr style=\"text-align: right;\">\n",
       "      <th></th>\n",
       "      <th>Math</th>\n",
       "      <th>English</th>\n",
       "      <th>Chemistry</th>\n",
       "    </tr>\n",
       "  </thead>\n",
       "  <tbody>\n",
       "    <tr>\n",
       "      <th>May</th>\n",
       "      <td>8.0</td>\n",
       "      <td>76</td>\n",
       "      <td>71</td>\n",
       "    </tr>\n",
       "    <tr>\n",
       "      <th>John</th>\n",
       "      <td>NaN</td>\n",
       "      <td>84</td>\n",
       "      <td>64</td>\n",
       "    </tr>\n",
       "  </tbody>\n",
       "</table>\n",
       "</div>"
      ],
      "text/plain": [
       "      Math  English  Chemistry\n",
       "May    8.0       76         71\n",
       "John   NaN       84         64"
      ]
     },
     "execution_count": 38,
     "metadata": {},
     "output_type": "execute_result"
    }
   ],
   "source": [
    "df.iloc[0:2]"
   ]
  },
  {
   "cell_type": "markdown",
   "id": "3aca0307",
   "metadata": {
    "id": "OGlCMGwNCVOY",
    "papermill": {
     "duration": 0.171534,
     "end_time": "2022-06-14T01:03:58.396629",
     "exception": false,
     "start_time": "2022-06-14T01:03:58.225095",
     "status": "completed"
    },
    "tags": []
   },
   "source": [
    "# 3/22"
   ]
  },
  {
   "cell_type": "code",
   "execution_count": 39,
   "id": "9227686b",
   "metadata": {
    "execution": {
     "iopub.execute_input": "2022-06-14T01:03:58.740538Z",
     "iopub.status.busy": "2022-06-14T01:03:58.739905Z",
     "iopub.status.idle": "2022-06-14T01:03:58.752013Z",
     "shell.execute_reply": "2022-06-14T01:03:58.752614Z",
     "shell.execute_reply.started": "2022-06-14T00:44:41.094469Z"
    },
    "id": "Tpkc4gD_CDKm",
    "outputId": "b1749f60-d7ec-40f4-91fb-daca8f8c51c6",
    "papermill": {
     "duration": 0.183189,
     "end_time": "2022-06-14T01:03:58.752787",
     "exception": false,
     "start_time": "2022-06-14T01:03:58.569598",
     "status": "completed"
    },
    "tags": []
   },
   "outputs": [
    {
     "data": {
      "text/html": [
       "<div>\n",
       "<style scoped>\n",
       "    .dataframe tbody tr th:only-of-type {\n",
       "        vertical-align: middle;\n",
       "    }\n",
       "\n",
       "    .dataframe tbody tr th {\n",
       "        vertical-align: top;\n",
       "    }\n",
       "\n",
       "    .dataframe thead th {\n",
       "        text-align: right;\n",
       "    }\n",
       "</style>\n",
       "<table border=\"1\" class=\"dataframe\">\n",
       "  <thead>\n",
       "    <tr style=\"text-align: right;\">\n",
       "      <th></th>\n",
       "      <th>Math</th>\n",
       "      <th>English</th>\n",
       "      <th>History</th>\n",
       "    </tr>\n",
       "  </thead>\n",
       "  <tbody>\n",
       "    <tr>\n",
       "      <th>Simon</th>\n",
       "      <td>80</td>\n",
       "      <td>24</td>\n",
       "      <td>33.0</td>\n",
       "    </tr>\n",
       "    <tr>\n",
       "      <th>Alex</th>\n",
       "      <td>70</td>\n",
       "      <td>88</td>\n",
       "      <td>NaN</td>\n",
       "    </tr>\n",
       "    <tr>\n",
       "      <th>May</th>\n",
       "      <td>50</td>\n",
       "      <td>54</td>\n",
       "      <td>NaN</td>\n",
       "    </tr>\n",
       "    <tr>\n",
       "      <th>Ken</th>\n",
       "      <td>45</td>\n",
       "      <td>80</td>\n",
       "      <td>100.0</td>\n",
       "    </tr>\n",
       "  </tbody>\n",
       "</table>\n",
       "</div>"
      ],
      "text/plain": [
       "       Math  English  History\n",
       "Simon    80       24     33.0\n",
       "Alex     70       88      NaN\n",
       "May      50       54      NaN\n",
       "Ken      45       80    100.0"
      ]
     },
     "execution_count": 39,
     "metadata": {},
     "output_type": "execute_result"
    }
   ],
   "source": [
    "import numpy as np\n",
    "import pandas as pd\n",
    "scores = {'Math':[80,70,50,45],'English':[24,88,54,80],'History':[33,np.nan,np.nan,100]}\n",
    "df = pd.DataFrame(scores,index=['Simon','Alex','May','Ken'])\n",
    "df"
   ]
  },
  {
   "cell_type": "code",
   "execution_count": 40,
   "id": "73786959",
   "metadata": {
    "execution": {
     "iopub.execute_input": "2022-06-14T01:03:59.101358Z",
     "iopub.status.busy": "2022-06-14T01:03:59.100681Z",
     "iopub.status.idle": "2022-06-14T01:03:59.110087Z",
     "shell.execute_reply": "2022-06-14T01:03:59.110712Z",
     "shell.execute_reply.started": "2022-06-14T00:44:41.111323Z"
    },
    "id": "Wi-0YsuXCaiU",
    "outputId": "d46b71f1-fd4d-41a4-d45e-65b71aa93236",
    "papermill": {
     "duration": 0.189051,
     "end_time": "2022-06-14T01:03:59.110883",
     "exception": false,
     "start_time": "2022-06-14T01:03:58.921832",
     "status": "completed"
    },
    "tags": []
   },
   "outputs": [
    {
     "data": {
      "text/html": [
       "<div>\n",
       "<style scoped>\n",
       "    .dataframe tbody tr th:only-of-type {\n",
       "        vertical-align: middle;\n",
       "    }\n",
       "\n",
       "    .dataframe tbody tr th {\n",
       "        vertical-align: top;\n",
       "    }\n",
       "\n",
       "    .dataframe thead th {\n",
       "        text-align: right;\n",
       "    }\n",
       "</style>\n",
       "<table border=\"1\" class=\"dataframe\">\n",
       "  <thead>\n",
       "    <tr style=\"text-align: right;\">\n",
       "      <th></th>\n",
       "      <th>Math</th>\n",
       "      <th>English</th>\n",
       "      <th>History</th>\n",
       "    </tr>\n",
       "  </thead>\n",
       "  <tbody>\n",
       "    <tr>\n",
       "      <th>Simon</th>\n",
       "      <td>80</td>\n",
       "      <td>24</td>\n",
       "      <td>33.0</td>\n",
       "    </tr>\n",
       "    <tr>\n",
       "      <th>Alex</th>\n",
       "      <td>70</td>\n",
       "      <td>88</td>\n",
       "      <td>NaN</td>\n",
       "    </tr>\n",
       "  </tbody>\n",
       "</table>\n",
       "</div>"
      ],
      "text/plain": [
       "       Math  English  History\n",
       "Simon    80       24     33.0\n",
       "Alex     70       88      NaN"
      ]
     },
     "execution_count": 40,
     "metadata": {},
     "output_type": "execute_result"
    }
   ],
   "source": [
    "bool_v = [True, True, False, False]\n",
    "df[bool_v]"
   ]
  },
  {
   "cell_type": "code",
   "execution_count": 41,
   "id": "5f276287",
   "metadata": {
    "execution": {
     "iopub.execute_input": "2022-06-14T01:03:59.460638Z",
     "iopub.status.busy": "2022-06-14T01:03:59.459998Z",
     "iopub.status.idle": "2022-06-14T01:03:59.462429Z",
     "shell.execute_reply": "2022-06-14T01:03:59.462969Z",
     "shell.execute_reply.started": "2022-06-14T00:44:41.127834Z"
    },
    "id": "q2DT_tn4CpUU",
    "outputId": "294d0afe-aabc-43c5-bf7b-c562d4f7a5ce",
    "papermill": {
     "duration": 0.181339,
     "end_time": "2022-06-14T01:03:59.463130",
     "exception": false,
     "start_time": "2022-06-14T01:03:59.281791",
     "status": "completed"
    },
    "tags": []
   },
   "outputs": [
    {
     "data": {
      "text/plain": [
       "Simon     True\n",
       "Alex      True\n",
       "May      False\n",
       "Ken      False\n",
       "Name: Math, dtype: bool"
      ]
     },
     "execution_count": 41,
     "metadata": {},
     "output_type": "execute_result"
    }
   ],
   "source": [
    "bool_v = df['Math'] > 65\n",
    "bool_v"
   ]
  },
  {
   "cell_type": "code",
   "execution_count": 42,
   "id": "670b621a",
   "metadata": {
    "execution": {
     "iopub.execute_input": "2022-06-14T01:03:59.812814Z",
     "iopub.status.busy": "2022-06-14T01:03:59.812151Z",
     "iopub.status.idle": "2022-06-14T01:03:59.814818Z",
     "shell.execute_reply": "2022-06-14T01:03:59.815414Z",
     "shell.execute_reply.started": "2022-06-14T00:44:41.137380Z"
    },
    "id": "I-N6nbFvCvc0",
    "outputId": "b3f9b77c-a0e4-472b-c1b7-bb782e058f10",
    "papermill": {
     "duration": 0.184175,
     "end_time": "2022-06-14T01:03:59.815601",
     "exception": false,
     "start_time": "2022-06-14T01:03:59.631426",
     "status": "completed"
    },
    "tags": []
   },
   "outputs": [
    {
     "data": {
      "text/html": [
       "<div>\n",
       "<style scoped>\n",
       "    .dataframe tbody tr th:only-of-type {\n",
       "        vertical-align: middle;\n",
       "    }\n",
       "\n",
       "    .dataframe tbody tr th {\n",
       "        vertical-align: top;\n",
       "    }\n",
       "\n",
       "    .dataframe thead th {\n",
       "        text-align: right;\n",
       "    }\n",
       "</style>\n",
       "<table border=\"1\" class=\"dataframe\">\n",
       "  <thead>\n",
       "    <tr style=\"text-align: right;\">\n",
       "      <th></th>\n",
       "      <th>Math</th>\n",
       "      <th>English</th>\n",
       "      <th>History</th>\n",
       "    </tr>\n",
       "  </thead>\n",
       "  <tbody>\n",
       "    <tr>\n",
       "      <th>Simon</th>\n",
       "      <td>80</td>\n",
       "      <td>24</td>\n",
       "      <td>33.0</td>\n",
       "    </tr>\n",
       "    <tr>\n",
       "      <th>Alex</th>\n",
       "      <td>70</td>\n",
       "      <td>88</td>\n",
       "      <td>NaN</td>\n",
       "    </tr>\n",
       "  </tbody>\n",
       "</table>\n",
       "</div>"
      ],
      "text/plain": [
       "       Math  English  History\n",
       "Simon    80       24     33.0\n",
       "Alex     70       88      NaN"
      ]
     },
     "execution_count": 42,
     "metadata": {},
     "output_type": "execute_result"
    }
   ],
   "source": [
    "df[df['Math']>65]"
   ]
  },
  {
   "cell_type": "code",
   "execution_count": 43,
   "id": "2d12dc5b",
   "metadata": {
    "execution": {
     "iopub.execute_input": "2022-06-14T01:04:00.168783Z",
     "iopub.status.busy": "2022-06-14T01:04:00.168013Z",
     "iopub.status.idle": "2022-06-14T01:04:00.180053Z",
     "shell.execute_reply": "2022-06-14T01:04:00.180584Z",
     "shell.execute_reply.started": "2022-06-14T00:44:41.153260Z"
    },
    "id": "WH-nzaDIF4ge",
    "outputId": "6460d5b2-283a-43d6-ce41-12dd723e9dd6",
    "papermill": {
     "duration": 0.192931,
     "end_time": "2022-06-14T01:04:00.180769",
     "exception": false,
     "start_time": "2022-06-14T01:03:59.987838",
     "status": "completed"
    },
    "tags": []
   },
   "outputs": [
    {
     "data": {
      "text/html": [
       "<div>\n",
       "<style scoped>\n",
       "    .dataframe tbody tr th:only-of-type {\n",
       "        vertical-align: middle;\n",
       "    }\n",
       "\n",
       "    .dataframe tbody tr th {\n",
       "        vertical-align: top;\n",
       "    }\n",
       "\n",
       "    .dataframe thead th {\n",
       "        text-align: right;\n",
       "    }\n",
       "</style>\n",
       "<table border=\"1\" class=\"dataframe\">\n",
       "  <thead>\n",
       "    <tr style=\"text-align: right;\">\n",
       "      <th></th>\n",
       "      <th>Math</th>\n",
       "      <th>English</th>\n",
       "      <th>History</th>\n",
       "    </tr>\n",
       "  </thead>\n",
       "  <tbody>\n",
       "    <tr>\n",
       "      <th>Alex</th>\n",
       "      <td>70</td>\n",
       "      <td>88</td>\n",
       "      <td>NaN</td>\n",
       "    </tr>\n",
       "  </tbody>\n",
       "</table>\n",
       "</div>"
      ],
      "text/plain": [
       "      Math  English  History\n",
       "Alex    70       88      NaN"
      ]
     },
     "execution_count": 43,
     "metadata": {},
     "output_type": "execute_result"
    }
   ],
   "source": [
    "df[df['Math'].apply(lambda x:True if x>65 and x<75 else False)]"
   ]
  },
  {
   "cell_type": "code",
   "execution_count": 44,
   "id": "9adf6300",
   "metadata": {
    "execution": {
     "iopub.execute_input": "2022-06-14T01:04:00.530190Z",
     "iopub.status.busy": "2022-06-14T01:04:00.529504Z",
     "iopub.status.idle": "2022-06-14T01:04:00.536306Z",
     "shell.execute_reply": "2022-06-14T01:04:00.536881Z",
     "shell.execute_reply.started": "2022-06-14T00:44:41.171206Z"
    },
    "id": "LcxLhSdAF_2D",
    "outputId": "ef140e16-ae2f-4bd0-988b-0f1b08701f40",
    "papermill": {
     "duration": 0.183879,
     "end_time": "2022-06-14T01:04:00.537078",
     "exception": false,
     "start_time": "2022-06-14T01:04:00.353199",
     "status": "completed"
    },
    "tags": []
   },
   "outputs": [
    {
     "data": {
      "text/plain": [
       "0    1\n",
       "1    2\n",
       "2    3\n",
       "3    4\n",
       "4    5\n",
       "dtype: int64"
      ]
     },
     "execution_count": 44,
     "metadata": {},
     "output_type": "execute_result"
    }
   ],
   "source": [
    "se = pd.Series([1,2,3,4,5])\n",
    "se"
   ]
  },
  {
   "cell_type": "code",
   "execution_count": 45,
   "id": "2d2aee2a",
   "metadata": {
    "execution": {
     "iopub.execute_input": "2022-06-14T01:04:00.888901Z",
     "iopub.status.busy": "2022-06-14T01:04:00.888072Z",
     "iopub.status.idle": "2022-06-14T01:04:00.895220Z",
     "shell.execute_reply": "2022-06-14T01:04:00.895825Z",
     "shell.execute_reply.started": "2022-06-14T00:44:41.184766Z"
    },
    "id": "Ze7OCYGvGEDz",
    "outputId": "0df06c66-7d87-4195-e6ea-18ab34eea89a",
    "papermill": {
     "duration": 0.182439,
     "end_time": "2022-06-14T01:04:00.896029",
     "exception": false,
     "start_time": "2022-06-14T01:04:00.713590",
     "status": "completed"
    },
    "tags": []
   },
   "outputs": [
    {
     "data": {
      "text/plain": [
       "0    2\n",
       "1    1\n",
       "2    4\n",
       "3    3\n",
       "4    6\n",
       "dtype: int64"
      ]
     },
     "execution_count": 45,
     "metadata": {},
     "output_type": "execute_result"
    }
   ],
   "source": [
    "se.apply(lambda x:x+1 if (x%2)==1 else x-1)"
   ]
  },
  {
   "cell_type": "code",
   "execution_count": 46,
   "id": "5b7ecedf",
   "metadata": {
    "execution": {
     "iopub.execute_input": "2022-06-14T01:04:01.254539Z",
     "iopub.status.busy": "2022-06-14T01:04:01.253857Z",
     "iopub.status.idle": "2022-06-14T01:04:01.256674Z",
     "shell.execute_reply": "2022-06-14T01:04:01.257154Z",
     "shell.execute_reply.started": "2022-06-14T00:44:41.200528Z"
    },
    "id": "eTpOm4ALGNXz",
    "outputId": "e79572e9-c266-4845-b28c-bc3fc011ad83",
    "papermill": {
     "duration": 0.184083,
     "end_time": "2022-06-14T01:04:01.257345",
     "exception": false,
     "start_time": "2022-06-14T01:04:01.073262",
     "status": "completed"
    },
    "tags": []
   },
   "outputs": [
    {
     "data": {
      "text/plain": [
       "Math        80.0\n",
       "English     88.0\n",
       "History    100.0\n",
       "dtype: float64"
      ]
     },
     "execution_count": 46,
     "metadata": {},
     "output_type": "execute_result"
    }
   ],
   "source": [
    "df.apply(max)"
   ]
  },
  {
   "cell_type": "code",
   "execution_count": 47,
   "id": "31583dcc",
   "metadata": {
    "execution": {
     "iopub.execute_input": "2022-06-14T01:04:01.616796Z",
     "iopub.status.busy": "2022-06-14T01:04:01.616070Z",
     "iopub.status.idle": "2022-06-14T01:04:01.623749Z",
     "shell.execute_reply": "2022-06-14T01:04:01.624247Z",
     "shell.execute_reply.started": "2022-06-14T00:44:41.214742Z"
    },
    "id": "UlSUtilkGQcT",
    "outputId": "7dfecda9-783e-4d33-b691-3bdea6ecb4fb",
    "papermill": {
     "duration": 0.185754,
     "end_time": "2022-06-14T01:04:01.624435",
     "exception": false,
     "start_time": "2022-06-14T01:04:01.438681",
     "status": "completed"
    },
    "tags": []
   },
   "outputs": [
    {
     "data": {
      "text/plain": [
       "Simon     80.0\n",
       "Alex      88.0\n",
       "May       54.0\n",
       "Ken      100.0\n",
       "dtype: float64"
      ]
     },
     "execution_count": 47,
     "metadata": {},
     "output_type": "execute_result"
    }
   ],
   "source": [
    "df.apply(max, axis=1)"
   ]
  },
  {
   "cell_type": "code",
   "execution_count": 48,
   "id": "5cd12eda",
   "metadata": {
    "execution": {
     "iopub.execute_input": "2022-06-14T01:04:01.976192Z",
     "iopub.status.busy": "2022-06-14T01:04:01.975471Z",
     "iopub.status.idle": "2022-06-14T01:04:01.987079Z",
     "shell.execute_reply": "2022-06-14T01:04:01.987647Z",
     "shell.execute_reply.started": "2022-06-14T00:44:41.228774Z"
    },
    "id": "rRTJV69vGSfD",
    "outputId": "df1f2fce-1ac4-44b1-b42d-cb441798371e",
    "papermill": {
     "duration": 0.189587,
     "end_time": "2022-06-14T01:04:01.987826",
     "exception": false,
     "start_time": "2022-06-14T01:04:01.798239",
     "status": "completed"
    },
    "tags": []
   },
   "outputs": [
    {
     "data": {
      "text/html": [
       "<div>\n",
       "<style scoped>\n",
       "    .dataframe tbody tr th:only-of-type {\n",
       "        vertical-align: middle;\n",
       "    }\n",
       "\n",
       "    .dataframe tbody tr th {\n",
       "        vertical-align: top;\n",
       "    }\n",
       "\n",
       "    .dataframe thead th {\n",
       "        text-align: right;\n",
       "    }\n",
       "</style>\n",
       "<table border=\"1\" class=\"dataframe\">\n",
       "  <thead>\n",
       "    <tr style=\"text-align: right;\">\n",
       "      <th></th>\n",
       "      <th>Math</th>\n",
       "      <th>English</th>\n",
       "      <th>History</th>\n",
       "    </tr>\n",
       "  </thead>\n",
       "  <tbody>\n",
       "    <tr>\n",
       "      <th>Simon</th>\n",
       "      <td>89.442719</td>\n",
       "      <td>48.989795</td>\n",
       "      <td>57.445626</td>\n",
       "    </tr>\n",
       "    <tr>\n",
       "      <th>Alex</th>\n",
       "      <td>83.666003</td>\n",
       "      <td>93.808315</td>\n",
       "      <td>NaN</td>\n",
       "    </tr>\n",
       "    <tr>\n",
       "      <th>May</th>\n",
       "      <td>70.710678</td>\n",
       "      <td>73.484692</td>\n",
       "      <td>NaN</td>\n",
       "    </tr>\n",
       "    <tr>\n",
       "      <th>Ken</th>\n",
       "      <td>67.082039</td>\n",
       "      <td>89.442719</td>\n",
       "      <td>100.000000</td>\n",
       "    </tr>\n",
       "  </tbody>\n",
       "</table>\n",
       "</div>"
      ],
      "text/plain": [
       "            Math    English     History\n",
       "Simon  89.442719  48.989795   57.445626\n",
       "Alex   83.666003  93.808315         NaN\n",
       "May    70.710678  73.484692         NaN\n",
       "Ken    67.082039  89.442719  100.000000"
      ]
     },
     "execution_count": 48,
     "metadata": {},
     "output_type": "execute_result"
    }
   ],
   "source": [
    "df.applymap(lambda x:x**0.5*10)"
   ]
  },
  {
   "cell_type": "code",
   "execution_count": null,
   "id": "7efb6638",
   "metadata": {
    "id": "iiDP6bnKIWSb",
    "papermill": {
     "duration": 0.170618,
     "end_time": "2022-06-14T01:04:02.334902",
     "exception": false,
     "start_time": "2022-06-14T01:04:02.164284",
     "status": "completed"
    },
    "tags": []
   },
   "outputs": [],
   "source": []
  },
  {
   "cell_type": "markdown",
   "id": "e230e735",
   "metadata": {
    "id": "ddzrnlVTCVhA",
    "papermill": {
     "duration": 0.172545,
     "end_time": "2022-06-14T01:04:02.681394",
     "exception": false,
     "start_time": "2022-06-14T01:04:02.508849",
     "status": "completed"
    },
    "tags": []
   },
   "source": [
    "# 3/24"
   ]
  },
  {
   "cell_type": "code",
   "execution_count": 49,
   "id": "a3d67ef8",
   "metadata": {
    "execution": {
     "iopub.execute_input": "2022-06-14T01:04:03.038039Z",
     "iopub.status.busy": "2022-06-14T01:04:03.037225Z",
     "iopub.status.idle": "2022-06-14T01:04:03.134973Z",
     "shell.execute_reply": "2022-06-14T01:04:03.133975Z",
     "shell.execute_reply.started": "2022-06-14T00:44:41.248802Z"
    },
    "id": "E0nin15Wn7rp",
    "outputId": "b32a5d53-0d79-47ee-c91f-76acbc752ce4",
    "papermill": {
     "duration": 0.28266,
     "end_time": "2022-06-14T01:04:03.135181",
     "exception": false,
     "start_time": "2022-06-14T01:04:02.852521",
     "status": "completed"
    },
    "tags": []
   },
   "outputs": [
    {
     "data": {
      "text/html": [
       "<style type=\"text/css\">\n",
       "#T_81b17_row0_col3, #T_81b17_row1_col2, #T_81b17_row2_col0, #T_81b17_row2_col3, #T_81b17_row3_col1, #T_81b17_row4_col1 {\n",
       "  background-color: yellow;\n",
       "}\n",
       "</style>\n",
       "<table id=\"T_81b17_\">\n",
       "  <thead>\n",
       "    <tr>\n",
       "      <th class=\"blank level0\" >&nbsp;</th>\n",
       "      <th class=\"col_heading level0 col0\" >size</th>\n",
       "      <th class=\"col_heading level0 col1\" >color</th>\n",
       "      <th class=\"col_heading level0 col2\" >price</th>\n",
       "      <th class=\"col_heading level0 col3\" >quantity</th>\n",
       "    </tr>\n",
       "  </thead>\n",
       "  <tbody>\n",
       "    <tr>\n",
       "      <th id=\"T_81b17_level0_row0\" class=\"row_heading level0 row0\" >0</th>\n",
       "      <td id=\"T_81b17_row0_col0\" class=\"data row0 col0\" >M</td>\n",
       "      <td id=\"T_81b17_row0_col1\" class=\"data row0 col1\" >green</td>\n",
       "      <td id=\"T_81b17_row0_col2\" class=\"data row0 col2\" >200.000000</td>\n",
       "      <td id=\"T_81b17_row0_col3\" class=\"data row0 col3\" >nan</td>\n",
       "    </tr>\n",
       "    <tr>\n",
       "      <th id=\"T_81b17_level0_row1\" class=\"row_heading level0 row1\" >1</th>\n",
       "      <td id=\"T_81b17_row1_col0\" class=\"data row1 col0\" >S</td>\n",
       "      <td id=\"T_81b17_row1_col1\" class=\"data row1 col1\" >blue</td>\n",
       "      <td id=\"T_81b17_row1_col2\" class=\"data row1 col2\" >nan</td>\n",
       "      <td id=\"T_81b17_row1_col3\" class=\"data row1 col3\" >35000.000000</td>\n",
       "    </tr>\n",
       "    <tr>\n",
       "      <th id=\"T_81b17_level0_row2\" class=\"row_heading level0 row2\" >2</th>\n",
       "      <td id=\"T_81b17_row2_col0\" class=\"data row2 col0\" >nan</td>\n",
       "      <td id=\"T_81b17_row2_col1\" class=\"data row2 col1\" >blue</td>\n",
       "      <td id=\"T_81b17_row2_col2\" class=\"data row2 col2\" >200.000000</td>\n",
       "      <td id=\"T_81b17_row2_col3\" class=\"data row2 col3\" >nan</td>\n",
       "    </tr>\n",
       "    <tr>\n",
       "      <th id=\"T_81b17_level0_row3\" class=\"row_heading level0 row3\" >3</th>\n",
       "      <td id=\"T_81b17_row3_col0\" class=\"data row3 col0\" >M</td>\n",
       "      <td id=\"T_81b17_row3_col1\" class=\"data row3 col1\" >nan</td>\n",
       "      <td id=\"T_81b17_row3_col2\" class=\"data row3 col2\" >300.000000</td>\n",
       "      <td id=\"T_81b17_row3_col3\" class=\"data row3 col3\" >20000.000000</td>\n",
       "    </tr>\n",
       "    <tr>\n",
       "      <th id=\"T_81b17_level0_row4\" class=\"row_heading level0 row4\" >4</th>\n",
       "      <td id=\"T_81b17_row4_col0\" class=\"data row4 col0\" >XL</td>\n",
       "      <td id=\"T_81b17_row4_col1\" class=\"data row4 col1\" >nan</td>\n",
       "      <td id=\"T_81b17_row4_col2\" class=\"data row4 col2\" >300.000000</td>\n",
       "      <td id=\"T_81b17_row4_col3\" class=\"data row4 col3\" >10000.000000</td>\n",
       "    </tr>\n",
       "  </tbody>\n",
       "</table>\n"
      ],
      "text/plain": [
       "<pandas.io.formats.style.Styler at 0x7fa8a1444f50>"
      ]
     },
     "execution_count": 49,
     "metadata": {},
     "output_type": "execute_result"
    }
   ],
   "source": [
    "#本車測試資料\n",
    "\n",
    "import pandas as pd\n",
    "import numpy as np\n",
    "\n",
    "data= {'size': ['M','S', np.nan,'M', 'XL'],'color':['green','blue','blue',np.nan, np.nan], 'price': [200,np.nan, 200, 300, 300],'quantity': [np.nan, 35000, np.nan, 20000, 10000]}\n",
    "X = pd.DataFrame(data)\n",
    "X_orig= X.copy()\n",
    "X.style.highlight_null(null_color='yellow')"
   ]
  },
  {
   "cell_type": "markdown",
   "id": "2dadfedd",
   "metadata": {
    "id": "IRWbXpZkDyqT",
    "papermill": {
     "duration": 0.173839,
     "end_time": "2022-06-14T01:04:03.484128",
     "exception": false,
     "start_time": "2022-06-14T01:04:03.310289",
     "status": "completed"
    },
    "tags": []
   },
   "source": [
    "# 3/29"
   ]
  },
  {
   "cell_type": "code",
   "execution_count": 50,
   "id": "ccb6bb58",
   "metadata": {
    "execution": {
     "iopub.execute_input": "2022-06-14T01:04:03.841396Z",
     "iopub.status.busy": "2022-06-14T01:04:03.832540Z",
     "iopub.status.idle": "2022-06-14T01:04:03.845565Z",
     "shell.execute_reply": "2022-06-14T01:04:03.846088Z",
     "shell.execute_reply.started": "2022-06-14T00:44:41.272378Z"
    },
    "id": "wVWtuJ3xDy6l",
    "outputId": "ef57c598-bb3c-4f03-b015-1ae131e6bb67",
    "papermill": {
     "duration": 0.189482,
     "end_time": "2022-06-14T01:04:03.846254",
     "exception": false,
     "start_time": "2022-06-14T01:04:03.656772",
     "status": "completed"
    },
    "tags": []
   },
   "outputs": [
    {
     "data": {
      "text/html": [
       "<style type=\"text/css\">\n",
       "#T_b344c_row0_col1, #T_b344c_row1_col0, #T_b344c_row2_col1 {\n",
       "  background-color: yellow;\n",
       "}\n",
       "</style>\n",
       "<table id=\"T_b344c_\">\n",
       "  <thead>\n",
       "    <tr>\n",
       "      <th class=\"blank level0\" >&nbsp;</th>\n",
       "      <th class=\"col_heading level0 col0\" >price</th>\n",
       "      <th class=\"col_heading level0 col1\" >quantity</th>\n",
       "    </tr>\n",
       "  </thead>\n",
       "  <tbody>\n",
       "    <tr>\n",
       "      <th id=\"T_b344c_level0_row0\" class=\"row_heading level0 row0\" >0</th>\n",
       "      <td id=\"T_b344c_row0_col0\" class=\"data row0 col0\" >200.000000</td>\n",
       "      <td id=\"T_b344c_row0_col1\" class=\"data row0 col1\" >nan</td>\n",
       "    </tr>\n",
       "    <tr>\n",
       "      <th id=\"T_b344c_level0_row1\" class=\"row_heading level0 row1\" >1</th>\n",
       "      <td id=\"T_b344c_row1_col0\" class=\"data row1 col0\" >nan</td>\n",
       "      <td id=\"T_b344c_row1_col1\" class=\"data row1 col1\" >35000.000000</td>\n",
       "    </tr>\n",
       "    <tr>\n",
       "      <th id=\"T_b344c_level0_row2\" class=\"row_heading level0 row2\" >2</th>\n",
       "      <td id=\"T_b344c_row2_col0\" class=\"data row2 col0\" >200.000000</td>\n",
       "      <td id=\"T_b344c_row2_col1\" class=\"data row2 col1\" >nan</td>\n",
       "    </tr>\n",
       "    <tr>\n",
       "      <th id=\"T_b344c_level0_row3\" class=\"row_heading level0 row3\" >3</th>\n",
       "      <td id=\"T_b344c_row3_col0\" class=\"data row3 col0\" >300.000000</td>\n",
       "      <td id=\"T_b344c_row3_col1\" class=\"data row3 col1\" >20000.000000</td>\n",
       "    </tr>\n",
       "    <tr>\n",
       "      <th id=\"T_b344c_level0_row4\" class=\"row_heading level0 row4\" >4</th>\n",
       "      <td id=\"T_b344c_row4_col0\" class=\"data row4 col0\" >300.000000</td>\n",
       "      <td id=\"T_b344c_row4_col1\" class=\"data row4 col1\" >10000.000000</td>\n",
       "    </tr>\n",
       "  </tbody>\n",
       "</table>\n"
      ],
      "text/plain": [
       "<pandas.io.formats.style.Styler at 0x7fa8a1464050>"
      ]
     },
     "execution_count": 50,
     "metadata": {},
     "output_type": "execute_result"
    }
   ],
   "source": [
    "X_col_num = ['price','quantity']\n",
    "X_num = X[X_col_num]\n",
    "X_num.style.highlight_null(null_color='yellow')"
   ]
  },
  {
   "cell_type": "code",
   "execution_count": 51,
   "id": "8bfbcc3b",
   "metadata": {
    "execution": {
     "iopub.execute_input": "2022-06-14T01:04:04.203161Z",
     "iopub.status.busy": "2022-06-14T01:04:04.202540Z",
     "iopub.status.idle": "2022-06-14T01:04:05.599723Z",
     "shell.execute_reply": "2022-06-14T01:04:05.600195Z",
     "shell.execute_reply.started": "2022-06-14T00:44:41.285618Z"
    },
    "id": "ZiVfRhkwFgzm",
    "outputId": "559c23a9-b993-456d-cae9-a1a2d7d878ad",
    "papermill": {
     "duration": 1.57564,
     "end_time": "2022-06-14T01:04:05.600377",
     "exception": false,
     "start_time": "2022-06-14T01:04:04.024737",
     "status": "completed"
    },
    "tags": []
   },
   "outputs": [
    {
     "data": {
      "text/plain": [
       "array([[  200.        , 21666.66666667],\n",
       "       [  250.        , 35000.        ],\n",
       "       [  200.        , 21666.66666667],\n",
       "       [  300.        , 20000.        ],\n",
       "       [  300.        , 10000.        ]])"
      ]
     },
     "execution_count": 51,
     "metadata": {},
     "output_type": "execute_result"
    }
   ],
   "source": [
    "from sklearn.impute import SimpleImputer\n",
    "si = SimpleImputer(strategy='mean')\n",
    "X_num_impute = si.fit_transform(X_num)\n",
    "X_num_impute"
   ]
  },
  {
   "cell_type": "code",
   "execution_count": 52,
   "id": "2d0a5e0e",
   "metadata": {
    "execution": {
     "iopub.execute_input": "2022-06-14T01:04:05.960331Z",
     "iopub.status.busy": "2022-06-14T01:04:05.959633Z",
     "iopub.status.idle": "2022-06-14T01:04:05.964121Z",
     "shell.execute_reply": "2022-06-14T01:04:05.964668Z",
     "shell.execute_reply.started": "2022-06-14T00:44:41.297729Z"
    },
    "id": "1B5HuX9XItqy",
    "outputId": "ba0b4477-e132-4646-a371-eb28b7e145fd",
    "papermill": {
     "duration": 0.186142,
     "end_time": "2022-06-14T01:04:05.964886",
     "exception": false,
     "start_time": "2022-06-14T01:04:05.778744",
     "status": "completed"
    },
    "tags": []
   },
   "outputs": [
    {
     "data": {
      "text/plain": [
       "array([[-1.11803399,  0.        ],\n",
       "       [ 0.        ,  1.67541563],\n",
       "       [-1.11803399,  0.        ],\n",
       "       [ 1.11803399, -0.20942695],\n",
       "       [ 1.11803399, -1.46598868]])"
      ]
     },
     "execution_count": 52,
     "metadata": {},
     "output_type": "execute_result"
    }
   ],
   "source": [
    "from sklearn.preprocessing import StandardScaler, MinMaxScaler\n",
    "ss = StandardScaler()\n",
    "X_num_impute_ss = ss.fit_transform(X_num_impute)\n",
    "X_num_impute_ss"
   ]
  },
  {
   "cell_type": "code",
   "execution_count": 53,
   "id": "dd2fed0d",
   "metadata": {
    "execution": {
     "iopub.execute_input": "2022-06-14T01:04:06.322881Z",
     "iopub.status.busy": "2022-06-14T01:04:06.322178Z",
     "iopub.status.idle": "2022-06-14T01:04:06.335125Z",
     "shell.execute_reply": "2022-06-14T01:04:06.335680Z",
     "shell.execute_reply.started": "2022-06-14T00:44:41.310365Z"
    },
    "id": "UR9noEKII6s7",
    "outputId": "ff968fe1-eb65-41fa-efd3-74b97596c81a",
    "papermill": {
     "duration": 0.191075,
     "end_time": "2022-06-14T01:04:06.335880",
     "exception": false,
     "start_time": "2022-06-14T01:04:06.144805",
     "status": "completed"
    },
    "tags": []
   },
   "outputs": [
    {
     "data": {
      "text/plain": [
       "array([[-1.11803399,  0.        ],\n",
       "       [ 0.        ,  1.67541563],\n",
       "       [-1.11803399,  0.        ],\n",
       "       [ 1.11803399, -0.20942695],\n",
       "       [ 1.11803399, -1.46598868]])"
      ]
     },
     "execution_count": 53,
     "metadata": {},
     "output_type": "execute_result"
    }
   ],
   "source": [
    "from sklearn.pipeline import make_pipeline\n",
    "from sklearn.impute import SimpleImputer\n",
    "from sklearn.preprocessing import StandardScaler\n",
    "num_pl = make_pipeline(SimpleImputer(strategy='mean'),StandardScaler())\n",
    "num_pl.fit_transform(X_num)"
   ]
  },
  {
   "cell_type": "markdown",
   "id": "5bb1d80e",
   "metadata": {
    "id": "WDVRjHQuVZrg",
    "papermill": {
     "duration": 0.176318,
     "end_time": "2022-06-14T01:04:06.690547",
     "exception": false,
     "start_time": "2022-06-14T01:04:06.514229",
     "status": "completed"
    },
    "tags": []
   },
   "source": [
    "# 3/31"
   ]
  },
  {
   "cell_type": "code",
   "execution_count": 54,
   "id": "2d9939cb",
   "metadata": {
    "execution": {
     "iopub.execute_input": "2022-06-14T01:04:07.048931Z",
     "iopub.status.busy": "2022-06-14T01:04:07.048206Z",
     "iopub.status.idle": "2022-06-14T01:04:07.058882Z",
     "shell.execute_reply": "2022-06-14T01:04:07.059339Z",
     "shell.execute_reply.started": "2022-06-14T00:44:41.328993Z"
    },
    "id": "YvJZI9w7VcS_",
    "outputId": "1d4c7c9c-2c21-428b-e27b-9adb3f12defc",
    "papermill": {
     "duration": 0.193209,
     "end_time": "2022-06-14T01:04:07.059540",
     "exception": false,
     "start_time": "2022-06-14T01:04:06.866331",
     "status": "completed"
    },
    "tags": []
   },
   "outputs": [
    {
     "data": {
      "text/html": [
       "<style type=\"text/css\">\n",
       "#T_1c1a6_row2_col0, #T_1c1a6_row3_col1, #T_1c1a6_row4_col1 {\n",
       "  background-color: yellow;\n",
       "}\n",
       "</style>\n",
       "<table id=\"T_1c1a6_\">\n",
       "  <thead>\n",
       "    <tr>\n",
       "      <th class=\"blank level0\" >&nbsp;</th>\n",
       "      <th class=\"col_heading level0 col0\" >size</th>\n",
       "      <th class=\"col_heading level0 col1\" >color</th>\n",
       "    </tr>\n",
       "  </thead>\n",
       "  <tbody>\n",
       "    <tr>\n",
       "      <th id=\"T_1c1a6_level0_row0\" class=\"row_heading level0 row0\" >0</th>\n",
       "      <td id=\"T_1c1a6_row0_col0\" class=\"data row0 col0\" >M</td>\n",
       "      <td id=\"T_1c1a6_row0_col1\" class=\"data row0 col1\" >green</td>\n",
       "    </tr>\n",
       "    <tr>\n",
       "      <th id=\"T_1c1a6_level0_row1\" class=\"row_heading level0 row1\" >1</th>\n",
       "      <td id=\"T_1c1a6_row1_col0\" class=\"data row1 col0\" >S</td>\n",
       "      <td id=\"T_1c1a6_row1_col1\" class=\"data row1 col1\" >blue</td>\n",
       "    </tr>\n",
       "    <tr>\n",
       "      <th id=\"T_1c1a6_level0_row2\" class=\"row_heading level0 row2\" >2</th>\n",
       "      <td id=\"T_1c1a6_row2_col0\" class=\"data row2 col0\" >nan</td>\n",
       "      <td id=\"T_1c1a6_row2_col1\" class=\"data row2 col1\" >blue</td>\n",
       "    </tr>\n",
       "    <tr>\n",
       "      <th id=\"T_1c1a6_level0_row3\" class=\"row_heading level0 row3\" >3</th>\n",
       "      <td id=\"T_1c1a6_row3_col0\" class=\"data row3 col0\" >M</td>\n",
       "      <td id=\"T_1c1a6_row3_col1\" class=\"data row3 col1\" >nan</td>\n",
       "    </tr>\n",
       "    <tr>\n",
       "      <th id=\"T_1c1a6_level0_row4\" class=\"row_heading level0 row4\" >4</th>\n",
       "      <td id=\"T_1c1a6_row4_col0\" class=\"data row4 col0\" >XL</td>\n",
       "      <td id=\"T_1c1a6_row4_col1\" class=\"data row4 col1\" >nan</td>\n",
       "    </tr>\n",
       "  </tbody>\n",
       "</table>\n"
      ],
      "text/plain": [
       "<pandas.io.formats.style.Styler at 0x7fa8a143f090>"
      ]
     },
     "execution_count": 54,
     "metadata": {},
     "output_type": "execute_result"
    }
   ],
   "source": [
    "x_col_cat = ['size','color']\n",
    "x_cat = X[x_col_cat]\n",
    "x_cat.style.highlight_null(null_color='yellow')"
   ]
  },
  {
   "cell_type": "code",
   "execution_count": 55,
   "id": "509a1e9d",
   "metadata": {
    "execution": {
     "iopub.execute_input": "2022-06-14T01:04:07.413696Z",
     "iopub.status.busy": "2022-06-14T01:04:07.412965Z",
     "iopub.status.idle": "2022-06-14T01:04:07.422921Z",
     "shell.execute_reply": "2022-06-14T01:04:07.423415Z",
     "shell.execute_reply.started": "2022-06-14T00:44:41.343565Z"
    },
    "id": "O17oQAueVcPX",
    "outputId": "7c002054-834c-4ab7-bf99-c5ba15eb1026",
    "papermill": {
     "duration": 0.188317,
     "end_time": "2022-06-14T01:04:07.423601",
     "exception": false,
     "start_time": "2022-06-14T01:04:07.235284",
     "status": "completed"
    },
    "tags": []
   },
   "outputs": [
    {
     "data": {
      "text/plain": [
       "array([['M', 'green'],\n",
       "       ['S', 'blue'],\n",
       "       ['M', 'blue'],\n",
       "       ['M', 'blue'],\n",
       "       ['XL', 'blue']], dtype=object)"
      ]
     },
     "execution_count": 55,
     "metadata": {},
     "output_type": "execute_result"
    }
   ],
   "source": [
    "si = SimpleImputer(strategy=\"most_frequent\")\n",
    "x_cat_impute = si.fit_transform(x_cat)\n",
    "x_cat_impute"
   ]
  },
  {
   "cell_type": "code",
   "execution_count": 56,
   "id": "88f4eb93",
   "metadata": {
    "execution": {
     "iopub.execute_input": "2022-06-14T01:04:07.789918Z",
     "iopub.status.busy": "2022-06-14T01:04:07.789034Z",
     "iopub.status.idle": "2022-06-14T01:04:07.792292Z",
     "shell.execute_reply": "2022-06-14T01:04:07.792828Z",
     "shell.execute_reply.started": "2022-06-14T00:44:41.361243Z"
    },
    "id": "oO9eIkxkYdbo",
    "outputId": "31a20191-e737-4e62-e25f-24afc25999ff",
    "papermill": {
     "duration": 0.189619,
     "end_time": "2022-06-14T01:04:07.793005",
     "exception": false,
     "start_time": "2022-06-14T01:04:07.603386",
     "status": "completed"
    },
    "tags": []
   },
   "outputs": [
    {
     "data": {
      "text/plain": [
       "array([[1., 0., 0., 0., 1.],\n",
       "       [0., 1., 0., 1., 0.],\n",
       "       [1., 0., 0., 1., 0.],\n",
       "       [1., 0., 0., 1., 0.],\n",
       "       [0., 0., 1., 1., 0.]])"
      ]
     },
     "execution_count": 56,
     "metadata": {},
     "output_type": "execute_result"
    }
   ],
   "source": [
    "from sklearn.preprocessing import OneHotEncoder\n",
    "oh = OneHotEncoder(sparse = False)\n",
    "x_cat_impute_oh = oh.fit_transform(x_cat_impute)\n",
    "x_cat_impute_oh"
   ]
  },
  {
   "cell_type": "code",
   "execution_count": 57,
   "id": "6c389434",
   "metadata": {
    "execution": {
     "iopub.execute_input": "2022-06-14T01:04:08.156724Z",
     "iopub.status.busy": "2022-06-14T01:04:08.155861Z",
     "iopub.status.idle": "2022-06-14T01:04:08.159555Z",
     "shell.execute_reply": "2022-06-14T01:04:08.160051Z",
     "shell.execute_reply.started": "2022-06-14T00:44:41.373542Z"
    },
    "id": "RQvIHWWvYdYH",
    "outputId": "172db9e7-ad0f-4d03-ddc5-ac1a172117ff",
    "papermill": {
     "duration": 0.188936,
     "end_time": "2022-06-14T01:04:08.160216",
     "exception": false,
     "start_time": "2022-06-14T01:04:07.971280",
     "status": "completed"
    },
    "tags": []
   },
   "outputs": [
    {
     "data": {
      "text/plain": [
       "array(['x0_M', 'x0_S', 'x0_XL', 'x1_blue', 'x1_green'], dtype=object)"
      ]
     },
     "execution_count": 57,
     "metadata": {},
     "output_type": "execute_result"
    }
   ],
   "source": [
    "oh.get_feature_names_out()"
   ]
  },
  {
   "cell_type": "code",
   "execution_count": 58,
   "id": "2795bcc9",
   "metadata": {
    "execution": {
     "iopub.execute_input": "2022-06-14T01:04:08.522425Z",
     "iopub.status.busy": "2022-06-14T01:04:08.518191Z",
     "iopub.status.idle": "2022-06-14T01:04:08.526096Z",
     "shell.execute_reply": "2022-06-14T01:04:08.526611Z",
     "shell.execute_reply.started": "2022-06-14T00:44:41.384528Z"
    },
    "id": "Abn9oOwdYdUi",
    "outputId": "42c4056b-f15b-4890-c44b-68c76b2a1b31",
    "papermill": {
     "duration": 0.188725,
     "end_time": "2022-06-14T01:04:08.526807",
     "exception": false,
     "start_time": "2022-06-14T01:04:08.338082",
     "status": "completed"
    },
    "tags": []
   },
   "outputs": [
    {
     "data": {
      "text/plain": [
       "array(['size_M', 'size_S', 'size_XL', 'color_blue', 'color_green'],\n",
       "      dtype=object)"
      ]
     },
     "execution_count": 58,
     "metadata": {},
     "output_type": "execute_result"
    }
   ],
   "source": [
    "oh.get_feature_names_out(['size','color'])"
   ]
  },
  {
   "cell_type": "code",
   "execution_count": 59,
   "id": "ab8244a1",
   "metadata": {
    "execution": {
     "iopub.execute_input": "2022-06-14T01:04:08.886500Z",
     "iopub.status.busy": "2022-06-14T01:04:08.885486Z",
     "iopub.status.idle": "2022-06-14T01:04:08.900179Z",
     "shell.execute_reply": "2022-06-14T01:04:08.900808Z",
     "shell.execute_reply.started": "2022-06-14T00:44:41.397082Z"
    },
    "id": "WExliwTjYdPX",
    "outputId": "4af6d38f-cc87-4ea1-9a7c-c8b8e0144af3",
    "papermill": {
     "duration": 0.195621,
     "end_time": "2022-06-14T01:04:08.900978",
     "exception": false,
     "start_time": "2022-06-14T01:04:08.705357",
     "status": "completed"
    },
    "tags": []
   },
   "outputs": [
    {
     "data": {
      "text/html": [
       "<div>\n",
       "<style scoped>\n",
       "    .dataframe tbody tr th:only-of-type {\n",
       "        vertical-align: middle;\n",
       "    }\n",
       "\n",
       "    .dataframe tbody tr th {\n",
       "        vertical-align: top;\n",
       "    }\n",
       "\n",
       "    .dataframe thead th {\n",
       "        text-align: right;\n",
       "    }\n",
       "</style>\n",
       "<table border=\"1\" class=\"dataframe\">\n",
       "  <thead>\n",
       "    <tr style=\"text-align: right;\">\n",
       "      <th></th>\n",
       "      <th>size_M</th>\n",
       "      <th>size_S</th>\n",
       "      <th>size_XL</th>\n",
       "      <th>color_blue</th>\n",
       "      <th>color_green</th>\n",
       "    </tr>\n",
       "  </thead>\n",
       "  <tbody>\n",
       "    <tr>\n",
       "      <th>0</th>\n",
       "      <td>1.0</td>\n",
       "      <td>0.0</td>\n",
       "      <td>0.0</td>\n",
       "      <td>0.0</td>\n",
       "      <td>1.0</td>\n",
       "    </tr>\n",
       "    <tr>\n",
       "      <th>1</th>\n",
       "      <td>0.0</td>\n",
       "      <td>1.0</td>\n",
       "      <td>0.0</td>\n",
       "      <td>1.0</td>\n",
       "      <td>0.0</td>\n",
       "    </tr>\n",
       "    <tr>\n",
       "      <th>2</th>\n",
       "      <td>1.0</td>\n",
       "      <td>0.0</td>\n",
       "      <td>0.0</td>\n",
       "      <td>1.0</td>\n",
       "      <td>0.0</td>\n",
       "    </tr>\n",
       "    <tr>\n",
       "      <th>3</th>\n",
       "      <td>1.0</td>\n",
       "      <td>0.0</td>\n",
       "      <td>0.0</td>\n",
       "      <td>1.0</td>\n",
       "      <td>0.0</td>\n",
       "    </tr>\n",
       "    <tr>\n",
       "      <th>4</th>\n",
       "      <td>0.0</td>\n",
       "      <td>0.0</td>\n",
       "      <td>1.0</td>\n",
       "      <td>1.0</td>\n",
       "      <td>0.0</td>\n",
       "    </tr>\n",
       "  </tbody>\n",
       "</table>\n",
       "</div>"
      ],
      "text/plain": [
       "   size_M  size_S  size_XL  color_blue  color_green\n",
       "0     1.0     0.0      0.0         0.0          1.0\n",
       "1     0.0     1.0      0.0         1.0          0.0\n",
       "2     1.0     0.0      0.0         1.0          0.0\n",
       "3     1.0     0.0      0.0         1.0          0.0\n",
       "4     0.0     0.0      1.0         1.0          0.0"
      ]
     },
     "execution_count": 59,
     "metadata": {},
     "output_type": "execute_result"
    }
   ],
   "source": [
    "pd.DataFrame(x_cat_impute_oh, columns=oh.get_feature_names_out(['size','color']))"
   ]
  },
  {
   "cell_type": "code",
   "execution_count": 60,
   "id": "3566073b",
   "metadata": {
    "execution": {
     "iopub.execute_input": "2022-06-14T01:04:09.264269Z",
     "iopub.status.busy": "2022-06-14T01:04:09.263313Z",
     "iopub.status.idle": "2022-06-14T01:04:09.268560Z",
     "shell.execute_reply": "2022-06-14T01:04:09.269142Z",
     "shell.execute_reply.started": "2022-06-14T00:44:41.419492Z"
    },
    "papermill": {
     "duration": 0.186026,
     "end_time": "2022-06-14T01:04:09.269307",
     "exception": false,
     "start_time": "2022-06-14T01:04:09.083281",
     "status": "completed"
    },
    "tags": []
   },
   "outputs": [
    {
     "data": {
      "text/plain": [
       "'1.0.1'"
      ]
     },
     "execution_count": 60,
     "metadata": {},
     "output_type": "execute_result"
    }
   ],
   "source": [
    "import sklearn\n",
    "sklearn.__version__"
   ]
  },
  {
   "cell_type": "code",
   "execution_count": 61,
   "id": "11bf07d3",
   "metadata": {
    "execution": {
     "iopub.execute_input": "2022-06-14T01:04:09.628076Z",
     "iopub.status.busy": "2022-06-14T01:04:09.627120Z",
     "iopub.status.idle": "2022-06-14T01:04:09.638593Z",
     "shell.execute_reply": "2022-06-14T01:04:09.639128Z",
     "shell.execute_reply.started": "2022-06-14T00:44:41.429160Z"
    },
    "papermill": {
     "duration": 0.193188,
     "end_time": "2022-06-14T01:04:09.639295",
     "exception": false,
     "start_time": "2022-06-14T01:04:09.446107",
     "status": "completed"
    },
    "tags": []
   },
   "outputs": [
    {
     "data": {
      "text/plain": [
       "array([[1., 0., 0., 0., 1.],\n",
       "       [0., 1., 0., 1., 0.],\n",
       "       [1., 0., 0., 1., 0.],\n",
       "       [1., 0., 0., 1., 0.],\n",
       "       [0., 0., 1., 1., 0.]])"
      ]
     },
     "execution_count": 61,
     "metadata": {},
     "output_type": "execute_result"
    }
   ],
   "source": [
    "from sklearn.pipeline import make_pipeline\n",
    "from sklearn.impute import SimpleImputer\n",
    "from sklearn.preprocessing import OneHotEncoder\n",
    "cat_pl = make_pipeline(SimpleImputer(strategy='most_frequent'),OneHotEncoder(sparse=False))\n",
    "cat_pl.fit_transform(x_cat)"
   ]
  },
  {
   "cell_type": "code",
   "execution_count": 62,
   "id": "7cd78202",
   "metadata": {
    "execution": {
     "iopub.execute_input": "2022-06-14T01:04:10.002368Z",
     "iopub.status.busy": "2022-06-14T01:04:10.001354Z",
     "iopub.status.idle": "2022-06-14T01:04:10.009579Z",
     "shell.execute_reply": "2022-06-14T01:04:10.010095Z",
     "shell.execute_reply.started": "2022-06-14T00:44:41.450146Z"
    },
    "papermill": {
     "duration": 0.193056,
     "end_time": "2022-06-14T01:04:10.010274",
     "exception": false,
     "start_time": "2022-06-14T01:04:09.817218",
     "status": "completed"
    },
    "tags": []
   },
   "outputs": [
    {
     "data": {
      "text/plain": [
       "array(['size_M', 'size_S', 'size_XL', 'color_blue', 'color_green'],\n",
       "      dtype=object)"
      ]
     },
     "execution_count": 62,
     "metadata": {},
     "output_type": "execute_result"
    }
   ],
   "source": [
    "oh_in_pl = cat_pl.named_steps['onehotencoder']\n",
    "oh_in_pl.get_feature_names_out(['size','color'])"
   ]
  },
  {
   "cell_type": "code",
   "execution_count": 63,
   "id": "67ce78bf",
   "metadata": {
    "execution": {
     "iopub.execute_input": "2022-06-14T01:04:10.374134Z",
     "iopub.status.busy": "2022-06-14T01:04:10.373478Z",
     "iopub.status.idle": "2022-06-14T01:04:10.378491Z",
     "shell.execute_reply": "2022-06-14T01:04:10.379011Z",
     "shell.execute_reply.started": "2022-06-14T00:44:41.458810Z"
    },
    "papermill": {
     "duration": 0.188677,
     "end_time": "2022-06-14T01:04:10.379176",
     "exception": false,
     "start_time": "2022-06-14T01:04:10.190499",
     "status": "completed"
    },
    "tags": []
   },
   "outputs": [
    {
     "data": {
      "text/plain": [
       "array([['M', 'green', 200.0, nan],\n",
       "       ['S', 'blue', nan, 35000.0],\n",
       "       [nan, 'blue', 200.0, nan],\n",
       "       ['M', nan, 300.0, 20000.0],\n",
       "       ['XL', nan, 300.0, 10000.0]], dtype=object)"
      ]
     },
     "execution_count": 63,
     "metadata": {},
     "output_type": "execute_result"
    }
   ],
   "source": [
    "np.concatenate([X])"
   ]
  },
  {
   "cell_type": "code",
   "execution_count": 64,
   "id": "2ada733f",
   "metadata": {
    "execution": {
     "iopub.execute_input": "2022-06-14T01:04:10.746910Z",
     "iopub.status.busy": "2022-06-14T01:04:10.746220Z",
     "iopub.status.idle": "2022-06-14T01:04:10.771579Z",
     "shell.execute_reply": "2022-06-14T01:04:10.772096Z",
     "shell.execute_reply.started": "2022-06-14T00:44:41.473893Z"
    },
    "papermill": {
     "duration": 0.211461,
     "end_time": "2022-06-14T01:04:10.772266",
     "exception": false,
     "start_time": "2022-06-14T01:04:10.560805",
     "status": "completed"
    },
    "tags": []
   },
   "outputs": [
    {
     "data": {
      "text/plain": [
       "array([[-1.12,  0.  ,  1.  ,  0.  ,  0.  ,  0.  ,  1.  ],\n",
       "       [ 0.  ,  1.68,  0.  ,  1.  ,  0.  ,  1.  ,  0.  ],\n",
       "       [-1.12,  0.  ,  1.  ,  0.  ,  0.  ,  1.  ,  0.  ],\n",
       "       [ 1.12, -0.21,  1.  ,  0.  ,  0.  ,  1.  ,  0.  ],\n",
       "       [ 1.12, -1.47,  0.  ,  0.  ,  1.  ,  1.  ,  0.  ]])"
      ]
     },
     "execution_count": 64,
     "metadata": {},
     "output_type": "execute_result"
    }
   ],
   "source": [
    "from sklearn.compose import ColumnTransformer\n",
    "data_pl = ColumnTransformer([\n",
    "    ('num_pl',num_pl, X_col_num),\n",
    "    ('cat_pl',cat_pl, x_col_cat)\n",
    "])\n",
    "data_pl.fit_transform(X).round(2)"
   ]
  },
  {
   "cell_type": "markdown",
   "id": "7c298d17",
   "metadata": {
    "papermill": {
     "duration": 0.18214,
     "end_time": "2022-06-14T01:04:11.132999",
     "exception": false,
     "start_time": "2022-06-14T01:04:10.950859",
     "status": "completed"
    },
    "tags": []
   },
   "source": [
    "# 4/7"
   ]
  },
  {
   "cell_type": "code",
   "execution_count": 65,
   "id": "9725e818",
   "metadata": {
    "execution": {
     "iopub.execute_input": "2022-06-14T01:04:11.504804Z",
     "iopub.status.busy": "2022-06-14T01:04:11.504112Z",
     "iopub.status.idle": "2022-06-14T01:04:11.513543Z",
     "shell.execute_reply": "2022-06-14T01:04:11.514111Z",
     "shell.execute_reply.started": "2022-06-14T00:44:41.501100Z"
    },
    "papermill": {
     "duration": 0.202733,
     "end_time": "2022-06-14T01:04:11.514313",
     "exception": false,
     "start_time": "2022-06-14T01:04:11.311580",
     "status": "completed"
    },
    "tags": []
   },
   "outputs": [
    {
     "data": {
      "text/plain": [
       "array(['x0_M', 'x0_S', 'x0_XL', 'x1_blue', 'x1_green'], dtype=object)"
      ]
     },
     "execution_count": 65,
     "metadata": {},
     "output_type": "execute_result"
    }
   ],
   "source": [
    "data_pl = ColumnTransformer([\n",
    "    ('num_pl',num_pl, X_col_num),\n",
    "    ('cat_pl',cat_pl, x_col_cat)\n",
    "])\n",
    "data_preprocessed = data_pl.fit_transform(X)\n",
    "cat_pl = data_pl.named_transformers_['cat_pl']\n",
    "cat_pl.named_steps.keys()\n",
    "cat_pl.named_steps['onehotencoder'].get_feature_names_out()"
   ]
  },
  {
   "cell_type": "code",
   "execution_count": 66,
   "id": "7d0a4690",
   "metadata": {
    "execution": {
     "iopub.execute_input": "2022-06-14T01:04:11.880976Z",
     "iopub.status.busy": "2022-06-14T01:04:11.880269Z",
     "iopub.status.idle": "2022-06-14T01:04:11.898339Z",
     "shell.execute_reply": "2022-06-14T01:04:11.897710Z",
     "shell.execute_reply.started": "2022-06-14T00:44:41.526291Z"
    },
    "papermill": {
     "duration": 0.203979,
     "end_time": "2022-06-14T01:04:11.898541",
     "exception": false,
     "start_time": "2022-06-14T01:04:11.694562",
     "status": "completed"
    },
    "tags": []
   },
   "outputs": [
    {
     "name": "stdout",
     "output_type": "stream",
     "text": [
      "['price', 'quantity', 'price_M', 'price_S', 'price_XL', 'quantity_blue', 'quantity_green']\n"
     ]
    },
    {
     "data": {
      "text/html": [
       "<div>\n",
       "<style scoped>\n",
       "    .dataframe tbody tr th:only-of-type {\n",
       "        vertical-align: middle;\n",
       "    }\n",
       "\n",
       "    .dataframe tbody tr th {\n",
       "        vertical-align: top;\n",
       "    }\n",
       "\n",
       "    .dataframe thead th {\n",
       "        text-align: right;\n",
       "    }\n",
       "</style>\n",
       "<table border=\"1\" class=\"dataframe\">\n",
       "  <thead>\n",
       "    <tr style=\"text-align: right;\">\n",
       "      <th></th>\n",
       "      <th>price</th>\n",
       "      <th>quantity</th>\n",
       "      <th>price_M</th>\n",
       "      <th>price_S</th>\n",
       "      <th>price_XL</th>\n",
       "      <th>quantity_blue</th>\n",
       "      <th>quantity_green</th>\n",
       "    </tr>\n",
       "  </thead>\n",
       "  <tbody>\n",
       "    <tr>\n",
       "      <th>0</th>\n",
       "      <td>-1.118034</td>\n",
       "      <td>0.000000</td>\n",
       "      <td>1.0</td>\n",
       "      <td>0.0</td>\n",
       "      <td>0.0</td>\n",
       "      <td>0.0</td>\n",
       "      <td>1.0</td>\n",
       "    </tr>\n",
       "    <tr>\n",
       "      <th>1</th>\n",
       "      <td>0.000000</td>\n",
       "      <td>1.675416</td>\n",
       "      <td>0.0</td>\n",
       "      <td>1.0</td>\n",
       "      <td>0.0</td>\n",
       "      <td>1.0</td>\n",
       "      <td>0.0</td>\n",
       "    </tr>\n",
       "    <tr>\n",
       "      <th>2</th>\n",
       "      <td>-1.118034</td>\n",
       "      <td>0.000000</td>\n",
       "      <td>1.0</td>\n",
       "      <td>0.0</td>\n",
       "      <td>0.0</td>\n",
       "      <td>1.0</td>\n",
       "      <td>0.0</td>\n",
       "    </tr>\n",
       "    <tr>\n",
       "      <th>3</th>\n",
       "      <td>1.118034</td>\n",
       "      <td>-0.209427</td>\n",
       "      <td>1.0</td>\n",
       "      <td>0.0</td>\n",
       "      <td>0.0</td>\n",
       "      <td>1.0</td>\n",
       "      <td>0.0</td>\n",
       "    </tr>\n",
       "    <tr>\n",
       "      <th>4</th>\n",
       "      <td>1.118034</td>\n",
       "      <td>-1.465989</td>\n",
       "      <td>0.0</td>\n",
       "      <td>0.0</td>\n",
       "      <td>1.0</td>\n",
       "      <td>1.0</td>\n",
       "      <td>0.0</td>\n",
       "    </tr>\n",
       "  </tbody>\n",
       "</table>\n",
       "</div>"
      ],
      "text/plain": [
       "      price  quantity  price_M  price_S  price_XL  quantity_blue  \\\n",
       "0 -1.118034  0.000000      1.0      0.0       0.0            0.0   \n",
       "1  0.000000  1.675416      0.0      1.0       0.0            1.0   \n",
       "2 -1.118034  0.000000      1.0      0.0       0.0            1.0   \n",
       "3  1.118034 -0.209427      1.0      0.0       0.0            1.0   \n",
       "4  1.118034 -1.465989      0.0      0.0       1.0            1.0   \n",
       "\n",
       "   quantity_green  \n",
       "0             1.0  \n",
       "1             0.0  \n",
       "2             0.0  \n",
       "3             0.0  \n",
       "4             0.0  "
      ]
     },
     "execution_count": 66,
     "metadata": {},
     "output_type": "execute_result"
    }
   ],
   "source": [
    "x_col_cat_oh = data_pl.named_transformers_['cat_pl'].named_steps['onehotencoder'].get_feature_names_out(X_col_num)\n",
    "columns = X_col_num + list(x_col_cat_oh)\n",
    "print(X_col_num+list(x_col_cat_oh))\n",
    "pd.DataFrame(data_preprocessed, columns = columns)"
   ]
  },
  {
   "cell_type": "code",
   "execution_count": 67,
   "id": "85330343",
   "metadata": {
    "execution": {
     "iopub.execute_input": "2022-06-14T01:04:12.286797Z",
     "iopub.status.busy": "2022-06-14T01:04:12.285770Z",
     "iopub.status.idle": "2022-06-14T01:04:12.290149Z",
     "shell.execute_reply": "2022-06-14T01:04:12.289608Z",
     "shell.execute_reply.started": "2022-06-14T00:44:41.549679Z"
    },
    "papermill": {
     "duration": 0.20366,
     "end_time": "2022-06-14T01:04:12.290301",
     "exception": false,
     "start_time": "2022-06-14T01:04:12.086641",
     "status": "completed"
    },
    "tags": []
   },
   "outputs": [
    {
     "data": {
      "text/html": [
       "<div>\n",
       "<style scoped>\n",
       "    .dataframe tbody tr th:only-of-type {\n",
       "        vertical-align: middle;\n",
       "    }\n",
       "\n",
       "    .dataframe tbody tr th {\n",
       "        vertical-align: top;\n",
       "    }\n",
       "\n",
       "    .dataframe thead th {\n",
       "        text-align: right;\n",
       "    }\n",
       "</style>\n",
       "<table border=\"1\" class=\"dataframe\">\n",
       "  <thead>\n",
       "    <tr style=\"text-align: right;\">\n",
       "      <th></th>\n",
       "      <th>0</th>\n",
       "      <th>1</th>\n",
       "      <th>2</th>\n",
       "    </tr>\n",
       "  </thead>\n",
       "  <tbody>\n",
       "    <tr>\n",
       "      <th>Red</th>\n",
       "      <td>0.0</td>\n",
       "      <td>1.0</td>\n",
       "      <td>0.0</td>\n",
       "    </tr>\n",
       "    <tr>\n",
       "      <th>Yellow</th>\n",
       "      <td>0.0</td>\n",
       "      <td>0.0</td>\n",
       "      <td>1.0</td>\n",
       "    </tr>\n",
       "    <tr>\n",
       "      <th>Red</th>\n",
       "      <td>0.0</td>\n",
       "      <td>1.0</td>\n",
       "      <td>0.0</td>\n",
       "    </tr>\n",
       "    <tr>\n",
       "      <th>Brown</th>\n",
       "      <td>1.0</td>\n",
       "      <td>0.0</td>\n",
       "      <td>0.0</td>\n",
       "    </tr>\n",
       "    <tr>\n",
       "      <th>Yellow</th>\n",
       "      <td>0.0</td>\n",
       "      <td>0.0</td>\n",
       "      <td>1.0</td>\n",
       "    </tr>\n",
       "  </tbody>\n",
       "</table>\n",
       "</div>"
      ],
      "text/plain": [
       "          0    1    2\n",
       "Red     0.0  1.0  0.0\n",
       "Yellow  0.0  0.0  1.0\n",
       "Red     0.0  1.0  0.0\n",
       "Brown   1.0  0.0  0.0\n",
       "Yellow  0.0  0.0  1.0"
      ]
     },
     "execution_count": 67,
     "metadata": {},
     "output_type": "execute_result"
    }
   ],
   "source": [
    "from sklearn.preprocessing import OneHotEncoder\n",
    "import pandas as pd\n",
    "import numpy as np\n",
    "\n",
    "fruits_dict = { 'Fruits':['Apple','Banana','Cherry','Dates','Eggfruit'],\n",
    "'Quantity': [5, 10, 8, 3, 7],\n",
    "'Color': ['Red', 'Yellow', 'Red', 'Brown', 'Yellow']}\n",
    "X = pd.DataFrame(fruits_dict)\n",
    "\n",
    "x_color = np.array(X.Color).reshape(-1,1)\n",
    "\n",
    "oh = OneHotEncoder(sparse = False)\n",
    "x_color_oh = oh.fit_transform(x_color)\n",
    "\n",
    "pd.DataFrame(x_color_oh, index = ['Red', 'Yellow', 'Red', 'Brown', 'Yellow'])"
   ]
  },
  {
   "cell_type": "markdown",
   "id": "54471774",
   "metadata": {
    "papermill": {
     "duration": 0.183108,
     "end_time": "2022-06-14T01:04:12.655523",
     "exception": false,
     "start_time": "2022-06-14T01:04:12.472415",
     "status": "completed"
    },
    "tags": []
   },
   "source": [
    "# 4/12"
   ]
  },
  {
   "cell_type": "code",
   "execution_count": 68,
   "id": "16d1b098",
   "metadata": {
    "execution": {
     "iopub.execute_input": "2022-06-14T01:04:13.035789Z",
     "iopub.status.busy": "2022-06-14T01:04:13.034817Z",
     "iopub.status.idle": "2022-06-14T01:04:13.571991Z",
     "shell.execute_reply": "2022-06-14T01:04:13.571412Z",
     "shell.execute_reply.started": "2022-06-14T00:44:41.570456Z"
    },
    "papermill": {
     "duration": 0.728572,
     "end_time": "2022-06-14T01:04:13.572152",
     "exception": false,
     "start_time": "2022-06-14T01:04:12.843580",
     "status": "completed"
    },
    "tags": []
   },
   "outputs": [],
   "source": [
    "import pandas as pd\n",
    "import numpy as np\n",
    "import matplotlib.pyplot as plt\n",
    "import seaborn as sns\n",
    "\n",
    "data_url = \"http://lib.stat.cmu.edu/datasets/boston\"\n",
    "raw_df = pd.read_csv(data_url, sep=\"\\s+\", skiprows=22, header=None)\n",
    "data = np.hstack([raw_df.values[::2, :], raw_df.values[1::2, :2]])\n",
    "target = raw_df.values[1::2, 2]"
   ]
  },
  {
   "cell_type": "code",
   "execution_count": 69,
   "id": "34cbc1b8",
   "metadata": {
    "execution": {
     "iopub.execute_input": "2022-06-14T01:04:13.948022Z",
     "iopub.status.busy": "2022-06-14T01:04:13.947293Z",
     "iopub.status.idle": "2022-06-14T01:04:13.950022Z",
     "shell.execute_reply": "2022-06-14T01:04:13.950531Z",
     "shell.execute_reply.started": "2022-06-14T00:44:42.532795Z"
    },
    "papermill": {
     "duration": 0.194639,
     "end_time": "2022-06-14T01:04:13.950721",
     "exception": false,
     "start_time": "2022-06-14T01:04:13.756082",
     "status": "completed"
    },
    "tags": []
   },
   "outputs": [
    {
     "data": {
      "text/plain": [
       "array([[6.3200e-03, 1.8000e+01, 2.3100e+00, ..., 1.5300e+01, 3.9690e+02,\n",
       "        4.9800e+00],\n",
       "       [2.7310e-02, 0.0000e+00, 7.0700e+00, ..., 1.7800e+01, 3.9690e+02,\n",
       "        9.1400e+00],\n",
       "       [2.7290e-02, 0.0000e+00, 7.0700e+00, ..., 1.7800e+01, 3.9283e+02,\n",
       "        4.0300e+00],\n",
       "       ...,\n",
       "       [6.0760e-02, 0.0000e+00, 1.1930e+01, ..., 2.1000e+01, 3.9690e+02,\n",
       "        5.6400e+00],\n",
       "       [1.0959e-01, 0.0000e+00, 1.1930e+01, ..., 2.1000e+01, 3.9345e+02,\n",
       "        6.4800e+00],\n",
       "       [4.7410e-02, 0.0000e+00, 1.1930e+01, ..., 2.1000e+01, 3.9690e+02,\n",
       "        7.8800e+00]])"
      ]
     },
     "execution_count": 69,
     "metadata": {},
     "output_type": "execute_result"
    }
   ],
   "source": [
    "data"
   ]
  },
  {
   "cell_type": "markdown",
   "id": "7ea986ea",
   "metadata": {
    "papermill": {
     "duration": 0.184391,
     "end_time": "2022-06-14T01:04:14.343902",
     "exception": false,
     "start_time": "2022-06-14T01:04:14.159511",
     "status": "completed"
    },
    "tags": []
   },
   "source": [
    "# 4/14"
   ]
  },
  {
   "cell_type": "code",
   "execution_count": 70,
   "id": "921909bf",
   "metadata": {
    "execution": {
     "iopub.execute_input": "2022-06-14T01:04:14.718600Z",
     "iopub.status.busy": "2022-06-14T01:04:14.717871Z",
     "iopub.status.idle": "2022-06-14T01:04:14.720242Z",
     "shell.execute_reply": "2022-06-14T01:04:14.720833Z",
     "shell.execute_reply.started": "2022-06-14T00:44:42.543907Z"
    },
    "papermill": {
     "duration": 0.194178,
     "end_time": "2022-06-14T01:04:14.721041",
     "exception": false,
     "start_time": "2022-06-14T01:04:14.526863",
     "status": "completed"
    },
    "tags": []
   },
   "outputs": [],
   "source": [
    "columns = ['CRIM', 'ZN','INDUS','CHAS','NOX','RM','AGE','DIS','RAD','TAX','PTRATIO','B','LSTAT']\n",
    "df = pd.DataFrame(data, columns = columns)"
   ]
  },
  {
   "cell_type": "code",
   "execution_count": 71,
   "id": "90dee55c",
   "metadata": {
    "execution": {
     "iopub.execute_input": "2022-06-14T01:04:15.094743Z",
     "iopub.status.busy": "2022-06-14T01:04:15.094036Z",
     "iopub.status.idle": "2022-06-14T01:04:15.126841Z",
     "shell.execute_reply": "2022-06-14T01:04:15.126292Z",
     "shell.execute_reply.started": "2022-06-14T00:44:42.554502Z"
    },
    "papermill": {
     "duration": 0.222264,
     "end_time": "2022-06-14T01:04:15.127004",
     "exception": false,
     "start_time": "2022-06-14T01:04:14.904740",
     "status": "completed"
    },
    "tags": []
   },
   "outputs": [
    {
     "data": {
      "text/html": [
       "<div>\n",
       "<style scoped>\n",
       "    .dataframe tbody tr th:only-of-type {\n",
       "        vertical-align: middle;\n",
       "    }\n",
       "\n",
       "    .dataframe tbody tr th {\n",
       "        vertical-align: top;\n",
       "    }\n",
       "\n",
       "    .dataframe thead th {\n",
       "        text-align: right;\n",
       "    }\n",
       "</style>\n",
       "<table border=\"1\" class=\"dataframe\">\n",
       "  <thead>\n",
       "    <tr style=\"text-align: right;\">\n",
       "      <th></th>\n",
       "      <th>CRIM</th>\n",
       "      <th>ZN</th>\n",
       "      <th>INDUS</th>\n",
       "      <th>CHAS</th>\n",
       "      <th>NOX</th>\n",
       "      <th>RM</th>\n",
       "      <th>AGE</th>\n",
       "      <th>DIS</th>\n",
       "      <th>RAD</th>\n",
       "      <th>TAX</th>\n",
       "      <th>PTRATIO</th>\n",
       "      <th>B</th>\n",
       "      <th>LSTAT</th>\n",
       "      <th>target</th>\n",
       "    </tr>\n",
       "  </thead>\n",
       "  <tbody>\n",
       "    <tr>\n",
       "      <th>0</th>\n",
       "      <td>0.00632</td>\n",
       "      <td>18.0</td>\n",
       "      <td>2.31</td>\n",
       "      <td>0.0</td>\n",
       "      <td>0.538</td>\n",
       "      <td>6.575</td>\n",
       "      <td>65.2</td>\n",
       "      <td>4.0900</td>\n",
       "      <td>1.0</td>\n",
       "      <td>296.0</td>\n",
       "      <td>15.3</td>\n",
       "      <td>396.90</td>\n",
       "      <td>4.98</td>\n",
       "      <td>24.0</td>\n",
       "    </tr>\n",
       "    <tr>\n",
       "      <th>1</th>\n",
       "      <td>0.02731</td>\n",
       "      <td>0.0</td>\n",
       "      <td>7.07</td>\n",
       "      <td>0.0</td>\n",
       "      <td>0.469</td>\n",
       "      <td>6.421</td>\n",
       "      <td>78.9</td>\n",
       "      <td>4.9671</td>\n",
       "      <td>2.0</td>\n",
       "      <td>242.0</td>\n",
       "      <td>17.8</td>\n",
       "      <td>396.90</td>\n",
       "      <td>9.14</td>\n",
       "      <td>21.6</td>\n",
       "    </tr>\n",
       "    <tr>\n",
       "      <th>2</th>\n",
       "      <td>0.02729</td>\n",
       "      <td>0.0</td>\n",
       "      <td>7.07</td>\n",
       "      <td>0.0</td>\n",
       "      <td>0.469</td>\n",
       "      <td>7.185</td>\n",
       "      <td>61.1</td>\n",
       "      <td>4.9671</td>\n",
       "      <td>2.0</td>\n",
       "      <td>242.0</td>\n",
       "      <td>17.8</td>\n",
       "      <td>392.83</td>\n",
       "      <td>4.03</td>\n",
       "      <td>34.7</td>\n",
       "    </tr>\n",
       "    <tr>\n",
       "      <th>3</th>\n",
       "      <td>0.03237</td>\n",
       "      <td>0.0</td>\n",
       "      <td>2.18</td>\n",
       "      <td>0.0</td>\n",
       "      <td>0.458</td>\n",
       "      <td>6.998</td>\n",
       "      <td>45.8</td>\n",
       "      <td>6.0622</td>\n",
       "      <td>3.0</td>\n",
       "      <td>222.0</td>\n",
       "      <td>18.7</td>\n",
       "      <td>394.63</td>\n",
       "      <td>2.94</td>\n",
       "      <td>33.4</td>\n",
       "    </tr>\n",
       "    <tr>\n",
       "      <th>4</th>\n",
       "      <td>0.06905</td>\n",
       "      <td>0.0</td>\n",
       "      <td>2.18</td>\n",
       "      <td>0.0</td>\n",
       "      <td>0.458</td>\n",
       "      <td>7.147</td>\n",
       "      <td>54.2</td>\n",
       "      <td>6.0622</td>\n",
       "      <td>3.0</td>\n",
       "      <td>222.0</td>\n",
       "      <td>18.7</td>\n",
       "      <td>396.90</td>\n",
       "      <td>5.33</td>\n",
       "      <td>36.2</td>\n",
       "    </tr>\n",
       "    <tr>\n",
       "      <th>...</th>\n",
       "      <td>...</td>\n",
       "      <td>...</td>\n",
       "      <td>...</td>\n",
       "      <td>...</td>\n",
       "      <td>...</td>\n",
       "      <td>...</td>\n",
       "      <td>...</td>\n",
       "      <td>...</td>\n",
       "      <td>...</td>\n",
       "      <td>...</td>\n",
       "      <td>...</td>\n",
       "      <td>...</td>\n",
       "      <td>...</td>\n",
       "      <td>...</td>\n",
       "    </tr>\n",
       "    <tr>\n",
       "      <th>501</th>\n",
       "      <td>0.06263</td>\n",
       "      <td>0.0</td>\n",
       "      <td>11.93</td>\n",
       "      <td>0.0</td>\n",
       "      <td>0.573</td>\n",
       "      <td>6.593</td>\n",
       "      <td>69.1</td>\n",
       "      <td>2.4786</td>\n",
       "      <td>1.0</td>\n",
       "      <td>273.0</td>\n",
       "      <td>21.0</td>\n",
       "      <td>391.99</td>\n",
       "      <td>9.67</td>\n",
       "      <td>22.4</td>\n",
       "    </tr>\n",
       "    <tr>\n",
       "      <th>502</th>\n",
       "      <td>0.04527</td>\n",
       "      <td>0.0</td>\n",
       "      <td>11.93</td>\n",
       "      <td>0.0</td>\n",
       "      <td>0.573</td>\n",
       "      <td>6.120</td>\n",
       "      <td>76.7</td>\n",
       "      <td>2.2875</td>\n",
       "      <td>1.0</td>\n",
       "      <td>273.0</td>\n",
       "      <td>21.0</td>\n",
       "      <td>396.90</td>\n",
       "      <td>9.08</td>\n",
       "      <td>20.6</td>\n",
       "    </tr>\n",
       "    <tr>\n",
       "      <th>503</th>\n",
       "      <td>0.06076</td>\n",
       "      <td>0.0</td>\n",
       "      <td>11.93</td>\n",
       "      <td>0.0</td>\n",
       "      <td>0.573</td>\n",
       "      <td>6.976</td>\n",
       "      <td>91.0</td>\n",
       "      <td>2.1675</td>\n",
       "      <td>1.0</td>\n",
       "      <td>273.0</td>\n",
       "      <td>21.0</td>\n",
       "      <td>396.90</td>\n",
       "      <td>5.64</td>\n",
       "      <td>23.9</td>\n",
       "    </tr>\n",
       "    <tr>\n",
       "      <th>504</th>\n",
       "      <td>0.10959</td>\n",
       "      <td>0.0</td>\n",
       "      <td>11.93</td>\n",
       "      <td>0.0</td>\n",
       "      <td>0.573</td>\n",
       "      <td>6.794</td>\n",
       "      <td>89.3</td>\n",
       "      <td>2.3889</td>\n",
       "      <td>1.0</td>\n",
       "      <td>273.0</td>\n",
       "      <td>21.0</td>\n",
       "      <td>393.45</td>\n",
       "      <td>6.48</td>\n",
       "      <td>22.0</td>\n",
       "    </tr>\n",
       "    <tr>\n",
       "      <th>505</th>\n",
       "      <td>0.04741</td>\n",
       "      <td>0.0</td>\n",
       "      <td>11.93</td>\n",
       "      <td>0.0</td>\n",
       "      <td>0.573</td>\n",
       "      <td>6.030</td>\n",
       "      <td>80.8</td>\n",
       "      <td>2.5050</td>\n",
       "      <td>1.0</td>\n",
       "      <td>273.0</td>\n",
       "      <td>21.0</td>\n",
       "      <td>396.90</td>\n",
       "      <td>7.88</td>\n",
       "      <td>11.9</td>\n",
       "    </tr>\n",
       "  </tbody>\n",
       "</table>\n",
       "<p>506 rows × 14 columns</p>\n",
       "</div>"
      ],
      "text/plain": [
       "        CRIM    ZN  INDUS  CHAS    NOX     RM   AGE     DIS  RAD    TAX  \\\n",
       "0    0.00632  18.0   2.31   0.0  0.538  6.575  65.2  4.0900  1.0  296.0   \n",
       "1    0.02731   0.0   7.07   0.0  0.469  6.421  78.9  4.9671  2.0  242.0   \n",
       "2    0.02729   0.0   7.07   0.0  0.469  7.185  61.1  4.9671  2.0  242.0   \n",
       "3    0.03237   0.0   2.18   0.0  0.458  6.998  45.8  6.0622  3.0  222.0   \n",
       "4    0.06905   0.0   2.18   0.0  0.458  7.147  54.2  6.0622  3.0  222.0   \n",
       "..       ...   ...    ...   ...    ...    ...   ...     ...  ...    ...   \n",
       "501  0.06263   0.0  11.93   0.0  0.573  6.593  69.1  2.4786  1.0  273.0   \n",
       "502  0.04527   0.0  11.93   0.0  0.573  6.120  76.7  2.2875  1.0  273.0   \n",
       "503  0.06076   0.0  11.93   0.0  0.573  6.976  91.0  2.1675  1.0  273.0   \n",
       "504  0.10959   0.0  11.93   0.0  0.573  6.794  89.3  2.3889  1.0  273.0   \n",
       "505  0.04741   0.0  11.93   0.0  0.573  6.030  80.8  2.5050  1.0  273.0   \n",
       "\n",
       "     PTRATIO       B  LSTAT  target  \n",
       "0       15.3  396.90   4.98    24.0  \n",
       "1       17.8  396.90   9.14    21.6  \n",
       "2       17.8  392.83   4.03    34.7  \n",
       "3       18.7  394.63   2.94    33.4  \n",
       "4       18.7  396.90   5.33    36.2  \n",
       "..       ...     ...    ...     ...  \n",
       "501     21.0  391.99   9.67    22.4  \n",
       "502     21.0  396.90   9.08    20.6  \n",
       "503     21.0  396.90   5.64    23.9  \n",
       "504     21.0  393.45   6.48    22.0  \n",
       "505     21.0  396.90   7.88    11.9  \n",
       "\n",
       "[506 rows x 14 columns]"
      ]
     },
     "execution_count": 71,
     "metadata": {},
     "output_type": "execute_result"
    }
   ],
   "source": [
    "df['target'] = target\n",
    "df"
   ]
  },
  {
   "cell_type": "code",
   "execution_count": 72,
   "id": "2d40dee5",
   "metadata": {
    "execution": {
     "iopub.execute_input": "2022-06-14T01:04:15.499294Z",
     "iopub.status.busy": "2022-06-14T01:04:15.498342Z",
     "iopub.status.idle": "2022-06-14T01:04:15.514653Z",
     "shell.execute_reply": "2022-06-14T01:04:15.515280Z",
     "shell.execute_reply.started": "2022-06-14T00:44:42.598940Z"
    },
    "papermill": {
     "duration": 0.205812,
     "end_time": "2022-06-14T01:04:15.515477",
     "exception": false,
     "start_time": "2022-06-14T01:04:15.309665",
     "status": "completed"
    },
    "tags": []
   },
   "outputs": [
    {
     "name": "stdout",
     "output_type": "stream",
     "text": [
      "<class 'pandas.core.frame.DataFrame'>\n",
      "RangeIndex: 506 entries, 0 to 505\n",
      "Data columns (total 14 columns):\n",
      " #   Column   Non-Null Count  Dtype  \n",
      "---  ------   --------------  -----  \n",
      " 0   CRIM     506 non-null    float64\n",
      " 1   ZN       506 non-null    float64\n",
      " 2   INDUS    506 non-null    float64\n",
      " 3   CHAS     506 non-null    float64\n",
      " 4   NOX      506 non-null    float64\n",
      " 5   RM       506 non-null    float64\n",
      " 6   AGE      506 non-null    float64\n",
      " 7   DIS      506 non-null    float64\n",
      " 8   RAD      506 non-null    float64\n",
      " 9   TAX      506 non-null    float64\n",
      " 10  PTRATIO  506 non-null    float64\n",
      " 11  B        506 non-null    float64\n",
      " 12  LSTAT    506 non-null    float64\n",
      " 13  target   506 non-null    float64\n",
      "dtypes: float64(14)\n",
      "memory usage: 55.5 KB\n"
     ]
    }
   ],
   "source": [
    "df.info()"
   ]
  },
  {
   "cell_type": "code",
   "execution_count": 73,
   "id": "ef9591cb",
   "metadata": {
    "execution": {
     "iopub.execute_input": "2022-06-14T01:04:15.887957Z",
     "iopub.status.busy": "2022-06-14T01:04:15.886955Z",
     "iopub.status.idle": "2022-06-14T01:04:15.897791Z",
     "shell.execute_reply": "2022-06-14T01:04:15.898243Z",
     "shell.execute_reply.started": "2022-06-14T00:44:42.616378Z"
    },
    "papermill": {
     "duration": 0.197484,
     "end_time": "2022-06-14T01:04:15.898458",
     "exception": false,
     "start_time": "2022-06-14T01:04:15.700974",
     "status": "completed"
    },
    "tags": []
   },
   "outputs": [],
   "source": [
    "corr = df.corr().round(1)"
   ]
  },
  {
   "cell_type": "code",
   "execution_count": 74,
   "id": "5d32b694",
   "metadata": {
    "execution": {
     "iopub.execute_input": "2022-06-14T01:04:16.273319Z",
     "iopub.status.busy": "2022-06-14T01:04:16.272375Z",
     "iopub.status.idle": "2022-06-14T01:04:16.280188Z",
     "shell.execute_reply": "2022-06-14T01:04:16.280691Z",
     "shell.execute_reply.started": "2022-06-14T00:44:42.630155Z"
    },
    "papermill": {
     "duration": 0.19801,
     "end_time": "2022-06-14T01:04:16.280871",
     "exception": false,
     "start_time": "2022-06-14T01:04:16.082861",
     "status": "completed"
    },
    "tags": []
   },
   "outputs": [
    {
     "data": {
      "text/plain": [
       "target     1.0\n",
       "RM         0.7\n",
       "ZN         0.4\n",
       "B          0.3\n",
       "CHAS       0.2\n",
       "DIS        0.2\n",
       "CRIM      -0.4\n",
       "NOX       -0.4\n",
       "AGE       -0.4\n",
       "RAD       -0.4\n",
       "INDUS     -0.5\n",
       "TAX       -0.5\n",
       "PTRATIO   -0.5\n",
       "LSTAT     -0.7\n",
       "Name: target, dtype: float64"
      ]
     },
     "execution_count": 74,
     "metadata": {},
     "output_type": "execute_result"
    }
   ],
   "source": [
    "corr['target'].sort_values(ascending=False)"
   ]
  },
  {
   "cell_type": "code",
   "execution_count": 75,
   "id": "dbc10e61",
   "metadata": {
    "execution": {
     "iopub.execute_input": "2022-06-14T01:04:16.654248Z",
     "iopub.status.busy": "2022-06-14T01:04:16.653262Z",
     "iopub.status.idle": "2022-06-14T01:04:17.982514Z",
     "shell.execute_reply": "2022-06-14T01:04:17.983033Z",
     "shell.execute_reply.started": "2022-06-14T00:44:42.640784Z"
    },
    "papermill": {
     "duration": 1.517053,
     "end_time": "2022-06-14T01:04:17.983227",
     "exception": false,
     "start_time": "2022-06-14T01:04:16.466174",
     "status": "completed"
    },
    "tags": []
   },
   "outputs": [
    {
     "data": {
      "text/plain": [
       "<AxesSubplot:>"
      ]
     },
     "execution_count": 75,
     "metadata": {},
     "output_type": "execute_result"
    },
    {
     "data": {
      "image/png": "[encoded data removed]",
      "text/plain": [
       "<Figure size 576x432 with 2 Axes>"
      ]
     },
     "metadata": {
      "needs_background": "light"
     },
     "output_type": "display_data"
    }
   ],
   "source": [
    "plt.figure(figsize=(8,6))\n",
    "corr[(corr<-0.6)&(corr<0.6)] = 0\n",
    "sns.heatmap(corr, annot=True,cmap='coolwarm')"
   ]
  },
  {
   "cell_type": "code",
   "execution_count": 76,
   "id": "f5d91039",
   "metadata": {
    "execution": {
     "iopub.execute_input": "2022-06-14T01:04:18.371029Z",
     "iopub.status.busy": "2022-06-14T01:04:18.370250Z",
     "iopub.status.idle": "2022-06-14T01:04:18.616998Z",
     "shell.execute_reply": "2022-06-14T01:04:18.616267Z",
     "shell.execute_reply.started": "2022-06-14T00:44:44.313931Z"
    },
    "papermill": {
     "duration": 0.441258,
     "end_time": "2022-06-14T01:04:18.617162",
     "exception": false,
     "start_time": "2022-06-14T01:04:18.175904",
     "status": "completed"
    },
    "tags": []
   },
   "outputs": [
    {
     "data": {
      "text/plain": [
       "<AxesSubplot:xlabel='RM', ylabel='target'>"
      ]
     },
     "execution_count": 76,
     "metadata": {},
     "output_type": "execute_result"
    },
    {
     "data": {
      "image/png": "[encoded data removed]",
      "text/plain": [
       "<Figure size 576x432 with 1 Axes>"
      ]
     },
     "metadata": {
      "needs_background": "light"
     },
     "output_type": "display_data"
    }
   ],
   "source": [
    "df.plot(kind='scatter',x='RM',y='target',alpha=0.5,figsize=(8,6))"
   ]
  },
  {
   "cell_type": "code",
   "execution_count": 77,
   "id": "7abfd9ce",
   "metadata": {
    "execution": {
     "iopub.execute_input": "2022-06-14T01:04:19.014388Z",
     "iopub.status.busy": "2022-06-14T01:04:19.013139Z",
     "iopub.status.idle": "2022-06-14T01:04:19.015642Z",
     "shell.execute_reply": "2022-06-14T01:04:19.016950Z",
     "shell.execute_reply.started": "2022-06-14T00:44:44.530503Z"
    },
    "papermill": {
     "duration": 0.205841,
     "end_time": "2022-06-14T01:04:19.017225",
     "exception": false,
     "start_time": "2022-06-14T01:04:18.811384",
     "status": "completed"
    },
    "tags": []
   },
   "outputs": [],
   "source": [
    "X = df[['RM']]\n",
    "y = df['target']"
   ]
  },
  {
   "cell_type": "code",
   "execution_count": 78,
   "id": "403d9444",
   "metadata": {
    "execution": {
     "iopub.execute_input": "2022-06-14T01:04:19.407667Z",
     "iopub.status.busy": "2022-06-14T01:04:19.405906Z",
     "iopub.status.idle": "2022-06-14T01:04:19.410221Z",
     "shell.execute_reply": "2022-06-14T01:04:19.410926Z",
     "shell.execute_reply.started": "2022-06-14T00:44:44.538730Z"
    },
    "papermill": {
     "duration": 0.201528,
     "end_time": "2022-06-14T01:04:19.411178",
     "exception": false,
     "start_time": "2022-06-14T01:04:19.209650",
     "status": "completed"
    },
    "tags": []
   },
   "outputs": [
    {
     "name": "stdout",
     "output_type": "stream",
     "text": [
      "339\n",
      "167\n",
      "0.3300395256916996\n"
     ]
    }
   ],
   "source": [
    "from sklearn.model_selection import train_test_split\n",
    "\n",
    "X_train, X_test, y_train, y_test = train_test_split(X, y, test_size = 0.33, random_state = 42)\n",
    "print(len(X_train))\n",
    "print(len(X_test))\n",
    "print(len(X_test)/len(X))"
   ]
  },
  {
   "cell_type": "code",
   "execution_count": 79,
   "id": "ca0fd06a",
   "metadata": {
    "execution": {
     "iopub.execute_input": "2022-06-14T01:04:19.815091Z",
     "iopub.status.busy": "2022-06-14T01:04:19.795731Z",
     "iopub.status.idle": "2022-06-14T01:04:20.054545Z",
     "shell.execute_reply": "2022-06-14T01:04:20.054007Z",
     "shell.execute_reply.started": "2022-06-14T00:44:44.555388Z"
    },
    "papermill": {
     "duration": 0.451192,
     "end_time": "2022-06-14T01:04:20.054708",
     "exception": false,
     "start_time": "2022-06-14T01:04:19.603516",
     "status": "completed"
    },
    "tags": []
   },
   "outputs": [
    {
     "data": {
      "text/plain": [
       "<matplotlib.legend.Legend at 0x7fa87a4ea750>"
      ]
     },
     "execution_count": 79,
     "metadata": {},
     "output_type": "execute_result"
    },
    {
     "data": {
      "image/png": "[encoded data removed]",
      "text/plain": [
       "<Figure size 720x288 with 1 Axes>"
      ]
     },
     "metadata": {
      "needs_background": "light"
     },
     "output_type": "display_data"
    }
   ],
   "source": [
    "plt.figure(figsize=(10,4))\n",
    "plt.scatter(X_train, y_train, color='blue',alpha = 0.4)\n",
    "plt.scatter(X_test, y_test, color='red', alpha = 0.4)\n",
    "plt.xlabel('Room Count')\n",
    "plt.ylabel('Pricing')\n",
    "plt.legend()"
   ]
  },
  {
   "cell_type": "code",
   "execution_count": 80,
   "id": "eced2cbb",
   "metadata": {
    "execution": {
     "iopub.execute_input": "2022-06-14T01:04:20.445108Z",
     "iopub.status.busy": "2022-06-14T01:04:20.444411Z",
     "iopub.status.idle": "2022-06-14T01:04:20.473753Z",
     "shell.execute_reply": "2022-06-14T01:04:20.474270Z",
     "shell.execute_reply.started": "2022-06-14T00:44:44.796309Z"
    },
    "papermill": {
     "duration": 0.22734,
     "end_time": "2022-06-14T01:04:20.474486",
     "exception": false,
     "start_time": "2022-06-14T01:04:20.247146",
     "status": "completed"
    },
    "tags": []
   },
   "outputs": [
    {
     "name": "stdout",
     "output_type": "stream",
     "text": [
      "-34.22235234632533 [9.03907314]\n"
     ]
    }
   ],
   "source": [
    "from sklearn.linear_model import LinearRegression\n",
    "\n",
    "model = LinearRegression()\n",
    "model.fit(X_train, y_train)\n",
    "print(model.intercept_, model.coef_)"
   ]
  },
  {
   "cell_type": "code",
   "execution_count": 81,
   "id": "65d0082f",
   "metadata": {
    "execution": {
     "iopub.execute_input": "2022-06-14T01:04:20.871980Z",
     "iopub.status.busy": "2022-06-14T01:04:20.871306Z",
     "iopub.status.idle": "2022-06-14T01:04:20.877385Z",
     "shell.execute_reply": "2022-06-14T01:04:20.877964Z",
     "shell.execute_reply.started": "2022-06-14T00:44:44.808535Z"
    },
    "papermill": {
     "duration": 0.211064,
     "end_time": "2022-06-14T01:04:20.878161",
     "exception": false,
     "start_time": "2022-06-14T01:04:20.667097",
     "status": "completed"
    },
    "tags": []
   },
   "outputs": [],
   "source": [
    "y_pred = model.predict(X_test)"
   ]
  },
  {
   "cell_type": "code",
   "execution_count": 82,
   "id": "125a6c8d",
   "metadata": {
    "execution": {
     "iopub.execute_input": "2022-06-14T01:04:21.267289Z",
     "iopub.status.busy": "2022-06-14T01:04:21.266639Z",
     "iopub.status.idle": "2022-06-14T01:04:21.509619Z",
     "shell.execute_reply": "2022-06-14T01:04:21.509067Z",
     "shell.execute_reply.started": "2022-06-14T00:44:44.819743Z"
    },
    "papermill": {
     "duration": 0.437164,
     "end_time": "2022-06-14T01:04:21.509761",
     "exception": false,
     "start_time": "2022-06-14T01:04:21.072597",
     "status": "completed"
    },
    "tags": []
   },
   "outputs": [
    {
     "data": {
      "text/plain": [
       "<matplotlib.legend.Legend at 0x7fa87a465e10>"
      ]
     },
     "execution_count": 82,
     "metadata": {},
     "output_type": "execute_result"
    },
    {
     "data": {
      "image/png": "[encoded data removed]",
      "text/plain": [
       "<Figure size 576x288 with 1 Axes>"
      ]
     },
     "metadata": {
      "needs_background": "light"
     },
     "output_type": "display_data"
    }
   ],
   "source": [
    "plt.figure(figsize=(8,4))\n",
    "plt.scatter(X_test, y_test, color='blue')\n",
    "plt.scatter(X_test, y_pred, color='red')\n",
    "plt.xlabel('Room Count')\n",
    "plt.ylabel('Pricing')\n",
    "plt.legend()"
   ]
  },
  {
   "cell_type": "code",
   "execution_count": 83,
   "id": "51fe3ede",
   "metadata": {
    "execution": {
     "iopub.execute_input": "2022-06-14T01:04:21.901510Z",
     "iopub.status.busy": "2022-06-14T01:04:21.900861Z",
     "iopub.status.idle": "2022-06-14T01:04:21.908578Z",
     "shell.execute_reply": "2022-06-14T01:04:21.909693Z",
     "shell.execute_reply.started": "2022-06-14T00:44:45.051387Z"
    },
    "papermill": {
     "duration": 0.206948,
     "end_time": "2022-06-14T01:04:21.910079",
     "exception": false,
     "start_time": "2022-06-14T01:04:21.703131",
     "status": "completed"
    },
    "tags": []
   },
   "outputs": [
    {
     "name": "stdout",
     "output_type": "stream",
     "text": [
      "39.091051114869956\n",
      "4.271512885857222\n",
      "0.4834590168919487\n"
     ]
    }
   ],
   "source": [
    "from sklearn.metrics import mean_squared_error, mean_absolute_error, r2_score\n",
    "\n",
    "print(mean_squared_error(y_test, y_pred))\n",
    "print(mean_absolute_error(y_test, y_pred))\n",
    "print(r2_score(y_test, y_pred))"
   ]
  },
  {
   "cell_type": "code",
   "execution_count": 84,
   "id": "a52e482b",
   "metadata": {
    "execution": {
     "iopub.execute_input": "2022-06-14T01:04:22.303332Z",
     "iopub.status.busy": "2022-06-14T01:04:22.302653Z",
     "iopub.status.idle": "2022-06-14T01:04:22.314300Z",
     "shell.execute_reply": "2022-06-14T01:04:22.314829Z",
     "shell.execute_reply.started": "2022-06-14T00:44:45.063582Z"
    },
    "papermill": {
     "duration": 0.20915,
     "end_time": "2022-06-14T01:04:22.315031",
     "exception": false,
     "start_time": "2022-06-14T01:04:22.105881",
     "status": "completed"
    },
    "tags": []
   },
   "outputs": [
    {
     "data": {
      "text/html": [
       "<div>\n",
       "<style scoped>\n",
       "    .dataframe tbody tr th:only-of-type {\n",
       "        vertical-align: middle;\n",
       "    }\n",
       "\n",
       "    .dataframe tbody tr th {\n",
       "        vertical-align: top;\n",
       "    }\n",
       "\n",
       "    .dataframe thead th {\n",
       "        text-align: right;\n",
       "    }\n",
       "</style>\n",
       "<table border=\"1\" class=\"dataframe\">\n",
       "  <thead>\n",
       "    <tr style=\"text-align: right;\">\n",
       "      <th></th>\n",
       "      <th>RM</th>\n",
       "      <th>RM2</th>\n",
       "    </tr>\n",
       "  </thead>\n",
       "  <tbody>\n",
       "    <tr>\n",
       "      <th>478</th>\n",
       "      <td>6.185</td>\n",
       "      <td>38.254225</td>\n",
       "    </tr>\n",
       "    <tr>\n",
       "      <th>26</th>\n",
       "      <td>5.813</td>\n",
       "      <td>33.790969</td>\n",
       "    </tr>\n",
       "    <tr>\n",
       "      <th>7</th>\n",
       "      <td>6.172</td>\n",
       "      <td>38.093584</td>\n",
       "    </tr>\n",
       "    <tr>\n",
       "      <th>492</th>\n",
       "      <td>5.983</td>\n",
       "      <td>35.796289</td>\n",
       "    </tr>\n",
       "    <tr>\n",
       "      <th>108</th>\n",
       "      <td>6.474</td>\n",
       "      <td>41.912676</td>\n",
       "    </tr>\n",
       "  </tbody>\n",
       "</table>\n",
       "</div>"
      ],
      "text/plain": [
       "        RM        RM2\n",
       "478  6.185  38.254225\n",
       "26   5.813  33.790969\n",
       "7    6.172  38.093584\n",
       "492  5.983  35.796289\n",
       "108  6.474  41.912676"
      ]
     },
     "execution_count": 84,
     "metadata": {},
     "output_type": "execute_result"
    }
   ],
   "source": [
    "X_train['RM2'] = X_train['RM']**2\n",
    "X_test['RM2'] = X_test['RM']**2\n",
    "X_train.head()"
   ]
  },
  {
   "cell_type": "code",
   "execution_count": 85,
   "id": "8a1854fe",
   "metadata": {
    "execution": {
     "iopub.execute_input": "2022-06-14T01:04:22.715717Z",
     "iopub.status.busy": "2022-06-14T01:04:22.705337Z",
     "iopub.status.idle": "2022-06-14T01:04:22.723099Z",
     "shell.execute_reply": "2022-06-14T01:04:22.723958Z",
     "shell.execute_reply.started": "2022-06-14T00:44:45.080240Z"
    },
    "papermill": {
     "duration": 0.216713,
     "end_time": "2022-06-14T01:04:22.724181",
     "exception": false,
     "start_time": "2022-06-14T01:04:22.507468",
     "status": "completed"
    },
    "tags": []
   },
   "outputs": [
    {
     "name": "stdout",
     "output_type": "stream",
     "text": [
      "31.473995415562957\n",
      "3.9790451133823814\n",
      "0.5841091996600494\n"
     ]
    }
   ],
   "source": [
    "model2 = LinearRegression()\n",
    "model2.fit(X_train,y_train)\n",
    "y_pred = model2.predict(X_test)\n",
    "print(mean_squared_error(y_test, y_pred))\n",
    "print(mean_absolute_error(y_test, y_pred))\n",
    "print(r2_score(y_test, y_pred))"
   ]
  },
  {
   "cell_type": "markdown",
   "id": "82706f59",
   "metadata": {
    "papermill": {
     "duration": 0.200034,
     "end_time": "2022-06-14T01:04:23.120949",
     "exception": false,
     "start_time": "2022-06-14T01:04:22.920915",
     "status": "completed"
    },
    "tags": []
   },
   "source": [
    "# 4/28"
   ]
  },
  {
   "cell_type": "code",
   "execution_count": 86,
   "id": "6ecafed5",
   "metadata": {
    "execution": {
     "iopub.execute_input": "2022-06-14T01:04:23.516031Z",
     "iopub.status.busy": "2022-06-14T01:04:23.515053Z",
     "iopub.status.idle": "2022-06-14T01:04:23.527926Z",
     "shell.execute_reply": "2022-06-14T01:04:23.528479Z",
     "shell.execute_reply.started": "2022-06-14T00:44:45.097080Z"
    },
    "papermill": {
     "duration": 0.212711,
     "end_time": "2022-06-14T01:04:23.528650",
     "exception": false,
     "start_time": "2022-06-14T01:04:23.315939",
     "status": "completed"
    },
    "tags": []
   },
   "outputs": [
    {
     "data": {
      "text/html": [
       "<div>\n",
       "<style scoped>\n",
       "    .dataframe tbody tr th:only-of-type {\n",
       "        vertical-align: middle;\n",
       "    }\n",
       "\n",
       "    .dataframe tbody tr th {\n",
       "        vertical-align: top;\n",
       "    }\n",
       "\n",
       "    .dataframe thead th {\n",
       "        text-align: right;\n",
       "    }\n",
       "</style>\n",
       "<table border=\"1\" class=\"dataframe\">\n",
       "  <thead>\n",
       "    <tr style=\"text-align: right;\">\n",
       "      <th></th>\n",
       "      <th>English</th>\n",
       "      <th>Chemistry</th>\n",
       "    </tr>\n",
       "  </thead>\n",
       "  <tbody>\n",
       "    <tr>\n",
       "      <th>2</th>\n",
       "      <td>15.0</td>\n",
       "      <td>NaN</td>\n",
       "    </tr>\n",
       "  </tbody>\n",
       "</table>\n",
       "</div>"
      ],
      "text/plain": [
       "   English  Chemistry\n",
       "2     15.0        NaN"
      ]
     },
     "execution_count": 86,
     "metadata": {},
     "output_type": "execute_result"
    }
   ],
   "source": [
    "import pandas as pd\n",
    "import numpy as np\n",
    "scores = {\"Math\":[10,20,30],\"English\":[np.nan,35,15],\"Chemistry\":[26,36,np.nan]}\n",
    "df = pd.DataFrame(scores)\n",
    "df[['English','Chemistry']].iloc[-1:]"
   ]
  },
  {
   "cell_type": "code",
   "execution_count": 87,
   "id": "24e08ea6",
   "metadata": {
    "execution": {
     "iopub.execute_input": "2022-06-14T01:04:23.926974Z",
     "iopub.status.busy": "2022-06-14T01:04:23.926003Z",
     "iopub.status.idle": "2022-06-14T01:04:23.936125Z",
     "shell.execute_reply": "2022-06-14T01:04:23.936725Z",
     "shell.execute_reply.started": "2022-06-14T00:44:45.113319Z"
    },
    "papermill": {
     "duration": 0.213026,
     "end_time": "2022-06-14T01:04:23.936911",
     "exception": false,
     "start_time": "2022-06-14T01:04:23.723885",
     "status": "completed"
    },
    "tags": []
   },
   "outputs": [
    {
     "data": {
      "text/html": [
       "<div>\n",
       "<style scoped>\n",
       "    .dataframe tbody tr th:only-of-type {\n",
       "        vertical-align: middle;\n",
       "    }\n",
       "\n",
       "    .dataframe tbody tr th {\n",
       "        vertical-align: top;\n",
       "    }\n",
       "\n",
       "    .dataframe thead th {\n",
       "        text-align: right;\n",
       "    }\n",
       "</style>\n",
       "<table border=\"1\" class=\"dataframe\">\n",
       "  <thead>\n",
       "    <tr style=\"text-align: right;\">\n",
       "      <th></th>\n",
       "      <th>English</th>\n",
       "      <th>Math</th>\n",
       "    </tr>\n",
       "  </thead>\n",
       "  <tbody>\n",
       "    <tr>\n",
       "      <th>1</th>\n",
       "      <td>35.0</td>\n",
       "      <td>20</td>\n",
       "    </tr>\n",
       "    <tr>\n",
       "      <th>2</th>\n",
       "      <td>15.0</td>\n",
       "      <td>30</td>\n",
       "    </tr>\n",
       "  </tbody>\n",
       "</table>\n",
       "</div>"
      ],
      "text/plain": [
       "   English  Math\n",
       "1     35.0    20\n",
       "2     15.0    30"
      ]
     },
     "execution_count": 87,
     "metadata": {},
     "output_type": "execute_result"
    }
   ],
   "source": [
    "df[['English','Math']].iloc[-2:]"
   ]
  },
  {
   "cell_type": "code",
   "execution_count": 88,
   "id": "2f35664e",
   "metadata": {
    "execution": {
     "iopub.execute_input": "2022-06-14T01:04:24.335190Z",
     "iopub.status.busy": "2022-06-14T01:04:24.334567Z",
     "iopub.status.idle": "2022-06-14T01:04:24.353790Z",
     "shell.execute_reply": "2022-06-14T01:04:24.353043Z",
     "shell.execute_reply.started": "2022-06-14T00:44:45.129113Z"
    },
    "papermill": {
     "duration": 0.216564,
     "end_time": "2022-06-14T01:04:24.353980",
     "exception": false,
     "start_time": "2022-06-14T01:04:24.137416",
     "status": "completed"
    },
    "tags": []
   },
   "outputs": [
    {
     "name": "stderr",
     "output_type": "stream",
     "text": [
      "/opt/conda/lib/python3.7/site-packages/ipykernel_launcher.py:3: SettingWithCopyWarning: \n",
      "A value is trying to be set on a copy of a slice from a DataFrame\n",
      "\n",
      "See the caveats in the documentation: https://pandas.pydata.org/pandas-docs/stable/user_guide/indexing.html#returning-a-view-versus-a-copy\n",
      "  This is separate from the ipykernel package so we can avoid doing imports until\n",
      "/opt/conda/lib/python3.7/site-packages/ipykernel_launcher.py:4: SettingWithCopyWarning: \n",
      "A value is trying to be set on a copy of a slice from a DataFrame\n",
      "\n",
      "See the caveats in the documentation: https://pandas.pydata.org/pandas-docs/stable/user_guide/indexing.html#returning-a-view-versus-a-copy\n",
      "  after removing the cwd from sys.path.\n"
     ]
    },
    {
     "data": {
      "text/html": [
       "<div>\n",
       "<style scoped>\n",
       "    .dataframe tbody tr th:only-of-type {\n",
       "        vertical-align: middle;\n",
       "    }\n",
       "\n",
       "    .dataframe tbody tr th {\n",
       "        vertical-align: top;\n",
       "    }\n",
       "\n",
       "    .dataframe thead th {\n",
       "        text-align: right;\n",
       "    }\n",
       "</style>\n",
       "<table border=\"1\" class=\"dataframe\">\n",
       "  <thead>\n",
       "    <tr style=\"text-align: right;\">\n",
       "      <th></th>\n",
       "      <th>Math</th>\n",
       "      <th>English</th>\n",
       "      <th>History</th>\n",
       "    </tr>\n",
       "  </thead>\n",
       "  <tbody>\n",
       "    <tr>\n",
       "      <th>Simon</th>\n",
       "      <td>90.0</td>\n",
       "      <td>60</td>\n",
       "      <td>33.000000</td>\n",
       "    </tr>\n",
       "    <tr>\n",
       "      <th>Allen</th>\n",
       "      <td>80.0</td>\n",
       "      <td>70</td>\n",
       "      <td>60.333333</td>\n",
       "    </tr>\n",
       "    <tr>\n",
       "      <th>Jimmy</th>\n",
       "      <td>70.0</td>\n",
       "      <td>90</td>\n",
       "      <td>88.000000</td>\n",
       "    </tr>\n",
       "    <tr>\n",
       "      <th>Peter</th>\n",
       "      <td>80.0</td>\n",
       "      <td>50</td>\n",
       "      <td>60.000000</td>\n",
       "    </tr>\n",
       "  </tbody>\n",
       "</table>\n",
       "</div>"
      ],
      "text/plain": [
       "       Math  English    History\n",
       "Simon  90.0       60  33.000000\n",
       "Allen  80.0       70  60.333333\n",
       "Jimmy  70.0       90  88.000000\n",
       "Peter  80.0       50  60.000000"
      ]
     },
     "execution_count": 88,
     "metadata": {},
     "output_type": "execute_result"
    }
   ],
   "source": [
    "scores = {'Math':[90,np.nan,70,80],'English':[60,70,90,50],'History':[33,np.nan,88,60]}\n",
    "df = pd.DataFrame(scores, index=['Simon','Allen','Jimmy','Peter'])\n",
    "df['Math'][1] = (df['Math'][0]+df['Math'][2]+df['Math'][3])/3\n",
    "df['History'][1] = (df['History'][0]+df['History'][2]+df['History'][3])/3\n",
    "df"
   ]
  },
  {
   "cell_type": "markdown",
   "id": "c1c4757b",
   "metadata": {
    "papermill": {
     "duration": 0.197171,
     "end_time": "2022-06-14T01:04:24.747857",
     "exception": false,
     "start_time": "2022-06-14T01:04:24.550686",
     "status": "completed"
    },
    "tags": []
   },
   "source": [
    "# 5/3"
   ]
  },
  {
   "cell_type": "code",
   "execution_count": 89,
   "id": "15a7793a",
   "metadata": {
    "execution": {
     "iopub.execute_input": "2022-06-14T01:04:25.171083Z",
     "iopub.status.busy": "2022-06-14T01:04:25.170395Z",
     "iopub.status.idle": "2022-06-14T01:04:25.179755Z",
     "shell.execute_reply": "2022-06-14T01:04:25.180268Z",
     "shell.execute_reply.started": "2022-06-14T00:44:45.149625Z"
    },
    "papermill": {
     "duration": 0.235971,
     "end_time": "2022-06-14T01:04:25.180462",
     "exception": false,
     "start_time": "2022-06-14T01:04:24.944491",
     "status": "completed"
    },
    "tags": []
   },
   "outputs": [
    {
     "name": "stdout",
     "output_type": "stream",
     "text": [
      "[20.01208651]\n"
     ]
    },
    {
     "name": "stderr",
     "output_type": "stream",
     "text": [
      "/opt/conda/lib/python3.7/site-packages/sklearn/base.py:446: UserWarning: X does not have valid feature names, but LinearRegression was fitted with feature names\n",
      "  \"X does not have valid feature names, but\"\n"
     ]
    }
   ],
   "source": [
    "y = model.predict([[6]])\n",
    "print(y)"
   ]
  },
  {
   "cell_type": "code",
   "execution_count": 90,
   "id": "d903b710",
   "metadata": {
    "execution": {
     "iopub.execute_input": "2022-06-14T01:04:25.576891Z",
     "iopub.status.busy": "2022-06-14T01:04:25.575923Z",
     "iopub.status.idle": "2022-06-14T01:04:25.584812Z",
     "shell.execute_reply": "2022-06-14T01:04:25.585680Z",
     "shell.execute_reply.started": "2022-06-14T00:44:45.157147Z"
    },
    "papermill": {
     "duration": 0.208117,
     "end_time": "2022-06-14T01:04:25.585909",
     "exception": false,
     "start_time": "2022-06-14T01:04:25.377792",
     "status": "completed"
    },
    "tags": []
   },
   "outputs": [
    {
     "name": "stdout",
     "output_type": "stream",
     "text": [
      "20.01208650992801\n"
     ]
    }
   ],
   "source": [
    "q = pd.DataFrame([6], columns = ['RM'])\n",
    "y = model.predict(q)\n",
    "print(y[0])"
   ]
  },
  {
   "cell_type": "markdown",
   "id": "c882ce07",
   "metadata": {
    "papermill": {
     "duration": 0.199592,
     "end_time": "2022-06-14T01:04:26.048566",
     "exception": false,
     "start_time": "2022-06-14T01:04:25.848974",
     "status": "completed"
    },
    "tags": []
   },
   "source": [
    "# 5/5"
   ]
  },
  {
   "cell_type": "code",
   "execution_count": 91,
   "id": "1e66db16",
   "metadata": {
    "execution": {
     "iopub.execute_input": "2022-06-14T01:04:26.444235Z",
     "iopub.status.busy": "2022-06-14T01:04:26.443612Z",
     "iopub.status.idle": "2022-06-14T01:04:26.455732Z",
     "shell.execute_reply": "2022-06-14T01:04:26.456227Z",
     "shell.execute_reply.started": "2022-06-14T00:44:45.172657Z"
    },
    "papermill": {
     "duration": 0.21158,
     "end_time": "2022-06-14T01:04:26.456397",
     "exception": false,
     "start_time": "2022-06-14T01:04:26.244817",
     "status": "completed"
    },
    "tags": []
   },
   "outputs": [
    {
     "data": {
      "text/html": [
       "<div>\n",
       "<style scoped>\n",
       "    .dataframe tbody tr th:only-of-type {\n",
       "        vertical-align: middle;\n",
       "    }\n",
       "\n",
       "    .dataframe tbody tr th {\n",
       "        vertical-align: top;\n",
       "    }\n",
       "\n",
       "    .dataframe thead th {\n",
       "        text-align: right;\n",
       "    }\n",
       "</style>\n",
       "<table border=\"1\" class=\"dataframe\">\n",
       "  <thead>\n",
       "    <tr style=\"text-align: right;\">\n",
       "      <th></th>\n",
       "      <th>RM</th>\n",
       "    </tr>\n",
       "  </thead>\n",
       "  <tbody>\n",
       "    <tr>\n",
       "      <th>478</th>\n",
       "      <td>6.185</td>\n",
       "    </tr>\n",
       "    <tr>\n",
       "      <th>26</th>\n",
       "      <td>5.813</td>\n",
       "    </tr>\n",
       "    <tr>\n",
       "      <th>7</th>\n",
       "      <td>6.172</td>\n",
       "    </tr>\n",
       "    <tr>\n",
       "      <th>492</th>\n",
       "      <td>5.983</td>\n",
       "    </tr>\n",
       "    <tr>\n",
       "      <th>108</th>\n",
       "      <td>6.474</td>\n",
       "    </tr>\n",
       "    <tr>\n",
       "      <th>...</th>\n",
       "      <td>...</td>\n",
       "    </tr>\n",
       "    <tr>\n",
       "      <th>106</th>\n",
       "      <td>5.836</td>\n",
       "    </tr>\n",
       "    <tr>\n",
       "      <th>270</th>\n",
       "      <td>5.856</td>\n",
       "    </tr>\n",
       "    <tr>\n",
       "      <th>348</th>\n",
       "      <td>6.635</td>\n",
       "    </tr>\n",
       "    <tr>\n",
       "      <th>435</th>\n",
       "      <td>6.629</td>\n",
       "    </tr>\n",
       "    <tr>\n",
       "      <th>102</th>\n",
       "      <td>6.405</td>\n",
       "    </tr>\n",
       "  </tbody>\n",
       "</table>\n",
       "<p>339 rows × 1 columns</p>\n",
       "</div>"
      ],
      "text/plain": [
       "        RM\n",
       "478  6.185\n",
       "26   5.813\n",
       "7    6.172\n",
       "492  5.983\n",
       "108  6.474\n",
       "..     ...\n",
       "106  5.836\n",
       "270  5.856\n",
       "348  6.635\n",
       "435  6.629\n",
       "102  6.405\n",
       "\n",
       "[339 rows x 1 columns]"
      ]
     },
     "execution_count": 91,
     "metadata": {},
     "output_type": "execute_result"
    }
   ],
   "source": [
    "X_train.drop('RM2', axis=1, inplace=True)\n",
    "X_test.drop('RM2',axis=1,inplace=True)\n",
    "X_train"
   ]
  },
  {
   "cell_type": "code",
   "execution_count": 92,
   "id": "7805d9e7",
   "metadata": {
    "execution": {
     "iopub.execute_input": "2022-06-14T01:04:27.008829Z",
     "iopub.status.busy": "2022-06-14T01:04:26.854499Z",
     "iopub.status.idle": "2022-06-14T01:04:27.013343Z",
     "shell.execute_reply": "2022-06-14T01:04:27.012683Z",
     "shell.execute_reply.started": "2022-06-14T00:44:45.193887Z"
    },
    "papermill": {
     "duration": 0.361905,
     "end_time": "2022-06-14T01:04:27.013502",
     "exception": false,
     "start_time": "2022-06-14T01:04:26.651597",
     "status": "completed"
    },
    "tags": []
   },
   "outputs": [
    {
     "data": {
      "text/plain": [
       "array([[ 1.      ,  6.185   , 38.254225],\n",
       "       [ 1.      ,  5.813   , 33.790969],\n",
       "       [ 1.      ,  6.172   , 38.093584],\n",
       "       [ 1.      ,  5.983   , 35.796289],\n",
       "       [ 1.      ,  6.474   , 41.912676]])"
      ]
     },
     "execution_count": 92,
     "metadata": {},
     "output_type": "execute_result"
    }
   ],
   "source": [
    "from sklearn.preprocessing import PolynomialFeatures\n",
    "polynomial = PolynomialFeatures(degree=2)\n",
    "X_poly = polynomial.fit_transform(X_train)\n",
    "X_poly[:5]"
   ]
  },
  {
   "cell_type": "code",
   "execution_count": 93,
   "id": "e88dd99c",
   "metadata": {
    "execution": {
     "iopub.execute_input": "2022-06-14T01:04:27.420456Z",
     "iopub.status.busy": "2022-06-14T01:04:27.419536Z",
     "iopub.status.idle": "2022-06-14T01:04:27.424347Z",
     "shell.execute_reply": "2022-06-14T01:04:27.423829Z",
     "shell.execute_reply.started": "2022-06-14T00:44:45.205526Z"
    },
    "papermill": {
     "duration": 0.213635,
     "end_time": "2022-06-14T01:04:27.424523",
     "exception": false,
     "start_time": "2022-06-14T01:04:27.210888",
     "status": "completed"
    },
    "tags": []
   },
   "outputs": [
    {
     "data": {
      "text/html": [
       "<div>\n",
       "<style scoped>\n",
       "    .dataframe tbody tr th:only-of-type {\n",
       "        vertical-align: middle;\n",
       "    }\n",
       "\n",
       "    .dataframe tbody tr th {\n",
       "        vertical-align: top;\n",
       "    }\n",
       "\n",
       "    .dataframe thead th {\n",
       "        text-align: right;\n",
       "    }\n",
       "</style>\n",
       "<table border=\"1\" class=\"dataframe\">\n",
       "  <thead>\n",
       "    <tr style=\"text-align: right;\">\n",
       "      <th></th>\n",
       "      <th>RM</th>\n",
       "    </tr>\n",
       "  </thead>\n",
       "  <tbody>\n",
       "    <tr>\n",
       "      <th>478</th>\n",
       "      <td>6.185</td>\n",
       "    </tr>\n",
       "    <tr>\n",
       "      <th>26</th>\n",
       "      <td>5.813</td>\n",
       "    </tr>\n",
       "    <tr>\n",
       "      <th>7</th>\n",
       "      <td>6.172</td>\n",
       "    </tr>\n",
       "    <tr>\n",
       "      <th>492</th>\n",
       "      <td>5.983</td>\n",
       "    </tr>\n",
       "    <tr>\n",
       "      <th>108</th>\n",
       "      <td>6.474</td>\n",
       "    </tr>\n",
       "    <tr>\n",
       "      <th>...</th>\n",
       "      <td>...</td>\n",
       "    </tr>\n",
       "    <tr>\n",
       "      <th>106</th>\n",
       "      <td>5.836</td>\n",
       "    </tr>\n",
       "    <tr>\n",
       "      <th>270</th>\n",
       "      <td>5.856</td>\n",
       "    </tr>\n",
       "    <tr>\n",
       "      <th>348</th>\n",
       "      <td>6.635</td>\n",
       "    </tr>\n",
       "    <tr>\n",
       "      <th>435</th>\n",
       "      <td>6.629</td>\n",
       "    </tr>\n",
       "    <tr>\n",
       "      <th>102</th>\n",
       "      <td>6.405</td>\n",
       "    </tr>\n",
       "  </tbody>\n",
       "</table>\n",
       "<p>339 rows × 1 columns</p>\n",
       "</div>"
      ],
      "text/plain": [
       "        RM\n",
       "478  6.185\n",
       "26   5.813\n",
       "7    6.172\n",
       "492  5.983\n",
       "108  6.474\n",
       "..     ...\n",
       "106  5.836\n",
       "270  5.856\n",
       "348  6.635\n",
       "435  6.629\n",
       "102  6.405\n",
       "\n",
       "[339 rows x 1 columns]"
      ]
     },
     "execution_count": 93,
     "metadata": {},
     "output_type": "execute_result"
    }
   ],
   "source": [
    "X_train"
   ]
  },
  {
   "cell_type": "code",
   "execution_count": 94,
   "id": "31c2a61b",
   "metadata": {
    "execution": {
     "iopub.execute_input": "2022-06-14T01:04:27.836657Z",
     "iopub.status.busy": "2022-06-14T01:04:27.835826Z",
     "iopub.status.idle": "2022-06-14T01:04:27.839544Z",
     "shell.execute_reply": "2022-06-14T01:04:27.840220Z",
     "shell.execute_reply.started": "2022-06-14T00:44:45.229863Z"
    },
    "papermill": {
     "duration": 0.217189,
     "end_time": "2022-06-14T01:04:27.840468",
     "exception": false,
     "start_time": "2022-06-14T01:04:27.623279",
     "status": "completed"
    },
    "tags": []
   },
   "outputs": [
    {
     "name": "stdout",
     "output_type": "stream",
     "text": [
      "31.473995415562957\n",
      "3.9790451133823828\n",
      "0.5841091996600494\n"
     ]
    }
   ],
   "source": [
    "from sklearn.pipeline import make_pipeline\n",
    "\n",
    "model_pl_2 = make_pipeline(PolynomialFeatures(degree=2), LinearRegression())\n",
    "model_pl_2.fit(X_train, y_train)\n",
    "y_pred = model_pl_2.predict(X_test)\n",
    "print(mean_squared_error(y_test,y_pred))\n",
    "print(mean_absolute_error(y_test,y_pred))\n",
    "print(r2_score(y_test,y_pred))\n"
   ]
  },
  {
   "cell_type": "code",
   "execution_count": 95,
   "id": "413e2cb6",
   "metadata": {
    "execution": {
     "iopub.execute_input": "2022-06-14T01:04:28.253995Z",
     "iopub.status.busy": "2022-06-14T01:04:28.253286Z",
     "iopub.status.idle": "2022-06-14T01:04:28.635433Z",
     "shell.execute_reply": "2022-06-14T01:04:28.634895Z",
     "shell.execute_reply.started": "2022-06-14T00:44:45.248089Z"
    },
    "papermill": {
     "duration": 0.591608,
     "end_time": "2022-06-14T01:04:28.635595",
     "exception": false,
     "start_time": "2022-06-14T01:04:28.043987",
     "status": "completed"
    },
    "tags": []
   },
   "outputs": [
    {
     "name": "stdout",
     "output_type": "stream",
     "text": [
      "33.334975755635966 [-1.28749718e-01  3.78232228e-02  5.82109233e-02  3.23866812e+00\n",
      " -1.61698120e+01  3.90205116e+00 -1.28507825e-02 -1.42222430e+00\n",
      "  2.34853915e-01 -8.21331947e-03 -9.28722459e-01  1.17695921e-02\n",
      " -5.47566338e-01]\n"
     ]
    }
   ],
   "source": [
    "import pandas as pd\n",
    "import numpy as np\n",
    "import matplotlib.pyplot as plt\n",
    "import seaborn as sns\n",
    "\n",
    "data_url = \"http://lib.stat.cmu.edu/datasets/boston\"\n",
    "raw_df = pd.read_csv(data_url, sep=\"\\s+\", skiprows=22, header=None)\n",
    "data = np.hstack([raw_df.values[::2, :], raw_df.values[1::2, :2]])\n",
    "target = raw_df.values[1::2, 2]\n",
    "df = pd.DataFrame(data, columns = columns)\n",
    "df['target'] = target\n",
    "df\n",
    "X = df.drop(['target'], axis =1)\n",
    "y = df['target']\n",
    "\n",
    "from sklearn.model_selection import train_test_split\n",
    "\n",
    "X_train, X_test, y_train, y_test = train_test_split(X, y, test_size = 0.33, random_state = 42)\n",
    "\n",
    "from sklearn.linear_model import LinearRegression\n",
    "\n",
    "model = LinearRegression()\n",
    "model.fit(X_train, y_train)\n",
    "print(model.intercept_, model.coef_)"
   ]
  },
  {
   "cell_type": "markdown",
   "id": "94ecd777",
   "metadata": {
    "papermill": {
     "duration": 0.209247,
     "end_time": "2022-06-14T01:04:29.049031",
     "exception": false,
     "start_time": "2022-06-14T01:04:28.839784",
     "status": "completed"
    },
    "tags": []
   },
   "source": [
    "# 5/10"
   ]
  },
  {
   "cell_type": "code",
   "execution_count": 96,
   "id": "e52514fa",
   "metadata": {
    "execution": {
     "iopub.execute_input": "2022-06-14T01:04:29.463767Z",
     "iopub.status.busy": "2022-06-14T01:04:29.462989Z",
     "iopub.status.idle": "2022-06-14T01:04:29.833328Z",
     "shell.execute_reply": "2022-06-14T01:04:29.833910Z",
     "shell.execute_reply.started": "2022-06-14T00:44:46.217677Z"
    },
    "papermill": {
     "duration": 0.582301,
     "end_time": "2022-06-14T01:04:29.834154",
     "exception": false,
     "start_time": "2022-06-14T01:04:29.251853",
     "status": "completed"
    },
    "tags": []
   },
   "outputs": [],
   "source": [
    "import pandas as pd\n",
    "import numpy as np\n",
    "import matplotlib.pyplot as plt\n",
    "import seaborn as sns\n",
    "\n",
    "data_url = \"http://lib.stat.cmu.edu/datasets/boston\"\n",
    "raw_df = pd.read_csv(data_url, sep=\"\\s+\", skiprows=22, header=None)\n",
    "data = np.hstack([raw_df.values[::2, :], raw_df.values[1::2, :2]])\n",
    "target = raw_df.values[1::2, 2]\n",
    "columns = ['CRIM', 'ZN','INDUS','CHAS','NOX','RM','AGE','DIS','RAD','TAX','PTRATIO','B','LSTAT']\n",
    "df = pd.DataFrame(data, columns = columns)"
   ]
  },
  {
   "cell_type": "code",
   "execution_count": 97,
   "id": "7eb4e0c5",
   "metadata": {
    "execution": {
     "iopub.execute_input": "2022-06-14T01:04:30.272583Z",
     "iopub.status.busy": "2022-06-14T01:04:30.256372Z",
     "iopub.status.idle": "2022-06-14T01:04:30.275538Z",
     "shell.execute_reply": "2022-06-14T01:04:30.274962Z",
     "shell.execute_reply.started": "2022-06-14T00:44:47.182072Z"
    },
    "papermill": {
     "duration": 0.235129,
     "end_time": "2022-06-14T01:04:30.275702",
     "exception": false,
     "start_time": "2022-06-14T01:04:30.040573",
     "status": "completed"
    },
    "tags": []
   },
   "outputs": [
    {
     "data": {
      "text/html": [
       "<div>\n",
       "<style scoped>\n",
       "    .dataframe tbody tr th:only-of-type {\n",
       "        vertical-align: middle;\n",
       "    }\n",
       "\n",
       "    .dataframe tbody tr th {\n",
       "        vertical-align: top;\n",
       "    }\n",
       "\n",
       "    .dataframe thead th {\n",
       "        text-align: right;\n",
       "    }\n",
       "</style>\n",
       "<table border=\"1\" class=\"dataframe\">\n",
       "  <thead>\n",
       "    <tr style=\"text-align: right;\">\n",
       "      <th></th>\n",
       "      <th>CRIM</th>\n",
       "      <th>ZN</th>\n",
       "      <th>INDUS</th>\n",
       "      <th>CHAS</th>\n",
       "      <th>NOX</th>\n",
       "      <th>RM</th>\n",
       "      <th>AGE</th>\n",
       "      <th>DIS</th>\n",
       "      <th>RAD</th>\n",
       "      <th>TAX</th>\n",
       "      <th>PTRATIO</th>\n",
       "      <th>B</th>\n",
       "      <th>LSTAT</th>\n",
       "      <th>target</th>\n",
       "    </tr>\n",
       "  </thead>\n",
       "  <tbody>\n",
       "    <tr>\n",
       "      <th>0</th>\n",
       "      <td>0.00632</td>\n",
       "      <td>18.0</td>\n",
       "      <td>2.31</td>\n",
       "      <td>0.0</td>\n",
       "      <td>0.538</td>\n",
       "      <td>6.575</td>\n",
       "      <td>65.2</td>\n",
       "      <td>4.0900</td>\n",
       "      <td>1.0</td>\n",
       "      <td>296.0</td>\n",
       "      <td>15.3</td>\n",
       "      <td>396.90</td>\n",
       "      <td>4.98</td>\n",
       "      <td>24.0</td>\n",
       "    </tr>\n",
       "    <tr>\n",
       "      <th>1</th>\n",
       "      <td>0.02731</td>\n",
       "      <td>0.0</td>\n",
       "      <td>7.07</td>\n",
       "      <td>0.0</td>\n",
       "      <td>0.469</td>\n",
       "      <td>6.421</td>\n",
       "      <td>78.9</td>\n",
       "      <td>4.9671</td>\n",
       "      <td>2.0</td>\n",
       "      <td>242.0</td>\n",
       "      <td>17.8</td>\n",
       "      <td>396.90</td>\n",
       "      <td>9.14</td>\n",
       "      <td>21.6</td>\n",
       "    </tr>\n",
       "    <tr>\n",
       "      <th>2</th>\n",
       "      <td>0.02729</td>\n",
       "      <td>0.0</td>\n",
       "      <td>7.07</td>\n",
       "      <td>0.0</td>\n",
       "      <td>0.469</td>\n",
       "      <td>7.185</td>\n",
       "      <td>61.1</td>\n",
       "      <td>4.9671</td>\n",
       "      <td>2.0</td>\n",
       "      <td>242.0</td>\n",
       "      <td>17.8</td>\n",
       "      <td>392.83</td>\n",
       "      <td>4.03</td>\n",
       "      <td>34.7</td>\n",
       "    </tr>\n",
       "    <tr>\n",
       "      <th>3</th>\n",
       "      <td>0.03237</td>\n",
       "      <td>0.0</td>\n",
       "      <td>2.18</td>\n",
       "      <td>0.0</td>\n",
       "      <td>0.458</td>\n",
       "      <td>6.998</td>\n",
       "      <td>45.8</td>\n",
       "      <td>6.0622</td>\n",
       "      <td>3.0</td>\n",
       "      <td>222.0</td>\n",
       "      <td>18.7</td>\n",
       "      <td>394.63</td>\n",
       "      <td>2.94</td>\n",
       "      <td>33.4</td>\n",
       "    </tr>\n",
       "    <tr>\n",
       "      <th>4</th>\n",
       "      <td>0.06905</td>\n",
       "      <td>0.0</td>\n",
       "      <td>2.18</td>\n",
       "      <td>0.0</td>\n",
       "      <td>0.458</td>\n",
       "      <td>7.147</td>\n",
       "      <td>54.2</td>\n",
       "      <td>6.0622</td>\n",
       "      <td>3.0</td>\n",
       "      <td>222.0</td>\n",
       "      <td>18.7</td>\n",
       "      <td>396.90</td>\n",
       "      <td>5.33</td>\n",
       "      <td>36.2</td>\n",
       "    </tr>\n",
       "    <tr>\n",
       "      <th>...</th>\n",
       "      <td>...</td>\n",
       "      <td>...</td>\n",
       "      <td>...</td>\n",
       "      <td>...</td>\n",
       "      <td>...</td>\n",
       "      <td>...</td>\n",
       "      <td>...</td>\n",
       "      <td>...</td>\n",
       "      <td>...</td>\n",
       "      <td>...</td>\n",
       "      <td>...</td>\n",
       "      <td>...</td>\n",
       "      <td>...</td>\n",
       "      <td>...</td>\n",
       "    </tr>\n",
       "    <tr>\n",
       "      <th>501</th>\n",
       "      <td>0.06263</td>\n",
       "      <td>0.0</td>\n",
       "      <td>11.93</td>\n",
       "      <td>0.0</td>\n",
       "      <td>0.573</td>\n",
       "      <td>6.593</td>\n",
       "      <td>69.1</td>\n",
       "      <td>2.4786</td>\n",
       "      <td>1.0</td>\n",
       "      <td>273.0</td>\n",
       "      <td>21.0</td>\n",
       "      <td>391.99</td>\n",
       "      <td>9.67</td>\n",
       "      <td>22.4</td>\n",
       "    </tr>\n",
       "    <tr>\n",
       "      <th>502</th>\n",
       "      <td>0.04527</td>\n",
       "      <td>0.0</td>\n",
       "      <td>11.93</td>\n",
       "      <td>0.0</td>\n",
       "      <td>0.573</td>\n",
       "      <td>6.120</td>\n",
       "      <td>76.7</td>\n",
       "      <td>2.2875</td>\n",
       "      <td>1.0</td>\n",
       "      <td>273.0</td>\n",
       "      <td>21.0</td>\n",
       "      <td>396.90</td>\n",
       "      <td>9.08</td>\n",
       "      <td>20.6</td>\n",
       "    </tr>\n",
       "    <tr>\n",
       "      <th>503</th>\n",
       "      <td>0.06076</td>\n",
       "      <td>0.0</td>\n",
       "      <td>11.93</td>\n",
       "      <td>0.0</td>\n",
       "      <td>0.573</td>\n",
       "      <td>6.976</td>\n",
       "      <td>91.0</td>\n",
       "      <td>2.1675</td>\n",
       "      <td>1.0</td>\n",
       "      <td>273.0</td>\n",
       "      <td>21.0</td>\n",
       "      <td>396.90</td>\n",
       "      <td>5.64</td>\n",
       "      <td>23.9</td>\n",
       "    </tr>\n",
       "    <tr>\n",
       "      <th>504</th>\n",
       "      <td>0.10959</td>\n",
       "      <td>0.0</td>\n",
       "      <td>11.93</td>\n",
       "      <td>0.0</td>\n",
       "      <td>0.573</td>\n",
       "      <td>6.794</td>\n",
       "      <td>89.3</td>\n",
       "      <td>2.3889</td>\n",
       "      <td>1.0</td>\n",
       "      <td>273.0</td>\n",
       "      <td>21.0</td>\n",
       "      <td>393.45</td>\n",
       "      <td>6.48</td>\n",
       "      <td>22.0</td>\n",
       "    </tr>\n",
       "    <tr>\n",
       "      <th>505</th>\n",
       "      <td>0.04741</td>\n",
       "      <td>0.0</td>\n",
       "      <td>11.93</td>\n",
       "      <td>0.0</td>\n",
       "      <td>0.573</td>\n",
       "      <td>6.030</td>\n",
       "      <td>80.8</td>\n",
       "      <td>2.5050</td>\n",
       "      <td>1.0</td>\n",
       "      <td>273.0</td>\n",
       "      <td>21.0</td>\n",
       "      <td>396.90</td>\n",
       "      <td>7.88</td>\n",
       "      <td>11.9</td>\n",
       "    </tr>\n",
       "  </tbody>\n",
       "</table>\n",
       "<p>506 rows × 14 columns</p>\n",
       "</div>"
      ],
      "text/plain": [
       "        CRIM    ZN  INDUS  CHAS    NOX     RM   AGE     DIS  RAD    TAX  \\\n",
       "0    0.00632  18.0   2.31   0.0  0.538  6.575  65.2  4.0900  1.0  296.0   \n",
       "1    0.02731   0.0   7.07   0.0  0.469  6.421  78.9  4.9671  2.0  242.0   \n",
       "2    0.02729   0.0   7.07   0.0  0.469  7.185  61.1  4.9671  2.0  242.0   \n",
       "3    0.03237   0.0   2.18   0.0  0.458  6.998  45.8  6.0622  3.0  222.0   \n",
       "4    0.06905   0.0   2.18   0.0  0.458  7.147  54.2  6.0622  3.0  222.0   \n",
       "..       ...   ...    ...   ...    ...    ...   ...     ...  ...    ...   \n",
       "501  0.06263   0.0  11.93   0.0  0.573  6.593  69.1  2.4786  1.0  273.0   \n",
       "502  0.04527   0.0  11.93   0.0  0.573  6.120  76.7  2.2875  1.0  273.0   \n",
       "503  0.06076   0.0  11.93   0.0  0.573  6.976  91.0  2.1675  1.0  273.0   \n",
       "504  0.10959   0.0  11.93   0.0  0.573  6.794  89.3  2.3889  1.0  273.0   \n",
       "505  0.04741   0.0  11.93   0.0  0.573  6.030  80.8  2.5050  1.0  273.0   \n",
       "\n",
       "     PTRATIO       B  LSTAT  target  \n",
       "0       15.3  396.90   4.98    24.0  \n",
       "1       17.8  396.90   9.14    21.6  \n",
       "2       17.8  392.83   4.03    34.7  \n",
       "3       18.7  394.63   2.94    33.4  \n",
       "4       18.7  396.90   5.33    36.2  \n",
       "..       ...     ...    ...     ...  \n",
       "501     21.0  391.99   9.67    22.4  \n",
       "502     21.0  396.90   9.08    20.6  \n",
       "503     21.0  396.90   5.64    23.9  \n",
       "504     21.0  393.45   6.48    22.0  \n",
       "505     21.0  396.90   7.88    11.9  \n",
       "\n",
       "[506 rows x 14 columns]"
      ]
     },
     "execution_count": 97,
     "metadata": {},
     "output_type": "execute_result"
    }
   ],
   "source": [
    "df['target'] = target\n",
    "df"
   ]
  },
  {
   "cell_type": "code",
   "execution_count": 98,
   "id": "2c973633",
   "metadata": {
    "execution": {
     "iopub.execute_input": "2022-06-14T01:04:30.681622Z",
     "iopub.status.busy": "2022-06-14T01:04:30.680845Z",
     "iopub.status.idle": "2022-06-14T01:04:30.693345Z",
     "shell.execute_reply": "2022-06-14T01:04:30.694018Z",
     "shell.execute_reply.started": "2022-06-14T00:44:47.222871Z"
    },
    "papermill": {
     "duration": 0.217252,
     "end_time": "2022-06-14T01:04:30.694213",
     "exception": false,
     "start_time": "2022-06-14T01:04:30.476961",
     "status": "completed"
    },
    "tags": []
   },
   "outputs": [
    {
     "name": "stdout",
     "output_type": "stream",
     "text": [
      "33.334975755635966 [-1.28749718e-01  3.78232228e-02  5.82109233e-02  3.23866812e+00\n",
      " -1.61698120e+01  3.90205116e+00 -1.28507825e-02 -1.42222430e+00\n",
      "  2.34853915e-01 -8.21331947e-03 -9.28722459e-01  1.17695921e-02\n",
      " -5.47566338e-01]\n"
     ]
    }
   ],
   "source": [
    "X = df.drop('target', axis =1)\n",
    "y = df['target']\n",
    "\n",
    "from sklearn.model_selection import train_test_split\n",
    "\n",
    "X_train, X_test, y_train, y_test = train_test_split(X, y, test_size = 0.33, random_state = 42)\n",
    "\n",
    "from sklearn.linear_model import LinearRegression\n",
    "\n",
    "model = LinearRegression()\n",
    "model.fit(X_train, y_train)\n",
    "print(model.intercept_, model.coef_)"
   ]
  },
  {
   "cell_type": "code",
   "execution_count": 99,
   "id": "3051d23d",
   "metadata": {
    "execution": {
     "iopub.execute_input": "2022-06-14T01:04:31.109226Z",
     "iopub.status.busy": "2022-06-14T01:04:31.108483Z",
     "iopub.status.idle": "2022-06-14T01:04:31.119505Z",
     "shell.execute_reply": "2022-06-14T01:04:31.120119Z",
     "shell.execute_reply.started": "2022-06-14T00:44:47.238704Z"
    },
    "papermill": {
     "duration": 0.223591,
     "end_time": "2022-06-14T01:04:31.120324",
     "exception": false,
     "start_time": "2022-06-14T01:04:30.896733",
     "status": "completed"
    },
    "tags": []
   },
   "outputs": [
    {
     "data": {
      "text/html": [
       "<div>\n",
       "<style scoped>\n",
       "    .dataframe tbody tr th:only-of-type {\n",
       "        vertical-align: middle;\n",
       "    }\n",
       "\n",
       "    .dataframe tbody tr th {\n",
       "        vertical-align: top;\n",
       "    }\n",
       "\n",
       "    .dataframe thead th {\n",
       "        text-align: right;\n",
       "    }\n",
       "</style>\n",
       "<table border=\"1\" class=\"dataframe\">\n",
       "  <thead>\n",
       "    <tr style=\"text-align: right;\">\n",
       "      <th></th>\n",
       "      <th>常數</th>\n",
       "      <th>係數</th>\n",
       "    </tr>\n",
       "  </thead>\n",
       "  <tbody>\n",
       "    <tr>\n",
       "      <th>5</th>\n",
       "      <td>RM</td>\n",
       "      <td>3.902051</td>\n",
       "    </tr>\n",
       "    <tr>\n",
       "      <th>3</th>\n",
       "      <td>CHAS</td>\n",
       "      <td>3.238668</td>\n",
       "    </tr>\n",
       "    <tr>\n",
       "      <th>8</th>\n",
       "      <td>RAD</td>\n",
       "      <td>0.234854</td>\n",
       "    </tr>\n",
       "    <tr>\n",
       "      <th>2</th>\n",
       "      <td>INDUS</td>\n",
       "      <td>0.058211</td>\n",
       "    </tr>\n",
       "    <tr>\n",
       "      <th>1</th>\n",
       "      <td>ZN</td>\n",
       "      <td>0.037823</td>\n",
       "    </tr>\n",
       "    <tr>\n",
       "      <th>11</th>\n",
       "      <td>B</td>\n",
       "      <td>0.011770</td>\n",
       "    </tr>\n",
       "    <tr>\n",
       "      <th>9</th>\n",
       "      <td>TAX</td>\n",
       "      <td>-0.008213</td>\n",
       "    </tr>\n",
       "    <tr>\n",
       "      <th>6</th>\n",
       "      <td>AGE</td>\n",
       "      <td>-0.012851</td>\n",
       "    </tr>\n",
       "    <tr>\n",
       "      <th>0</th>\n",
       "      <td>CRIM</td>\n",
       "      <td>-0.128750</td>\n",
       "    </tr>\n",
       "    <tr>\n",
       "      <th>12</th>\n",
       "      <td>LSTAT</td>\n",
       "      <td>-0.547566</td>\n",
       "    </tr>\n",
       "    <tr>\n",
       "      <th>10</th>\n",
       "      <td>PTRATIO</td>\n",
       "      <td>-0.928722</td>\n",
       "    </tr>\n",
       "    <tr>\n",
       "      <th>7</th>\n",
       "      <td>DIS</td>\n",
       "      <td>-1.422224</td>\n",
       "    </tr>\n",
       "    <tr>\n",
       "      <th>4</th>\n",
       "      <td>NOX</td>\n",
       "      <td>-16.169812</td>\n",
       "    </tr>\n",
       "  </tbody>\n",
       "</table>\n",
       "</div>"
      ],
      "text/plain": [
       "         常數         係數\n",
       "5        RM   3.902051\n",
       "3      CHAS   3.238668\n",
       "8       RAD   0.234854\n",
       "2     INDUS   0.058211\n",
       "1        ZN   0.037823\n",
       "11        B   0.011770\n",
       "9       TAX  -0.008213\n",
       "6       AGE  -0.012851\n",
       "0      CRIM  -0.128750\n",
       "12    LSTAT  -0.547566\n",
       "10  PTRATIO  -0.928722\n",
       "7       DIS  -1.422224\n",
       "4       NOX -16.169812"
      ]
     },
     "execution_count": 99,
     "metadata": {},
     "output_type": "execute_result"
    }
   ],
   "source": [
    "pd.DataFrame(zip(X.columns, model.coef_),columns = ['常數','係數']).sort_values(by='係數',ascending=False)"
   ]
  },
  {
   "cell_type": "markdown",
   "id": "a14bf4e3",
   "metadata": {
    "papermill": {
     "duration": 0.201371,
     "end_time": "2022-06-14T01:04:31.525336",
     "exception": false,
     "start_time": "2022-06-14T01:04:31.323965",
     "status": "completed"
    },
    "tags": []
   },
   "source": [
    "# 5/12"
   ]
  },
  {
   "cell_type": "markdown",
   "id": "752318fd",
   "metadata": {
    "papermill": {
     "duration": 0.200146,
     "end_time": "2022-06-14T01:04:31.928931",
     "exception": false,
     "start_time": "2022-06-14T01:04:31.728785",
     "status": "completed"
    },
    "tags": []
   },
   "source": [
    "# 5/17"
   ]
  },
  {
   "cell_type": "code",
   "execution_count": 100,
   "id": "60fce16b",
   "metadata": {
    "execution": {
     "iopub.execute_input": "2022-06-14T01:04:32.340099Z",
     "iopub.status.busy": "2022-06-14T01:04:32.339319Z",
     "iopub.status.idle": "2022-06-14T01:04:32.347899Z",
     "shell.execute_reply": "2022-06-14T01:04:32.347335Z",
     "shell.execute_reply.started": "2022-06-14T00:44:47.257482Z"
    },
    "papermill": {
     "duration": 0.215943,
     "end_time": "2022-06-14T01:04:32.348043",
     "exception": false,
     "start_time": "2022-06-14T01:04:32.132100",
     "status": "completed"
    },
    "tags": []
   },
   "outputs": [
    {
     "name": "stdout",
     "output_type": "stream",
     "text": [
      "<class 'zip'>\n",
      "<zip object at 0x7fa87bed0190>\n",
      "(1, 1)\n",
      "(2, 4)\n",
      "(3, 9)\n"
     ]
    }
   ],
   "source": [
    "number = [1,2,3]\n",
    "sqr= [1,4,9]\n",
    "iterator = zip(number,sqr)\n",
    "print(type(iterator))\n",
    "print(iterator)\n",
    "for a in iterator:\n",
    "    print(a)\n"
   ]
  },
  {
   "cell_type": "code",
   "execution_count": 101,
   "id": "bb0e764a",
   "metadata": {
    "execution": {
     "iopub.execute_input": "2022-06-14T01:04:32.757486Z",
     "iopub.status.busy": "2022-06-14T01:04:32.756778Z",
     "iopub.status.idle": "2022-06-14T01:04:32.764334Z",
     "shell.execute_reply": "2022-06-14T01:04:32.765091Z",
     "shell.execute_reply.started": "2022-06-14T00:44:47.271350Z"
    },
    "papermill": {
     "duration": 0.214998,
     "end_time": "2022-06-14T01:04:32.765343",
     "exception": false,
     "start_time": "2022-06-14T01:04:32.550345",
     "status": "completed"
    },
    "tags": []
   },
   "outputs": [
    {
     "name": "stdout",
     "output_type": "stream",
     "text": [
      "<class 'zip'>\n",
      "<zip object at 0x7fa87bece8c0>\n",
      "(1, 1, 1)\n",
      "(2, 4, 8)\n",
      "(3, 9, 27)\n"
     ]
    }
   ],
   "source": [
    "number = [1,2,3]\n",
    "sqr= [1,4,9]\n",
    "cube = [1,8,27]\n",
    "iterator = zip(number,sqr,cube)\n",
    "print(type(iterator))\n",
    "print(iterator)\n",
    "for a in iterator:\n",
    "    print(a)"
   ]
  },
  {
   "cell_type": "markdown",
   "id": "55e79ddd",
   "metadata": {
    "papermill": {
     "duration": 0.208727,
     "end_time": "2022-06-14T01:04:33.179871",
     "exception": false,
     "start_time": "2022-06-14T01:04:32.971144",
     "status": "completed"
    },
    "tags": []
   },
   "source": [
    "# 5/19"
   ]
  },
  {
   "cell_type": "code",
   "execution_count": 102,
   "id": "01143b42",
   "metadata": {
    "execution": {
     "iopub.execute_input": "2022-06-14T01:04:33.593616Z",
     "iopub.status.busy": "2022-06-14T01:04:33.592910Z",
     "iopub.status.idle": "2022-06-14T01:04:33.604568Z",
     "shell.execute_reply": "2022-06-14T01:04:33.605177Z",
     "shell.execute_reply.started": "2022-06-14T00:44:47.285041Z"
    },
    "papermill": {
     "duration": 0.223147,
     "end_time": "2022-06-14T01:04:33.605374",
     "exception": false,
     "start_time": "2022-06-14T01:04:33.382227",
     "status": "completed"
    },
    "tags": []
   },
   "outputs": [
    {
     "data": {
      "text/html": [
       "<div>\n",
       "<style scoped>\n",
       "    .dataframe tbody tr th:only-of-type {\n",
       "        vertical-align: middle;\n",
       "    }\n",
       "\n",
       "    .dataframe tbody tr th {\n",
       "        vertical-align: top;\n",
       "    }\n",
       "\n",
       "    .dataframe thead th {\n",
       "        text-align: right;\n",
       "    }\n",
       "</style>\n",
       "<table border=\"1\" class=\"dataframe\">\n",
       "  <thead>\n",
       "    <tr style=\"text-align: right;\">\n",
       "      <th></th>\n",
       "      <th>常數</th>\n",
       "      <th>係數</th>\n",
       "    </tr>\n",
       "  </thead>\n",
       "  <tbody>\n",
       "    <tr>\n",
       "      <th>5</th>\n",
       "      <td>RM</td>\n",
       "      <td>2.808135</td>\n",
       "    </tr>\n",
       "    <tr>\n",
       "      <th>8</th>\n",
       "      <td>RAD</td>\n",
       "      <td>2.032761</td>\n",
       "    </tr>\n",
       "    <tr>\n",
       "      <th>11</th>\n",
       "      <td>B</td>\n",
       "      <td>1.041257</td>\n",
       "    </tr>\n",
       "    <tr>\n",
       "      <th>1</th>\n",
       "      <td>ZN</td>\n",
       "      <td>0.867933</td>\n",
       "    </tr>\n",
       "    <tr>\n",
       "      <th>3</th>\n",
       "      <td>CHAS</td>\n",
       "      <td>0.861838</td>\n",
       "    </tr>\n",
       "    <tr>\n",
       "      <th>2</th>\n",
       "      <td>INDUS</td>\n",
       "      <td>0.405028</td>\n",
       "    </tr>\n",
       "    <tr>\n",
       "      <th>6</th>\n",
       "      <td>AGE</td>\n",
       "      <td>-0.358669</td>\n",
       "    </tr>\n",
       "    <tr>\n",
       "      <th>0</th>\n",
       "      <td>CRIM</td>\n",
       "      <td>-0.988580</td>\n",
       "    </tr>\n",
       "    <tr>\n",
       "      <th>9</th>\n",
       "      <td>TAX</td>\n",
       "      <td>-1.364009</td>\n",
       "    </tr>\n",
       "    <tr>\n",
       "      <th>4</th>\n",
       "      <td>NOX</td>\n",
       "      <td>-1.900100</td>\n",
       "    </tr>\n",
       "    <tr>\n",
       "      <th>10</th>\n",
       "      <td>PTRATIO</td>\n",
       "      <td>-2.082536</td>\n",
       "    </tr>\n",
       "    <tr>\n",
       "      <th>7</th>\n",
       "      <td>DIS</td>\n",
       "      <td>-3.045535</td>\n",
       "    </tr>\n",
       "    <tr>\n",
       "      <th>12</th>\n",
       "      <td>LSTAT</td>\n",
       "      <td>-3.926286</td>\n",
       "    </tr>\n",
       "  </tbody>\n",
       "</table>\n",
       "</div>"
      ],
      "text/plain": [
       "         常數        係數\n",
       "5        RM  2.808135\n",
       "8       RAD  2.032761\n",
       "11        B  1.041257\n",
       "1        ZN  0.867933\n",
       "3      CHAS  0.861838\n",
       "2     INDUS  0.405028\n",
       "6       AGE -0.358669\n",
       "0      CRIM -0.988580\n",
       "9       TAX -1.364009\n",
       "4       NOX -1.900100\n",
       "10  PTRATIO -2.082536\n",
       "7       DIS -3.045535\n",
       "12    LSTAT -3.926286"
      ]
     },
     "execution_count": 102,
     "metadata": {},
     "output_type": "execute_result"
    }
   ],
   "source": [
    "from sklearn.preprocessing import StandardScaler\n",
    "from sklearn.pipeline import make_pipeline\n",
    "\n",
    "model_pl = make_pipeline(StandardScaler(), LinearRegression())\n",
    "model_pl.fit(X_train, y_train)\n",
    "reg = model_pl.named_steps['linearregression']\n",
    "pd.DataFrame(zip(X.columns, reg.coef_),columns = ['常數','係數']).sort_values(by='係數',ascending=False)"
   ]
  },
  {
   "cell_type": "code",
   "execution_count": 103,
   "id": "620b74d4",
   "metadata": {
    "execution": {
     "iopub.execute_input": "2022-06-14T01:04:34.021702Z",
     "iopub.status.busy": "2022-06-14T01:04:34.020757Z",
     "iopub.status.idle": "2022-06-14T01:04:34.025857Z",
     "shell.execute_reply": "2022-06-14T01:04:34.026718Z",
     "shell.execute_reply.started": "2022-06-14T00:44:47.311352Z"
    },
    "papermill": {
     "duration": 0.214944,
     "end_time": "2022-06-14T01:04:34.026931",
     "exception": false,
     "start_time": "2022-06-14T01:04:33.811987",
     "status": "completed"
    },
    "tags": []
   },
   "outputs": [
    {
     "data": {
      "text/plain": [
       "dict_keys(['standardscaler', 'linearregression'])"
      ]
     },
     "execution_count": 103,
     "metadata": {},
     "output_type": "execute_result"
    }
   ],
   "source": [
    "model_pl.named_steps.keys()"
   ]
  },
  {
   "cell_type": "code",
   "execution_count": 104,
   "id": "e1f56f0d",
   "metadata": {
    "execution": {
     "iopub.execute_input": "2022-06-14T01:04:34.442373Z",
     "iopub.status.busy": "2022-06-14T01:04:34.441734Z",
     "iopub.status.idle": "2022-06-14T01:04:34.450361Z",
     "shell.execute_reply": "2022-06-14T01:04:34.450910Z",
     "shell.execute_reply.started": "2022-06-14T00:44:47.319574Z"
    },
    "papermill": {
     "duration": 0.218416,
     "end_time": "2022-06-14T01:04:34.451111",
     "exception": false,
     "start_time": "2022-06-14T01:04:34.232695",
     "status": "completed"
    },
    "tags": []
   },
   "outputs": [
    {
     "name": "stdout",
     "output_type": "stream",
     "text": [
      "20.724023437339746\n",
      "3.148255754816832\n",
      "0.7261570836552478\n"
     ]
    }
   ],
   "source": [
    "y_pred = model_pl.predict(X_test)\n",
    "\n",
    "from sklearn.metrics import mean_squared_error, mean_absolute_error, r2_score\n",
    "print(mean_squared_error(y_test,y_pred))\n",
    "print(mean_absolute_error(y_test,y_pred))\n",
    "print(r2_score(y_test,y_pred))"
   ]
  },
  {
   "cell_type": "code",
   "execution_count": 105,
   "id": "6e626b44",
   "metadata": {
    "execution": {
     "iopub.execute_input": "2022-06-14T01:04:34.865566Z",
     "iopub.status.busy": "2022-06-14T01:04:34.864875Z",
     "iopub.status.idle": "2022-06-14T01:04:34.873056Z",
     "shell.execute_reply": "2022-06-14T01:04:34.873559Z",
     "shell.execute_reply.started": "2022-06-14T00:44:47.336578Z"
    },
    "papermill": {
     "duration": 0.216324,
     "end_time": "2022-06-14T01:04:34.873750",
     "exception": false,
     "start_time": "2022-06-14T01:04:34.657426",
     "status": "completed"
    },
    "tags": []
   },
   "outputs": [
    {
     "data": {
      "text/plain": [
       "23.6"
      ]
     },
     "execution_count": 105,
     "metadata": {},
     "output_type": "execute_result"
    }
   ],
   "source": [
    "model.predict(X_test.iloc[[0]])\n",
    "y_test.iloc[0]"
   ]
  },
  {
   "cell_type": "code",
   "execution_count": 106,
   "id": "e0e133d3",
   "metadata": {
    "execution": {
     "iopub.execute_input": "2022-06-14T01:04:35.295457Z",
     "iopub.status.busy": "2022-06-14T01:04:35.294787Z",
     "iopub.status.idle": "2022-06-14T01:04:35.303180Z",
     "shell.execute_reply": "2022-06-14T01:04:35.303833Z",
     "shell.execute_reply.started": "2022-06-14T00:44:47.351559Z"
    },
    "papermill": {
     "duration": 0.219261,
     "end_time": "2022-06-14T01:04:35.304010",
     "exception": false,
     "start_time": "2022-06-14T01:04:35.084749",
     "status": "completed"
    },
    "tags": []
   },
   "outputs": [
    {
     "data": {
      "text/plain": [
       "ColumnTransformer(transformers=['column_sel', 'passthrough',\n",
       "                                Index(['CRIM', 'ZN', 'INDUS'], dtype='object')])"
      ]
     },
     "execution_count": 106,
     "metadata": {},
     "output_type": "execute_result"
    }
   ],
   "source": [
    "from sklearn.compose import ColumnTransformer\n",
    "\n",
    "data_pl = ColumnTransformer(['column_sel','passthrough',X.columns[:3]])\n",
    "data_pl"
   ]
  },
  {
   "cell_type": "code",
   "execution_count": 107,
   "id": "c6dfa5f7",
   "metadata": {
    "execution": {
     "iopub.execute_input": "2022-06-14T01:04:35.727333Z",
     "iopub.status.busy": "2022-06-14T01:04:35.715517Z",
     "iopub.status.idle": "2022-06-14T01:04:35.731095Z",
     "shell.execute_reply": "2022-06-14T01:04:35.730218Z",
     "shell.execute_reply.started": "2022-06-14T00:44:47.362245Z"
    },
    "papermill": {
     "duration": 0.222198,
     "end_time": "2022-06-14T01:04:35.731287",
     "exception": false,
     "start_time": "2022-06-14T01:04:35.509089",
     "status": "completed"
    },
    "tags": []
   },
   "outputs": [
    {
     "name": "stdout",
     "output_type": "stream",
     "text": [
      "22.97079646017699\n",
      "[-2.14462874  1.13030024 -2.77217752]\n"
     ]
    }
   ],
   "source": [
    "from sklearn.compose import ColumnTransformer\n",
    "from sklearn.preprocessing import StandardScaler\n",
    "from sklearn.pipeline import make_pipeline\n",
    "from sklearn.linear_model import LinearRegression\n",
    "\n",
    "data_pl = ColumnTransformer([('column_sel',StandardScaler(),X.columns[:3])])\n",
    "\n",
    "model_pl = make_pipeline(data_pl, LinearRegression())\n",
    "model_pl.fit(X_train, y_train)\n",
    "reg = model_pl.named_steps['linearregression']\n",
    "print(reg.intercept_)\n",
    "print(reg.coef_)"
   ]
  },
  {
   "cell_type": "code",
   "execution_count": 108,
   "id": "a7530097",
   "metadata": {
    "execution": {
     "iopub.execute_input": "2022-06-14T01:04:36.187819Z",
     "iopub.status.busy": "2022-06-14T01:04:36.186940Z",
     "iopub.status.idle": "2022-06-14T01:04:36.190491Z",
     "shell.execute_reply": "2022-06-14T01:04:36.191014Z",
     "shell.execute_reply.started": "2022-06-14T00:44:47.383878Z"
    },
    "papermill": {
     "duration": 0.251424,
     "end_time": "2022-06-14T01:04:36.191203",
     "exception": false,
     "start_time": "2022-06-14T01:04:35.939779",
     "status": "completed"
    },
    "tags": []
   },
   "outputs": [
    {
     "name": "stdout",
     "output_type": "stream",
     "text": [
      "49.17549394985067\n",
      "5.158028841813333\n",
      "0.35020529596305805\n"
     ]
    }
   ],
   "source": [
    "y_pred = model_pl.predict(X_test)\n",
    "\n",
    "from sklearn.metrics import mean_squared_error, mean_absolute_error, r2_score\n",
    "print(mean_squared_error(y_test,y_pred))\n",
    "print(mean_absolute_error(y_test,y_pred))\n",
    "print(r2_score(y_test,y_pred))"
   ]
  },
  {
   "cell_type": "code",
   "execution_count": 109,
   "id": "8498ad24",
   "metadata": {
    "execution": {
     "iopub.execute_input": "2022-06-14T01:04:36.627118Z",
     "iopub.status.busy": "2022-06-14T01:04:36.626382Z",
     "iopub.status.idle": "2022-06-14T01:04:36.629345Z",
     "shell.execute_reply": "2022-06-14T01:04:36.630060Z",
     "shell.execute_reply.started": "2022-06-14T00:44:47.396887Z"
    },
    "papermill": {
     "duration": 0.230658,
     "end_time": "2022-06-14T01:04:36.630311",
     "exception": false,
     "start_time": "2022-06-14T01:04:36.399653",
     "status": "completed"
    },
    "tags": []
   },
   "outputs": [
    {
     "name": "stdout",
     "output_type": "stream",
     "text": [
      "35.2251661672225\n",
      "[-0.98053701]\n",
      "38.410075117662345\n",
      "4.744269760624963\n",
      "0.49245729145962347\n"
     ]
    }
   ],
   "source": [
    "data_pl = ColumnTransformer([('column_sel','passthrough',['LSTAT'])])\n",
    "\n",
    "model_pl = make_pipeline(data_pl, LinearRegression())\n",
    "model_pl.fit(X_train, y_train)\n",
    "reg = model_pl.named_steps['linearregression']\n",
    "print(reg.intercept_)\n",
    "print(reg.coef_)\n",
    "y_pred = model_pl.predict(X_test)\n",
    "\n",
    "from sklearn.metrics import mean_squared_error, mean_absolute_error, r2_score\n",
    "print(mean_squared_error(y_test,y_pred))\n",
    "print(mean_absolute_error(y_test,y_pred))\n",
    "print(r2_score(y_test,y_pred))"
   ]
  },
  {
   "cell_type": "markdown",
   "id": "942426ed",
   "metadata": {
    "papermill": {
     "duration": 0.210145,
     "end_time": "2022-06-14T01:04:37.052376",
     "exception": false,
     "start_time": "2022-06-14T01:04:36.842231",
     "status": "completed"
    },
    "tags": []
   },
   "source": [
    "# 5/24"
   ]
  },
  {
   "cell_type": "code",
   "execution_count": null,
   "id": "0d55c098",
   "metadata": {
    "papermill": {
     "duration": 0.207704,
     "end_time": "2022-06-14T01:04:37.467185",
     "exception": false,
     "start_time": "2022-06-14T01:04:37.259481",
     "status": "completed"
    },
    "tags": []
   },
   "outputs": [],
   "source": []
  },
  {
   "cell_type": "markdown",
   "id": "2a5f78bd",
   "metadata": {
    "papermill": {
     "duration": 0.207939,
     "end_time": "2022-06-14T01:04:37.882300",
     "exception": false,
     "start_time": "2022-06-14T01:04:37.674361",
     "status": "completed"
    },
    "tags": []
   },
   "source": [
    "# 5/26"
   ]
  },
  {
   "cell_type": "code",
   "execution_count": 110,
   "id": "a72f1784",
   "metadata": {
    "execution": {
     "iopub.execute_input": "2022-06-14T01:04:38.308974Z",
     "iopub.status.busy": "2022-06-14T01:04:38.308261Z",
     "iopub.status.idle": "2022-06-14T01:04:38.405109Z",
     "shell.execute_reply": "2022-06-14T01:04:38.404538Z",
     "shell.execute_reply.started": "2022-06-14T00:44:47.418887Z"
    },
    "papermill": {
     "duration": 0.310167,
     "end_time": "2022-06-14T01:04:38.405283",
     "exception": false,
     "start_time": "2022-06-14T01:04:38.095116",
     "status": "completed"
    },
    "tags": []
   },
   "outputs": [
    {
     "data": {
      "text/html": [
       "<div>\n",
       "<style scoped>\n",
       "    .dataframe tbody tr th:only-of-type {\n",
       "        vertical-align: middle;\n",
       "    }\n",
       "\n",
       "    .dataframe tbody tr th {\n",
       "        vertical-align: top;\n",
       "    }\n",
       "\n",
       "    .dataframe thead th {\n",
       "        text-align: right;\n",
       "    }\n",
       "</style>\n",
       "<table border=\"1\" class=\"dataframe\">\n",
       "  <thead>\n",
       "    <tr style=\"text-align: right;\">\n",
       "      <th></th>\n",
       "      <th>sepal length (cm)</th>\n",
       "      <th>sepal width (cm)</th>\n",
       "      <th>petal length (cm)</th>\n",
       "      <th>petal width (cm)</th>\n",
       "      <th>target</th>\n",
       "    </tr>\n",
       "  </thead>\n",
       "  <tbody>\n",
       "    <tr>\n",
       "      <th>50</th>\n",
       "      <td>7.0</td>\n",
       "      <td>3.2</td>\n",
       "      <td>4.7</td>\n",
       "      <td>1.4</td>\n",
       "      <td>1</td>\n",
       "    </tr>\n",
       "    <tr>\n",
       "      <th>51</th>\n",
       "      <td>6.4</td>\n",
       "      <td>3.2</td>\n",
       "      <td>4.5</td>\n",
       "      <td>1.5</td>\n",
       "      <td>1</td>\n",
       "    </tr>\n",
       "    <tr>\n",
       "      <th>52</th>\n",
       "      <td>6.9</td>\n",
       "      <td>3.1</td>\n",
       "      <td>4.9</td>\n",
       "      <td>1.5</td>\n",
       "      <td>1</td>\n",
       "    </tr>\n",
       "    <tr>\n",
       "      <th>53</th>\n",
       "      <td>5.5</td>\n",
       "      <td>2.3</td>\n",
       "      <td>4.0</td>\n",
       "      <td>1.3</td>\n",
       "      <td>1</td>\n",
       "    </tr>\n",
       "    <tr>\n",
       "      <th>54</th>\n",
       "      <td>6.5</td>\n",
       "      <td>2.8</td>\n",
       "      <td>4.6</td>\n",
       "      <td>1.5</td>\n",
       "      <td>1</td>\n",
       "    </tr>\n",
       "    <tr>\n",
       "      <th>...</th>\n",
       "      <td>...</td>\n",
       "      <td>...</td>\n",
       "      <td>...</td>\n",
       "      <td>...</td>\n",
       "      <td>...</td>\n",
       "    </tr>\n",
       "    <tr>\n",
       "      <th>145</th>\n",
       "      <td>6.7</td>\n",
       "      <td>3.0</td>\n",
       "      <td>5.2</td>\n",
       "      <td>2.3</td>\n",
       "      <td>2</td>\n",
       "    </tr>\n",
       "    <tr>\n",
       "      <th>146</th>\n",
       "      <td>6.3</td>\n",
       "      <td>2.5</td>\n",
       "      <td>5.0</td>\n",
       "      <td>1.9</td>\n",
       "      <td>2</td>\n",
       "    </tr>\n",
       "    <tr>\n",
       "      <th>147</th>\n",
       "      <td>6.5</td>\n",
       "      <td>3.0</td>\n",
       "      <td>5.2</td>\n",
       "      <td>2.0</td>\n",
       "      <td>2</td>\n",
       "    </tr>\n",
       "    <tr>\n",
       "      <th>148</th>\n",
       "      <td>6.2</td>\n",
       "      <td>3.4</td>\n",
       "      <td>5.4</td>\n",
       "      <td>2.3</td>\n",
       "      <td>2</td>\n",
       "    </tr>\n",
       "    <tr>\n",
       "      <th>149</th>\n",
       "      <td>5.9</td>\n",
       "      <td>3.0</td>\n",
       "      <td>5.1</td>\n",
       "      <td>1.8</td>\n",
       "      <td>2</td>\n",
       "    </tr>\n",
       "  </tbody>\n",
       "</table>\n",
       "<p>100 rows × 5 columns</p>\n",
       "</div>"
      ],
      "text/plain": [
       "     sepal length (cm)  sepal width (cm)  petal length (cm)  petal width (cm)  \\\n",
       "50                 7.0               3.2                4.7               1.4   \n",
       "51                 6.4               3.2                4.5               1.5   \n",
       "52                 6.9               3.1                4.9               1.5   \n",
       "53                 5.5               2.3                4.0               1.3   \n",
       "54                 6.5               2.8                4.6               1.5   \n",
       "..                 ...               ...                ...               ...   \n",
       "145                6.7               3.0                5.2               2.3   \n",
       "146                6.3               2.5                5.0               1.9   \n",
       "147                6.5               3.0                5.2               2.0   \n",
       "148                6.2               3.4                5.4               2.3   \n",
       "149                5.9               3.0                5.1               1.8   \n",
       "\n",
       "     target  \n",
       "50        1  \n",
       "51        1  \n",
       "52        1  \n",
       "53        1  \n",
       "54        1  \n",
       "..      ...  \n",
       "145       2  \n",
       "146       2  \n",
       "147       2  \n",
       "148       2  \n",
       "149       2  \n",
       "\n",
       "[100 rows x 5 columns]"
      ]
     },
     "execution_count": 110,
     "metadata": {},
     "output_type": "execute_result"
    }
   ],
   "source": [
    "from sklearn import datasets\n",
    "import pandas as pd\n",
    "import numpy as np\n",
    "iris = datasets.load_iris()\n",
    "df = pd.DataFrame(iris['data'], columns=iris['feature_names'])\n",
    "df['target'] = iris['target']\n",
    "df.drop(index=df.index[:50],inplace=True)\n",
    "\n",
    "df"
   ]
  },
  {
   "cell_type": "code",
   "execution_count": 111,
   "id": "54ce84c2",
   "metadata": {
    "execution": {
     "iopub.execute_input": "2022-06-14T01:04:38.877966Z",
     "iopub.status.busy": "2022-06-14T01:04:38.855373Z",
     "iopub.status.idle": "2022-06-14T01:04:40.288924Z",
     "shell.execute_reply": "2022-06-14T01:04:40.289410Z",
     "shell.execute_reply.started": "2022-06-14T00:44:47.444157Z"
    },
    "papermill": {
     "duration": 1.676784,
     "end_time": "2022-06-14T01:04:40.289608",
     "exception": false,
     "start_time": "2022-06-14T01:04:38.612824",
     "status": "completed"
    },
    "tags": []
   },
   "outputs": [
    {
     "data": {
      "text/plain": [
       "<seaborn.axisgrid.PairGrid at 0x7fa87be691d0>"
      ]
     },
     "execution_count": 111,
     "metadata": {},
     "output_type": "execute_result"
    },
    {
     "data": {
      "image/png": "[encoded data removed]",
      "text/plain": [
       "<Figure size 474.375x432 with 6 Axes>"
      ]
     },
     "metadata": {
      "needs_background": "light"
     },
     "output_type": "display_data"
    }
   ],
   "source": [
    "import seaborn as sns\n",
    "import matplotlib.pyplot as plt\n",
    "sns.pairplot(df, hue='target', vars=['sepal length (cm)','petal length (cm)'], height=3)"
   ]
  },
  {
   "cell_type": "code",
   "execution_count": 112,
   "id": "d753b634",
   "metadata": {
    "execution": {
     "iopub.execute_input": "2022-06-14T01:04:40.713492Z",
     "iopub.status.busy": "2022-06-14T01:04:40.712502Z",
     "iopub.status.idle": "2022-06-14T01:04:40.718310Z",
     "shell.execute_reply": "2022-06-14T01:04:40.718911Z",
     "shell.execute_reply.started": "2022-06-14T00:44:49.121311Z"
    },
    "papermill": {
     "duration": 0.219761,
     "end_time": "2022-06-14T01:04:40.719120",
     "exception": false,
     "start_time": "2022-06-14T01:04:40.499359",
     "status": "completed"
    },
    "tags": []
   },
   "outputs": [],
   "source": [
    "X_cols = ['sepal width (cm)', 'petal length (cm)']\n",
    "y_col = 'target'\n",
    "X = df[X_cols]\n",
    "y = df[y_col]"
   ]
  },
  {
   "cell_type": "code",
   "execution_count": 113,
   "id": "98037342",
   "metadata": {
    "execution": {
     "iopub.execute_input": "2022-06-14T01:04:41.149147Z",
     "iopub.status.busy": "2022-06-14T01:04:41.148148Z",
     "iopub.status.idle": "2022-06-14T01:04:41.161236Z",
     "shell.execute_reply": "2022-06-14T01:04:41.160602Z",
     "shell.execute_reply.started": "2022-06-14T00:44:49.130066Z"
    },
    "papermill": {
     "duration": 0.231611,
     "end_time": "2022-06-14T01:04:41.161389",
     "exception": false,
     "start_time": "2022-06-14T01:04:40.929778",
     "status": "completed"
    },
    "tags": []
   },
   "outputs": [
    {
     "data": {
      "text/plain": [
       "array([[-2.48416603,  1.88759016]])"
      ]
     },
     "execution_count": 113,
     "metadata": {},
     "output_type": "execute_result"
    }
   ],
   "source": [
    "from sklearn.model_selection import train_test_split\n",
    "X_train, X_test, y_train, y_test = train_test_split(X, y, test_size = 0.33, random_state = 42)\n",
    "from sklearn.linear_model import LogisticRegression\n",
    "model = LogisticRegression(solver='liblinear')\n",
    "model.fit(X_train, y_train)\n",
    "model.coef_"
   ]
  },
  {
   "cell_type": "code",
   "execution_count": 114,
   "id": "6c9df432",
   "metadata": {
    "execution": {
     "iopub.execute_input": "2022-06-14T01:04:41.589493Z",
     "iopub.status.busy": "2022-06-14T01:04:41.588548Z",
     "iopub.status.idle": "2022-06-14T01:04:41.596062Z",
     "shell.execute_reply": "2022-06-14T01:04:41.596554Z",
     "shell.execute_reply.started": "2022-06-14T00:44:49.150767Z"
    },
    "papermill": {
     "duration": 0.22445,
     "end_time": "2022-06-14T01:04:41.596733",
     "exception": false,
     "start_time": "2022-06-14T01:04:41.372283",
     "status": "completed"
    },
    "tags": []
   },
   "outputs": [
    {
     "data": {
      "text/plain": [
       "array([2, 2, 2, 1, 1])"
      ]
     },
     "execution_count": 114,
     "metadata": {},
     "output_type": "execute_result"
    }
   ],
   "source": [
    "y_pred = model.predict(X_test)\n",
    "y_pred[:5]"
   ]
  },
  {
   "cell_type": "code",
   "execution_count": 115,
   "id": "deede290",
   "metadata": {
    "execution": {
     "iopub.execute_input": "2022-06-14T01:04:42.033632Z",
     "iopub.status.busy": "2022-06-14T01:04:42.032715Z",
     "iopub.status.idle": "2022-06-14T01:04:42.037238Z",
     "shell.execute_reply": "2022-06-14T01:04:42.037721Z",
     "shell.execute_reply.started": "2022-06-14T00:44:49.161483Z"
    },
    "papermill": {
     "duration": 0.23288,
     "end_time": "2022-06-14T01:04:42.037908",
     "exception": false,
     "start_time": "2022-06-14T01:04:41.805028",
     "status": "completed"
    },
    "tags": []
   },
   "outputs": [
    {
     "data": {
      "text/html": [
       "<div>\n",
       "<style scoped>\n",
       "    .dataframe tbody tr th:only-of-type {\n",
       "        vertical-align: middle;\n",
       "    }\n",
       "\n",
       "    .dataframe tbody tr th {\n",
       "        vertical-align: top;\n",
       "    }\n",
       "\n",
       "    .dataframe thead th {\n",
       "        text-align: right;\n",
       "    }\n",
       "</style>\n",
       "<table border=\"1\" class=\"dataframe\">\n",
       "  <thead>\n",
       "    <tr style=\"text-align: right;\">\n",
       "      <th></th>\n",
       "      <th>data</th>\n",
       "      <th>prediction</th>\n",
       "    </tr>\n",
       "  </thead>\n",
       "  <tbody>\n",
       "    <tr>\n",
       "      <th>0</th>\n",
       "      <td>2</td>\n",
       "      <td>2</td>\n",
       "    </tr>\n",
       "    <tr>\n",
       "      <th>1</th>\n",
       "      <td>2</td>\n",
       "      <td>2</td>\n",
       "    </tr>\n",
       "    <tr>\n",
       "      <th>2</th>\n",
       "      <td>2</td>\n",
       "      <td>2</td>\n",
       "    </tr>\n",
       "    <tr>\n",
       "      <th>3</th>\n",
       "      <td>1</td>\n",
       "      <td>1</td>\n",
       "    </tr>\n",
       "    <tr>\n",
       "      <th>4</th>\n",
       "      <td>1</td>\n",
       "      <td>1</td>\n",
       "    </tr>\n",
       "    <tr>\n",
       "      <th>5</th>\n",
       "      <td>1</td>\n",
       "      <td>1</td>\n",
       "    </tr>\n",
       "    <tr>\n",
       "      <th>6</th>\n",
       "      <td>1</td>\n",
       "      <td>2</td>\n",
       "    </tr>\n",
       "    <tr>\n",
       "      <th>7</th>\n",
       "      <td>2</td>\n",
       "      <td>2</td>\n",
       "    </tr>\n",
       "    <tr>\n",
       "      <th>8</th>\n",
       "      <td>1</td>\n",
       "      <td>1</td>\n",
       "    </tr>\n",
       "    <tr>\n",
       "      <th>9</th>\n",
       "      <td>1</td>\n",
       "      <td>1</td>\n",
       "    </tr>\n",
       "    <tr>\n",
       "      <th>10</th>\n",
       "      <td>1</td>\n",
       "      <td>2</td>\n",
       "    </tr>\n",
       "    <tr>\n",
       "      <th>11</th>\n",
       "      <td>1</td>\n",
       "      <td>1</td>\n",
       "    </tr>\n",
       "    <tr>\n",
       "      <th>12</th>\n",
       "      <td>2</td>\n",
       "      <td>2</td>\n",
       "    </tr>\n",
       "    <tr>\n",
       "      <th>13</th>\n",
       "      <td>1</td>\n",
       "      <td>2</td>\n",
       "    </tr>\n",
       "    <tr>\n",
       "      <th>14</th>\n",
       "      <td>2</td>\n",
       "      <td>2</td>\n",
       "    </tr>\n",
       "    <tr>\n",
       "      <th>15</th>\n",
       "      <td>1</td>\n",
       "      <td>2</td>\n",
       "    </tr>\n",
       "    <tr>\n",
       "      <th>16</th>\n",
       "      <td>2</td>\n",
       "      <td>2</td>\n",
       "    </tr>\n",
       "    <tr>\n",
       "      <th>17</th>\n",
       "      <td>2</td>\n",
       "      <td>2</td>\n",
       "    </tr>\n",
       "    <tr>\n",
       "      <th>18</th>\n",
       "      <td>1</td>\n",
       "      <td>2</td>\n",
       "    </tr>\n",
       "    <tr>\n",
       "      <th>19</th>\n",
       "      <td>1</td>\n",
       "      <td>1</td>\n",
       "    </tr>\n",
       "    <tr>\n",
       "      <th>20</th>\n",
       "      <td>2</td>\n",
       "      <td>2</td>\n",
       "    </tr>\n",
       "    <tr>\n",
       "      <th>21</th>\n",
       "      <td>2</td>\n",
       "      <td>1</td>\n",
       "    </tr>\n",
       "    <tr>\n",
       "      <th>22</th>\n",
       "      <td>1</td>\n",
       "      <td>2</td>\n",
       "    </tr>\n",
       "    <tr>\n",
       "      <th>23</th>\n",
       "      <td>1</td>\n",
       "      <td>1</td>\n",
       "    </tr>\n",
       "    <tr>\n",
       "      <th>24</th>\n",
       "      <td>2</td>\n",
       "      <td>2</td>\n",
       "    </tr>\n",
       "    <tr>\n",
       "      <th>25</th>\n",
       "      <td>1</td>\n",
       "      <td>1</td>\n",
       "    </tr>\n",
       "    <tr>\n",
       "      <th>26</th>\n",
       "      <td>1</td>\n",
       "      <td>2</td>\n",
       "    </tr>\n",
       "    <tr>\n",
       "      <th>27</th>\n",
       "      <td>2</td>\n",
       "      <td>2</td>\n",
       "    </tr>\n",
       "    <tr>\n",
       "      <th>28</th>\n",
       "      <td>1</td>\n",
       "      <td>1</td>\n",
       "    </tr>\n",
       "    <tr>\n",
       "      <th>29</th>\n",
       "      <td>2</td>\n",
       "      <td>2</td>\n",
       "    </tr>\n",
       "    <tr>\n",
       "      <th>30</th>\n",
       "      <td>1</td>\n",
       "      <td>1</td>\n",
       "    </tr>\n",
       "    <tr>\n",
       "      <th>31</th>\n",
       "      <td>1</td>\n",
       "      <td>1</td>\n",
       "    </tr>\n",
       "    <tr>\n",
       "      <th>32</th>\n",
       "      <td>2</td>\n",
       "      <td>2</td>\n",
       "    </tr>\n",
       "  </tbody>\n",
       "</table>\n",
       "</div>"
      ],
      "text/plain": [
       "    data  prediction\n",
       "0      2           2\n",
       "1      2           2\n",
       "2      2           2\n",
       "3      1           1\n",
       "4      1           1\n",
       "5      1           1\n",
       "6      1           2\n",
       "7      2           2\n",
       "8      1           1\n",
       "9      1           1\n",
       "10     1           2\n",
       "11     1           1\n",
       "12     2           2\n",
       "13     1           2\n",
       "14     2           2\n",
       "15     1           2\n",
       "16     2           2\n",
       "17     2           2\n",
       "18     1           2\n",
       "19     1           1\n",
       "20     2           2\n",
       "21     2           1\n",
       "22     1           2\n",
       "23     1           1\n",
       "24     2           2\n",
       "25     1           1\n",
       "26     1           2\n",
       "27     2           2\n",
       "28     1           1\n",
       "29     2           2\n",
       "30     1           1\n",
       "31     1           1\n",
       "32     2           2"
      ]
     },
     "execution_count": 115,
     "metadata": {},
     "output_type": "execute_result"
    }
   ],
   "source": [
    "pd.DataFrame(zip(y_test, y_pred), columns=['data','prediction'])"
   ]
  },
  {
   "cell_type": "code",
   "execution_count": 116,
   "id": "037f1735",
   "metadata": {
    "execution": {
     "iopub.execute_input": "2022-06-14T01:04:42.470931Z",
     "iopub.status.busy": "2022-06-14T01:04:42.469940Z",
     "iopub.status.idle": "2022-06-14T01:04:42.480147Z",
     "shell.execute_reply": "2022-06-14T01:04:42.480705Z",
     "shell.execute_reply.started": "2022-06-14T00:44:49.178046Z"
    },
    "papermill": {
     "duration": 0.229583,
     "end_time": "2022-06-14T01:04:42.480909",
     "exception": false,
     "start_time": "2022-06-14T01:04:42.251326",
     "status": "completed"
    },
    "tags": []
   },
   "outputs": [
    {
     "data": {
      "text/html": [
       "<div>\n",
       "<style scoped>\n",
       "    .dataframe tbody tr th:only-of-type {\n",
       "        vertical-align: middle;\n",
       "    }\n",
       "\n",
       "    .dataframe tbody tr th {\n",
       "        vertical-align: top;\n",
       "    }\n",
       "\n",
       "    .dataframe thead th {\n",
       "        text-align: right;\n",
       "    }\n",
       "</style>\n",
       "<table border=\"1\" class=\"dataframe\">\n",
       "  <thead>\n",
       "    <tr style=\"text-align: right;\">\n",
       "      <th></th>\n",
       "      <th>0</th>\n",
       "      <th>1</th>\n",
       "    </tr>\n",
       "  </thead>\n",
       "  <tbody>\n",
       "    <tr>\n",
       "      <th>0</th>\n",
       "      <td>12</td>\n",
       "      <td>7</td>\n",
       "    </tr>\n",
       "    <tr>\n",
       "      <th>1</th>\n",
       "      <td>1</td>\n",
       "      <td>13</td>\n",
       "    </tr>\n",
       "  </tbody>\n",
       "</table>\n",
       "</div>"
      ],
      "text/plain": [
       "    0   1\n",
       "0  12   7\n",
       "1   1  13"
      ]
     },
     "execution_count": 116,
     "metadata": {},
     "output_type": "execute_result"
    }
   ],
   "source": [
    "from sklearn.metrics import confusion_matrix, accuracy_score, classification_report\n",
    "cm = confusion_matrix(y_test, y_pred)\n",
    "pd.DataFrame(cm)"
   ]
  },
  {
   "cell_type": "code",
   "execution_count": 117,
   "id": "ad5bf056",
   "metadata": {
    "execution": {
     "iopub.execute_input": "2022-06-14T01:04:42.911959Z",
     "iopub.status.busy": "2022-06-14T01:04:42.911268Z",
     "iopub.status.idle": "2022-06-14T01:04:42.916259Z",
     "shell.execute_reply": "2022-06-14T01:04:42.916811Z",
     "shell.execute_reply.started": "2022-06-14T00:44:49.192654Z"
    },
    "papermill": {
     "duration": 0.222442,
     "end_time": "2022-06-14T01:04:42.917015",
     "exception": false,
     "start_time": "2022-06-14T01:04:42.694573",
     "status": "completed"
    },
    "tags": []
   },
   "outputs": [
    {
     "data": {
      "text/plain": [
       "0.76"
      ]
     },
     "execution_count": 117,
     "metadata": {},
     "output_type": "execute_result"
    }
   ],
   "source": [
    "accuracy_score(y_test,y_pred).round(2)"
   ]
  },
  {
   "cell_type": "code",
   "execution_count": 118,
   "id": "2fd4b949",
   "metadata": {
    "execution": {
     "iopub.execute_input": "2022-06-14T01:04:43.356021Z",
     "iopub.status.busy": "2022-06-14T01:04:43.355333Z",
     "iopub.status.idle": "2022-06-14T01:04:43.362217Z",
     "shell.execute_reply": "2022-06-14T01:04:43.362729Z",
     "shell.execute_reply.started": "2022-06-14T00:44:49.203719Z"
    },
    "papermill": {
     "duration": 0.224747,
     "end_time": "2022-06-14T01:04:43.362929",
     "exception": false,
     "start_time": "2022-06-14T01:04:43.138182",
     "status": "completed"
    },
    "tags": []
   },
   "outputs": [
    {
     "data": {
      "text/plain": [
       "0.76"
      ]
     },
     "execution_count": 118,
     "metadata": {},
     "output_type": "execute_result"
    }
   ],
   "source": [
    "model.score(X_test,y_test).round(2)"
   ]
  },
  {
   "cell_type": "code",
   "execution_count": 119,
   "id": "fe61282c",
   "metadata": {
    "execution": {
     "iopub.execute_input": "2022-06-14T01:04:43.794943Z",
     "iopub.status.busy": "2022-06-14T01:04:43.794251Z",
     "iopub.status.idle": "2022-06-14T01:04:43.802402Z",
     "shell.execute_reply": "2022-06-14T01:04:43.803059Z",
     "shell.execute_reply.started": "2022-06-14T00:44:49.218135Z"
    },
    "papermill": {
     "duration": 0.224459,
     "end_time": "2022-06-14T01:04:43.803268",
     "exception": false,
     "start_time": "2022-06-14T01:04:43.578809",
     "status": "completed"
    },
    "tags": []
   },
   "outputs": [
    {
     "name": "stdout",
     "output_type": "stream",
     "text": [
      "              precision    recall  f1-score   support\n",
      "\n",
      "           1       0.92      0.63      0.75        19\n",
      "           2       0.65      0.93      0.76        14\n",
      "\n",
      "    accuracy                           0.76        33\n",
      "   macro avg       0.79      0.78      0.76        33\n",
      "weighted avg       0.81      0.76      0.76        33\n",
      "\n"
     ]
    }
   ],
   "source": [
    "print(classification_report(y_test, y_pred))"
   ]
  },
  {
   "cell_type": "markdown",
   "id": "8380ee2d",
   "metadata": {
    "papermill": {
     "duration": 0.215825,
     "end_time": "2022-06-14T01:04:44.243396",
     "exception": false,
     "start_time": "2022-06-14T01:04:44.027571",
     "status": "completed"
    },
    "tags": []
   },
   "source": [
    "# 05/31"
   ]
  },
  {
   "cell_type": "code",
   "execution_count": null,
   "id": "0d81e257",
   "metadata": {
    "papermill": {
     "duration": 0.214379,
     "end_time": "2022-06-14T01:04:44.671213",
     "exception": false,
     "start_time": "2022-06-14T01:04:44.456834",
     "status": "completed"
    },
    "tags": []
   },
   "outputs": [],
   "source": []
  },
  {
   "cell_type": "markdown",
   "id": "b6c97add",
   "metadata": {
    "papermill": {
     "duration": 0.220017,
     "end_time": "2022-06-14T01:04:45.115278",
     "exception": false,
     "start_time": "2022-06-14T01:04:44.895261",
     "status": "completed"
    },
    "tags": []
   },
   "source": [
    "# 6/2"
   ]
  },
  {
   "cell_type": "code",
   "execution_count": 120,
   "id": "33810816",
   "metadata": {
    "execution": {
     "iopub.execute_input": "2022-06-14T01:04:45.557697Z",
     "iopub.status.busy": "2022-06-14T01:04:45.556884Z",
     "iopub.status.idle": "2022-06-14T01:04:45.785786Z",
     "shell.execute_reply": "2022-06-14T01:04:45.785074Z",
     "shell.execute_reply.started": "2022-06-14T00:44:49.236387Z"
    },
    "papermill": {
     "duration": 0.454384,
     "end_time": "2022-06-14T01:04:45.785966",
     "exception": false,
     "start_time": "2022-06-14T01:04:45.331582",
     "status": "completed"
    },
    "tags": []
   },
   "outputs": [
    {
     "name": "stderr",
     "output_type": "stream",
     "text": [
      "/opt/conda/lib/python3.7/site-packages/sklearn/utils/deprecation.py:87: FutureWarning: Function plot_confusion_matrix is deprecated; Function `plot_confusion_matrix` is deprecated in 1.0 and will be removed in 1.2. Use one of the class methods: ConfusionMatrixDisplay.from_predictions or ConfusionMatrixDisplay.from_estimator.\n",
      "  warnings.warn(msg, category=FutureWarning)\n"
     ]
    },
    {
     "data": {
      "image/png": "[encoded data removed]",
      "text/plain": [
       "<Figure size 432x288 with 2 Axes>"
      ]
     },
     "metadata": {
      "needs_background": "light"
     },
     "output_type": "display_data"
    }
   ],
   "source": [
    "import matplotlib.pyplot as plt\n",
    "from sklearn.metrics import ConfusionMatrixDisplay, confusion_matrix, plot_confusion_matrix\n",
    "\n",
    "plot_confusion_matrix(model, X_test, y_test, cmap='viridis')\n",
    "plt.show()"
   ]
  },
  {
   "cell_type": "code",
   "execution_count": 121,
   "id": "5ed0db9c",
   "metadata": {
    "execution": {
     "iopub.execute_input": "2022-06-14T01:04:46.230047Z",
     "iopub.status.busy": "2022-06-14T01:04:46.229321Z",
     "iopub.status.idle": "2022-06-14T01:04:46.442907Z",
     "shell.execute_reply": "2022-06-14T01:04:46.442307Z",
     "shell.execute_reply.started": "2022-06-14T00:44:49.483735Z"
    },
    "papermill": {
     "duration": 0.435798,
     "end_time": "2022-06-14T01:04:46.443069",
     "exception": false,
     "start_time": "2022-06-14T01:04:46.007271",
     "status": "completed"
    },
    "tags": []
   },
   "outputs": [
    {
     "data": {
      "image/png": "[encoded data removed]",
      "text/plain": [
       "<Figure size 432x288 with 2 Axes>"
      ]
     },
     "metadata": {
      "needs_background": "light"
     },
     "output_type": "display_data"
    }
   ],
   "source": [
    "cm = confusion_matrix(y_test, y_pred, labels=model.classes_)\n",
    "disp = ConfusionMatrixDisplay(confusion_matrix=cm, display_labels=model.classes_)\n",
    "disp.plot()\n",
    "plt.show()"
   ]
  },
  {
   "cell_type": "markdown",
   "id": "e114e621",
   "metadata": {
    "papermill": {
     "duration": 0.215745,
     "end_time": "2022-06-14T01:04:46.874019",
     "exception": false,
     "start_time": "2022-06-14T01:04:46.658274",
     "status": "completed"
    },
    "tags": []
   },
   "source": [
    "Recall(召回率) = TP/(TP+FN)\n",
    "\n",
    "Precision(準確率) = TP/(TP+FP)\n",
    "\n",
    "F1-score = 2 * Precision * Recall / (Precision + Recall)"
   ]
  },
  {
   "cell_type": "code",
   "execution_count": 122,
   "id": "23a19f82",
   "metadata": {
    "execution": {
     "iopub.execute_input": "2022-06-14T01:04:47.355379Z",
     "iopub.status.busy": "2022-06-14T01:04:47.354373Z",
     "iopub.status.idle": "2022-06-14T01:04:47.364565Z",
     "shell.execute_reply": "2022-06-14T01:04:47.363984Z",
     "shell.execute_reply.started": "2022-06-14T00:44:49.726572Z"
    },
    "papermill": {
     "duration": 0.244328,
     "end_time": "2022-06-14T01:04:47.364724",
     "exception": false,
     "start_time": "2022-06-14T01:04:47.120396",
     "status": "completed"
    },
    "tags": []
   },
   "outputs": [
    {
     "data": {
      "text/plain": [
       "0.7478709677419355"
      ]
     },
     "execution_count": 122,
     "metadata": {},
     "output_type": "execute_result"
    }
   ],
   "source": [
    "a = classification_report(y_test, y_pred).split('\\n')[2].split()\n",
    "2*float(a[1])*float(a[2])/(float(a[1])+float(a[2]))"
   ]
  },
  {
   "cell_type": "code",
   "execution_count": 123,
   "id": "1d11c374",
   "metadata": {
    "execution": {
     "iopub.execute_input": "2022-06-14T01:04:47.802006Z",
     "iopub.status.busy": "2022-06-14T01:04:47.801044Z",
     "iopub.status.idle": "2022-06-14T01:04:47.816069Z",
     "shell.execute_reply": "2022-06-14T01:04:47.816704Z",
     "shell.execute_reply.started": "2022-06-14T00:44:49.744996Z"
    },
    "papermill": {
     "duration": 0.237119,
     "end_time": "2022-06-14T01:04:47.816909",
     "exception": false,
     "start_time": "2022-06-14T01:04:47.579790",
     "status": "completed"
    },
    "tags": []
   },
   "outputs": [
    {
     "name": "stdout",
     "output_type": "stream",
     "text": [
      "[[17  2]\n",
      " [ 3 11]]\n",
      "0.8484848484848485\n"
     ]
    }
   ],
   "source": [
    "from sklearn.preprocessing import StandardScaler\n",
    "from sklearn.pipeline import make_pipeline\n",
    "\n",
    "model_pl = make_pipeline(StandardScaler(),LogisticRegression(solver='liblinear'))\n",
    "model_pl.fit(X_train, y_train)\n",
    "y_pred = model_pl.predict(X_test)\n",
    "cm = confusion_matrix(y_test,y_pred)\n",
    "print(cm)\n",
    "print(accuracy_score(y_test,y_pred))"
   ]
  },
  {
   "cell_type": "code",
   "execution_count": 124,
   "id": "c4095619",
   "metadata": {
    "execution": {
     "iopub.execute_input": "2022-06-14T01:04:48.271504Z",
     "iopub.status.busy": "2022-06-14T01:04:48.270371Z",
     "iopub.status.idle": "2022-06-14T01:04:48.274260Z",
     "shell.execute_reply": "2022-06-14T01:04:48.274787Z",
     "shell.execute_reply.started": "2022-06-14T00:44:49.763563Z"
    },
    "papermill": {
     "duration": 0.235337,
     "end_time": "2022-06-14T01:04:48.274987",
     "exception": false,
     "start_time": "2022-06-14T01:04:48.039650",
     "status": "completed"
    },
    "tags": []
   },
   "outputs": [
    {
     "data": {
      "text/html": [
       "<div>\n",
       "<style scoped>\n",
       "    .dataframe tbody tr th:only-of-type {\n",
       "        vertical-align: middle;\n",
       "    }\n",
       "\n",
       "    .dataframe tbody tr th {\n",
       "        vertical-align: top;\n",
       "    }\n",
       "\n",
       "    .dataframe thead th {\n",
       "        text-align: right;\n",
       "    }\n",
       "</style>\n",
       "<table border=\"1\" class=\"dataframe\">\n",
       "  <thead>\n",
       "    <tr style=\"text-align: right;\">\n",
       "      <th></th>\n",
       "      <th>0</th>\n",
       "      <th>1</th>\n",
       "    </tr>\n",
       "  </thead>\n",
       "  <tbody>\n",
       "    <tr>\n",
       "      <th>0</th>\n",
       "      <td>0.263081</td>\n",
       "      <td>0.736919</td>\n",
       "    </tr>\n",
       "    <tr>\n",
       "      <th>1</th>\n",
       "      <td>0.056462</td>\n",
       "      <td>0.943538</td>\n",
       "    </tr>\n",
       "    <tr>\n",
       "      <th>2</th>\n",
       "      <td>0.059512</td>\n",
       "      <td>0.940488</td>\n",
       "    </tr>\n",
       "    <tr>\n",
       "      <th>3</th>\n",
       "      <td>0.939655</td>\n",
       "      <td>0.060345</td>\n",
       "    </tr>\n",
       "    <tr>\n",
       "      <th>4</th>\n",
       "      <td>0.909115</td>\n",
       "      <td>0.090885</td>\n",
       "    </tr>\n",
       "  </tbody>\n",
       "</table>\n",
       "</div>"
      ],
      "text/plain": [
       "          0         1\n",
       "0  0.263081  0.736919\n",
       "1  0.056462  0.943538\n",
       "2  0.059512  0.940488\n",
       "3  0.939655  0.060345\n",
       "4  0.909115  0.090885"
      ]
     },
     "execution_count": 124,
     "metadata": {},
     "output_type": "execute_result"
    }
   ],
   "source": [
    "y_test_prob = model_pl.predict_proba(X_test)\n",
    "df_proba = pd.DataFrame(y_test_prob).head()\n",
    "df_proba"
   ]
  },
  {
   "cell_type": "code",
   "execution_count": 125,
   "id": "6e06b561",
   "metadata": {
    "execution": {
     "iopub.execute_input": "2022-06-14T01:04:48.730397Z",
     "iopub.status.busy": "2022-06-14T01:04:48.729346Z",
     "iopub.status.idle": "2022-06-14T01:04:48.738842Z",
     "shell.execute_reply": "2022-06-14T01:04:48.739651Z",
     "shell.execute_reply.started": "2022-06-14T00:44:49.779645Z"
    },
    "papermill": {
     "duration": 0.244277,
     "end_time": "2022-06-14T01:04:48.739913",
     "exception": false,
     "start_time": "2022-06-14T01:04:48.495636",
     "status": "completed"
    },
    "tags": []
   },
   "outputs": [
    {
     "data": {
      "text/plain": [
       "array([1, 2, 2, 1, 1])"
      ]
     },
     "execution_count": 125,
     "metadata": {},
     "output_type": "execute_result"
    }
   ],
   "source": [
    "y_pred_prob = model_pl.predict_proba(X_test)[:,1]\n",
    "y_pred_8 = np.where(y_pred_prob>=0.8,2,1)\n",
    "y_pred_8[:5]"
   ]
  },
  {
   "cell_type": "markdown",
   "id": "711c4812",
   "metadata": {
    "papermill": {
     "duration": 0.236612,
     "end_time": "2022-06-14T01:04:49.245556",
     "exception": false,
     "start_time": "2022-06-14T01:04:49.008944",
     "status": "completed"
    },
    "tags": []
   },
   "source": [
    "# 6/7"
   ]
  },
  {
   "cell_type": "code",
   "execution_count": 126,
   "id": "409463b1",
   "metadata": {
    "execution": {
     "iopub.execute_input": "2022-06-14T01:04:49.702544Z",
     "iopub.status.busy": "2022-06-14T01:04:49.701833Z",
     "iopub.status.idle": "2022-06-14T01:04:49.735424Z",
     "shell.execute_reply": "2022-06-14T01:04:49.735995Z",
     "shell.execute_reply.started": "2022-06-14T00:44:49.793478Z"
    },
    "papermill": {
     "duration": 0.265781,
     "end_time": "2022-06-14T01:04:49.736205",
     "exception": false,
     "start_time": "2022-06-14T01:04:49.470424",
     "status": "completed"
    },
    "tags": []
   },
   "outputs": [
    {
     "data": {
      "text/html": [
       "<div>\n",
       "<style scoped>\n",
       "    .dataframe tbody tr th:only-of-type {\n",
       "        vertical-align: middle;\n",
       "    }\n",
       "\n",
       "    .dataframe tbody tr th {\n",
       "        vertical-align: top;\n",
       "    }\n",
       "\n",
       "    .dataframe thead th {\n",
       "        text-align: right;\n",
       "    }\n",
       "</style>\n",
       "<table border=\"1\" class=\"dataframe\">\n",
       "  <thead>\n",
       "    <tr style=\"text-align: right;\">\n",
       "      <th></th>\n",
       "      <th>threshold</th>\n",
       "      <th>precision</th>\n",
       "      <th>recall</th>\n",
       "    </tr>\n",
       "  </thead>\n",
       "  <tbody>\n",
       "    <tr>\n",
       "      <th>0</th>\n",
       "      <td>0.0</td>\n",
       "      <td>0.424242</td>\n",
       "      <td>1.000000</td>\n",
       "    </tr>\n",
       "    <tr>\n",
       "      <th>1</th>\n",
       "      <td>0.1</td>\n",
       "      <td>0.636364</td>\n",
       "      <td>1.000000</td>\n",
       "    </tr>\n",
       "    <tr>\n",
       "      <th>2</th>\n",
       "      <td>0.2</td>\n",
       "      <td>0.666667</td>\n",
       "      <td>1.000000</td>\n",
       "    </tr>\n",
       "    <tr>\n",
       "      <th>3</th>\n",
       "      <td>0.3</td>\n",
       "      <td>0.777778</td>\n",
       "      <td>1.000000</td>\n",
       "    </tr>\n",
       "    <tr>\n",
       "      <th>4</th>\n",
       "      <td>0.4</td>\n",
       "      <td>0.764706</td>\n",
       "      <td>0.928571</td>\n",
       "    </tr>\n",
       "    <tr>\n",
       "      <th>5</th>\n",
       "      <td>0.5</td>\n",
       "      <td>0.846154</td>\n",
       "      <td>0.785714</td>\n",
       "    </tr>\n",
       "    <tr>\n",
       "      <th>6</th>\n",
       "      <td>0.6</td>\n",
       "      <td>0.833333</td>\n",
       "      <td>0.714286</td>\n",
       "    </tr>\n",
       "    <tr>\n",
       "      <th>7</th>\n",
       "      <td>0.7</td>\n",
       "      <td>0.909091</td>\n",
       "      <td>0.714286</td>\n",
       "    </tr>\n",
       "    <tr>\n",
       "      <th>8</th>\n",
       "      <td>0.8</td>\n",
       "      <td>1.000000</td>\n",
       "      <td>0.571429</td>\n",
       "    </tr>\n",
       "    <tr>\n",
       "      <th>9</th>\n",
       "      <td>0.9</td>\n",
       "      <td>1.000000</td>\n",
       "      <td>0.500000</td>\n",
       "    </tr>\n",
       "  </tbody>\n",
       "</table>\n",
       "</div>"
      ],
      "text/plain": [
       "   threshold  precision    recall\n",
       "0        0.0   0.424242  1.000000\n",
       "1        0.1   0.636364  1.000000\n",
       "2        0.2   0.666667  1.000000\n",
       "3        0.3   0.777778  1.000000\n",
       "4        0.4   0.764706  0.928571\n",
       "5        0.5   0.846154  0.785714\n",
       "6        0.6   0.833333  0.714286\n",
       "7        0.7   0.909091  0.714286\n",
       "8        0.8   1.000000  0.571429\n",
       "9        0.9   1.000000  0.500000"
      ]
     },
     "execution_count": 126,
     "metadata": {},
     "output_type": "execute_result"
    }
   ],
   "source": [
    "from sklearn.metrics import precision_score, recall_score\n",
    "\n",
    "scores = []\n",
    "y_pred_proba = model_pl.predict_proba(X_test)[:,1]\n",
    "for i in np.arange(0,1,0.1):\n",
    "    y_pred = np.where(y_pred_proba>=i,2,1)\n",
    "    precision = precision_score(y_test,y_pred,pos_label=2)\n",
    "    recall = recall_score(y_test,y_pred,pos_label=2)\n",
    "    scores.append([i,precision,recall])\n",
    "df_p_r = pd.DataFrame(scores, columns=['threshold','precision','recall'])\n",
    "df_p_r.sort_values(by='threshold')"
   ]
  },
  {
   "cell_type": "code",
   "execution_count": 127,
   "id": "f61c6ca8",
   "metadata": {
    "execution": {
     "iopub.execute_input": "2022-06-14T01:04:50.265715Z",
     "iopub.status.busy": "2022-06-14T01:04:50.264983Z",
     "iopub.status.idle": "2022-06-14T01:04:50.511487Z",
     "shell.execute_reply": "2022-06-14T01:04:50.510901Z",
     "shell.execute_reply.started": "2022-06-14T00:44:49.840240Z"
    },
    "papermill": {
     "duration": 0.471577,
     "end_time": "2022-06-14T01:04:50.511666",
     "exception": false,
     "start_time": "2022-06-14T01:04:50.040089",
     "status": "completed"
    },
    "tags": []
   },
   "outputs": [
    {
     "data": {
      "image/png": "[encoded data removed]",
      "text/plain": [
       "<Figure size 432x288 with 1 Axes>"
      ]
     },
     "metadata": {
      "needs_background": "light"
     },
     "output_type": "display_data"
    }
   ],
   "source": [
    "from sklearn.metrics import precision_recall_curve\n",
    "precision,recall,threshold = precision_recall_curve(y_test,y_pred_proba,pos_label=2)\n",
    "df_p_pr = pd.DataFrame(zip(threshold,precision,recall),columns=['threshold','precision','recall'])\n",
    "ax = df_p_pr.plot(x='recall',y='precision',marker='o',figsize=(6,4))\n",
    "for idx in df_p_r.index:\n",
    "    ax.text(x=df_p_r.loc[idx,'recall'],y=df_p_r.loc[idx,'precision']-0.02,s=df_p_r.loc[idx,'threshold'].round(2))"
   ]
  },
  {
   "cell_type": "code",
   "execution_count": 128,
   "id": "9c09d50d",
   "metadata": {
    "execution": {
     "iopub.execute_input": "2022-06-14T01:04:50.959386Z",
     "iopub.status.busy": "2022-06-14T01:04:50.958313Z",
     "iopub.status.idle": "2022-06-14T01:04:50.977974Z",
     "shell.execute_reply": "2022-06-14T01:04:50.977320Z",
     "shell.execute_reply.started": "2022-06-14T00:44:50.124054Z"
    },
    "papermill": {
     "duration": 0.246649,
     "end_time": "2022-06-14T01:04:50.978140",
     "exception": false,
     "start_time": "2022-06-14T01:04:50.731491",
     "status": "completed"
    },
    "tags": []
   },
   "outputs": [
    {
     "data": {
      "text/html": [
       "<div>\n",
       "<style scoped>\n",
       "    .dataframe tbody tr th:only-of-type {\n",
       "        vertical-align: middle;\n",
       "    }\n",
       "\n",
       "    .dataframe tbody tr th {\n",
       "        vertical-align: top;\n",
       "    }\n",
       "\n",
       "    .dataframe thead th {\n",
       "        text-align: right;\n",
       "    }\n",
       "</style>\n",
       "<table border=\"1\" class=\"dataframe\">\n",
       "  <thead>\n",
       "    <tr style=\"text-align: right;\">\n",
       "      <th></th>\n",
       "      <th>sepal width (cm)</th>\n",
       "      <th>petal length (cm)</th>\n",
       "      <th>target</th>\n",
       "    </tr>\n",
       "  </thead>\n",
       "  <tbody>\n",
       "    <tr>\n",
       "      <th>50</th>\n",
       "      <td>3.2</td>\n",
       "      <td>4.7</td>\n",
       "      <td>1</td>\n",
       "    </tr>\n",
       "    <tr>\n",
       "      <th>51</th>\n",
       "      <td>3.2</td>\n",
       "      <td>4.5</td>\n",
       "      <td>1</td>\n",
       "    </tr>\n",
       "    <tr>\n",
       "      <th>52</th>\n",
       "      <td>3.1</td>\n",
       "      <td>4.9</td>\n",
       "      <td>1</td>\n",
       "    </tr>\n",
       "    <tr>\n",
       "      <th>53</th>\n",
       "      <td>2.3</td>\n",
       "      <td>4.0</td>\n",
       "      <td>1</td>\n",
       "    </tr>\n",
       "    <tr>\n",
       "      <th>54</th>\n",
       "      <td>2.8</td>\n",
       "      <td>4.6</td>\n",
       "      <td>1</td>\n",
       "    </tr>\n",
       "    <tr>\n",
       "      <th>...</th>\n",
       "      <td>...</td>\n",
       "      <td>...</td>\n",
       "      <td>...</td>\n",
       "    </tr>\n",
       "    <tr>\n",
       "      <th>145</th>\n",
       "      <td>3.0</td>\n",
       "      <td>5.2</td>\n",
       "      <td>2</td>\n",
       "    </tr>\n",
       "    <tr>\n",
       "      <th>146</th>\n",
       "      <td>2.5</td>\n",
       "      <td>5.0</td>\n",
       "      <td>2</td>\n",
       "    </tr>\n",
       "    <tr>\n",
       "      <th>147</th>\n",
       "      <td>3.0</td>\n",
       "      <td>5.2</td>\n",
       "      <td>2</td>\n",
       "    </tr>\n",
       "    <tr>\n",
       "      <th>148</th>\n",
       "      <td>3.4</td>\n",
       "      <td>5.4</td>\n",
       "      <td>2</td>\n",
       "    </tr>\n",
       "    <tr>\n",
       "      <th>149</th>\n",
       "      <td>3.0</td>\n",
       "      <td>5.1</td>\n",
       "      <td>2</td>\n",
       "    </tr>\n",
       "  </tbody>\n",
       "</table>\n",
       "<p>100 rows × 3 columns</p>\n",
       "</div>"
      ],
      "text/plain": [
       "     sepal width (cm)  petal length (cm)  target\n",
       "50                3.2                4.7       1\n",
       "51                3.2                4.5       1\n",
       "52                3.1                4.9       1\n",
       "53                2.3                4.0       1\n",
       "54                2.8                4.6       1\n",
       "..                ...                ...     ...\n",
       "145               3.0                5.2       2\n",
       "146               2.5                5.0       2\n",
       "147               3.0                5.2       2\n",
       "148               3.4                5.4       2\n",
       "149               3.0                5.1       2\n",
       "\n",
       "[100 rows x 3 columns]"
      ]
     },
     "execution_count": 128,
     "metadata": {},
     "output_type": "execute_result"
    }
   ],
   "source": [
    "from sklearn import datasets\n",
    "import pandas as pd\n",
    "import numpy as np\n",
    "iris = datasets.load_iris()\n",
    "df = pd.DataFrame(iris['data'], columns=iris['feature_names'])\n",
    "df['target'] = iris['target']\n",
    "df = df[['sepal width (cm)','petal length (cm)','target']]\n",
    "df.drop(index=df.index[:50],inplace=True)\n",
    "\n",
    "df"
   ]
  },
  {
   "cell_type": "code",
   "execution_count": 129,
   "id": "e9677730",
   "metadata": {
    "execution": {
     "iopub.execute_input": "2022-06-14T01:04:51.438918Z",
     "iopub.status.busy": "2022-06-14T01:04:51.438069Z",
     "iopub.status.idle": "2022-06-14T01:04:51.439627Z",
     "shell.execute_reply": "2022-06-14T01:04:51.440125Z",
     "shell.execute_reply.started": "2022-06-14T00:44:50.150734Z"
    },
    "papermill": {
     "duration": 0.233024,
     "end_time": "2022-06-14T01:04:51.440323",
     "exception": false,
     "start_time": "2022-06-14T01:04:51.207299",
     "status": "completed"
    },
    "tags": []
   },
   "outputs": [],
   "source": [
    "X = df.drop('target',axis=1)\n",
    "y = df['target']\n",
    "from sklearn.model_selection import train_test_split\n",
    "X_train,X_test,y_train,y_test = train_test_split(X,y,test_size=0.33,random_state=42)"
   ]
  },
  {
   "cell_type": "code",
   "execution_count": 130,
   "id": "3bb59316",
   "metadata": {
    "execution": {
     "iopub.execute_input": "2022-06-14T01:04:51.891296Z",
     "iopub.status.busy": "2022-06-14T01:04:51.887166Z",
     "iopub.status.idle": "2022-06-14T01:04:51.901653Z",
     "shell.execute_reply": "2022-06-14T01:04:51.902134Z",
     "shell.execute_reply.started": "2022-06-14T00:44:50.206459Z"
    },
    "papermill": {
     "duration": 0.23958,
     "end_time": "2022-06-14T01:04:51.902327",
     "exception": false,
     "start_time": "2022-06-14T01:04:51.662747",
     "status": "completed"
    },
    "tags": []
   },
   "outputs": [
    {
     "data": {
      "text/plain": [
       "0.8787878787878788"
      ]
     },
     "execution_count": 130,
     "metadata": {},
     "output_type": "execute_result"
    }
   ],
   "source": [
    "from sklearn.neighbors import KNeighborsClassifier\n",
    "model = KNeighborsClassifier()\n",
    "model.fit(X_train,y_train)\n",
    "model.score(X_test,y_test)"
   ]
  },
  {
   "cell_type": "code",
   "execution_count": 131,
   "id": "631f93e6",
   "metadata": {
    "execution": {
     "iopub.execute_input": "2022-06-14T01:04:52.349617Z",
     "iopub.status.busy": "2022-06-14T01:04:52.348920Z",
     "iopub.status.idle": "2022-06-14T01:04:52.364599Z",
     "shell.execute_reply": "2022-06-14T01:04:52.365229Z",
     "shell.execute_reply.started": "2022-06-14T00:44:50.224583Z"
    },
    "papermill": {
     "duration": 0.23909,
     "end_time": "2022-06-14T01:04:52.365459",
     "exception": false,
     "start_time": "2022-06-14T01:04:52.126369",
     "status": "completed"
    },
    "tags": []
   },
   "outputs": [
    {
     "name": "stdout",
     "output_type": "stream",
     "text": [
      "0.8787878787878788\n",
      "[[17  2]\n",
      " [ 2 12]]\n",
      "              precision    recall  f1-score   support\n",
      "\n",
      "           1       0.89      0.89      0.89        19\n",
      "           2       0.86      0.86      0.86        14\n",
      "\n",
      "    accuracy                           0.88        33\n",
      "   macro avg       0.88      0.88      0.88        33\n",
      "weighted avg       0.88      0.88      0.88        33\n",
      "\n"
     ]
    }
   ],
   "source": [
    "from sklearn.metrics import accuracy_score,confusion_matrix,classification_report\n",
    "y_pred = model.predict(X_test)\n",
    "print(accuracy_score(y_test,y_pred))\n",
    "\n",
    "cm = confusion_matrix(y_test,y_pred)\n",
    "print(cm)\n",
    "\n",
    "print(classification_report(y_test, y_pred))"
   ]
  },
  {
   "cell_type": "markdown",
   "id": "32052e3d",
   "metadata": {
    "papermill": {
     "duration": 0.220011,
     "end_time": "2022-06-14T01:04:52.811311",
     "exception": false,
     "start_time": "2022-06-14T01:04:52.591300",
     "status": "completed"
    },
    "tags": []
   },
   "source": [
    "# 6/9"
   ]
  },
  {
   "cell_type": "code",
   "execution_count": 132,
   "id": "753c7a26",
   "metadata": {
    "execution": {
     "iopub.execute_input": "2022-06-14T01:04:53.277392Z",
     "iopub.status.busy": "2022-06-14T01:04:53.270175Z",
     "iopub.status.idle": "2022-06-14T01:04:53.309301Z",
     "shell.execute_reply": "2022-06-14T01:04:53.308391Z",
     "shell.execute_reply.started": "2022-06-14T00:44:50.246894Z"
    },
    "papermill": {
     "duration": 0.274799,
     "end_time": "2022-06-14T01:04:53.309533",
     "exception": false,
     "start_time": "2022-06-14T01:04:53.034734",
     "status": "completed"
    },
    "tags": []
   },
   "outputs": [
    {
     "name": "stdout",
     "output_type": "stream",
     "text": [
      "3  0.85\n",
      "4  0.82\n",
      "5  0.88\n",
      "6  0.85\n",
      "7  0.88\n"
     ]
    }
   ],
   "source": [
    "from sklearn.pipeline import make_pipeline\n",
    "from sklearn.preprocessing import StandardScaler\n",
    "from sklearn.neighbors import KNeighborsClassifier\n",
    "for k in range(3,8):\n",
    "    model_pl = make_pipeline(StandardScaler(),KNeighborsClassifier(n_neighbors=k))\n",
    "    model_pl.fit(X_train,y_train)\n",
    "    accuracy = model_pl.score(X_test,y_test).round(2)\n",
    "    print(f'{k}  {accuracy}')"
   ]
  },
  {
   "cell_type": "code",
   "execution_count": 133,
   "id": "287acee2",
   "metadata": {
    "execution": {
     "iopub.execute_input": "2022-06-14T01:04:53.760228Z",
     "iopub.status.busy": "2022-06-14T01:04:53.759496Z",
     "iopub.status.idle": "2022-06-14T01:04:53.786960Z",
     "shell.execute_reply": "2022-06-14T01:04:53.787507Z",
     "shell.execute_reply.started": "2022-06-14T00:44:50.306123Z"
    },
    "papermill": {
     "duration": 0.255796,
     "end_time": "2022-06-14T01:04:53.787706",
     "exception": false,
     "start_time": "2022-06-14T01:04:53.531910",
     "status": "completed"
    },
    "tags": []
   },
   "outputs": [
    {
     "name": "stdout",
     "output_type": "stream",
     "text": [
      "0.9393939393939394\n",
      "0.9090909090909091\n"
     ]
    }
   ],
   "source": [
    "from sklearn import datasets\n",
    "import pandas as pd\n",
    "import numpy as np\n",
    "iris = datasets.load_iris()\n",
    "df = pd.DataFrame(iris['data'], columns=iris['feature_names'])\n",
    "df['target'] = iris['target']\n",
    "df.drop(index=df.index[:50],inplace=True)\n",
    "\n",
    "X = df.drop('target',axis=1)\n",
    "y = df['target']\n",
    "from sklearn.model_selection import train_test_split\n",
    "X_train,X_test,y_train,y_test = train_test_split(X,y,test_size=0.33,random_state=42)\n",
    "from sklearn.pipeline import make_pipeline\n",
    "from sklearn.preprocessing import StandardScaler\n",
    "from sklearn.linear_model import LogisticRegression\n",
    "model_pl_lr = make_pipeline(StandardScaler(),LogisticRegression(solver='liblinear'))\n",
    "model_pl_lr.fit(X_train, y_train)\n",
    "print(model_pl_lr.score(X_test, y_test))\n",
    "from sklearn.neighbors import KNeighborsClassifier\n",
    "model_pl_knn = make_pipeline(StandardScaler(), KNeighborsClassifier())\n",
    "model_pl_knn.fit(X_train, y_train)\n",
    "print(model_pl_knn.score(X_test, y_test))"
   ]
  },
  {
   "cell_type": "code",
   "execution_count": 134,
   "id": "c0708004",
   "metadata": {
    "execution": {
     "iopub.execute_input": "2022-06-14T01:04:54.244669Z",
     "iopub.status.busy": "2022-06-14T01:04:54.244015Z",
     "iopub.status.idle": "2022-06-14T01:04:54.266856Z",
     "shell.execute_reply": "2022-06-14T01:04:54.266162Z",
     "shell.execute_reply.started": "2022-06-14T00:44:50.347164Z"
    },
    "papermill": {
     "duration": 0.253061,
     "end_time": "2022-06-14T01:04:54.267018",
     "exception": false,
     "start_time": "2022-06-14T01:04:54.013957",
     "status": "completed"
    },
    "tags": []
   },
   "outputs": [
    {
     "data": {
      "text/plain": [
       "array([False, False,  True,  True])"
      ]
     },
     "execution_count": 134,
     "metadata": {},
     "output_type": "execute_result"
    }
   ],
   "source": [
    "from sklearn.feature_selection import SelectKBest, f_classif\n",
    "selector = SelectKBest(f_classif, k = 2)\n",
    "selector.fit(X_train, y_train)\n",
    "selector.get_support()"
   ]
  },
  {
   "cell_type": "code",
   "execution_count": 135,
   "id": "35126ce5",
   "metadata": {
    "execution": {
     "iopub.execute_input": "2022-06-14T01:04:54.720063Z",
     "iopub.status.busy": "2022-06-14T01:04:54.719233Z",
     "iopub.status.idle": "2022-06-14T01:04:54.723165Z",
     "shell.execute_reply": "2022-06-14T01:04:54.722630Z",
     "shell.execute_reply.started": "2022-06-14T00:44:50.359837Z"
    },
    "papermill": {
     "duration": 0.232963,
     "end_time": "2022-06-14T01:04:54.723326",
     "exception": false,
     "start_time": "2022-06-14T01:04:54.490363",
     "status": "completed"
    },
    "tags": []
   },
   "outputs": [
    {
     "data": {
      "text/plain": [
       "Index(['petal length (cm)', 'petal width (cm)'], dtype='object')"
      ]
     },
     "execution_count": 135,
     "metadata": {},
     "output_type": "execute_result"
    }
   ],
   "source": [
    "X.columns[selector.get_support()]"
   ]
  },
  {
   "cell_type": "code",
   "execution_count": 136,
   "id": "6b042beb",
   "metadata": {
    "execution": {
     "iopub.execute_input": "2022-06-14T01:04:55.198867Z",
     "iopub.status.busy": "2022-06-14T01:04:55.198139Z",
     "iopub.status.idle": "2022-06-14T01:04:55.214248Z",
     "shell.execute_reply": "2022-06-14T01:04:55.214776Z",
     "shell.execute_reply.started": "2022-06-14T00:44:50.371426Z"
    },
    "papermill": {
     "duration": 0.258656,
     "end_time": "2022-06-14T01:04:55.214983",
     "exception": false,
     "start_time": "2022-06-14T01:04:54.956327",
     "status": "completed"
    },
    "tags": []
   },
   "outputs": [
    {
     "name": "stdout",
     "output_type": "stream",
     "text": [
      "0.9393939393939394\n",
      "\n",
      "[[19  0]\n",
      " [ 2 12]]\n"
     ]
    }
   ],
   "source": [
    "from sklearn.pipeline import make_pipeline\n",
    "from sklearn.preprocessing import StandardScaler\n",
    "from sklearn.neighbors import KNeighborsClassifier\n",
    "from sklearn.metrics import confusion_matrix\n",
    "model_pl = make_pipeline(StandardScaler(), SelectKBest(f_classif, k = 2),KNeighborsClassifier())\n",
    "model_pl.fit(X_train,y_train)\n",
    "print(model_pl.score(X_test,y_test))\n",
    "print()\n",
    "y_pred = model_pl.predict(X_test)\n",
    "cm = confusion_matrix(y_test,y_pred)\n",
    "print(cm)"
   ]
  },
  {
   "cell_type": "markdown",
   "id": "eb7e4ff8",
   "metadata": {
    "papermill": {
     "duration": 0.221765,
     "end_time": "2022-06-14T01:04:55.659306",
     "exception": false,
     "start_time": "2022-06-14T01:04:55.437541",
     "status": "completed"
    },
    "tags": []
   },
   "source": [
    "# 6/14"
   ]
  },
  {
   "cell_type": "code",
   "execution_count": 137,
   "id": "43be70d8",
   "metadata": {
    "execution": {
     "iopub.execute_input": "2022-06-14T01:04:56.117777Z",
     "iopub.status.busy": "2022-06-14T01:04:56.116780Z",
     "iopub.status.idle": "2022-06-14T01:04:56.145406Z",
     "shell.execute_reply": "2022-06-14T01:04:56.146069Z",
     "shell.execute_reply.started": "2022-06-14T00:44:50.401336Z"
    },
    "papermill": {
     "duration": 0.265634,
     "end_time": "2022-06-14T01:04:56.146268",
     "exception": false,
     "start_time": "2022-06-14T01:04:55.880634",
     "status": "completed"
    },
    "tags": []
   },
   "outputs": [
    {
     "data": {
      "text/html": [
       "<div>\n",
       "<style scoped>\n",
       "    .dataframe tbody tr th:only-of-type {\n",
       "        vertical-align: middle;\n",
       "    }\n",
       "\n",
       "    .dataframe tbody tr th {\n",
       "        vertical-align: top;\n",
       "    }\n",
       "\n",
       "    .dataframe thead th {\n",
       "        text-align: right;\n",
       "    }\n",
       "</style>\n",
       "<table border=\"1\" class=\"dataframe\">\n",
       "  <thead>\n",
       "    <tr style=\"text-align: right;\">\n",
       "      <th></th>\n",
       "      <th>PassengerId</th>\n",
       "      <th>Survived</th>\n",
       "      <th>Pclass</th>\n",
       "      <th>Name</th>\n",
       "      <th>Sex</th>\n",
       "      <th>Age</th>\n",
       "      <th>SibSp</th>\n",
       "      <th>Parch</th>\n",
       "      <th>Ticket</th>\n",
       "      <th>Fare</th>\n",
       "      <th>Cabin</th>\n",
       "      <th>Embarked</th>\n",
       "    </tr>\n",
       "  </thead>\n",
       "  <tbody>\n",
       "    <tr>\n",
       "      <th>0</th>\n",
       "      <td>1</td>\n",
       "      <td>0</td>\n",
       "      <td>3</td>\n",
       "      <td>Braund, Mr. Owen Harris</td>\n",
       "      <td>male</td>\n",
       "      <td>22.0</td>\n",
       "      <td>1</td>\n",
       "      <td>0</td>\n",
       "      <td>A/5 21171</td>\n",
       "      <td>7.2500</td>\n",
       "      <td>NaN</td>\n",
       "      <td>S</td>\n",
       "    </tr>\n",
       "    <tr>\n",
       "      <th>1</th>\n",
       "      <td>2</td>\n",
       "      <td>1</td>\n",
       "      <td>1</td>\n",
       "      <td>Cumings, Mrs. John Bradley (Florence Briggs Th...</td>\n",
       "      <td>female</td>\n",
       "      <td>38.0</td>\n",
       "      <td>1</td>\n",
       "      <td>0</td>\n",
       "      <td>PC 17599</td>\n",
       "      <td>71.2833</td>\n",
       "      <td>C85</td>\n",
       "      <td>C</td>\n",
       "    </tr>\n",
       "    <tr>\n",
       "      <th>2</th>\n",
       "      <td>3</td>\n",
       "      <td>1</td>\n",
       "      <td>3</td>\n",
       "      <td>Heikkinen, Miss. Laina</td>\n",
       "      <td>female</td>\n",
       "      <td>26.0</td>\n",
       "      <td>0</td>\n",
       "      <td>0</td>\n",
       "      <td>STON/O2. 3101282</td>\n",
       "      <td>7.9250</td>\n",
       "      <td>NaN</td>\n",
       "      <td>S</td>\n",
       "    </tr>\n",
       "  </tbody>\n",
       "</table>\n",
       "</div>"
      ],
      "text/plain": [
       "   PassengerId  Survived  Pclass  \\\n",
       "0            1         0       3   \n",
       "1            2         1       1   \n",
       "2            3         1       3   \n",
       "\n",
       "                                                Name     Sex   Age  SibSp  \\\n",
       "0                            Braund, Mr. Owen Harris    male  22.0      1   \n",
       "1  Cumings, Mrs. John Bradley (Florence Briggs Th...  female  38.0      1   \n",
       "2                             Heikkinen, Miss. Laina  female  26.0      0   \n",
       "\n",
       "   Parch            Ticket     Fare Cabin Embarked  \n",
       "0      0         A/5 21171   7.2500   NaN        S  \n",
       "1      0          PC 17599  71.2833   C85        C  \n",
       "2      0  STON/O2. 3101282   7.9250   NaN        S  "
      ]
     },
     "execution_count": 137,
     "metadata": {},
     "output_type": "execute_result"
    }
   ],
   "source": [
    "df = pd.read_csv('../input/titanic/train.csv')\n",
    "df.head(3)"
   ]
  },
  {
   "cell_type": "code",
   "execution_count": 138,
   "id": "cbd2ada5",
   "metadata": {
    "execution": {
     "iopub.execute_input": "2022-06-14T01:04:56.597220Z",
     "iopub.status.busy": "2022-06-14T01:04:56.596247Z",
     "iopub.status.idle": "2022-06-14T01:04:56.612324Z",
     "shell.execute_reply": "2022-06-14T01:04:56.611104Z",
     "shell.execute_reply.started": "2022-06-14T00:45:33.788648Z"
    },
    "papermill": {
     "duration": 0.242486,
     "end_time": "2022-06-14T01:04:56.612645",
     "exception": false,
     "start_time": "2022-06-14T01:04:56.370159",
     "status": "completed"
    },
    "tags": []
   },
   "outputs": [
    {
     "name": "stdout",
     "output_type": "stream",
     "text": [
      "<class 'pandas.core.frame.DataFrame'>\n",
      "RangeIndex: 891 entries, 0 to 890\n",
      "Data columns (total 12 columns):\n",
      " #   Column       Non-Null Count  Dtype  \n",
      "---  ------       --------------  -----  \n",
      " 0   PassengerId  891 non-null    int64  \n",
      " 1   Survived     891 non-null    int64  \n",
      " 2   Pclass       891 non-null    int64  \n",
      " 3   Name         891 non-null    object \n",
      " 4   Sex          891 non-null    object \n",
      " 5   Age          714 non-null    float64\n",
      " 6   SibSp        891 non-null    int64  \n",
      " 7   Parch        891 non-null    int64  \n",
      " 8   Ticket       891 non-null    object \n",
      " 9   Fare         891 non-null    float64\n",
      " 10  Cabin        204 non-null    object \n",
      " 11  Embarked     889 non-null    object \n",
      "dtypes: float64(2), int64(5), object(5)\n",
      "memory usage: 83.7+ KB\n"
     ]
    }
   ],
   "source": [
    "df.info()"
   ]
  },
  {
   "cell_type": "code",
   "execution_count": 139,
   "id": "245bbb06",
   "metadata": {
    "execution": {
     "iopub.execute_input": "2022-06-14T01:04:57.075557Z",
     "iopub.status.busy": "2022-06-14T01:04:57.071028Z",
     "iopub.status.idle": "2022-06-14T01:04:57.078089Z",
     "shell.execute_reply": "2022-06-14T01:04:57.078722Z",
     "shell.execute_reply.started": "2022-06-14T00:54:13.629426Z"
    },
    "papermill": {
     "duration": 0.239875,
     "end_time": "2022-06-14T01:04:57.078904",
     "exception": false,
     "start_time": "2022-06-14T01:04:56.839029",
     "status": "completed"
    },
    "tags": []
   },
   "outputs": [
    {
     "data": {
      "text/plain": [
       "0    549\n",
       "1    342\n",
       "Name: Survived, dtype: int64"
      ]
     },
     "execution_count": 139,
     "metadata": {},
     "output_type": "execute_result"
    }
   ],
   "source": [
    "df['Survived'].value_counts()"
   ]
  },
  {
   "cell_type": "code",
   "execution_count": 140,
   "id": "8f928058",
   "metadata": {
    "execution": {
     "iopub.execute_input": "2022-06-14T01:04:57.531638Z",
     "iopub.status.busy": "2022-06-14T01:04:57.530673Z",
     "iopub.status.idle": "2022-06-14T01:04:57.536533Z",
     "shell.execute_reply": "2022-06-14T01:04:57.537391Z",
     "shell.execute_reply.started": "2022-06-14T00:54:06.923926Z"
    },
    "papermill": {
     "duration": 0.235876,
     "end_time": "2022-06-14T01:04:57.537611",
     "exception": false,
     "start_time": "2022-06-14T01:04:57.301735",
     "status": "completed"
    },
    "tags": []
   },
   "outputs": [
    {
     "data": {
      "text/plain": [
       "0    0.616162\n",
       "1    0.383838\n",
       "Name: Survived, dtype: float64"
      ]
     },
     "execution_count": 140,
     "metadata": {},
     "output_type": "execute_result"
    }
   ],
   "source": [
    "df['Survived'].value_counts(normalize=True)"
   ]
  },
  {
   "cell_type": "code",
   "execution_count": 141,
   "id": "8ea7fff5",
   "metadata": {
    "execution": {
     "iopub.execute_input": "2022-06-14T01:04:57.992148Z",
     "iopub.status.busy": "2022-06-14T01:04:57.991157Z",
     "iopub.status.idle": "2022-06-14T01:04:58.009010Z",
     "shell.execute_reply": "2022-06-14T01:04:58.009782Z",
     "shell.execute_reply.started": "2022-06-14T01:02:23.996692Z"
    },
    "papermill": {
     "duration": 0.248778,
     "end_time": "2022-06-14T01:04:58.010022",
     "exception": false,
     "start_time": "2022-06-14T01:04:57.761244",
     "status": "completed"
    },
    "tags": []
   },
   "outputs": [
    {
     "data": {
      "text/html": [
       "<div>\n",
       "<style scoped>\n",
       "    .dataframe tbody tr th:only-of-type {\n",
       "        vertical-align: middle;\n",
       "    }\n",
       "\n",
       "    .dataframe tbody tr th {\n",
       "        vertical-align: top;\n",
       "    }\n",
       "\n",
       "    .dataframe thead th {\n",
       "        text-align: right;\n",
       "    }\n",
       "</style>\n",
       "<table border=\"1\" class=\"dataframe\">\n",
       "  <thead>\n",
       "    <tr style=\"text-align: right;\">\n",
       "      <th></th>\n",
       "      <th>Survived</th>\n",
       "      <th>Pclass</th>\n",
       "      <th>Sex</th>\n",
       "      <th>Age</th>\n",
       "      <th>SibSp</th>\n",
       "      <th>Parch</th>\n",
       "      <th>Fare</th>\n",
       "      <th>Embarked</th>\n",
       "    </tr>\n",
       "  </thead>\n",
       "  <tbody>\n",
       "    <tr>\n",
       "      <th>0</th>\n",
       "      <td>0</td>\n",
       "      <td>3</td>\n",
       "      <td>male</td>\n",
       "      <td>22.0</td>\n",
       "      <td>1</td>\n",
       "      <td>0</td>\n",
       "      <td>7.2500</td>\n",
       "      <td>S</td>\n",
       "    </tr>\n",
       "    <tr>\n",
       "      <th>1</th>\n",
       "      <td>1</td>\n",
       "      <td>1</td>\n",
       "      <td>female</td>\n",
       "      <td>38.0</td>\n",
       "      <td>1</td>\n",
       "      <td>0</td>\n",
       "      <td>71.2833</td>\n",
       "      <td>C</td>\n",
       "    </tr>\n",
       "    <tr>\n",
       "      <th>2</th>\n",
       "      <td>1</td>\n",
       "      <td>3</td>\n",
       "      <td>female</td>\n",
       "      <td>26.0</td>\n",
       "      <td>0</td>\n",
       "      <td>0</td>\n",
       "      <td>7.9250</td>\n",
       "      <td>S</td>\n",
       "    </tr>\n",
       "    <tr>\n",
       "      <th>3</th>\n",
       "      <td>1</td>\n",
       "      <td>1</td>\n",
       "      <td>female</td>\n",
       "      <td>35.0</td>\n",
       "      <td>1</td>\n",
       "      <td>0</td>\n",
       "      <td>53.1000</td>\n",
       "      <td>S</td>\n",
       "    </tr>\n",
       "    <tr>\n",
       "      <th>4</th>\n",
       "      <td>0</td>\n",
       "      <td>3</td>\n",
       "      <td>male</td>\n",
       "      <td>35.0</td>\n",
       "      <td>0</td>\n",
       "      <td>0</td>\n",
       "      <td>8.0500</td>\n",
       "      <td>S</td>\n",
       "    </tr>\n",
       "  </tbody>\n",
       "</table>\n",
       "</div>"
      ],
      "text/plain": [
       "   Survived  Pclass     Sex   Age  SibSp  Parch     Fare Embarked\n",
       "0         0       3    male  22.0      1      0   7.2500        S\n",
       "1         1       1  female  38.0      1      0  71.2833        C\n",
       "2         1       3  female  26.0      0      0   7.9250        S\n",
       "3         1       1  female  35.0      1      0  53.1000        S\n",
       "4         0       3    male  35.0      0      0   8.0500        S"
      ]
     },
     "execution_count": 141,
     "metadata": {},
     "output_type": "execute_result"
    }
   ],
   "source": [
    "df = df.drop(['PassengerId','Name','Ticket','Cabin'], axis=1)\n",
    "df.head()"
   ]
  },
  {
   "cell_type": "code",
   "execution_count": 142,
   "id": "cdf32ee0",
   "metadata": {
    "execution": {
     "iopub.execute_input": "2022-06-14T01:04:58.485211Z",
     "iopub.status.busy": "2022-06-14T01:04:58.484216Z",
     "iopub.status.idle": "2022-06-14T01:04:58.492907Z",
     "shell.execute_reply": "2022-06-14T01:04:58.493383Z",
     "shell.execute_reply.started": "2022-06-14T01:02:30.458062Z"
    },
    "papermill": {
     "duration": 0.237943,
     "end_time": "2022-06-14T01:04:58.493603",
     "exception": false,
     "start_time": "2022-06-14T01:04:58.255660",
     "status": "completed"
    },
    "tags": []
   },
   "outputs": [
    {
     "data": {
      "text/plain": [
       "Survived      0\n",
       "Pclass        0\n",
       "Sex           0\n",
       "Age         177\n",
       "SibSp         0\n",
       "Parch         0\n",
       "Fare          0\n",
       "Embarked      2\n",
       "dtype: int64"
      ]
     },
     "execution_count": 142,
     "metadata": {},
     "output_type": "execute_result"
    }
   ],
   "source": [
    "df.isnull().sum()"
   ]
  }
 ],
 "metadata": {
  "kernelspec": {
   "display_name": "Python 3",
   "language": "python",
   "name": "python3"
  },
  "language_info": {
   "codemirror_mode": {
    "name": "ipython",
    "version": 3
   },
   "file_extension": ".py",
   "mimetype": "text/x-python",
   "name": "python",
   "nbconvert_exporter": "python",
   "pygments_lexer": "ipython3",
   "version": "3.7.12"
  },
  "papermill": {
   "default_parameters": {},
   "duration": 87.232361,
   "end_time": "2022-06-14T01:04:59.535468",
   "environment_variables": {},
   "exception": null,
   "input_path": "__notebook__.ipynb",
   "output_path": "__notebook__.ipynb",
   "parameters": {},
   "start_time": "2022-06-14T01:03:32.303107",
   "version": "2.3.3"
  }
 },
 "nbformat": 4,
 "nbformat_minor": 5
}
